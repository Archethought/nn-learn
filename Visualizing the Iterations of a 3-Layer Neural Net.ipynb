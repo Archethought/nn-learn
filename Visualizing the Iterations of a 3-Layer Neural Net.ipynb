{
 "cells": [
  {
   "cell_type": "code",
   "execution_count": 152,
   "metadata": {
    "collapsed": false
   },
   "outputs": [
    {
     "data": {
      "application/javascript": [
       "require.config({\n",
       "    paths: {\n",
       "        flot: '//www.flotcharts.org/javascript/jquery.flot.min',\n",
       "        d3: '//cdnjs.cloudflare.com/ajax/libs/d3/3.4.8/d3.min'\n",
       "    }\n",
       "});"
      ],
      "text/plain": [
       "<IPython.core.display.Javascript object>"
      ]
     },
     "metadata": {},
     "output_type": "display_data"
    }
   ],
   "source": [
    "%%javascript\n",
    "require.config({\n",
    "    paths: {\n",
    "        flot: '//www.flotcharts.org/javascript/jquery.flot.min',\n",
    "        d3: '//cdnjs.cloudflare.com/ajax/libs/d3/3.4.8/d3.min'\n",
    "    }\n",
    "});"
   ]
  },
  {
   "cell_type": "code",
   "execution_count": 153,
   "metadata": {
    "collapsed": false
   },
   "outputs": [
    {
     "data": {
      "text/html": [
       "<style>\n",
       "div.output {\n",
       "  max-height: 1000px;\n",
       "  overflow-y: scroll;\n",
       "}\n",
       "</style>"
      ],
      "text/plain": [
       "<IPython.core.display.HTML object>"
      ]
     },
     "metadata": {},
     "output_type": "display_data"
    }
   ],
   "source": [
    "%%html\n",
    "<style>\n",
    "div.output {\n",
    "  max-height: 1000px;\n",
    "  overflow-y: scroll;\n",
    "}\n",
    "</style>"
   ]
  },
  {
   "cell_type": "code",
   "execution_count": 154,
   "metadata": {
    "collapsed": false
   },
   "outputs": [],
   "source": [
    "import numpy as np\n",
    "import json\n",
    "import time\n",
    "from IPython.display import Javascript\n",
    "from IPython.core.display import display"
   ]
  },
  {
   "cell_type": "code",
   "execution_count": null,
   "metadata": {
    "collapsed": false
   },
   "outputs": [
    {
     "data": {
      "application/javascript": [
       "\n",
       "    element.append(\"<h2 id='chart-header' style='text-align: center;'>Visualize Error & Weights Changing Over Time</h2><br/><br />\")\n",
       "    element.append(\"<div id='chart' style='position: relative; width:90%; height: 400px; margin-top: -30px; margin-left: 20px;;'></div>\")\n",
       "    element.append(\"<div id='weight_charts' style='width: 100%; height: 320px; position: relative; padding-top:30px;'>\" +\n",
       "                     \"<div id='weights_l0' style='position: absolute; width:27%; height: 250px; margin-left: 20px; padding-bottom: 30px;'></div>\" +\n",
       "                     \"<div id='weights_l1' style='position: absolute; left:31%; width:27%; height: 250px; margin-left: 20px; padding-bottom: 30px;'></div>\" +\n",
       "                     \"<div id='outputs' style='position: absolute; left:62%; width:27%; height: 250px; margin-left: 20px; padding-bottom: 30px;'></div>\" +\n",
       "                   \"</div>\")\n",
       "\n",
       "    window.error = [];\n",
       "    window.weights_l0 = [];\n",
       "    window.weights_l1 = [];\n",
       "    window.outputs = [];\n",
       "\n",
       "    require(['flot'], function() {\n",
       "      window.plot = $.plot('#chart', [[]], { series: { shadowSize: 0 }, yaxis: { min: 0, max: 0.5, transform: function(v) { return Math.log(v+1); }}, xaxis: { min: 0, max: 20000 } })\n",
       "      var yaxisLabel = $(\"<div class='axisLabel yaxisLabel'></div>\").text(\"Error\").appendTo($('#chart'));\n",
       "      yaxisLabel.css(\"position\", \"absolute\").css(\"font-size\",\"16px\").css(\"margin-top\", yaxisLabel.width() / 2 - 20);\n",
       "      yaxisLabel.css(\"top\", \"50%\").css(\"left\", \"-30px\").css(\"transform\",\"rotate(-90deg)\");\n",
       "      var xaxisLabel = $(\"<div class='axisLabel xaxisLabel'>Iteration: <span id='iteration'>0</span> Avg. Error: <span id='avg-error'></span></div></div>\").appendTo($('#chart'));\n",
       "      xaxisLabel.css(\"position\", \"absolute\").css(\"width\", \"250px\").css(\"font-size\",\"16px\").css(\"text-align\",\"center\");\n",
       "      xaxisLabel.css(\"left\", \"-50px\").css(\"bottom\", \"-20px\").css(\"margin-left\",\"50%\");\n",
       "\n",
       "      var w0_xaxisLabel = $(\"<div class='axisLabel xaxisLabel'></div>\").text(\"Layer 0 Weights\").appendTo($('#weight_charts'));\n",
       "      w0_xaxisLabel.css(\"position\", \"absolute\").css(\"font-size\",\"16px\").css(\"width\",\"160px\");\n",
       "      w0_xaxisLabel.css(\"left\", \"-50px\").css(\"bottom\", \"20px\").css(\"margin-left\", \"16%\");\n",
       "\n",
       "      var w1_xaxisLabel = $(\"<div class='axisLabel xaxisLabel'></div>\").text(\"Layer 1 Weights\").appendTo($('#weight_charts'));\n",
       "      w1_xaxisLabel.css(\"position\", \"absolute\").css(\"font-size\",\"16px\").css(\"width\",\"160px\");\n",
       "      w1_xaxisLabel.css(\"left\", \"-50px\").css(\"bottom\", \"20px\").css(\"margin-left\", \"47%\");\n",
       "      \n",
       "      var outputs_xaxisLabel = $(\"<div class='axisLabel xaxisLabel'></div>\").text(\"Outputs\").appendTo($('#weight_charts'));\n",
       "      outputs_xaxisLabel.css(\"position\", \"absolute\").css(\"font-size\",\"16px\").css(\"width\",\"160px\");\n",
       "      outputs_xaxisLabel.css(\"left\", \"-50px\").css(\"bottom\", \"20px\").css(\"margin-left\", \"81%\");\n",
       "\n",
       "      window.weight_plot_l0 = $.plot('#weights_l0', [[]], { series: { shadowSize: 0, bars: { show: true, align: \"center\", barWidth: 0.5 }}, yaxis: { min: -15, max: 15 }, xaxis: { min: 0, max: 13}})\n",
       "      window.weight_plot_l1 = $.plot('#weights_l1', [[]], { series: { shadowSize: 0, bars: { show: true, align: \"center\", barWidth: 0.5 }}, yaxis: { min: -15, max: 15 }, xaxis: { min: 0, max: 5}})\n",
       "      window.output_plot = $.plot('#outputs', [[]], { series: { shadowSize: 0, bars: { show: true, align: \"center\", barWidth: 0.5 }}, yaxis: { min: -0.5, max: 1.5 }, xaxis: { min: 0, max: 5}})\n",
       "   \n",
       "      $('#chart-header')[0].scrollIntoView();\n",
       "   });\n",
       "    \n",
       "    \n"
      ],
      "text/plain": [
       "<IPython.core.display.Javascript object>"
      ]
     },
     "metadata": {},
     "output_type": "display_data"
    },
    {
     "data": {
      "application/javascript": [
       "$('#avg-error').html(0.50041)"
      ],
      "text/plain": [
       "<IPython.core.display.Javascript object>"
      ]
     },
     "metadata": {},
     "output_type": "display_data"
    },
    {
     "data": {
      "application/javascript": [
       "$('#iteration').html(50)"
      ],
      "text/plain": [
       "<IPython.core.display.Javascript object>"
      ]
     },
     "metadata": {},
     "output_type": "display_data"
    },
    {
     "data": {
      "application/javascript": [
       "window.error.push([50,0.50041])"
      ],
      "text/plain": [
       "<IPython.core.display.Javascript object>"
      ]
     },
     "metadata": {},
     "output_type": "display_data"
    },
    {
     "data": {
      "application/javascript": [
       "window.plot.setData([window.error]); window.plot.draw();"
      ],
      "text/plain": [
       "<IPython.core.display.Javascript object>"
      ]
     },
     "metadata": {},
     "output_type": "display_data"
    },
    {
     "data": {
      "application/javascript": [
       "window.weights_l0 = [[1, 0.0383582474646044], [2, 0.2968255200160192], [3, -0.31272961927824344], [4, 0.049052727923036304], [5, 0.7977334720603267], [6, 0.7111726833021728], [7, -0.693971353379787], [8, -0.5816738004576147], [9, -0.8874329851491825], [10, -0.17538802964805297], [11, -0.9514402317637458], [12, -0.09112622232584855]]"
      ],
      "text/plain": [
       "<IPython.core.display.Javascript object>"
      ]
     },
     "metadata": {},
     "output_type": "display_data"
    },
    {
     "data": {
      "application/javascript": [
       "window.weight_plot_l0.setData([window.weights_l0]); window.weight_plot_l0.draw();"
      ],
      "text/plain": [
       "<IPython.core.display.Javascript object>"
      ]
     },
     "metadata": {},
     "output_type": "display_data"
    },
    {
     "data": {
      "application/javascript": [
       "window.weights_l1 = [[1, 0.2996797432256078], [2, -0.35178916990711556], [3, 0.1654609637702962], [4, 0.14138590052808642]]"
      ],
      "text/plain": [
       "<IPython.core.display.Javascript object>"
      ]
     },
     "metadata": {},
     "output_type": "display_data"
    },
    {
     "data": {
      "application/javascript": [
       "window.weight_plot_l1.setData([window.weights_l1]); window.weight_plot_l1.draw();"
      ],
      "text/plain": [
       "<IPython.core.display.Javascript object>"
      ]
     },
     "metadata": {},
     "output_type": "display_data"
    },
    {
     "data": {
      "application/javascript": [
       "window.outputs = [[1, 0.5102640053166082], [2, 0.4989013563662457], [3, 0.5022767644262801], [4, 0.4925674648387963]]"
      ],
      "text/plain": [
       "<IPython.core.display.Javascript object>"
      ]
     },
     "metadata": {},
     "output_type": "display_data"
    },
    {
     "data": {
      "application/javascript": [
       "window.output_plot.setData([window.outputs]); window.output_plot.draw();"
      ],
      "text/plain": [
       "<IPython.core.display.Javascript object>"
      ]
     },
     "metadata": {},
     "output_type": "display_data"
    },
    {
     "data": {
      "application/javascript": [
       "$('#avg-error').html(0.50008)"
      ],
      "text/plain": [
       "<IPython.core.display.Javascript object>"
      ]
     },
     "metadata": {},
     "output_type": "display_data"
    },
    {
     "data": {
      "application/javascript": [
       "$('#iteration').html(100)"
      ],
      "text/plain": [
       "<IPython.core.display.Javascript object>"
      ]
     },
     "metadata": {},
     "output_type": "display_data"
    },
    {
     "data": {
      "application/javascript": [
       "window.error.push([100,0.50008])"
      ],
      "text/plain": [
       "<IPython.core.display.Javascript object>"
      ]
     },
     "metadata": {},
     "output_type": "display_data"
    },
    {
     "data": {
      "application/javascript": [
       "window.plot.setData([window.error]); window.plot.draw();"
      ],
      "text/plain": [
       "<IPython.core.display.Javascript object>"
      ]
     },
     "metadata": {},
     "output_type": "display_data"
    },
    {
     "data": {
      "application/javascript": [
       "window.weights_l0 = [[1, -0.037506580853354655], [2, 0.2263541517316998], [3, -0.2740312242752714], [4, 0.06913643813821133], [5, 0.8031598817514883], [6, 0.6690849755971024], [7, -0.6775120250076905], [8, -0.5829138733396722], [9, -0.8879215646832115], [10, -0.21334633599346278], [11, -0.953744917278181], [12, -0.09533031492744769]]"
      ],
      "text/plain": [
       "<IPython.core.display.Javascript object>"
      ]
     },
     "metadata": {},
     "output_type": "display_data"
    },
    {
     "data": {
      "application/javascript": [
       "window.weight_plot_l0.setData([window.weights_l0]); window.weight_plot_l0.draw();"
      ],
      "text/plain": [
       "<IPython.core.display.Javascript object>"
      ]
     },
     "metadata": {},
     "output_type": "display_data"
    },
    {
     "data": {
      "application/javascript": [
       "window.weights_l1 = [[1, 0.3044871270669309], [2, -0.3122670388569553], [3, 0.03160135188587119], [4, 0.12746677641340734]]"
      ],
      "text/plain": [
       "<IPython.core.display.Javascript object>"
      ]
     },
     "metadata": {},
     "output_type": "display_data"
    },
    {
     "data": {
      "application/javascript": [
       "window.weight_plot_l1.setData([window.weights_l1]); window.weight_plot_l1.draw();"
      ],
      "text/plain": [
       "<IPython.core.display.Javascript object>"
      ]
     },
     "metadata": {},
     "output_type": "display_data"
    },
    {
     "data": {
      "application/javascript": [
       "window.outputs = [[1, 0.5047587577326285], [2, 0.5006548548114197], [3, 0.4998763799353411], [4, 0.49607840362513284]]"
      ],
      "text/plain": [
       "<IPython.core.display.Javascript object>"
      ]
     },
     "metadata": {},
     "output_type": "display_data"
    },
    {
     "data": {
      "application/javascript": [
       "window.output_plot.setData([window.outputs]); window.output_plot.draw();"
      ],
      "text/plain": [
       "<IPython.core.display.Javascript object>"
      ]
     },
     "metadata": {},
     "output_type": "display_data"
    },
    {
     "data": {
      "application/javascript": [
       "$('#avg-error').html(0.49981)"
      ],
      "text/plain": [
       "<IPython.core.display.Javascript object>"
      ]
     },
     "metadata": {},
     "output_type": "display_data"
    },
    {
     "data": {
      "application/javascript": [
       "$('#iteration').html(150)"
      ],
      "text/plain": [
       "<IPython.core.display.Javascript object>"
      ]
     },
     "metadata": {},
     "output_type": "display_data"
    },
    {
     "data": {
      "application/javascript": [
       "window.error.push([150,0.49981])"
      ],
      "text/plain": [
       "<IPython.core.display.Javascript object>"
      ]
     },
     "metadata": {},
     "output_type": "display_data"
    },
    {
     "data": {
      "application/javascript": [
       "window.plot.setData([window.error]); window.plot.draw();"
      ],
      "text/plain": [
       "<IPython.core.display.Javascript object>"
      ]
     },
     "metadata": {},
     "output_type": "display_data"
    },
    {
     "data": {
      "application/javascript": [
       "window.weights_l0 = [[1, -0.1306078499566388], [2, 0.17915887733262148], [3, -0.28412249730695355], [4, 0.087883328569806], [5, 0.8067640475720842], [6, 0.6453469854435492], [7, -0.6813558037208463], [8, -0.586975150526129], [9, -0.9000025739937819], [10, -0.24128391146403746], [11, -0.9534592811739707], [12, -0.09966123400729981]]"
      ],
      "text/plain": [
       "<IPython.core.display.Javascript object>"
      ]
     },
     "metadata": {},
     "output_type": "display_data"
    },
    {
     "data": {
      "application/javascript": [
       "window.weight_plot_l0.setData([window.weights_l0]); window.weight_plot_l0.draw();"
      ],
      "text/plain": [
       "<IPython.core.display.Javascript object>"
      ]
     },
     "metadata": {},
     "output_type": "display_data"
    },
    {
     "data": {
      "application/javascript": [
       "window.weights_l1 = [[1, 0.32665425008925214], [2, -0.2926399059646769], [3, -0.08395681703004171], [4, 0.13333850151807217]]"
      ],
      "text/plain": [
       "<IPython.core.display.Javascript object>"
      ]
     },
     "metadata": {},
     "output_type": "display_data"
    },
    {
     "data": {
      "application/javascript": [
       "window.weight_plot_l1.setData([window.weights_l1]); window.weight_plot_l1.draw();"
      ],
      "text/plain": [
       "<IPython.core.display.Javascript object>"
      ]
     },
     "metadata": {},
     "output_type": "display_data"
    },
    {
     "data": {
      "application/javascript": [
       "window.outputs = [[1, 0.5014713723458585], [2, 0.5027458366819753], [3, 0.49791856697993964], [4, 0.4984203122602143]]"
      ],
      "text/plain": [
       "<IPython.core.display.Javascript object>"
      ]
     },
     "metadata": {},
     "output_type": "display_data"
    },
    {
     "data": {
      "application/javascript": [
       "window.output_plot.setData([window.outputs]); window.output_plot.draw();"
      ],
      "text/plain": [
       "<IPython.core.display.Javascript object>"
      ]
     },
     "metadata": {},
     "output_type": "display_data"
    },
    {
     "data": {
      "application/javascript": [
       "$('#avg-error').html(0.49940)"
      ],
      "text/plain": [
       "<IPython.core.display.Javascript object>"
      ]
     },
     "metadata": {},
     "output_type": "display_data"
    },
    {
     "data": {
      "application/javascript": [
       "$('#iteration').html(200)"
      ],
      "text/plain": [
       "<IPython.core.display.Javascript object>"
      ]
     },
     "metadata": {},
     "output_type": "display_data"
    },
    {
     "data": {
      "application/javascript": [
       "window.error.push([200,0.49940])"
      ],
      "text/plain": [
       "<IPython.core.display.Javascript object>"
      ]
     },
     "metadata": {},
     "output_type": "display_data"
    },
    {
     "data": {
      "application/javascript": [
       "window.plot.setData([window.error]); window.plot.draw();"
      ],
      "text/plain": [
       "<IPython.core.display.Javascript object>"
      ]
     },
     "metadata": {},
     "output_type": "display_data"
    },
    {
     "data": {
      "application/javascript": [
       "window.weights_l0 = [[1, -0.25224102030175877], [2, 0.14452741805366634], [3, -0.3416398597370303], [4, 0.1079460639481572], [5, 0.8129967406070452], [6, 0.6326082430660268], [7, -0.7046248633786886], [8, -0.5944632869130106], [9, -0.9285763086493465], [10, -0.26290301272603384], [11, -0.9516990540902988], [12, -0.10522136996735568]]"
      ],
      "text/plain": [
       "<IPython.core.display.Javascript object>"
      ]
     },
     "metadata": {},
     "output_type": "display_data"
    },
    {
     "data": {
      "application/javascript": [
       "window.weight_plot_l0.setData([window.weights_l0]); window.weight_plot_l0.draw();"
      ],
      "text/plain": [
       "<IPython.core.display.Javascript object>"
      ]
     },
     "metadata": {},
     "output_type": "display_data"
    },
    {
     "data": {
      "application/javascript": [
       "window.weights_l1 = [[1, 0.37501469819361344], [2, -0.28947033036004244], [3, -0.2075857992970095], [4, 0.15204319328005192]]"
      ],
      "text/plain": [
       "<IPython.core.display.Javascript object>"
      ]
     },
     "metadata": {},
     "output_type": "display_data"
    },
    {
     "data": {
      "application/javascript": [
       "window.weight_plot_l1.setData([window.weights_l1]); window.weight_plot_l1.draw();"
      ],
      "text/plain": [
       "<IPython.core.display.Javascript object>"
      ]
     },
     "metadata": {},
     "output_type": "display_data"
    },
    {
     "data": {
      "application/javascript": [
       "window.outputs = [[1, 0.49870698278264936], [2, 0.5056009176375581], [3, 0.49588232952152816], [4, 0.5003693496431404]]"
      ],
      "text/plain": [
       "<IPython.core.display.Javascript object>"
      ]
     },
     "metadata": {},
     "output_type": "display_data"
    },
    {
     "data": {
      "application/javascript": [
       "window.output_plot.setData([window.outputs]); window.output_plot.draw();"
      ],
      "text/plain": [
       "<IPython.core.display.Javascript object>"
      ]
     },
     "metadata": {},
     "output_type": "display_data"
    },
    {
     "data": {
      "application/javascript": [
       "$('#avg-error').html(0.49850)"
      ],
      "text/plain": [
       "<IPython.core.display.Javascript object>"
      ]
     },
     "metadata": {},
     "output_type": "display_data"
    },
    {
     "data": {
      "application/javascript": [
       "$('#iteration').html(250)"
      ],
      "text/plain": [
       "<IPython.core.display.Javascript object>"
      ]
     },
     "metadata": {},
     "output_type": "display_data"
    },
    {
     "data": {
      "application/javascript": [
       "window.error.push([250,0.49850])"
      ],
      "text/plain": [
       "<IPython.core.display.Javascript object>"
      ]
     },
     "metadata": {},
     "output_type": "display_data"
    },
    {
     "data": {
      "application/javascript": [
       "window.plot.setData([window.error]); window.plot.draw();"
      ],
      "text/plain": [
       "<IPython.core.display.Javascript object>"
      ]
     },
     "metadata": {},
     "output_type": "display_data"
    },
    {
     "data": {
      "application/javascript": [
       "window.weights_l0 = [[1, -0.42390697735516064], [2, 0.11665191658318377], [3, -0.45811203889980656], [4, 0.13139694518787964], [5, 0.832641019603384], [6, 0.6288830518934647], [7, -0.7592487560700112], [8, -0.6075370994328125], [9, -0.9824000276878523], [10, -0.28033827460672867], [11, -0.9458879812043138], [12, -0.11317660637301237]]"
      ],
      "text/plain": [
       "<IPython.core.display.Javascript object>"
      ]
     },
     "metadata": {},
     "output_type": "display_data"
    },
    {
     "data": {
      "application/javascript": [
       "window.weight_plot_l0.setData([window.weights_l0]); window.weight_plot_l0.draw();"
      ],
      "text/plain": [
       "<IPython.core.display.Javascript object>"
      ]
     },
     "metadata": {},
     "output_type": "display_data"
    },
    {
     "data": {
      "application/javascript": [
       "window.weights_l1 = [[1, 0.468622515819615], [2, -0.3042620510196494], [3, -0.3662966309629025], [4, 0.1827775066357361]]"
      ],
      "text/plain": [
       "<IPython.core.display.Javascript object>"
      ]
     },
     "metadata": {},
     "output_type": "display_data"
    },
    {
     "data": {
      "application/javascript": [
       "window.weight_plot_l1.setData([window.weights_l1]); window.weight_plot_l1.draw();"
      ],
      "text/plain": [
       "<IPython.core.display.Javascript object>"
      ]
     },
     "metadata": {},
     "output_type": "display_data"
    },
    {
     "data": {
      "application/javascript": [
       "window.outputs = [[1, 0.4952086756763546], [2, 0.5103437145964169], [3, 0.493196150556847], [4, 0.5023211736697373]]"
      ],
      "text/plain": [
       "<IPython.core.display.Javascript object>"
      ]
     },
     "metadata": {},
     "output_type": "display_data"
    },
    {
     "data": {
      "application/javascript": [
       "window.output_plot.setData([window.outputs]); window.output_plot.draw();"
      ],
      "text/plain": [
       "<IPython.core.display.Javascript object>"
      ]
     },
     "metadata": {},
     "output_type": "display_data"
    },
    {
     "data": {
      "application/javascript": [
       "$('#avg-error').html(0.49604)"
      ],
      "text/plain": [
       "<IPython.core.display.Javascript object>"
      ]
     },
     "metadata": {},
     "output_type": "display_data"
    },
    {
     "data": {
      "application/javascript": [
       "$('#iteration').html(300)"
      ],
      "text/plain": [
       "<IPython.core.display.Javascript object>"
      ]
     },
     "metadata": {},
     "output_type": "display_data"
    },
    {
     "data": {
      "application/javascript": [
       "window.error.push([300,0.49604])"
      ],
      "text/plain": [
       "<IPython.core.display.Javascript object>"
      ]
     },
     "metadata": {},
     "output_type": "display_data"
    },
    {
     "data": {
      "application/javascript": [
       "window.plot.setData([window.error]); window.plot.draw();"
      ],
      "text/plain": [
       "<IPython.core.display.Javascript object>"
      ]
     },
     "metadata": {},
     "output_type": "display_data"
    },
    {
     "data": {
      "application/javascript": [
       "window.weights_l0 = [[1, -0.6873203526015523], [2, 0.09103795582963281], [3, -0.662968029953499], [4, 0.16133953333052078], [5, 0.8974595046638775], [6, 0.6370321924625475], [7, -0.8751320235271504], [8, -0.6313977355738121], [9, -1.076533961140534], [10, -0.29456886002319294], [11, -0.9238566143056526], [12, -0.1253689423660005]]"
      ],
      "text/plain": [
       "<IPython.core.display.Javascript object>"
      ]
     },
     "metadata": {},
     "output_type": "display_data"
    },
    {
     "data": {
      "application/javascript": [
       "window.weight_plot_l0.setData([window.weights_l0]); window.weight_plot_l0.draw();"
      ],
      "text/plain": [
       "<IPython.core.display.Javascript object>"
      ]
     },
     "metadata": {},
     "output_type": "display_data"
    },
    {
     "data": {
      "application/javascript": [
       "window.weights_l1 = [[1, 0.6464623484102244], [2, -0.3447990806046307], [3, -0.6010802037876473], [4, 0.23088164058448302]]"
      ],
      "text/plain": [
       "<IPython.core.display.Javascript object>"
      ]
     },
     "metadata": {},
     "output_type": "display_data"
    },
    {
     "data": {
      "application/javascript": [
       "window.weight_plot_l1.setData([window.weights_l1]); window.weight_plot_l1.draw();"
      ],
      "text/plain": [
       "<IPython.core.display.Javascript object>"
      ]
     },
     "metadata": {},
     "output_type": "display_data"
    },
    {
     "data": {
      "application/javascript": [
       "window.outputs = [[1, 0.4888201932745039], [2, 0.5199839314819346], [3, 0.48889043719285386], [4, 0.5042154237811459]]"
      ],
      "text/plain": [
       "<IPython.core.display.Javascript object>"
      ]
     },
     "metadata": {},
     "output_type": "display_data"
    },
    {
     "data": {
      "application/javascript": [
       "window.output_plot.setData([window.outputs]); window.output_plot.draw();"
      ],
      "text/plain": [
       "<IPython.core.display.Javascript object>"
      ]
     },
     "metadata": {},
     "output_type": "display_data"
    },
    {
     "data": {
      "application/javascript": [
       "$('#avg-error').html(0.48807)"
      ],
      "text/plain": [
       "<IPython.core.display.Javascript object>"
      ]
     },
     "metadata": {},
     "output_type": "display_data"
    },
    {
     "data": {
      "application/javascript": [
       "$('#iteration').html(350)"
      ],
      "text/plain": [
       "<IPython.core.display.Javascript object>"
      ]
     },
     "metadata": {},
     "output_type": "display_data"
    },
    {
     "data": {
      "application/javascript": [
       "window.error.push([350,0.48807])"
      ],
      "text/plain": [
       "<IPython.core.display.Javascript object>"
      ]
     },
     "metadata": {},
     "output_type": "display_data"
    },
    {
     "data": {
      "application/javascript": [
       "window.plot.setData([window.error]); window.plot.draw();"
      ],
      "text/plain": [
       "<IPython.core.display.Javascript object>"
      ]
     },
     "metadata": {},
     "output_type": "display_data"
    },
    {
     "data": {
      "application/javascript": [
       "window.weights_l0 = [[1, -1.1232403309957713], [2, 0.060456665031990875], [3, -1.0152210172134737], [4, 0.20578990849253032], [5, 1.0947929907209755], [6, 0.6715102263164878], [7, -1.1086311223889118], [8, -0.6811171557478043], [9, -1.2316304723845177], [10, -0.3050424692341939], [11, -0.8379180285303565], [12, -0.14543965281982946]]"
      ],
      "text/plain": [
       "<IPython.core.display.Javascript object>"
      ]
     },
     "metadata": {},
     "output_type": "display_data"
    },
    {
     "data": {
      "application/javascript": [
       "window.weight_plot_l0.setData([window.weights_l0]); window.weight_plot_l0.draw();"
      ],
      "text/plain": [
       "<IPython.core.display.Javascript object>"
      ]
     },
     "metadata": {},
     "output_type": "display_data"
    },
    {
     "data": {
      "application/javascript": [
       "window.weights_l1 = [[1, 0.9891570907540577], [2, -0.4338746500966326], [3, -0.9873882519632787], [4, 0.31702422044200185]]"
      ],
      "text/plain": [
       "<IPython.core.display.Javascript object>"
      ]
     },
     "metadata": {},
     "output_type": "display_data"
    },
    {
     "data": {
      "application/javascript": [
       "window.weight_plot_l1.setData([window.weights_l1]); window.weight_plot_l1.draw();"
      ],
      "text/plain": [
       "<IPython.core.display.Javascript object>"
      ]
     },
     "metadata": {},
     "output_type": "display_data"
    },
    {
     "data": {
      "application/javascript": [
       "window.outputs = [[1, 0.47261771369854066], [2, 0.5435590844145315], [3, 0.48137334848878677], [4, 0.5046088744876308]]"
      ],
      "text/plain": [
       "<IPython.core.display.Javascript object>"
      ]
     },
     "metadata": {},
     "output_type": "display_data"
    },
    {
     "data": {
      "application/javascript": [
       "window.output_plot.setData([window.outputs]); window.output_plot.draw();"
      ],
      "text/plain": [
       "<IPython.core.display.Javascript object>"
      ]
     },
     "metadata": {},
     "output_type": "display_data"
    },
    {
     "data": {
      "application/javascript": [
       "$('#avg-error').html(0.46003)"
      ],
      "text/plain": [
       "<IPython.core.display.Javascript object>"
      ]
     },
     "metadata": {},
     "output_type": "display_data"
    },
    {
     "data": {
      "application/javascript": [
       "$('#iteration').html(400)"
      ],
      "text/plain": [
       "<IPython.core.display.Javascript object>"
      ]
     },
     "metadata": {},
     "output_type": "display_data"
    },
    {
     "data": {
      "application/javascript": [
       "window.error.push([400,0.46003])"
      ],
      "text/plain": [
       "<IPython.core.display.Javascript object>"
      ]
     },
     "metadata": {},
     "output_type": "display_data"
    },
    {
     "data": {
      "application/javascript": [
       "window.plot.setData([window.error]); window.plot.draw();"
      ],
      "text/plain": [
       "<IPython.core.display.Javascript object>"
      ]
     },
     "metadata": {},
     "output_type": "display_data"
    },
    {
     "data": {
      "application/javascript": [
       "window.weights_l0 = [[1, -1.8591731330085617], [2, 0.0023708726294853107], [3, -1.6104660732291143], [4, 0.29426749427703563], [5, 1.5740555918995371], [6, 0.7940064890709224], [7, -1.5274010481839397], [8, -0.8158225246176297], [9, -1.4646687330175903], [10, -0.30927580411865574], [11, -0.5553117048243361], [12, -0.17972880801328897]]"
      ],
      "text/plain": [
       "<IPython.core.display.Javascript object>"
      ]
     },
     "metadata": {},
     "output_type": "display_data"
    },
    {
     "data": {
      "application/javascript": [
       "window.weight_plot_l0.setData([window.weights_l0]); window.weight_plot_l0.draw();"
      ],
      "text/plain": [
       "<IPython.core.display.Javascript object>"
      ]
     },
     "metadata": {},
     "output_type": "display_data"
    },
    {
     "data": {
      "application/javascript": [
       "window.weights_l1 = [[1, 1.6344327971683423], [2, -0.6380136709400784], [3, -1.642669551161913], [4, 0.5274442837296955]]"
      ],
      "text/plain": [
       "<IPython.core.display.Javascript object>"
      ]
     },
     "metadata": {},
     "output_type": "display_data"
    },
    {
     "data": {
      "application/javascript": [
       "window.weight_plot_l1.setData([window.weights_l1]); window.weight_plot_l1.draw();"
      ],
      "text/plain": [
       "<IPython.core.display.Javascript object>"
      ]
     },
     "metadata": {},
     "output_type": "display_data"
    },
    {
     "data": {
      "application/javascript": [
       "window.outputs = [[1, 0.42183767215487405], [2, 0.6035227303208914], [3, 0.4740226299139364], [4, 0.49584705824292624]]"
      ],
      "text/plain": [
       "<IPython.core.display.Javascript object>"
      ]
     },
     "metadata": {},
     "output_type": "display_data"
    },
    {
     "data": {
      "application/javascript": [
       "window.output_plot.setData([window.outputs]); window.output_plot.draw();"
      ],
      "text/plain": [
       "<IPython.core.display.Javascript object>"
      ]
     },
     "metadata": {},
     "output_type": "display_data"
    },
    {
     "data": {
      "application/javascript": [
       "$('#avg-error').html(0.38727)"
      ],
      "text/plain": [
       "<IPython.core.display.Javascript object>"
      ]
     },
     "metadata": {},
     "output_type": "display_data"
    },
    {
     "data": {
      "application/javascript": [
       "$('#iteration').html(450)"
      ],
      "text/plain": [
       "<IPython.core.display.Javascript object>"
      ]
     },
     "metadata": {},
     "output_type": "display_data"
    },
    {
     "data": {
      "application/javascript": [
       "window.error.push([450,0.38727])"
      ],
      "text/plain": [
       "<IPython.core.display.Javascript object>"
      ]
     },
     "metadata": {},
     "output_type": "display_data"
    },
    {
     "data": {
      "application/javascript": [
       "window.plot.setData([window.error]); window.plot.draw();"
      ],
      "text/plain": [
       "<IPython.core.display.Javascript object>"
      ]
     },
     "metadata": {},
     "output_type": "display_data"
    },
    {
     "data": {
      "application/javascript": [
       "window.weights_l0 = [[1, -2.8715582270327666], [2, -0.1426121893878815], [3, -2.4750698416754027], [4, 0.5379714782149924], [5, 2.2888387670859034], [6, 1.1971666242867578], [7, -2.1106886956102273], [8, -1.270186335305427], [9, -1.7350074836280516], [10, -0.3241975390891926], [11, -0.055879846850713434], [12, -0.21554401045576518]]"
      ],
      "text/plain": [
       "<IPython.core.display.Javascript object>"
      ]
     },
     "metadata": {},
     "output_type": "display_data"
    },
    {
     "data": {
      "application/javascript": [
       "window.weight_plot_l0.setData([window.weights_l0]); window.weight_plot_l0.draw();"
      ],
      "text/plain": [
       "<IPython.core.display.Javascript object>"
      ]
     },
     "metadata": {},
     "output_type": "display_data"
    },
    {
     "data": {
      "application/javascript": [
       "window.weights_l1 = [[1, 2.607492041734443], [2, -1.093317723004448], [3, -2.5483904110447235], [4, 1.16788192988959]]"
      ],
      "text/plain": [
       "<IPython.core.display.Javascript object>"
      ]
     },
     "metadata": {},
     "output_type": "display_data"
    },
    {
     "data": {
      "application/javascript": [
       "window.weight_plot_l1.setData([window.weights_l1]); window.weight_plot_l1.draw();"
      ],
      "text/plain": [
       "<IPython.core.display.Javascript object>"
      ]
     },
     "metadata": {},
     "output_type": "display_data"
    },
    {
     "data": {
      "application/javascript": [
       "window.outputs = [[1, 0.3154227870744121], [2, 0.6964448105544725], [3, 0.5211795716025139], [4, 0.45127279565540834]]"
      ],
      "text/plain": [
       "<IPython.core.display.Javascript object>"
      ]
     },
     "metadata": {},
     "output_type": "display_data"
    },
    {
     "data": {
      "application/javascript": [
       "window.output_plot.setData([window.outputs]); window.output_plot.draw();"
      ],
      "text/plain": [
       "<IPython.core.display.Javascript object>"
      ]
     },
     "metadata": {},
     "output_type": "display_data"
    }
   ],
   "source": [
    "# sigmoid function w/ derivative option\n",
    "def sigmoid(x, deriv=False):\n",
    "    if (deriv):\n",
    "        return x*(1-x)\n",
    "    return 1/(1 + np.exp(-x))\n",
    "\n",
    "# inputs\n",
    "X = np.array([[0,0,1],\n",
    "             [0,1,1],\n",
    "             [1,0,1],\n",
    "             [1,1,1]])\n",
    "\n",
    "# outputs\n",
    "y = np.array([[0,1,1,0]]).T\n",
    "\n",
    "# seed random numbers\n",
    "np.random.seed(3)\n",
    "\n",
    "# initialize random weights\n",
    "W0 = 2*np.random.random((3,4)) - 1\n",
    "W1 = 2*np.random.random((4,1)) - 1\n",
    "\n",
    "# don't fret over all this nonsense,\n",
    "# its just a bunch of javascript to set up the charts and layout\n",
    "js = Javascript(\"\"\"\n",
    "    element.append(\"<h2 id='chart-header' style='text-align: center;'>Visualize Error & Weights Changing Over Time</h2><br/><br />\")\n",
    "    element.append(\"<div id='chart' style='position: relative; width:90%; height: 400px; margin-top: -30px; margin-left: 20px;;'></div>\")\n",
    "    element.append(\"<div id='weight_charts' style='width: 100%; height: 320px; position: relative; padding-top:30px;'>\" +\n",
    "                     \"<div id='weights_l0' style='position: absolute; width:27%; height: 250px; margin-left: 20px; padding-bottom: 30px;'></div>\" +\n",
    "                     \"<div id='weights_l1' style='position: absolute; left:31%; width:27%; height: 250px; margin-left: 20px; padding-bottom: 30px;'></div>\" +\n",
    "                     \"<div id='outputs' style='position: absolute; left:62%; width:27%; height: 250px; margin-left: 20px; padding-bottom: 30px;'></div>\" +\n",
    "                   \"</div>\")\n",
    "\n",
    "    window.error = [];\n",
    "    window.weights_l0 = [];\n",
    "    window.weights_l1 = [];\n",
    "    window.outputs = [];\n",
    "\n",
    "    require(['flot'], function() {\n",
    "      window.plot = $.plot('#chart', [[]], { series: { shadowSize: 0 }, yaxis: { min: 0, max: 0.5, transform: function(v) { return Math.log(v+1); }}, xaxis: { min: 0, max: 20000 } })\n",
    "      var yaxisLabel = $(\"<div class='axisLabel yaxisLabel'></div>\").text(\"Error\").appendTo($('#chart'));\n",
    "      yaxisLabel.css(\"position\", \"absolute\").css(\"font-size\",\"16px\").css(\"margin-top\", yaxisLabel.width() / 2 - 20);\n",
    "      yaxisLabel.css(\"top\", \"50%\").css(\"left\", \"-30px\").css(\"transform\",\"rotate(-90deg)\");\n",
    "      var xaxisLabel = $(\"<div class='axisLabel xaxisLabel'>Iteration: <span id='iteration'>0</span> Avg. Error: <span id='avg-error'></span></div></div>\").appendTo($('#chart'));\n",
    "      xaxisLabel.css(\"position\", \"absolute\").css(\"width\", \"250px\").css(\"font-size\",\"16px\").css(\"text-align\",\"center\");\n",
    "      xaxisLabel.css(\"left\", \"-50px\").css(\"bottom\", \"-20px\").css(\"margin-left\",\"50%\");\n",
    "\n",
    "      var w0_xaxisLabel = $(\"<div class='axisLabel xaxisLabel'></div>\").text(\"Layer 0 Weights\").appendTo($('#weight_charts'));\n",
    "      w0_xaxisLabel.css(\"position\", \"absolute\").css(\"font-size\",\"16px\").css(\"width\",\"160px\");\n",
    "      w0_xaxisLabel.css(\"left\", \"-50px\").css(\"bottom\", \"20px\").css(\"margin-left\", \"16%\");\n",
    "\n",
    "      var w1_xaxisLabel = $(\"<div class='axisLabel xaxisLabel'></div>\").text(\"Layer 1 Weights\").appendTo($('#weight_charts'));\n",
    "      w1_xaxisLabel.css(\"position\", \"absolute\").css(\"font-size\",\"16px\").css(\"width\",\"160px\");\n",
    "      w1_xaxisLabel.css(\"left\", \"-50px\").css(\"bottom\", \"20px\").css(\"margin-left\", \"47%\");\n",
    "      \n",
    "      var outputs_xaxisLabel = $(\"<div class='axisLabel xaxisLabel'></div>\").text(\"Outputs\").appendTo($('#weight_charts'));\n",
    "      outputs_xaxisLabel.css(\"position\", \"absolute\").css(\"font-size\",\"16px\").css(\"width\",\"160px\");\n",
    "      outputs_xaxisLabel.css(\"left\", \"-50px\").css(\"bottom\", \"20px\").css(\"margin-left\", \"81%\");\n",
    "\n",
    "      window.weight_plot_l0 = $.plot('#weights_l0', [[]], { series: { shadowSize: 0, bars: { show: true, align: \"center\", barWidth: 0.5 }}, yaxis: { min: -15, max: 15 }, xaxis: { min: 0, max: 13}})\n",
    "      window.weight_plot_l1 = $.plot('#weights_l1', [[]], { series: { shadowSize: 0, bars: { show: true, align: \"center\", barWidth: 0.5 }}, yaxis: { min: -15, max: 15 }, xaxis: { min: 0, max: 5}})\n",
    "      window.output_plot = $.plot('#outputs', [[]], { series: { shadowSize: 0, bars: { show: true, align: \"center\", barWidth: 0.5 }}, yaxis: { min: -0.5, max: 1.5 }, xaxis: { min: 0, max: 5}})\n",
    "   \n",
    "      $('#chart-header')[0].scrollIntoView();\n",
    "   });\n",
    "    \n",
    "    \n",
    "\"\"\")\n",
    "display(js)\n",
    "\n",
    "# train\n",
    "for i in range(1,20000):\n",
    "    # feed forward\n",
    "    l0 = X\n",
    "    l1 = sigmoid(np.dot(l0,W0))\n",
    "    l2 = sigmoid(np.dot(l1,W1))\n",
    "    \n",
    "    # find error\n",
    "    l2_error = l2 - y\n",
    "        \n",
    "    # calculate update\n",
    "    l2_delta = l2_error*sigmoid(l2, True)\n",
    "    \n",
    "    # backpropagate\n",
    "    l1_error = l2_delta.dot(W1.T)\n",
    "    \n",
    "    # calculate update\n",
    "    l1_delta = l1_error*sigmoid(l1, True)\n",
    "    \n",
    "    # update weights\n",
    "    W1 -= l1.T.dot(l2_delta)\n",
    "    W0 -= l0.T.dot(l1_delta)\n",
    "    \n",
    "    if (i % 50 == 0):\n",
    "        avg_error = np.mean(np.abs(l2_error));\n",
    "        weights_l0 = [[idx+1, weight] for idx, weight in enumerate(W0.flatten())]\n",
    "        weights_l1 = [[idx+1, weight] for idx, weight in enumerate(W1.flatten())]\n",
    "        outputs = [[idx+1, guess] for idx, guess in enumerate(l2.flatten())]\n",
    "        display(Javascript(\"$('#avg-error').html(%.5f)\" % avg_error));\n",
    "        display(Javascript(\"$('#iteration').html(%s)\" % str(i)));\n",
    "        display(Javascript(\"window.error.push([%d,%.5f])\" % (i,avg_error)));\n",
    "        display(Javascript(\"window.plot.setData([window.error]); window.plot.draw();\"));\n",
    "        display(Javascript(\"window.weights_l0 = %s\" % json.dumps(weights_l0)));\n",
    "        display(Javascript(\"window.weight_plot_l0.setData([window.weights_l0]); window.weight_plot_l0.draw();\"));\n",
    "        display(Javascript(\"window.weights_l1 = %s\" % json.dumps(weights_l1)));\n",
    "        display(Javascript(\"window.weight_plot_l1.setData([window.weights_l1]); window.weight_plot_l1.draw();\"));\n",
    "        display(Javascript(\"window.outputs = %s\" % json.dumps(outputs)));\n",
    "        display(Javascript(\"window.output_plot.setData([window.outputs]); window.output_plot.draw();\"));\n",
    "        time.sleep(0.1)\n",
    "    \n",
    "results = zip(y,l2)\n",
    "#[(print(\"Actual: %.0f  Guess: %.5f\" % (result[0], result[1]))) for result in results]"
   ]
  },
  {
   "cell_type": "code",
   "execution_count": null,
   "metadata": {
    "collapsed": true
   },
   "outputs": [],
   "source": []
  }
 ],
 "metadata": {
  "kernelspec": {
   "display_name": "Python 3",
   "language": "python",
   "name": "python3"
  },
  "language_info": {
   "codemirror_mode": {
    "name": "ipython",
    "version": 3
   },
   "file_extension": ".py",
   "mimetype": "text/x-python",
   "name": "python",
   "nbconvert_exporter": "python",
   "pygments_lexer": "ipython3",
   "version": "3.5.1"
  }
 },
 "nbformat": 4,
 "nbformat_minor": 0
}
