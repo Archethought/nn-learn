{
 "cells": [
  {
   "cell_type": "code",
   "execution_count": 225,
   "metadata": {
    "collapsed": false
   },
   "outputs": [
    {
     "data": {
      "application/javascript": [
       "require.config({\n",
       "    paths: {\n",
       "        flot: '//www.flotcharts.org/javascript/jquery.flot.min',\n",
       "        d3: '//cdnjs.cloudflare.com/ajax/libs/d3/3.4.8/d3.min'\n",
       "    }\n",
       "});"
      ],
      "text/plain": [
       "<IPython.core.display.Javascript object>"
      ]
     },
     "metadata": {},
     "output_type": "display_data"
    }
   ],
   "source": [
    "%%javascript\n",
    "require.config({\n",
    "    paths: {\n",
    "        flot: '//www.flotcharts.org/javascript/jquery.flot.min',\n",
    "        d3: '//cdnjs.cloudflare.com/ajax/libs/d3/3.4.8/d3.min'\n",
    "    }\n",
    "});"
   ]
  },
  {
   "cell_type": "code",
   "execution_count": 226,
   "metadata": {
    "collapsed": false
   },
   "outputs": [
    {
     "data": {
      "text/html": [
       "<style>\n",
       "div.output {\n",
       "  max-height: 1000px;\n",
       "  overflow-y: scroll;\n",
       "}\n",
       "</style>"
      ],
      "text/plain": [
       "<IPython.core.display.HTML object>"
      ]
     },
     "metadata": {},
     "output_type": "display_data"
    }
   ],
   "source": [
    "%%html\n",
    "<style>\n",
    "div.output {\n",
    "  max-height: 1000px;\n",
    "  overflow-y: scroll;\n",
    "}\n",
    "</style>"
   ]
  },
  {
   "cell_type": "code",
   "execution_count": 227,
   "metadata": {
    "collapsed": false
   },
   "outputs": [],
   "source": [
    "import numpy as np\n",
    "import json\n",
    "import time\n",
    "from IPython.display import Javascript\n",
    "from IPython.core.display import display"
   ]
  },
  {
   "cell_type": "code",
   "execution_count": null,
   "metadata": {
    "collapsed": false
   },
   "outputs": [
    {
     "data": {
      "application/javascript": [
       "\n",
       "    element.append(\"<h2 id='chart-header' style='text-align: center;'>Visualize Error & Weights Changing Over Time</h2><br/><br />\")\n",
       "    element.append(\"<div id='chart' style='position: relative; width:90%; height: 400px; margin-top: -30px; margin-left: 20px;;'></div>\")\n",
       "    element.append(\"<div id='weight_charts' style='width: 100%; height: 320px; position: relative; padding-top:30px;'>\" +\n",
       "                     \"<div id='weights_l0' style='position: absolute; width:27%; height: 250px; margin-left: 20px; padding-bottom: 30px;'></div>\" +\n",
       "                     \"<div id='weights_l1' style='position: absolute; left:31%; width:27%; height: 250px; margin-left: 20px; padding-bottom: 30px;'></div>\" +\n",
       "                     \"<div id='outputs' style='position: absolute; left:62%; width:27%; height: 250px; margin-left: 20px; padding-bottom: 30px;'></div>\" +\n",
       "                   \"</div>\")\n",
       "\n",
       "    window.error = [];\n",
       "    window.weights_l0 = [];\n",
       "    window.weights_l1 = [];\n",
       "    window.outputs = [];\n",
       "\n",
       "    require(['flot'], function() {\n",
       "      window.plot = $.plot('#chart', [[]], { series: { shadowSize: 0 }, yaxis: { min: 0, max: 0.5, transform: function(v) { return Math.log(v+1); }}, xaxis: { min: 0, max: 20000 } })\n",
       "      var yaxisLabel = $(\"<div class='axisLabel yaxisLabel'></div>\").text(\"Error\").appendTo($('#chart'));\n",
       "      yaxisLabel.css(\"position\", \"absolute\").css(\"font-size\",\"16px\").css(\"margin-top\", yaxisLabel.width() / 2 - 20);\n",
       "      yaxisLabel.css(\"top\", \"50%\").css(\"left\", \"-30px\").css(\"transform\",\"rotate(-90deg)\");\n",
       "      var xaxisLabel = $(\"<div class='axisLabel xaxisLabel'>Iteration: <span id='iteration'>0</span> Avg. Error: <span id='avg-error'></span></div></div>\").appendTo($('#chart'));\n",
       "      xaxisLabel.css(\"position\", \"absolute\").css(\"width\", \"300px\").css(\"font-size\",\"16px\").css(\"text-align\",\"center\");\n",
       "      xaxisLabel.css(\"left\", \"-150px\").css(\"bottom\", \"-20px\").css(\"margin-left\",\"50%\");\n",
       "\n",
       "      var w0_xaxisLabel = $(\"<div class='axisLabel xaxisLabel'></div>\").text(\"Layer 0 Weights\").appendTo($('#weight_charts'));\n",
       "      w0_xaxisLabel.css(\"position\", \"absolute\").css(\"font-size\",\"16px\").css(\"width\",\"160px\");\n",
       "      w0_xaxisLabel.css(\"left\", \"-50px\").css(\"bottom\", \"20px\").css(\"margin-left\", \"16%\");\n",
       "\n",
       "      var w1_xaxisLabel = $(\"<div class='axisLabel xaxisLabel'></div>\").text(\"Layer 1 Weights\").appendTo($('#weight_charts'));\n",
       "      w1_xaxisLabel.css(\"position\", \"absolute\").css(\"font-size\",\"16px\").css(\"width\",\"160px\");\n",
       "      w1_xaxisLabel.css(\"left\", \"-50px\").css(\"bottom\", \"20px\").css(\"margin-left\", \"47%\");\n",
       "      \n",
       "      var outputs_xaxisLabel = $(\"<div class='axisLabel xaxisLabel'></div>\").text(\"Outputs\").appendTo($('#weight_charts'));\n",
       "      outputs_xaxisLabel.css(\"position\", \"absolute\").css(\"font-size\",\"16px\").css(\"width\",\"160px\");\n",
       "      outputs_xaxisLabel.css(\"left\", \"-50px\").css(\"bottom\", \"20px\").css(\"margin-left\", \"81%\");\n",
       "\n",
       "      window.weight_plot_l0 = $.plot('#weights_l0', [[]], { series: { shadowSize: 0, bars: { show: true, align: \"center\", barWidth: 0.5 }}, yaxis: { min: -15, max: 15 }, xaxis: { min: 0, max: 13}})\n",
       "      window.weight_plot_l1 = $.plot('#weights_l1', [[]], { series: { shadowSize: 0, bars: { show: true, align: \"center\", barWidth: 0.5 }}, yaxis: { min: -15, max: 15 }, xaxis: { min: 0, max: 5}})\n",
       "      window.output_plot = $.plot('#outputs', [[]], { series: { shadowSize: 0, bars: { show: true, align: \"center\", barWidth: 0.5 }}, yaxis: { min: -0.5, max: 1.5 }, xaxis: { min: 0, max: 5}})\n",
       "   \n",
       "      $('#chart-header')[0].scrollIntoView();\n",
       "   });\n",
       "    \n",
       "    \n"
      ],
      "text/plain": [
       "<IPython.core.display.Javascript object>"
      ]
     },
     "metadata": {},
     "output_type": "display_data"
    },
    {
     "data": {
      "application/javascript": [
       "$('#avg-error').html(0.50041)"
      ],
      "text/plain": [
       "<IPython.core.display.Javascript object>"
      ]
     },
     "metadata": {},
     "output_type": "display_data"
    },
    {
     "data": {
      "application/javascript": [
       "$('#iteration').html(50)"
      ],
      "text/plain": [
       "<IPython.core.display.Javascript object>"
      ]
     },
     "metadata": {},
     "output_type": "display_data"
    },
    {
     "data": {
      "application/javascript": [
       "window.error.push([50,0.50041])"
      ],
      "text/plain": [
       "<IPython.core.display.Javascript object>"
      ]
     },
     "metadata": {},
     "output_type": "display_data"
    },
    {
     "data": {
      "application/javascript": [
       "window.plot.setData([window.error]); window.plot.draw();"
      ],
      "text/plain": [
       "<IPython.core.display.Javascript object>"
      ]
     },
     "metadata": {},
     "output_type": "display_data"
    },
    {
     "data": {
      "application/javascript": [
       "window.weights_l0 = [[1, 0.0383582474646044], [2, 0.2968255200160192], [3, -0.31272961927824344], [4, 0.049052727923036304], [5, 0.7977334720603267], [6, 0.7111726833021728], [7, -0.693971353379787], [8, -0.5816738004576147], [9, -0.8874329851491825], [10, -0.17538802964805297], [11, -0.9514402317637458], [12, -0.09112622232584855]]"
      ],
      "text/plain": [
       "<IPython.core.display.Javascript object>"
      ]
     },
     "metadata": {},
     "output_type": "display_data"
    },
    {
     "data": {
      "application/javascript": [
       "window.weight_plot_l0.setData([window.weights_l0]); window.weight_plot_l0.draw();"
      ],
      "text/plain": [
       "<IPython.core.display.Javascript object>"
      ]
     },
     "metadata": {},
     "output_type": "display_data"
    },
    {
     "data": {
      "application/javascript": [
       "window.weights_l1 = [[1, 0.2996797432256078], [2, -0.35178916990711556], [3, 0.1654609637702962], [4, 0.14138590052808642]]"
      ],
      "text/plain": [
       "<IPython.core.display.Javascript object>"
      ]
     },
     "metadata": {},
     "output_type": "display_data"
    },
    {
     "data": {
      "application/javascript": [
       "window.weight_plot_l1.setData([window.weights_l1]); window.weight_plot_l1.draw();"
      ],
      "text/plain": [
       "<IPython.core.display.Javascript object>"
      ]
     },
     "metadata": {},
     "output_type": "display_data"
    },
    {
     "data": {
      "application/javascript": [
       "window.outputs = [[1, 0.5102640053166082], [2, 0.4989013563662457], [3, 0.5022767644262801], [4, 0.4925674648387963]]"
      ],
      "text/plain": [
       "<IPython.core.display.Javascript object>"
      ]
     },
     "metadata": {},
     "output_type": "display_data"
    },
    {
     "data": {
      "application/javascript": [
       "window.output_plot.setData([window.outputs]); window.output_plot.draw();"
      ],
      "text/plain": [
       "<IPython.core.display.Javascript object>"
      ]
     },
     "metadata": {},
     "output_type": "display_data"
    },
    {
     "data": {
      "application/javascript": [
       "$('#avg-error').html(0.50008)"
      ],
      "text/plain": [
       "<IPython.core.display.Javascript object>"
      ]
     },
     "metadata": {},
     "output_type": "display_data"
    },
    {
     "data": {
      "application/javascript": [
       "$('#iteration').html(100)"
      ],
      "text/plain": [
       "<IPython.core.display.Javascript object>"
      ]
     },
     "metadata": {},
     "output_type": "display_data"
    },
    {
     "data": {
      "application/javascript": [
       "window.error.push([100,0.50008])"
      ],
      "text/plain": [
       "<IPython.core.display.Javascript object>"
      ]
     },
     "metadata": {},
     "output_type": "display_data"
    },
    {
     "data": {
      "application/javascript": [
       "window.plot.setData([window.error]); window.plot.draw();"
      ],
      "text/plain": [
       "<IPython.core.display.Javascript object>"
      ]
     },
     "metadata": {},
     "output_type": "display_data"
    },
    {
     "data": {
      "application/javascript": [
       "window.weights_l0 = [[1, -0.037506580853354655], [2, 0.2263541517316998], [3, -0.2740312242752714], [4, 0.06913643813821133], [5, 0.8031598817514883], [6, 0.6690849755971024], [7, -0.6775120250076905], [8, -0.5829138733396722], [9, -0.8879215646832115], [10, -0.21334633599346278], [11, -0.953744917278181], [12, -0.09533031492744769]]"
      ],
      "text/plain": [
       "<IPython.core.display.Javascript object>"
      ]
     },
     "metadata": {},
     "output_type": "display_data"
    },
    {
     "data": {
      "application/javascript": [
       "window.weight_plot_l0.setData([window.weights_l0]); window.weight_plot_l0.draw();"
      ],
      "text/plain": [
       "<IPython.core.display.Javascript object>"
      ]
     },
     "metadata": {},
     "output_type": "display_data"
    },
    {
     "data": {
      "application/javascript": [
       "window.weights_l1 = [[1, 0.3044871270669309], [2, -0.3122670388569553], [3, 0.03160135188587119], [4, 0.12746677641340734]]"
      ],
      "text/plain": [
       "<IPython.core.display.Javascript object>"
      ]
     },
     "metadata": {},
     "output_type": "display_data"
    },
    {
     "data": {
      "application/javascript": [
       "window.weight_plot_l1.setData([window.weights_l1]); window.weight_plot_l1.draw();"
      ],
      "text/plain": [
       "<IPython.core.display.Javascript object>"
      ]
     },
     "metadata": {},
     "output_type": "display_data"
    },
    {
     "data": {
      "application/javascript": [
       "window.outputs = [[1, 0.5047587577326285], [2, 0.5006548548114197], [3, 0.4998763799353411], [4, 0.49607840362513284]]"
      ],
      "text/plain": [
       "<IPython.core.display.Javascript object>"
      ]
     },
     "metadata": {},
     "output_type": "display_data"
    },
    {
     "data": {
      "application/javascript": [
       "window.output_plot.setData([window.outputs]); window.output_plot.draw();"
      ],
      "text/plain": [
       "<IPython.core.display.Javascript object>"
      ]
     },
     "metadata": {},
     "output_type": "display_data"
    },
    {
     "data": {
      "application/javascript": [
       "$('#avg-error').html(0.49981)"
      ],
      "text/plain": [
       "<IPython.core.display.Javascript object>"
      ]
     },
     "metadata": {},
     "output_type": "display_data"
    },
    {
     "data": {
      "application/javascript": [
       "$('#iteration').html(150)"
      ],
      "text/plain": [
       "<IPython.core.display.Javascript object>"
      ]
     },
     "metadata": {},
     "output_type": "display_data"
    },
    {
     "data": {
      "application/javascript": [
       "window.error.push([150,0.49981])"
      ],
      "text/plain": [
       "<IPython.core.display.Javascript object>"
      ]
     },
     "metadata": {},
     "output_type": "display_data"
    },
    {
     "data": {
      "application/javascript": [
       "window.plot.setData([window.error]); window.plot.draw();"
      ],
      "text/plain": [
       "<IPython.core.display.Javascript object>"
      ]
     },
     "metadata": {},
     "output_type": "display_data"
    },
    {
     "data": {
      "application/javascript": [
       "window.weights_l0 = [[1, -0.1306078499566388], [2, 0.17915887733262148], [3, -0.28412249730695355], [4, 0.087883328569806], [5, 0.8067640475720842], [6, 0.6453469854435492], [7, -0.6813558037208463], [8, -0.586975150526129], [9, -0.9000025739937819], [10, -0.24128391146403746], [11, -0.9534592811739707], [12, -0.09966123400729981]]"
      ],
      "text/plain": [
       "<IPython.core.display.Javascript object>"
      ]
     },
     "metadata": {},
     "output_type": "display_data"
    },
    {
     "data": {
      "application/javascript": [
       "window.weight_plot_l0.setData([window.weights_l0]); window.weight_plot_l0.draw();"
      ],
      "text/plain": [
       "<IPython.core.display.Javascript object>"
      ]
     },
     "metadata": {},
     "output_type": "display_data"
    },
    {
     "data": {
      "application/javascript": [
       "window.weights_l1 = [[1, 0.32665425008925214], [2, -0.2926399059646769], [3, -0.08395681703004171], [4, 0.13333850151807217]]"
      ],
      "text/plain": [
       "<IPython.core.display.Javascript object>"
      ]
     },
     "metadata": {},
     "output_type": "display_data"
    },
    {
     "data": {
      "application/javascript": [
       "window.weight_plot_l1.setData([window.weights_l1]); window.weight_plot_l1.draw();"
      ],
      "text/plain": [
       "<IPython.core.display.Javascript object>"
      ]
     },
     "metadata": {},
     "output_type": "display_data"
    },
    {
     "data": {
      "application/javascript": [
       "window.outputs = [[1, 0.5014713723458585], [2, 0.5027458366819753], [3, 0.49791856697993964], [4, 0.4984203122602143]]"
      ],
      "text/plain": [
       "<IPython.core.display.Javascript object>"
      ]
     },
     "metadata": {},
     "output_type": "display_data"
    },
    {
     "data": {
      "application/javascript": [
       "window.output_plot.setData([window.outputs]); window.output_plot.draw();"
      ],
      "text/plain": [
       "<IPython.core.display.Javascript object>"
      ]
     },
     "metadata": {},
     "output_type": "display_data"
    },
    {
     "data": {
      "application/javascript": [
       "$('#avg-error').html(0.49940)"
      ],
      "text/plain": [
       "<IPython.core.display.Javascript object>"
      ]
     },
     "metadata": {},
     "output_type": "display_data"
    },
    {
     "data": {
      "application/javascript": [
       "$('#iteration').html(200)"
      ],
      "text/plain": [
       "<IPython.core.display.Javascript object>"
      ]
     },
     "metadata": {},
     "output_type": "display_data"
    },
    {
     "data": {
      "application/javascript": [
       "window.error.push([200,0.49940])"
      ],
      "text/plain": [
       "<IPython.core.display.Javascript object>"
      ]
     },
     "metadata": {},
     "output_type": "display_data"
    },
    {
     "data": {
      "application/javascript": [
       "window.plot.setData([window.error]); window.plot.draw();"
      ],
      "text/plain": [
       "<IPython.core.display.Javascript object>"
      ]
     },
     "metadata": {},
     "output_type": "display_data"
    },
    {
     "data": {
      "application/javascript": [
       "window.weights_l0 = [[1, -0.25224102030175877], [2, 0.14452741805366634], [3, -0.3416398597370303], [4, 0.1079460639481572], [5, 0.8129967406070452], [6, 0.6326082430660268], [7, -0.7046248633786886], [8, -0.5944632869130106], [9, -0.9285763086493465], [10, -0.26290301272603384], [11, -0.9516990540902988], [12, -0.10522136996735568]]"
      ],
      "text/plain": [
       "<IPython.core.display.Javascript object>"
      ]
     },
     "metadata": {},
     "output_type": "display_data"
    },
    {
     "data": {
      "application/javascript": [
       "window.weight_plot_l0.setData([window.weights_l0]); window.weight_plot_l0.draw();"
      ],
      "text/plain": [
       "<IPython.core.display.Javascript object>"
      ]
     },
     "metadata": {},
     "output_type": "display_data"
    },
    {
     "data": {
      "application/javascript": [
       "window.weights_l1 = [[1, 0.37501469819361344], [2, -0.28947033036004244], [3, -0.2075857992970095], [4, 0.15204319328005192]]"
      ],
      "text/plain": [
       "<IPython.core.display.Javascript object>"
      ]
     },
     "metadata": {},
     "output_type": "display_data"
    },
    {
     "data": {
      "application/javascript": [
       "window.weight_plot_l1.setData([window.weights_l1]); window.weight_plot_l1.draw();"
      ],
      "text/plain": [
       "<IPython.core.display.Javascript object>"
      ]
     },
     "metadata": {},
     "output_type": "display_data"
    },
    {
     "data": {
      "application/javascript": [
       "window.outputs = [[1, 0.49870698278264936], [2, 0.5056009176375581], [3, 0.49588232952152816], [4, 0.5003693496431404]]"
      ],
      "text/plain": [
       "<IPython.core.display.Javascript object>"
      ]
     },
     "metadata": {},
     "output_type": "display_data"
    },
    {
     "data": {
      "application/javascript": [
       "window.output_plot.setData([window.outputs]); window.output_plot.draw();"
      ],
      "text/plain": [
       "<IPython.core.display.Javascript object>"
      ]
     },
     "metadata": {},
     "output_type": "display_data"
    },
    {
     "data": {
      "application/javascript": [
       "$('#avg-error').html(0.49850)"
      ],
      "text/plain": [
       "<IPython.core.display.Javascript object>"
      ]
     },
     "metadata": {},
     "output_type": "display_data"
    },
    {
     "data": {
      "application/javascript": [
       "$('#iteration').html(250)"
      ],
      "text/plain": [
       "<IPython.core.display.Javascript object>"
      ]
     },
     "metadata": {},
     "output_type": "display_data"
    },
    {
     "data": {
      "application/javascript": [
       "window.error.push([250,0.49850])"
      ],
      "text/plain": [
       "<IPython.core.display.Javascript object>"
      ]
     },
     "metadata": {},
     "output_type": "display_data"
    },
    {
     "data": {
      "application/javascript": [
       "window.plot.setData([window.error]); window.plot.draw();"
      ],
      "text/plain": [
       "<IPython.core.display.Javascript object>"
      ]
     },
     "metadata": {},
     "output_type": "display_data"
    },
    {
     "data": {
      "application/javascript": [
       "window.weights_l0 = [[1, -0.42390697735516064], [2, 0.11665191658318377], [3, -0.45811203889980656], [4, 0.13139694518787964], [5, 0.832641019603384], [6, 0.6288830518934647], [7, -0.7592487560700112], [8, -0.6075370994328125], [9, -0.9824000276878523], [10, -0.28033827460672867], [11, -0.9458879812043138], [12, -0.11317660637301237]]"
      ],
      "text/plain": [
       "<IPython.core.display.Javascript object>"
      ]
     },
     "metadata": {},
     "output_type": "display_data"
    },
    {
     "data": {
      "application/javascript": [
       "window.weight_plot_l0.setData([window.weights_l0]); window.weight_plot_l0.draw();"
      ],
      "text/plain": [
       "<IPython.core.display.Javascript object>"
      ]
     },
     "metadata": {},
     "output_type": "display_data"
    },
    {
     "data": {
      "application/javascript": [
       "window.weights_l1 = [[1, 0.468622515819615], [2, -0.3042620510196494], [3, -0.3662966309629025], [4, 0.1827775066357361]]"
      ],
      "text/plain": [
       "<IPython.core.display.Javascript object>"
      ]
     },
     "metadata": {},
     "output_type": "display_data"
    },
    {
     "data": {
      "application/javascript": [
       "window.weight_plot_l1.setData([window.weights_l1]); window.weight_plot_l1.draw();"
      ],
      "text/plain": [
       "<IPython.core.display.Javascript object>"
      ]
     },
     "metadata": {},
     "output_type": "display_data"
    },
    {
     "data": {
      "application/javascript": [
       "window.outputs = [[1, 0.4952086756763546], [2, 0.5103437145964169], [3, 0.493196150556847], [4, 0.5023211736697373]]"
      ],
      "text/plain": [
       "<IPython.core.display.Javascript object>"
      ]
     },
     "metadata": {},
     "output_type": "display_data"
    },
    {
     "data": {
      "application/javascript": [
       "window.output_plot.setData([window.outputs]); window.output_plot.draw();"
      ],
      "text/plain": [
       "<IPython.core.display.Javascript object>"
      ]
     },
     "metadata": {},
     "output_type": "display_data"
    },
    {
     "data": {
      "application/javascript": [
       "$('#avg-error').html(0.49604)"
      ],
      "text/plain": [
       "<IPython.core.display.Javascript object>"
      ]
     },
     "metadata": {},
     "output_type": "display_data"
    },
    {
     "data": {
      "application/javascript": [
       "$('#iteration').html(300)"
      ],
      "text/plain": [
       "<IPython.core.display.Javascript object>"
      ]
     },
     "metadata": {},
     "output_type": "display_data"
    },
    {
     "data": {
      "application/javascript": [
       "window.error.push([300,0.49604])"
      ],
      "text/plain": [
       "<IPython.core.display.Javascript object>"
      ]
     },
     "metadata": {},
     "output_type": "display_data"
    },
    {
     "data": {
      "application/javascript": [
       "window.plot.setData([window.error]); window.plot.draw();"
      ],
      "text/plain": [
       "<IPython.core.display.Javascript object>"
      ]
     },
     "metadata": {},
     "output_type": "display_data"
    },
    {
     "data": {
      "application/javascript": [
       "window.weights_l0 = [[1, -0.6873203526015523], [2, 0.09103795582963281], [3, -0.662968029953499], [4, 0.16133953333052078], [5, 0.8974595046638775], [6, 0.6370321924625475], [7, -0.8751320235271504], [8, -0.6313977355738121], [9, -1.076533961140534], [10, -0.29456886002319294], [11, -0.9238566143056526], [12, -0.1253689423660005]]"
      ],
      "text/plain": [
       "<IPython.core.display.Javascript object>"
      ]
     },
     "metadata": {},
     "output_type": "display_data"
    },
    {
     "data": {
      "application/javascript": [
       "window.weight_plot_l0.setData([window.weights_l0]); window.weight_plot_l0.draw();"
      ],
      "text/plain": [
       "<IPython.core.display.Javascript object>"
      ]
     },
     "metadata": {},
     "output_type": "display_data"
    },
    {
     "data": {
      "application/javascript": [
       "window.weights_l1 = [[1, 0.6464623484102244], [2, -0.3447990806046307], [3, -0.6010802037876473], [4, 0.23088164058448302]]"
      ],
      "text/plain": [
       "<IPython.core.display.Javascript object>"
      ]
     },
     "metadata": {},
     "output_type": "display_data"
    },
    {
     "data": {
      "application/javascript": [
       "window.weight_plot_l1.setData([window.weights_l1]); window.weight_plot_l1.draw();"
      ],
      "text/plain": [
       "<IPython.core.display.Javascript object>"
      ]
     },
     "metadata": {},
     "output_type": "display_data"
    },
    {
     "data": {
      "application/javascript": [
       "window.outputs = [[1, 0.4888201932745039], [2, 0.5199839314819346], [3, 0.48889043719285386], [4, 0.5042154237811459]]"
      ],
      "text/plain": [
       "<IPython.core.display.Javascript object>"
      ]
     },
     "metadata": {},
     "output_type": "display_data"
    },
    {
     "data": {
      "application/javascript": [
       "window.output_plot.setData([window.outputs]); window.output_plot.draw();"
      ],
      "text/plain": [
       "<IPython.core.display.Javascript object>"
      ]
     },
     "metadata": {},
     "output_type": "display_data"
    },
    {
     "data": {
      "application/javascript": [
       "$('#avg-error').html(0.48807)"
      ],
      "text/plain": [
       "<IPython.core.display.Javascript object>"
      ]
     },
     "metadata": {},
     "output_type": "display_data"
    },
    {
     "data": {
      "application/javascript": [
       "$('#iteration').html(350)"
      ],
      "text/plain": [
       "<IPython.core.display.Javascript object>"
      ]
     },
     "metadata": {},
     "output_type": "display_data"
    },
    {
     "data": {
      "application/javascript": [
       "window.error.push([350,0.48807])"
      ],
      "text/plain": [
       "<IPython.core.display.Javascript object>"
      ]
     },
     "metadata": {},
     "output_type": "display_data"
    },
    {
     "data": {
      "application/javascript": [
       "window.plot.setData([window.error]); window.plot.draw();"
      ],
      "text/plain": [
       "<IPython.core.display.Javascript object>"
      ]
     },
     "metadata": {},
     "output_type": "display_data"
    },
    {
     "data": {
      "application/javascript": [
       "window.weights_l0 = [[1, -1.1232403309957713], [2, 0.060456665031990875], [3, -1.0152210172134737], [4, 0.20578990849253032], [5, 1.0947929907209755], [6, 0.6715102263164878], [7, -1.1086311223889118], [8, -0.6811171557478043], [9, -1.2316304723845177], [10, -0.3050424692341939], [11, -0.8379180285303565], [12, -0.14543965281982946]]"
      ],
      "text/plain": [
       "<IPython.core.display.Javascript object>"
      ]
     },
     "metadata": {},
     "output_type": "display_data"
    },
    {
     "data": {
      "application/javascript": [
       "window.weight_plot_l0.setData([window.weights_l0]); window.weight_plot_l0.draw();"
      ],
      "text/plain": [
       "<IPython.core.display.Javascript object>"
      ]
     },
     "metadata": {},
     "output_type": "display_data"
    },
    {
     "data": {
      "application/javascript": [
       "window.weights_l1 = [[1, 0.9891570907540577], [2, -0.4338746500966326], [3, -0.9873882519632787], [4, 0.31702422044200185]]"
      ],
      "text/plain": [
       "<IPython.core.display.Javascript object>"
      ]
     },
     "metadata": {},
     "output_type": "display_data"
    },
    {
     "data": {
      "application/javascript": [
       "window.weight_plot_l1.setData([window.weights_l1]); window.weight_plot_l1.draw();"
      ],
      "text/plain": [
       "<IPython.core.display.Javascript object>"
      ]
     },
     "metadata": {},
     "output_type": "display_data"
    },
    {
     "data": {
      "application/javascript": [
       "window.outputs = [[1, 0.47261771369854066], [2, 0.5435590844145315], [3, 0.48137334848878677], [4, 0.5046088744876308]]"
      ],
      "text/plain": [
       "<IPython.core.display.Javascript object>"
      ]
     },
     "metadata": {},
     "output_type": "display_data"
    },
    {
     "data": {
      "application/javascript": [
       "window.output_plot.setData([window.outputs]); window.output_plot.draw();"
      ],
      "text/plain": [
       "<IPython.core.display.Javascript object>"
      ]
     },
     "metadata": {},
     "output_type": "display_data"
    },
    {
     "data": {
      "application/javascript": [
       "$('#avg-error').html(0.46003)"
      ],
      "text/plain": [
       "<IPython.core.display.Javascript object>"
      ]
     },
     "metadata": {},
     "output_type": "display_data"
    },
    {
     "data": {
      "application/javascript": [
       "$('#iteration').html(400)"
      ],
      "text/plain": [
       "<IPython.core.display.Javascript object>"
      ]
     },
     "metadata": {},
     "output_type": "display_data"
    },
    {
     "data": {
      "application/javascript": [
       "window.error.push([400,0.46003])"
      ],
      "text/plain": [
       "<IPython.core.display.Javascript object>"
      ]
     },
     "metadata": {},
     "output_type": "display_data"
    },
    {
     "data": {
      "application/javascript": [
       "window.plot.setData([window.error]); window.plot.draw();"
      ],
      "text/plain": [
       "<IPython.core.display.Javascript object>"
      ]
     },
     "metadata": {},
     "output_type": "display_data"
    },
    {
     "data": {
      "application/javascript": [
       "window.weights_l0 = [[1, -1.8591731330085617], [2, 0.0023708726294853107], [3, -1.6104660732291143], [4, 0.29426749427703563], [5, 1.5740555918995371], [6, 0.7940064890709224], [7, -1.5274010481839397], [8, -0.8158225246176297], [9, -1.4646687330175903], [10, -0.30927580411865574], [11, -0.5553117048243361], [12, -0.17972880801328897]]"
      ],
      "text/plain": [
       "<IPython.core.display.Javascript object>"
      ]
     },
     "metadata": {},
     "output_type": "display_data"
    },
    {
     "data": {
      "application/javascript": [
       "window.weight_plot_l0.setData([window.weights_l0]); window.weight_plot_l0.draw();"
      ],
      "text/plain": [
       "<IPython.core.display.Javascript object>"
      ]
     },
     "metadata": {},
     "output_type": "display_data"
    },
    {
     "data": {
      "application/javascript": [
       "window.weights_l1 = [[1, 1.6344327971683423], [2, -0.6380136709400784], [3, -1.642669551161913], [4, 0.5274442837296955]]"
      ],
      "text/plain": [
       "<IPython.core.display.Javascript object>"
      ]
     },
     "metadata": {},
     "output_type": "display_data"
    },
    {
     "data": {
      "application/javascript": [
       "window.weight_plot_l1.setData([window.weights_l1]); window.weight_plot_l1.draw();"
      ],
      "text/plain": [
       "<IPython.core.display.Javascript object>"
      ]
     },
     "metadata": {},
     "output_type": "display_data"
    },
    {
     "data": {
      "application/javascript": [
       "window.outputs = [[1, 0.42183767215487405], [2, 0.6035227303208914], [3, 0.4740226299139364], [4, 0.49584705824292624]]"
      ],
      "text/plain": [
       "<IPython.core.display.Javascript object>"
      ]
     },
     "metadata": {},
     "output_type": "display_data"
    },
    {
     "data": {
      "application/javascript": [
       "window.output_plot.setData([window.outputs]); window.output_plot.draw();"
      ],
      "text/plain": [
       "<IPython.core.display.Javascript object>"
      ]
     },
     "metadata": {},
     "output_type": "display_data"
    },
    {
     "data": {
      "application/javascript": [
       "$('#avg-error').html(0.38727)"
      ],
      "text/plain": [
       "<IPython.core.display.Javascript object>"
      ]
     },
     "metadata": {},
     "output_type": "display_data"
    },
    {
     "data": {
      "application/javascript": [
       "$('#iteration').html(450)"
      ],
      "text/plain": [
       "<IPython.core.display.Javascript object>"
      ]
     },
     "metadata": {},
     "output_type": "display_data"
    },
    {
     "data": {
      "application/javascript": [
       "window.error.push([450,0.38727])"
      ],
      "text/plain": [
       "<IPython.core.display.Javascript object>"
      ]
     },
     "metadata": {},
     "output_type": "display_data"
    },
    {
     "data": {
      "application/javascript": [
       "window.plot.setData([window.error]); window.plot.draw();"
      ],
      "text/plain": [
       "<IPython.core.display.Javascript object>"
      ]
     },
     "metadata": {},
     "output_type": "display_data"
    },
    {
     "data": {
      "application/javascript": [
       "window.weights_l0 = [[1, -2.8715582270327666], [2, -0.1426121893878815], [3, -2.4750698416754027], [4, 0.5379714782149924], [5, 2.2888387670859034], [6, 1.1971666242867578], [7, -2.1106886956102273], [8, -1.270186335305427], [9, -1.7350074836280516], [10, -0.3241975390891926], [11, -0.055879846850713434], [12, -0.21554401045576518]]"
      ],
      "text/plain": [
       "<IPython.core.display.Javascript object>"
      ]
     },
     "metadata": {},
     "output_type": "display_data"
    },
    {
     "data": {
      "application/javascript": [
       "window.weight_plot_l0.setData([window.weights_l0]); window.weight_plot_l0.draw();"
      ],
      "text/plain": [
       "<IPython.core.display.Javascript object>"
      ]
     },
     "metadata": {},
     "output_type": "display_data"
    },
    {
     "data": {
      "application/javascript": [
       "window.weights_l1 = [[1, 2.607492041734443], [2, -1.093317723004448], [3, -2.5483904110447235], [4, 1.16788192988959]]"
      ],
      "text/plain": [
       "<IPython.core.display.Javascript object>"
      ]
     },
     "metadata": {},
     "output_type": "display_data"
    },
    {
     "data": {
      "application/javascript": [
       "window.weight_plot_l1.setData([window.weights_l1]); window.weight_plot_l1.draw();"
      ],
      "text/plain": [
       "<IPython.core.display.Javascript object>"
      ]
     },
     "metadata": {},
     "output_type": "display_data"
    },
    {
     "data": {
      "application/javascript": [
       "window.outputs = [[1, 0.3154227870744121], [2, 0.6964448105544725], [3, 0.5211795716025139], [4, 0.45127279565540834]]"
      ],
      "text/plain": [
       "<IPython.core.display.Javascript object>"
      ]
     },
     "metadata": {},
     "output_type": "display_data"
    },
    {
     "data": {
      "application/javascript": [
       "window.output_plot.setData([window.outputs]); window.output_plot.draw();"
      ],
      "text/plain": [
       "<IPython.core.display.Javascript object>"
      ]
     },
     "metadata": {},
     "output_type": "display_data"
    },
    {
     "data": {
      "application/javascript": [
       "$('#avg-error').html(0.27540)"
      ],
      "text/plain": [
       "<IPython.core.display.Javascript object>"
      ]
     },
     "metadata": {},
     "output_type": "display_data"
    },
    {
     "data": {
      "application/javascript": [
       "$('#iteration').html(500)"
      ],
      "text/plain": [
       "<IPython.core.display.Javascript object>"
      ]
     },
     "metadata": {},
     "output_type": "display_data"
    },
    {
     "data": {
      "application/javascript": [
       "window.error.push([500,0.27540])"
      ],
      "text/plain": [
       "<IPython.core.display.Javascript object>"
      ]
     },
     "metadata": {},
     "output_type": "display_data"
    },
    {
     "data": {
      "application/javascript": [
       "window.plot.setData([window.error]); window.plot.draw();"
      ],
      "text/plain": [
       "<IPython.core.display.Javascript object>"
      ]
     },
     "metadata": {},
     "output_type": "display_data"
    },
    {
     "data": {
      "application/javascript": [
       "window.weights_l0 = [[1, -3.7921967196148394], [2, -0.3663544392167456], [3, -3.2292580633228387], [4, 1.0128539178306182], [5, 2.9978358407898384], [6, 1.8745282475880685], [7, -2.696699942648162], [8, -2.184995984622796], [9, -1.886868265930278], [10, -0.33383762666366096], [11, 0.3745816253135118], [12, -0.30275412350480324]]"
      ],
      "text/plain": [
       "<IPython.core.display.Javascript object>"
      ]
     },
     "metadata": {},
     "output_type": "display_data"
    },
    {
     "data": {
      "application/javascript": [
       "window.weight_plot_l0.setData([window.weights_l0]); window.weight_plot_l0.draw();"
      ],
      "text/plain": [
       "<IPython.core.display.Javascript object>"
      ]
     },
     "metadata": {},
     "output_type": "display_data"
    },
    {
     "data": {
      "application/javascript": [
       "window.weights_l1 = [[1, 3.7254810201832487], [2, -1.7932924188714583], [3, -3.388054011034945], [4, 2.271890521001258]]"
      ],
      "text/plain": [
       "<IPython.core.display.Javascript object>"
      ]
     },
     "metadata": {},
     "output_type": "display_data"
    },
    {
     "data": {
      "application/javascript": [
       "window.weight_plot_l1.setData([window.weights_l1]); window.weight_plot_l1.draw();"
      ],
      "text/plain": [
       "<IPython.core.display.Javascript object>"
      ]
     },
     "metadata": {},
     "output_type": "display_data"
    },
    {
     "data": {
      "application/javascript": [
       "window.outputs = [[1, 0.21587635893406062], [2, 0.7667131255845238], [3, 0.6773945224341892], [4, 0.32982453011953433]]"
      ],
      "text/plain": [
       "<IPython.core.display.Javascript object>"
      ]
     },
     "metadata": {},
     "output_type": "display_data"
    },
    {
     "data": {
      "application/javascript": [
       "window.output_plot.setData([window.outputs]); window.output_plot.draw();"
      ],
      "text/plain": [
       "<IPython.core.display.Javascript object>"
      ]
     },
     "metadata": {},
     "output_type": "display_data"
    },
    {
     "data": {
      "application/javascript": [
       "$('#avg-error').html(0.18489)"
      ],
      "text/plain": [
       "<IPython.core.display.Javascript object>"
      ]
     },
     "metadata": {},
     "output_type": "display_data"
    },
    {
     "data": {
      "application/javascript": [
       "$('#iteration').html(550)"
      ],
      "text/plain": [
       "<IPython.core.display.Javascript object>"
      ]
     },
     "metadata": {},
     "output_type": "display_data"
    },
    {
     "data": {
      "application/javascript": [
       "window.error.push([550,0.18489])"
      ],
      "text/plain": [
       "<IPython.core.display.Javascript object>"
      ]
     },
     "metadata": {},
     "output_type": "display_data"
    },
    {
     "data": {
      "application/javascript": [
       "window.plot.setData([window.error]); window.plot.draw();"
      ],
      "text/plain": [
       "<IPython.core.display.Javascript object>"
      ]
     },
     "metadata": {},
     "output_type": "display_data"
    },
    {
     "data": {
      "application/javascript": [
       "window.weights_l0 = [[1, -4.385552323929279], [2, -0.5509301515610046], [3, -3.628753869299206], [4, 1.4495601855868863], [5, 3.490317937849796], [6, 2.36625423116538], [7, -3.1153304316409622], [8, -2.9047641100720525], [9, -1.9633787604956747], [10, -0.2765200527813184], [11, 0.6277419338336522], [12, -0.48193301538087435]]"
      ],
      "text/plain": [
       "<IPython.core.display.Javascript object>"
      ]
     },
     "metadata": {},
     "output_type": "display_data"
    },
    {
     "data": {
      "application/javascript": [
       "window.weight_plot_l0.setData([window.weights_l0]); window.weight_plot_l0.draw();"
      ],
      "text/plain": [
       "<IPython.core.display.Javascript object>"
      ]
     },
     "metadata": {},
     "output_type": "display_data"
    },
    {
     "data": {
      "application/javascript": [
       "window.weights_l1 = [[1, 4.672771887295202], [2, -2.303954757381115], [3, -3.937106273250423], [4, 3.114494451301412]]"
      ],
      "text/plain": [
       "<IPython.core.display.Javascript object>"
      ]
     },
     "metadata": {},
     "output_type": "display_data"
    },
    {
     "data": {
      "application/javascript": [
       "window.weight_plot_l1.setData([window.weights_l1]); window.weight_plot_l1.draw();"
      ],
      "text/plain": [
       "<IPython.core.display.Javascript object>"
      ]
     },
     "metadata": {},
     "output_type": "display_data"
    },
    {
     "data": {
      "application/javascript": [
       "window.outputs = [[1, 0.14337727546714843], [2, 0.8293717716798426], [3, 0.7969912822579315], [4, 0.22255563173368145]]"
      ],
      "text/plain": [
       "<IPython.core.display.Javascript object>"
      ]
     },
     "metadata": {},
     "output_type": "display_data"
    },
    {
     "data": {
      "application/javascript": [
       "window.output_plot.setData([window.outputs]); window.output_plot.draw();"
      ],
      "text/plain": [
       "<IPython.core.display.Javascript object>"
      ]
     },
     "metadata": {},
     "output_type": "display_data"
    },
    {
     "data": {
      "application/javascript": [
       "$('#avg-error').html(0.13602)"
      ],
      "text/plain": [
       "<IPython.core.display.Javascript object>"
      ]
     },
     "metadata": {},
     "output_type": "display_data"
    },
    {
     "data": {
      "application/javascript": [
       "$('#iteration').html(600)"
      ],
      "text/plain": [
       "<IPython.core.display.Javascript object>"
      ]
     },
     "metadata": {},
     "output_type": "display_data"
    },
    {
     "data": {
      "application/javascript": [
       "window.error.push([600,0.13602])"
      ],
      "text/plain": [
       "<IPython.core.display.Javascript object>"
      ]
     },
     "metadata": {},
     "output_type": "display_data"
    },
    {
     "data": {
      "application/javascript": [
       "window.plot.setData([window.error]); window.plot.draw();"
      ],
      "text/plain": [
       "<IPython.core.display.Javascript object>"
      ]
     },
     "metadata": {},
     "output_type": "display_data"
    },
    {
     "data": {
      "application/javascript": [
       "window.weights_l0 = [[1, -4.734471191525638], [2, -0.6785584821284002], [3, -3.8317885130512117], [4, 1.735647730412346], [5, 3.7704773770987114], [6, 2.657494304561655], [7, -3.3636084374581077], [8, -3.319848281060357], [9, -2.015336409317263], [10, -0.21115454519897542], [11, 0.7529359834568836], [12, -0.6217066423625711]]"
      ],
      "text/plain": [
       "<IPython.core.display.Javascript object>"
      ]
     },
     "metadata": {},
     "output_type": "display_data"
    },
    {
     "data": {
      "application/javascript": [
       "window.weight_plot_l0.setData([window.weights_l0]); window.weight_plot_l0.draw();"
      ],
      "text/plain": [
       "<IPython.core.display.Javascript object>"
      ]
     },
     "metadata": {},
     "output_type": "display_data"
    },
    {
     "data": {
      "application/javascript": [
       "window.weights_l1 = [[1, 5.309772061338509], [2, -2.6134647365509895], [3, -4.247021059686878], [4, 3.6236302790461554]]"
      ],
      "text/plain": [
       "<IPython.core.display.Javascript object>"
      ]
     },
     "metadata": {},
     "output_type": "display_data"
    },
    {
     "data": {
      "application/javascript": [
       "window.weight_plot_l1.setData([window.weights_l1]); window.weight_plot_l1.draw();"
      ],
      "text/plain": [
       "<IPython.core.display.Javascript object>"
      ]
     },
     "metadata": {},
     "output_type": "display_data"
    },
    {
     "data": {
      "application/javascript": [
       "window.outputs = [[1, 0.10342238930530456], [2, 0.869318373495792], [3, 0.8556821524959896], [4, 0.165644016836617]]"
      ],
      "text/plain": [
       "<IPython.core.display.Javascript object>"
      ]
     },
     "metadata": {},
     "output_type": "display_data"
    },
    {
     "data": {
      "application/javascript": [
       "window.output_plot.setData([window.outputs]); window.output_plot.draw();"
      ],
      "text/plain": [
       "<IPython.core.display.Javascript object>"
      ]
     },
     "metadata": {},
     "output_type": "display_data"
    },
    {
     "data": {
      "application/javascript": [
       "$('#avg-error').html(0.10867)"
      ],
      "text/plain": [
       "<IPython.core.display.Javascript object>"
      ]
     },
     "metadata": {},
     "output_type": "display_data"
    },
    {
     "data": {
      "application/javascript": [
       "$('#iteration').html(650)"
      ],
      "text/plain": [
       "<IPython.core.display.Javascript object>"
      ]
     },
     "metadata": {},
     "output_type": "display_data"
    },
    {
     "data": {
      "application/javascript": [
       "window.error.push([650,0.10867])"
      ],
      "text/plain": [
       "<IPython.core.display.Javascript object>"
      ]
     },
     "metadata": {},
     "output_type": "display_data"
    },
    {
     "data": {
      "application/javascript": [
       "window.plot.setData([window.error]); window.plot.draw();"
      ],
      "text/plain": [
       "<IPython.core.display.Javascript object>"
      ]
     },
     "metadata": {},
     "output_type": "display_data"
    },
    {
     "data": {
      "application/javascript": [
       "window.weights_l0 = [[1, -4.959427372053754], [2, -0.7705630250813409], [3, -3.9518884134287036], [4, 1.9245998392516914], [5, 3.9452311371320734], [6, 2.8473012436842433], [7, -3.520868683790954], [8, -3.579355749175027], [9, -2.0506863762944385], [10, -0.1585555510438993], [11, 0.8229682050089263], [12, -0.717165773801519]]"
      ],
      "text/plain": [
       "<IPython.core.display.Javascript object>"
      ]
     },
     "metadata": {},
     "output_type": "display_data"
    },
    {
     "data": {
      "application/javascript": [
       "window.weight_plot_l0.setData([window.weights_l0]); window.weight_plot_l0.draw();"
      ],
      "text/plain": [
       "<IPython.core.display.Javascript object>"
      ]
     },
     "metadata": {},
     "output_type": "display_data"
    },
    {
     "data": {
      "application/javascript": [
       "window.weights_l1 = [[1, 5.749312889088615], [2, -2.8224345396620536], [3, -4.438113938930846], [4, 3.955779607077555]]"
      ],
      "text/plain": [
       "<IPython.core.display.Javascript object>"
      ]
     },
     "metadata": {},
     "output_type": "display_data"
    },
    {
     "data": {
      "application/javascript": [
       "window.weight_plot_l1.setData([window.weights_l1]); window.weight_plot_l1.draw();"
      ],
      "text/plain": [
       "<IPython.core.display.Javascript object>"
      ]
     },
     "metadata": {},
     "output_type": "display_data"
    },
    {
     "data": {
      "application/javascript": [
       "window.outputs = [[1, 0.08120890482880827], [2, 0.8932216533664967], [3, 0.8870208681753952], [4, 0.13370571472960266]]"
      ],
      "text/plain": [
       "<IPython.core.display.Javascript object>"
      ]
     },
     "metadata": {},
     "output_type": "display_data"
    },
    {
     "data": {
      "application/javascript": [
       "window.output_plot.setData([window.outputs]); window.output_plot.draw();"
      ],
      "text/plain": [
       "<IPython.core.display.Javascript object>"
      ]
     },
     "metadata": {},
     "output_type": "display_data"
    },
    {
     "data": {
      "application/javascript": [
       "$('#avg-error').html(0.09158)"
      ],
      "text/plain": [
       "<IPython.core.display.Javascript object>"
      ]
     },
     "metadata": {},
     "output_type": "display_data"
    },
    {
     "data": {
      "application/javascript": [
       "$('#iteration').html(700)"
      ],
      "text/plain": [
       "<IPython.core.display.Javascript object>"
      ]
     },
     "metadata": {},
     "output_type": "display_data"
    },
    {
     "data": {
      "application/javascript": [
       "window.error.push([700,0.09158])"
      ],
      "text/plain": [
       "<IPython.core.display.Javascript object>"
      ]
     },
     "metadata": {},
     "output_type": "display_data"
    },
    {
     "data": {
      "application/javascript": [
       "window.plot.setData([window.error]); window.plot.draw();"
      ],
      "text/plain": [
       "<IPython.core.display.Javascript object>"
      ]
     },
     "metadata": {},
     "output_type": "display_data"
    },
    {
     "data": {
      "application/javascript": [
       "window.weights_l0 = [[1, -5.119044305870764], [2, -0.8410387220971018], [3, -4.032497663601401], [4, 2.0590087465605516], [5, 4.066565377247588], [6, 2.9832695440638948], [7, -3.6304517457457663], [8, -3.7591828259035927], [9, -2.0761057792026665], [10, -0.11714101895321584], [11, 0.8679161548260543], [12, -0.7855214943407539]]"
      ],
      "text/plain": [
       "<IPython.core.display.Javascript object>"
      ]
     },
     "metadata": {},
     "output_type": "display_data"
    },
    {
     "data": {
      "application/javascript": [
       "window.weight_plot_l0.setData([window.weights_l0]); window.weight_plot_l0.draw();"
      ],
      "text/plain": [
       "<IPython.core.display.Javascript object>"
      ]
     },
     "metadata": {},
     "output_type": "display_data"
    },
    {
     "data": {
      "application/javascript": [
       "window.weights_l1 = [[1, 6.074831746031225], [2, -2.9769183437735927], [3, -4.5691188713463635], [4, 4.1931782730655645]]"
      ],
      "text/plain": [
       "<IPython.core.display.Javascript object>"
      ]
     },
     "metadata": {},
     "output_type": "display_data"
    },
    {
     "data": {
      "application/javascript": [
       "window.weight_plot_l1.setData([window.weights_l1]); window.weight_plot_l1.draw();"
      ],
      "text/plain": [
       "<IPython.core.display.Javascript object>"
      ]
     },
     "metadata": {},
     "output_type": "display_data"
    },
    {
     "data": {
      "application/javascript": [
       "window.outputs = [[1, 0.06748652258333131], [2, 0.9086848437131532], [3, 0.9060887260880133], [4, 0.11359109122439577]]"
      ],
      "text/plain": [
       "<IPython.core.display.Javascript object>"
      ]
     },
     "metadata": {},
     "output_type": "display_data"
    },
    {
     "data": {
      "application/javascript": [
       "window.output_plot.setData([window.outputs]); window.output_plot.draw();"
      ],
      "text/plain": [
       "<IPython.core.display.Javascript object>"
      ]
     },
     "metadata": {},
     "output_type": "display_data"
    },
    {
     "data": {
      "application/javascript": [
       "$('#avg-error').html(0.07990)"
      ],
      "text/plain": [
       "<IPython.core.display.Javascript object>"
      ]
     },
     "metadata": {},
     "output_type": "display_data"
    },
    {
     "data": {
      "application/javascript": [
       "$('#iteration').html(750)"
      ],
      "text/plain": [
       "<IPython.core.display.Javascript object>"
      ]
     },
     "metadata": {},
     "output_type": "display_data"
    },
    {
     "data": {
      "application/javascript": [
       "window.error.push([750,0.07990])"
      ],
      "text/plain": [
       "<IPython.core.display.Javascript object>"
      ]
     },
     "metadata": {},
     "output_type": "display_data"
    },
    {
     "data": {
      "application/javascript": [
       "window.plot.setData([window.error]); window.plot.draw();"
      ],
      "text/plain": [
       "<IPython.core.display.Javascript object>"
      ]
     },
     "metadata": {},
     "output_type": "display_data"
    },
    {
     "data": {
      "application/javascript": [
       "window.weights_l0 = [[1, -5.2403373040390875], [2, -0.8976237889175882], [3, -4.0913947209934785], [4, 2.1607942847102724], [5, 4.1574147347865535], [6, 3.087369722123255], [7, -3.7124611391146827], [8, -3.8933958119698455], [9, -2.0954457284642096], [10, -0.08372547480112084], [11, 0.899654430054252], [12, -0.8372769148040652]]"
      ],
      "text/plain": [
       "<IPython.core.display.Javascript object>"
      ]
     },
     "metadata": {},
     "output_type": "display_data"
    },
    {
     "data": {
      "application/javascript": [
       "window.weight_plot_l0.setData([window.weights_l0]); window.weight_plot_l0.draw();"
      ],
      "text/plain": [
       "<IPython.core.display.Javascript object>"
      ]
     },
     "metadata": {},
     "output_type": "display_data"
    },
    {
     "data": {
      "application/javascript": [
       "window.weights_l1 = [[1, 6.3298978705475974], [2, -3.098273990399405], [3, -4.666087894115055], [4, 4.374507150481193]]"
      ],
      "text/plain": [
       "<IPython.core.display.Javascript object>"
      ]
     },
     "metadata": {},
     "output_type": "display_data"
    },
    {
     "data": {
      "application/javascript": [
       "window.weight_plot_l1.setData([window.weights_l1]); window.weight_plot_l1.draw();"
      ],
      "text/plain": [
       "<IPython.core.display.Javascript object>"
      ]
     },
     "metadata": {},
     "output_type": "display_data"
    },
    {
     "data": {
      "application/javascript": [
       "window.outputs = [[1, 0.05821884756941524], [2, 0.9194754144072036], [3, 0.9188800895265153], [4, 0.09975125678557623]]"
      ],
      "text/plain": [
       "<IPython.core.display.Javascript object>"
      ]
     },
     "metadata": {},
     "output_type": "display_data"
    },
    {
     "data": {
      "application/javascript": [
       "window.output_plot.setData([window.outputs]); window.output_plot.draw();"
      ],
      "text/plain": [
       "<IPython.core.display.Javascript object>"
      ]
     },
     "metadata": {},
     "output_type": "display_data"
    },
    {
     "data": {
      "application/javascript": [
       "$('#avg-error').html(0.07140)"
      ],
      "text/plain": [
       "<IPython.core.display.Javascript object>"
      ]
     },
     "metadata": {},
     "output_type": "display_data"
    },
    {
     "data": {
      "application/javascript": [
       "$('#iteration').html(800)"
      ],
      "text/plain": [
       "<IPython.core.display.Javascript object>"
      ]
     },
     "metadata": {},
     "output_type": "display_data"
    },
    {
     "data": {
      "application/javascript": [
       "window.error.push([800,0.07140])"
      ],
      "text/plain": [
       "<IPython.core.display.Javascript object>"
      ]
     },
     "metadata": {},
     "output_type": "display_data"
    },
    {
     "data": {
      "application/javascript": [
       "window.plot.setData([window.error]); window.plot.draw();"
      ],
      "text/plain": [
       "<IPython.core.display.Javascript object>"
      ]
     },
     "metadata": {},
     "output_type": "display_data"
    },
    {
     "data": {
      "application/javascript": [
       "window.weights_l0 = [[1, -5.337047153177086], [2, -0.9446557758171328], [3, -4.136986034867862], [4, 2.241534113631548], [5, 4.229079526877944], [6, 3.1708648748366546], [7, -3.777023613719033], [8, -3.9989033376618384], [9, -2.1108259488451933], [10, -0.05601871384071161], [11, 0.9235726810329086], [12, -0.8782379827580471]]"
      ],
      "text/plain": [
       "<IPython.core.display.Javascript object>"
      ]
     },
     "metadata": {},
     "output_type": "display_data"
    },
    {
     "data": {
      "application/javascript": [
       "window.weight_plot_l0.setData([window.weights_l0]); window.weight_plot_l0.draw();"
      ],
      "text/plain": [
       "<IPython.core.display.Javascript object>"
      ]
     },
     "metadata": {},
     "output_type": "display_data"
    },
    {
     "data": {
      "application/javascript": [
       "window.weights_l1 = [[1, 6.53813548999264], [2, -3.197677099225689], [3, -4.7418188263299985], [4, 4.519657215917713]]"
      ],
      "text/plain": [
       "<IPython.core.display.Javascript object>"
      ]
     },
     "metadata": {},
     "output_type": "display_data"
    },
    {
     "data": {
      "application/javascript": [
       "window.weight_plot_l1.setData([window.weights_l1]); window.weight_plot_l1.draw();"
      ],
      "text/plain": [
       "<IPython.core.display.Javascript object>"
      ]
     },
     "metadata": {},
     "output_type": "display_data"
    },
    {
     "data": {
      "application/javascript": [
       "window.outputs = [[1, 0.05153364566392336], [2, 0.9274558823065264], [3, 0.9280769768142678], [4, 0.08960387323645723]]"
      ],
      "text/plain": [
       "<IPython.core.display.Javascript object>"
      ]
     },
     "metadata": {},
     "output_type": "display_data"
    },
    {
     "data": {
      "application/javascript": [
       "window.output_plot.setData([window.outputs]); window.output_plot.draw();"
      ],
      "text/plain": [
       "<IPython.core.display.Javascript object>"
      ]
     },
     "metadata": {},
     "output_type": "display_data"
    },
    {
     "data": {
      "application/javascript": [
       "$('#avg-error').html(0.06491)"
      ],
      "text/plain": [
       "<IPython.core.display.Javascript object>"
      ]
     },
     "metadata": {},
     "output_type": "display_data"
    },
    {
     "data": {
      "application/javascript": [
       "$('#iteration').html(850)"
      ],
      "text/plain": [
       "<IPython.core.display.Javascript object>"
      ]
     },
     "metadata": {},
     "output_type": "display_data"
    },
    {
     "data": {
      "application/javascript": [
       "window.error.push([850,0.06491])"
      ],
      "text/plain": [
       "<IPython.core.display.Javascript object>"
      ]
     },
     "metadata": {},
     "output_type": "display_data"
    },
    {
     "data": {
      "application/javascript": [
       "window.plot.setData([window.error]); window.plot.draw();"
      ],
      "text/plain": [
       "<IPython.core.display.Javascript object>"
      ]
     },
     "metadata": {},
     "output_type": "display_data"
    },
    {
     "data": {
      "application/javascript": [
       "window.weights_l0 = [[1, -5.416882541442401], [2, -0.9847716876222986], [3, -4.173753894860715], [4, 2.307822083867931], [5, 4.28775876111371], [6, 3.240123208504105], [7, -3.82975401457294], [8, -4.085006582853594], [9, -2.123474944155308], [10, -0.032503075774168735], [11, 0.942447335354895], [12, -0.9117688034607393]]"
      ],
      "text/plain": [
       "<IPython.core.display.Javascript object>"
      ]
     },
     "metadata": {},
     "output_type": "display_data"
    },
    {
     "data": {
      "application/javascript": [
       "window.weight_plot_l0.setData([window.weights_l0]); window.weight_plot_l0.draw();"
      ],
      "text/plain": [
       "<IPython.core.display.Javascript object>"
      ]
     },
     "metadata": {},
     "output_type": "display_data"
    },
    {
     "data": {
      "application/javascript": [
       "window.weights_l1 = [[1, 6.713357814622022], [2, -3.2815871350583943], [3, -4.803291479630659], [4, 4.639866314109305]]"
      ],
      "text/plain": [
       "<IPython.core.display.Javascript object>"
      ]
     },
     "metadata": {},
     "output_type": "display_data"
    },
    {
     "data": {
      "application/javascript": [
       "window.weight_plot_l1.setData([window.weights_l1]); window.weight_plot_l1.draw();"
      ],
      "text/plain": [
       "<IPython.core.display.Javascript object>"
      ]
     },
     "metadata": {},
     "output_type": "display_data"
    },
    {
     "data": {
      "application/javascript": [
       "window.outputs = [[1, 0.04647056386407451], [2, 0.9336220006988272], [3, 0.9350310958708689], [4, 0.08180949301927083]]"
      ],
      "text/plain": [
       "<IPython.core.display.Javascript object>"
      ]
     },
     "metadata": {},
     "output_type": "display_data"
    },
    {
     "data": {
      "application/javascript": [
       "window.output_plot.setData([window.outputs]); window.output_plot.draw();"
      ],
      "text/plain": [
       "<IPython.core.display.Javascript object>"
      ]
     },
     "metadata": {},
     "output_type": "display_data"
    },
    {
     "data": {
      "application/javascript": [
       "$('#avg-error').html(0.05977)"
      ],
      "text/plain": [
       "<IPython.core.display.Javascript object>"
      ]
     },
     "metadata": {},
     "output_type": "display_data"
    },
    {
     "data": {
      "application/javascript": [
       "$('#iteration').html(900)"
      ],
      "text/plain": [
       "<IPython.core.display.Javascript object>"
      ]
     },
     "metadata": {},
     "output_type": "display_data"
    },
    {
     "data": {
      "application/javascript": [
       "window.error.push([900,0.05977])"
      ],
      "text/plain": [
       "<IPython.core.display.Javascript object>"
      ]
     },
     "metadata": {},
     "output_type": "display_data"
    },
    {
     "data": {
      "application/javascript": [
       "window.plot.setData([window.error]); window.plot.draw();"
      ],
      "text/plain": [
       "<IPython.core.display.Javascript object>"
      ]
     },
     "metadata": {},
     "output_type": "display_data"
    },
    {
     "data": {
      "application/javascript": [
       "window.weights_l0 = [[1, -5.484523919542377], [2, -1.0196742547369235], [3, -4.20431768639172], [4, 2.363686091381022], [5, 4.337154551992635], [6, 3.2990375196920794], [7, -3.8740237347052138], [8, -4.157263583081059], [9, -2.1341494473356106], [10, -0.012160483329000521], [11, 0.9578556476508214], [12, -0.9399396841798875]]"
      ],
      "text/plain": [
       "<IPython.core.display.Javascript object>"
      ]
     },
     "metadata": {},
     "output_type": "display_data"
    },
    {
     "data": {
      "application/javascript": [
       "window.weight_plot_l0.setData([window.weights_l0]); window.weight_plot_l0.draw();"
      ],
      "text/plain": [
       "<IPython.core.display.Javascript object>"
      ]
     },
     "metadata": {},
     "output_type": "display_data"
    },
    {
     "data": {
      "application/javascript": [
       "window.weights_l1 = [[1, 6.864208558020309], [2, -3.3540334747303984], [3, -4.854647394209875], [4, 4.741991888011756]]"
      ],
      "text/plain": [
       "<IPython.core.display.Javascript object>"
      ]
     },
     "metadata": {},
     "output_type": "display_data"
    },
    {
     "data": {
      "application/javascript": [
       "window.weight_plot_l1.setData([window.weights_l1]); window.weight_plot_l1.draw();"
      ],
      "text/plain": [
       "<IPython.core.display.Javascript object>"
      ]
     },
     "metadata": {},
     "output_type": "display_data"
    },
    {
     "data": {
      "application/javascript": [
       "window.outputs = [[1, 0.042491798947441435], [2, 0.9385485392386772], [3, 0.9404919258416248], [4, 0.07560868851398203]]"
      ],
      "text/plain": [
       "<IPython.core.display.Javascript object>"
      ]
     },
     "metadata": {},
     "output_type": "display_data"
    },
    {
     "data": {
      "application/javascript": [
       "window.output_plot.setData([window.outputs]); window.output_plot.draw();"
      ],
      "text/plain": [
       "<IPython.core.display.Javascript object>"
      ]
     },
     "metadata": {},
     "output_type": "display_data"
    },
    {
     "data": {
      "application/javascript": [
       "$('#avg-error').html(0.05558)"
      ],
      "text/plain": [
       "<IPython.core.display.Javascript object>"
      ]
     },
     "metadata": {},
     "output_type": "display_data"
    },
    {
     "data": {
      "application/javascript": [
       "$('#iteration').html(950)"
      ],
      "text/plain": [
       "<IPython.core.display.Javascript object>"
      ]
     },
     "metadata": {},
     "output_type": "display_data"
    },
    {
     "data": {
      "application/javascript": [
       "window.error.push([950,0.05558])"
      ],
      "text/plain": [
       "<IPython.core.display.Javascript object>"
      ]
     },
     "metadata": {},
     "output_type": "display_data"
    },
    {
     "data": {
      "application/javascript": [
       "window.plot.setData([window.error]); window.plot.draw();"
      ],
      "text/plain": [
       "<IPython.core.display.Javascript object>"
      ]
     },
     "metadata": {},
     "output_type": "display_data"
    },
    {
     "data": {
      "application/javascript": [
       "window.weights_l0 = [[1, -5.542995624496194], [2, -1.0505189046131969], [3, -4.230319547627191], [4, 2.4117337626877546], [5, 4.379628818969721], [6, 3.3501376776513516], [7, -3.9119894763675216], [8, -4.219218570470169], [9, -2.143341491489014], [10, 0.0057125374491454935], [11, 0.9707634529019566], [12, -0.9640952504705795]]"
      ],
      "text/plain": [
       "<IPython.core.display.Javascript object>"
      ]
     },
     "metadata": {},
     "output_type": "display_data"
    },
    {
     "data": {
      "application/javascript": [
       "window.weight_plot_l0.setData([window.weights_l0]); window.weight_plot_l0.draw();"
      ],
      "text/plain": [
       "<IPython.core.display.Javascript object>"
      ]
     },
     "metadata": {},
     "output_type": "display_data"
    },
    {
     "data": {
      "application/javascript": [
       "window.weights_l1 = [[1, 6.996406196744178], [2, -3.417682262673129], [3, -4.8985120278308845], [4, 4.8304818358176345]]"
      ],
      "text/plain": [
       "<IPython.core.display.Javascript object>"
      ]
     },
     "metadata": {},
     "output_type": "display_data"
    },
    {
     "data": {
      "application/javascript": [
       "window.weight_plot_l1.setData([window.weights_l1]); window.weight_plot_l1.draw();"
      ],
      "text/plain": [
       "<IPython.core.display.Javascript object>"
      ]
     },
     "metadata": {},
     "output_type": "display_data"
    },
    {
     "data": {
      "application/javascript": [
       "window.outputs = [[1, 0.039274041174294616], [2, 0.9425893121646072], [3, 0.9449072741579021], [4, 0.0705394657599911]]"
      ],
      "text/plain": [
       "<IPython.core.display.Javascript object>"
      ]
     },
     "metadata": {},
     "output_type": "display_data"
    },
    {
     "data": {
      "application/javascript": [
       "window.output_plot.setData([window.outputs]); window.output_plot.draw();"
      ],
      "text/plain": [
       "<IPython.core.display.Javascript object>"
      ]
     },
     "metadata": {},
     "output_type": "display_data"
    },
    {
     "data": {
      "application/javascript": [
       "$('#avg-error').html(0.05210)"
      ],
      "text/plain": [
       "<IPython.core.display.Javascript object>"
      ]
     },
     "metadata": {},
     "output_type": "display_data"
    },
    {
     "data": {
      "application/javascript": [
       "$('#iteration').html(1000)"
      ],
      "text/plain": [
       "<IPython.core.display.Javascript object>"
      ]
     },
     "metadata": {},
     "output_type": "display_data"
    },
    {
     "data": {
      "application/javascript": [
       "window.error.push([1000,0.05210])"
      ],
      "text/plain": [
       "<IPython.core.display.Javascript object>"
      ]
     },
     "metadata": {},
     "output_type": "display_data"
    },
    {
     "data": {
      "application/javascript": [
       "window.plot.setData([window.error]); window.plot.draw();"
      ],
      "text/plain": [
       "<IPython.core.display.Javascript object>"
      ]
     },
     "metadata": {},
     "output_type": "display_data"
    },
    {
     "data": {
      "application/javascript": [
       "window.weights_l0 = [[1, -5.594350963118846], [2, -1.0781221608369782], [3, -4.252847097407483], [4, 2.453735132341761], [5, 4.4167689456059485], [6, 3.395149715815206], [7, -3.9451024080671857], [8, -4.273251029867606], [9, -2.151385862461311], [10, 0.02161735842986065], [11, 0.9817978487669081], [12, -0.9851492866799845]]"
      ],
      "text/plain": [
       "<IPython.core.display.Javascript object>"
      ]
     },
     "metadata": {},
     "output_type": "display_data"
    },
    {
     "data": {
      "application/javascript": [
       "window.weight_plot_l0.setData([window.weights_l0]); window.weight_plot_l0.draw();"
      ],
      "text/plain": [
       "<IPython.core.display.Javascript object>"
      ]
     },
     "metadata": {},
     "output_type": "display_data"
    },
    {
     "data": {
      "application/javascript": [
       "window.weights_l1 = [[1, 7.113908704677729], [2, -3.474381623292402], [3, -4.936639242893258], [4, 4.908365122623252]]"
      ],
      "text/plain": [
       "<IPython.core.display.Javascript object>"
      ]
     },
     "metadata": {},
     "output_type": "display_data"
    },
    {
     "data": {
      "application/javascript": [
       "window.weight_plot_l1.setData([window.weights_l1]); window.weight_plot_l1.draw();"
      ],
      "text/plain": [
       "<IPython.core.display.Javascript object>"
      ]
     },
     "metadata": {},
     "output_type": "display_data"
    },
    {
     "data": {
      "application/javascript": [
       "window.outputs = [[1, 0.036611526727908614], [2, 0.9459738962617691], [3, 0.948560996858549], [4, 0.06630455826318826]]"
      ],
      "text/plain": [
       "<IPython.core.display.Javascript object>"
      ]
     },
     "metadata": {},
     "output_type": "display_data"
    },
    {
     "data": {
      "application/javascript": [
       "window.output_plot.setData([window.outputs]); window.output_plot.draw();"
      ],
      "text/plain": [
       "<IPython.core.display.Javascript object>"
      ]
     },
     "metadata": {},
     "output_type": "display_data"
    },
    {
     "data": {
      "application/javascript": [
       "$('#avg-error').html(0.04914)"
      ],
      "text/plain": [
       "<IPython.core.display.Javascript object>"
      ]
     },
     "metadata": {},
     "output_type": "display_data"
    },
    {
     "data": {
      "application/javascript": [
       "$('#iteration').html(1050)"
      ],
      "text/plain": [
       "<IPython.core.display.Javascript object>"
      ]
     },
     "metadata": {},
     "output_type": "display_data"
    },
    {
     "data": {
      "application/javascript": [
       "window.error.push([1050,0.04914])"
      ],
      "text/plain": [
       "<IPython.core.display.Javascript object>"
      ]
     },
     "metadata": {},
     "output_type": "display_data"
    },
    {
     "data": {
      "application/javascript": [
       "window.plot.setData([window.error]); window.plot.draw();"
      ],
      "text/plain": [
       "<IPython.core.display.Javascript object>"
      ]
     },
     "metadata": {},
     "output_type": "display_data"
    },
    {
     "data": {
      "application/javascript": [
       "window.weights_l0 = [[1, -5.640040786413387], [2, -1.1030806720142676], [3, -4.272653000799723], [4, 2.4909392471765446], [5, 4.449687273811089], [6, 3.4352983992092665], [7, -3.9743797169176336], [8, -4.321026134255188], [9, -2.15851912984415], [10, 0.03592159714006946], [11, 0.9913854486456166], [12, -1.003746662935783]]"
      ],
      "text/plain": [
       "<IPython.core.display.Javascript object>"
      ]
     },
     "metadata": {},
     "output_type": "display_data"
    },
    {
     "data": {
      "application/javascript": [
       "window.weight_plot_l0.setData([window.weights_l0]); window.weight_plot_l0.draw();"
      ],
      "text/plain": [
       "<IPython.core.display.Javascript object>"
      ]
     },
     "metadata": {},
     "output_type": "display_data"
    },
    {
     "data": {
      "application/javascript": [
       "window.weights_l1 = [[1, 7.219558578137416], [2, -3.5254615469012913], [3, -4.970251122815167], [4, 4.977787358896301]]"
      ],
      "text/plain": [
       "<IPython.core.display.Javascript object>"
      ]
     },
     "metadata": {},
     "output_type": "display_data"
    },
    {
     "data": {
      "application/javascript": [
       "window.weight_plot_l1.setData([window.weights_l1]); window.weight_plot_l1.draw();"
      ],
      "text/plain": [
       "<IPython.core.display.Javascript object>"
      ]
     },
     "metadata": {},
     "output_type": "display_data"
    },
    {
     "data": {
      "application/javascript": [
       "window.outputs = [[1, 0.03436709644734887], [2, 0.9488578373402624], [3, 0.9516417919782156], [4, 0.06270381927633627]]"
      ],
      "text/plain": [
       "<IPython.core.display.Javascript object>"
      ]
     },
     "metadata": {},
     "output_type": "display_data"
    },
    {
     "data": {
      "application/javascript": [
       "window.output_plot.setData([window.outputs]); window.output_plot.draw();"
      ],
      "text/plain": [
       "<IPython.core.display.Javascript object>"
      ]
     },
     "metadata": {},
     "output_type": "display_data"
    },
    {
     "data": {
      "application/javascript": [
       "$('#avg-error').html(0.04660)"
      ],
      "text/plain": [
       "<IPython.core.display.Javascript object>"
      ]
     },
     "metadata": {},
     "output_type": "display_data"
    },
    {
     "data": {
      "application/javascript": [
       "$('#iteration').html(1100)"
      ],
      "text/plain": [
       "<IPython.core.display.Javascript object>"
      ]
     },
     "metadata": {},
     "output_type": "display_data"
    },
    {
     "data": {
      "application/javascript": [
       "window.error.push([1100,0.04660])"
      ],
      "text/plain": [
       "<IPython.core.display.Javascript object>"
      ]
     },
     "metadata": {},
     "output_type": "display_data"
    },
    {
     "data": {
      "application/javascript": [
       "window.plot.setData([window.error]); window.plot.draw();"
      ],
      "text/plain": [
       "<IPython.core.display.Javascript object>"
      ]
     },
     "metadata": {},
     "output_type": "display_data"
    },
    {
     "data": {
      "application/javascript": [
       "window.weights_l0 = [[1, -5.681124424196752], [2, -1.1258427421615487], [3, -4.29027708124406], [4, 2.5242563388107326], [5, 4.479190330210574], [6, 3.4714812841401037], [7, -4.000558752840403], [8, -4.363749472992608], [9, -2.1649138323831325], [10, 0.04890163707348084], [11, 0.9998276952912586], [12, -1.020357069640797]]"
      ],
      "text/plain": [
       "<IPython.core.display.Javascript object>"
      ]
     },
     "metadata": {},
     "output_type": "display_data"
    },
    {
     "data": {
      "application/javascript": [
       "window.weight_plot_l0.setData([window.weights_l0]); window.weight_plot_l0.draw();"
      ],
      "text/plain": [
       "<IPython.core.display.Javascript object>"
      ]
     },
     "metadata": {},
     "output_type": "display_data"
    },
    {
     "data": {
      "application/javascript": [
       "window.weights_l1 = [[1, 7.315460556085144], [2, -3.571909025043856], [3, -5.000229132502889], [4, 5.040318486203963]]"
      ],
      "text/plain": [
       "<IPython.core.display.Javascript object>"
      ]
     },
     "metadata": {},
     "output_type": "display_data"
    },
    {
     "data": {
      "application/javascript": [
       "window.weight_plot_l1.setData([window.weights_l1]); window.weight_plot_l1.draw();"
      ],
      "text/plain": [
       "<IPython.core.display.Javascript object>"
      ]
     },
     "metadata": {},
     "output_type": "display_data"
    },
    {
     "data": {
      "application/javascript": [
       "window.outputs = [[1, 0.03244576847508377], [2, 0.9513503712511788], [3, 0.9542800826898326], [4, 0.05959737724232088]]"
      ],
      "text/plain": [
       "<IPython.core.display.Javascript object>"
      ]
     },
     "metadata": {},
     "output_type": "display_data"
    },
    {
     "data": {
      "application/javascript": [
       "window.output_plot.setData([window.outputs]); window.output_plot.draw();"
      ],
      "text/plain": [
       "<IPython.core.display.Javascript object>"
      ]
     },
     "metadata": {},
     "output_type": "display_data"
    },
    {
     "data": {
      "application/javascript": [
       "$('#avg-error').html(0.04439)"
      ],
      "text/plain": [
       "<IPython.core.display.Javascript object>"
      ]
     },
     "metadata": {},
     "output_type": "display_data"
    },
    {
     "data": {
      "application/javascript": [
       "$('#iteration').html(1150)"
      ],
      "text/plain": [
       "<IPython.core.display.Javascript object>"
      ]
     },
     "metadata": {},
     "output_type": "display_data"
    },
    {
     "data": {
      "application/javascript": [
       "window.error.push([1150,0.04439])"
      ],
      "text/plain": [
       "<IPython.core.display.Javascript object>"
      ]
     },
     "metadata": {},
     "output_type": "display_data"
    },
    {
     "data": {
      "application/javascript": [
       "window.plot.setData([window.error]); window.plot.draw();"
      ],
      "text/plain": [
       "<IPython.core.display.Javascript object>"
      ]
     },
     "metadata": {},
     "output_type": "display_data"
    },
    {
     "data": {
      "application/javascript": [
       "window.weights_l0 = [[1, -5.718396769741405], [2, -1.1467532256824151], [3, -4.306118149322636], [4, 2.554367887094515], [5, 4.505879720686603], [6, 3.504374066029047], [7, -4.024189199978755], [8, -4.40231894564767], [9, -2.1706992133633496], [10, 0.06076986669396968], [11, 1.0073443720170439], [12, -1.0353318457485028]]"
      ],
      "text/plain": [
       "<IPython.core.display.Javascript object>"
      ]
     },
     "metadata": {},
     "output_type": "display_data"
    },
    {
     "data": {
      "application/javascript": [
       "window.weight_plot_l0.setData([window.weights_l0]); window.weight_plot_l0.draw();"
      ],
      "text/plain": [
       "<IPython.core.display.Javascript object>"
      ]
     },
     "metadata": {},
     "output_type": "display_data"
    },
    {
     "data": {
      "application/javascript": [
       "window.weights_l1 = [[1, 7.403213544436911], [2, -3.6144755199551195], [3, -5.0272275852071475], [4, 5.097138726359452]]"
      ],
      "text/plain": [
       "<IPython.core.display.Javascript object>"
      ]
     },
     "metadata": {},
     "output_type": "display_data"
    },
    {
     "data": {
      "application/javascript": [
       "window.weight_plot_l1.setData([window.weights_l1]); window.weight_plot_l1.draw();"
      ],
      "text/plain": [
       "<IPython.core.display.Javascript object>"
      ]
     },
     "metadata": {},
     "output_type": "display_data"
    },
    {
     "data": {
      "application/javascript": [
       "window.outputs = [[1, 0.030779640002572013], [2, 0.9535305562927072], [3, 0.9565689829383065], [4, 0.056884399248149566]]"
      ],
      "text/plain": [
       "<IPython.core.display.Javascript object>"
      ]
     },
     "metadata": {},
     "output_type": "display_data"
    },
    {
     "data": {
      "application/javascript": [
       "window.output_plot.setData([window.outputs]); window.output_plot.draw();"
      ],
      "text/plain": [
       "<IPython.core.display.Javascript object>"
      ]
     },
     "metadata": {},
     "output_type": "display_data"
    },
    {
     "data": {
      "application/javascript": [
       "$('#avg-error').html(0.04244)"
      ],
      "text/plain": [
       "<IPython.core.display.Javascript object>"
      ]
     },
     "metadata": {},
     "output_type": "display_data"
    },
    {
     "data": {
      "application/javascript": [
       "$('#iteration').html(1200)"
      ],
      "text/plain": [
       "<IPython.core.display.Javascript object>"
      ]
     },
     "metadata": {},
     "output_type": "display_data"
    },
    {
     "data": {
      "application/javascript": [
       "window.error.push([1200,0.04244])"
      ],
      "text/plain": [
       "<IPython.core.display.Javascript object>"
      ]
     },
     "metadata": {},
     "output_type": "display_data"
    },
    {
     "data": {
      "application/javascript": [
       "window.plot.setData([window.error]); window.plot.draw();"
      ],
      "text/plain": [
       "<IPython.core.display.Javascript object>"
      ]
     },
     "metadata": {},
     "output_type": "display_data"
    },
    {
     "data": {
      "application/javascript": [
       "window.weights_l0 = [[1, -5.7524682241845015], [2, -1.1660827725018497], [3, -4.320478270759207], [4, 2.5817959415110123], [5, 4.530215045112683], [6, 3.5344971179158224], [7, -4.045690657854859], [8, -4.437419451005555], [9, -2.1759743129149425], [10, 0.07169264428961945], [11, 1.014099998118815], [12, -1.0489398411939896]]"
      ],
      "text/plain": [
       "<IPython.core.display.Javascript object>"
      ]
     },
     "metadata": {},
     "output_type": "display_data"
    },
    {
     "data": {
      "application/javascript": [
       "window.weight_plot_l0.setData([window.weights_l0]); window.weight_plot_l0.draw();"
      ],
      "text/plain": [
       "<IPython.core.display.Javascript object>"
      ]
     },
     "metadata": {},
     "output_type": "display_data"
    },
    {
     "data": {
      "application/javascript": [
       "window.weights_l1 = [[1, 7.484058878528666], [2, -3.653745701357088], [3, -5.051744091742569], [4, 5.149155856261792]]"
      ],
      "text/plain": [
       "<IPython.core.display.Javascript object>"
      ]
     },
     "metadata": {},
     "output_type": "display_data"
    },
    {
     "data": {
      "application/javascript": [
       "window.weight_plot_l1.setData([window.weights_l1]); window.weight_plot_l1.draw();"
      ],
      "text/plain": [
       "<IPython.core.display.Javascript object>"
      ]
     },
     "metadata": {},
     "output_type": "display_data"
    },
    {
     "data": {
      "application/javascript": [
       "window.outputs = [[1, 0.029318841371948737], [2, 0.9554570918338557], [3, 0.9585768122700999], [4, 0.05449026113351594]]"
      ],
      "text/plain": [
       "<IPython.core.display.Javascript object>"
      ]
     },
     "metadata": {},
     "output_type": "display_data"
    },
    {
     "data": {
      "application/javascript": [
       "window.output_plot.setData([window.outputs]); window.output_plot.draw();"
      ],
      "text/plain": [
       "<IPython.core.display.Javascript object>"
      ]
     },
     "metadata": {},
     "output_type": "display_data"
    },
    {
     "data": {
      "application/javascript": [
       "$('#avg-error').html(0.04071)"
      ],
      "text/plain": [
       "<IPython.core.display.Javascript object>"
      ]
     },
     "metadata": {},
     "output_type": "display_data"
    },
    {
     "data": {
      "application/javascript": [
       "$('#iteration').html(1250)"
      ],
      "text/plain": [
       "<IPython.core.display.Javascript object>"
      ]
     },
     "metadata": {},
     "output_type": "display_data"
    },
    {
     "data": {
      "application/javascript": [
       "window.error.push([1250,0.04071])"
      ],
      "text/plain": [
       "<IPython.core.display.Javascript object>"
      ]
     },
     "metadata": {},
     "output_type": "display_data"
    },
    {
     "data": {
      "application/javascript": [
       "window.plot.setData([window.error]); window.plot.draw();"
      ],
      "text/plain": [
       "<IPython.core.display.Javascript object>"
      ]
     },
     "metadata": {},
     "output_type": "display_data"
    },
    {
     "data": {
      "application/javascript": [
       "window.weights_l0 = [[1, -5.783816864547014], [2, -1.184047498470999], [3, -4.333591142848359], [4, 2.6069483670508933], [5, 4.552554646361134], [6, 3.562259066648455], [7, -4.0653899773920195], [8, -4.4695841811771055], [9, -2.180816527004757], [10, 0.08180247174311132], [11, 1.0202205129074458], [12, -1.0613908481633179]]"
      ],
      "text/plain": [
       "<IPython.core.display.Javascript object>"
      ]
     },
     "metadata": {},
     "output_type": "display_data"
    },
    {
     "data": {
      "application/javascript": [
       "window.weight_plot_l0.setData([window.weights_l0]); window.weight_plot_l0.draw();"
      ],
      "text/plain": [
       "<IPython.core.display.Javascript object>"
      ]
     },
     "metadata": {},
     "output_type": "display_data"
    },
    {
     "data": {
      "application/javascript": [
       "window.weights_l1 = [[1, 7.558978432504417], [2, -3.6901829817652487], [3, -5.074165000457436], [4, 5.197081903510802]]"
      ],
      "text/plain": [
       "<IPython.core.display.Javascript object>"
      ]
     },
     "metadata": {},
     "output_type": "display_data"
    },
    {
     "data": {
      "application/javascript": [
       "window.weight_plot_l1.setData([window.weights_l1]); window.weight_plot_l1.draw();"
      ],
      "text/plain": [
       "<IPython.core.display.Javascript object>"
      ]
     },
     "metadata": {},
     "output_type": "display_data"
    },
    {
     "data": {
      "application/javascript": [
       "window.outputs = [[1, 0.028025892561234604], [2, 0.957174528138028], [3, 0.9603548818023587], [4, 0.0523584807028717]]"
      ],
      "text/plain": [
       "<IPython.core.display.Javascript object>"
      ]
     },
     "metadata": {},
     "output_type": "display_data"
    },
    {
     "data": {
      "application/javascript": [
       "window.output_plot.setData([window.outputs]); window.output_plot.draw();"
      ],
      "text/plain": [
       "<IPython.core.display.Javascript object>"
      ]
     },
     "metadata": {},
     "output_type": "display_data"
    },
    {
     "data": {
      "application/javascript": [
       "$('#avg-error').html(0.03916)"
      ],
      "text/plain": [
       "<IPython.core.display.Javascript object>"
      ]
     },
     "metadata": {},
     "output_type": "display_data"
    },
    {
     "data": {
      "application/javascript": [
       "$('#iteration').html(1300)"
      ],
      "text/plain": [
       "<IPython.core.display.Javascript object>"
      ]
     },
     "metadata": {},
     "output_type": "display_data"
    },
    {
     "data": {
      "application/javascript": [
       "window.error.push([1300,0.03916])"
      ],
      "text/plain": [
       "<IPython.core.display.Javascript object>"
      ]
     },
     "metadata": {},
     "output_type": "display_data"
    },
    {
     "data": {
      "application/javascript": [
       "window.plot.setData([window.error]); window.plot.draw();"
      ],
      "text/plain": [
       "<IPython.core.display.Javascript object>"
      ]
     },
     "metadata": {},
     "output_type": "display_data"
    },
    {
     "data": {
      "application/javascript": [
       "window.weights_l0 = [[1, -5.812823574071235], [2, -1.200822588294331], [3, -4.345640904957479], [4, 2.6301493000393394], [5, 4.573182873641977], [6, 3.5879862320836087], [7, -4.083546255948182], [8, -4.499235600283938], [9, -2.1852873746507426], [10, 0.09120644980676582], [11, 1.0258041971467902], [12, -1.0728513796977468]]"
      ],
      "text/plain": [
       "<IPython.core.display.Javascript object>"
      ]
     },
     "metadata": {},
     "output_type": "display_data"
    },
    {
     "data": {
      "application/javascript": [
       "window.weight_plot_l0.setData([window.weights_l0]); window.weight_plot_l0.draw();"
      ],
      "text/plain": [
       "<IPython.core.display.Javascript object>"
      ]
     },
     "metadata": {},
     "output_type": "display_data"
    },
    {
     "data": {
      "application/javascript": [
       "window.weights_l1 = [[1, 7.628761505203972], [2, -3.7241606042397697], [3, -5.094795678956598], [4, 5.241484891808869]]"
      ],
      "text/plain": [
       "<IPython.core.display.Javascript object>"
      ]
     },
     "metadata": {},
     "output_type": "display_data"
    },
    {
     "data": {
      "application/javascript": [
       "window.weight_plot_l1.setData([window.weights_l1]); window.weight_plot_l1.draw();"
      ],
      "text/plain": [
       "<IPython.core.display.Javascript object>"
      ]
     },
     "metadata": {},
     "output_type": "display_data"
    },
    {
     "data": {
      "application/javascript": [
       "window.outputs = [[1, 0.026872057785970193], [2, 0.9587173261932513], [3, 0.9619425127818697], [4, 0.05044546904343321]]"
      ],
      "text/plain": [
       "<IPython.core.display.Javascript object>"
      ]
     },
     "metadata": {},
     "output_type": "display_data"
    },
    {
     "data": {
      "application/javascript": [
       "window.output_plot.setData([window.outputs]); window.output_plot.draw();"
      ],
      "text/plain": [
       "<IPython.core.display.Javascript object>"
      ]
     },
     "metadata": {},
     "output_type": "display_data"
    },
    {
     "data": {
      "application/javascript": [
       "$('#avg-error').html(0.03777)"
      ],
      "text/plain": [
       "<IPython.core.display.Javascript object>"
      ]
     },
     "metadata": {},
     "output_type": "display_data"
    },
    {
     "data": {
      "application/javascript": [
       "$('#iteration').html(1350)"
      ],
      "text/plain": [
       "<IPython.core.display.Javascript object>"
      ]
     },
     "metadata": {},
     "output_type": "display_data"
    },
    {
     "data": {
      "application/javascript": [
       "window.error.push([1350,0.03777])"
      ],
      "text/plain": [
       "<IPython.core.display.Javascript object>"
      ]
     },
     "metadata": {},
     "output_type": "display_data"
    },
    {
     "data": {
      "application/javascript": [
       "window.plot.setData([window.error]); window.plot.draw();"
      ],
      "text/plain": [
       "<IPython.core.display.Javascript object>"
      ]
     },
     "metadata": {},
     "output_type": "display_data"
    },
    {
     "data": {
      "application/javascript": [
       "window.weights_l0 = [[1, -5.839796352894203], [2, -1.2165519336021735], [3, -4.356774974169192], [4, 2.6516602058862624], [5, 4.592328842151759], [6, 3.611943058746187], [7, -4.100368040451774], [8, -4.5267136173652425], [9, -2.189436488198241], [10, 0.09999228258539748], [11, 1.0309290412133543], [12, -1.0834555794801604]]"
      ],
      "text/plain": [
       "<IPython.core.display.Javascript object>"
      ]
     },
     "metadata": {},
     "output_type": "display_data"
    },
    {
     "data": {
      "application/javascript": [
       "window.weight_plot_l0.setData([window.weights_l0]); window.weight_plot_l0.draw();"
      ],
      "text/plain": [
       "<IPython.core.display.Javascript object>"
      ]
     },
     "metadata": {},
     "output_type": "display_data"
    },
    {
     "data": {
      "application/javascript": [
       "window.weights_l1 = [[1, 7.694051617863213], [2, -3.7559834277099076], [3, -5.113881272382079], [4, 5.282824709304029]]"
      ],
      "text/plain": [
       "<IPython.core.display.Javascript object>"
      ]
     },
     "metadata": {},
     "output_type": "display_data"
    },
    {
     "data": {
      "application/javascript": [
       "window.weight_plot_l1.setData([window.weights_l1]); window.weight_plot_l1.draw();"
      ],
      "text/plain": [
       "<IPython.core.display.Javascript object>"
      ]
     },
     "metadata": {},
     "output_type": "display_data"
    },
    {
     "data": {
      "application/javascript": [
       "window.outputs = [[1, 0.02583491872025018], [2, 0.960112589637522], [3, 0.9633703719278658], [4, 0.048717012646817166]]"
      ],
      "text/plain": [
       "<IPython.core.display.Javascript object>"
      ]
     },
     "metadata": {},
     "output_type": "display_data"
    },
    {
     "data": {
      "application/javascript": [
       "window.output_plot.setData([window.outputs]); window.output_plot.draw();"
      ],
      "text/plain": [
       "<IPython.core.display.Javascript object>"
      ]
     },
     "metadata": {},
     "output_type": "display_data"
    },
    {
     "data": {
      "application/javascript": [
       "$('#avg-error').html(0.03650)"
      ],
      "text/plain": [
       "<IPython.core.display.Javascript object>"
      ]
     },
     "metadata": {},
     "output_type": "display_data"
    },
    {
     "data": {
      "application/javascript": [
       "$('#iteration').html(1400)"
      ],
      "text/plain": [
       "<IPython.core.display.Javascript object>"
      ]
     },
     "metadata": {},
     "output_type": "display_data"
    },
    {
     "data": {
      "application/javascript": [
       "window.error.push([1400,0.03650])"
      ],
      "text/plain": [
       "<IPython.core.display.Javascript object>"
      ]
     },
     "metadata": {},
     "output_type": "display_data"
    },
    {
     "data": {
      "application/javascript": [
       "window.plot.setData([window.error]); window.plot.draw();"
      ],
      "text/plain": [
       "<IPython.core.display.Javascript object>"
      ]
     },
     "metadata": {},
     "output_type": "display_data"
    },
    {
     "data": {
      "application/javascript": [
       "window.weights_l0 = [[1, -5.864987546938764], [2, -1.231355109243745], [3, -4.367113027587575], [4, 2.671694785555022], [5, 4.610179661173278], [6, 3.6343466339925503], [7, -4.116025457841118], [8, -4.552295433686521], [9, -2.1933044392286454], [10, 0.10823262761957333], [11, 1.0356578481983036], [12, -1.093312942698937]]"
      ],
      "text/plain": [
       "<IPython.core.display.Javascript object>"
      ]
     },
     "metadata": {},
     "output_type": "display_data"
    },
    {
     "data": {
      "application/javascript": [
       "window.weight_plot_l0.setData([window.weights_l0]); window.weight_plot_l0.draw();"
      ],
      "text/plain": [
       "<IPython.core.display.Javascript object>"
      ]
     },
     "metadata": {},
     "output_type": "display_data"
    },
    {
     "data": {
      "application/javascript": [
       "window.weights_l1 = [[1, 7.755380010338592], [2, -3.7859035457505574], [3, -5.131621288581103], [4, 5.321478566230086]]"
      ],
      "text/plain": [
       "<IPython.core.display.Javascript object>"
      ]
     },
     "metadata": {},
     "output_type": "display_data"
    },
    {
     "data": {
      "application/javascript": [
       "window.weight_plot_l1.setData([window.weights_l1]); window.weight_plot_l1.draw();"
      ],
      "text/plain": [
       "<IPython.core.display.Javascript object>"
      ]
     },
     "metadata": {},
     "output_type": "display_data"
    },
    {
     "data": {
      "application/javascript": [
       "window.outputs = [[1, 0.0248967158217378], [2, 0.9613819502312672], [3, 0.9646627481087371], [4, 0.047145853680627244]]"
      ],
      "text/plain": [
       "<IPython.core.display.Javascript object>"
      ]
     },
     "metadata": {},
     "output_type": "display_data"
    },
    {
     "data": {
      "application/javascript": [
       "window.output_plot.setData([window.outputs]); window.output_plot.draw();"
      ],
      "text/plain": [
       "<IPython.core.display.Javascript object>"
      ]
     },
     "metadata": {},
     "output_type": "display_data"
    },
    {
     "data": {
      "application/javascript": [
       "$('#avg-error').html(0.03534)"
      ],
      "text/plain": [
       "<IPython.core.display.Javascript object>"
      ]
     },
     "metadata": {},
     "output_type": "display_data"
    },
    {
     "data": {
      "application/javascript": [
       "$('#iteration').html(1450)"
      ],
      "text/plain": [
       "<IPython.core.display.Javascript object>"
      ]
     },
     "metadata": {},
     "output_type": "display_data"
    },
    {
     "data": {
      "application/javascript": [
       "window.error.push([1450,0.03534])"
      ],
      "text/plain": [
       "<IPython.core.display.Javascript object>"
      ]
     },
     "metadata": {},
     "output_type": "display_data"
    },
    {
     "data": {
      "application/javascript": [
       "window.plot.setData([window.error]); window.plot.draw();"
      ],
      "text/plain": [
       "<IPython.core.display.Javascript object>"
      ]
     },
     "metadata": {},
     "output_type": "display_data"
    },
    {
     "data": {
      "application/javascript": [
       "window.weights_l0 = [[1, -5.888606316918505], [2, -1.2453325194134723], [3, -4.376753428917591], [4, 2.6904297493591067], [5, 4.6268899645870425], [6, 3.655377220601345], [7, -4.130658953015085], [8, -4.57620982836793], [9, -2.196924781596349], [10, 0.11598830456939056], [11, 1.040041850574251], [12, -1.102513893867235]]"
      ],
      "text/plain": [
       "<IPython.core.display.Javascript object>"
      ]
     },
     "metadata": {},
     "output_type": "display_data"
    },
    {
     "data": {
      "application/javascript": [
       "window.weight_plot_l0.setData([window.weights_l0]); window.weight_plot_l0.draw();"
      ],
      "text/plain": [
       "<IPython.core.display.Javascript object>"
      ]
     },
     "metadata": {},
     "output_type": "display_data"
    },
    {
     "data": {
      "application/javascript": [
       "window.weights_l1 = [[1, 7.813190103358027], [2, -3.8141317117398903], [3, -5.148180070730053], [4, 5.357759444017803]]"
      ],
      "text/plain": [
       "<IPython.core.display.Javascript object>"
      ]
     },
     "metadata": {},
     "output_type": "display_data"
    },
    {
     "data": {
      "application/javascript": [
       "window.weight_plot_l1.setData([window.weights_l1]); window.weight_plot_l1.draw();"
      ],
      "text/plain": [
       "<IPython.core.display.Javascript object>"
      ]
     },
     "metadata": {},
     "output_type": "display_data"
    },
    {
     "data": {
      "application/javascript": [
       "window.outputs = [[1, 0.024043188010673337], [2, 0.9625428985529039], [3, 0.9658391433248613], [4, 0.045709987180856025]]"
      ],
      "text/plain": [
       "<IPython.core.display.Javascript object>"
      ]
     },
     "metadata": {},
     "output_type": "display_data"
    },
    {
     "data": {
      "application/javascript": [
       "window.output_plot.setData([window.outputs]); window.output_plot.draw();"
      ],
      "text/plain": [
       "<IPython.core.display.Javascript object>"
      ]
     },
     "metadata": {},
     "output_type": "display_data"
    },
    {
     "data": {
      "application/javascript": [
       "$('#avg-error').html(0.03428)"
      ],
      "text/plain": [
       "<IPython.core.display.Javascript object>"
      ]
     },
     "metadata": {},
     "output_type": "display_data"
    },
    {
     "data": {
      "application/javascript": [
       "$('#iteration').html(1500)"
      ],
      "text/plain": [
       "<IPython.core.display.Javascript object>"
      ]
     },
     "metadata": {},
     "output_type": "display_data"
    },
    {
     "data": {
      "application/javascript": [
       "window.error.push([1500,0.03428])"
      ],
      "text/plain": [
       "<IPython.core.display.Javascript object>"
      ]
     },
     "metadata": {},
     "output_type": "display_data"
    },
    {
     "data": {
      "application/javascript": [
       "window.plot.setData([window.error]); window.plot.draw();"
      ],
      "text/plain": [
       "<IPython.core.display.Javascript object>"
      ]
     },
     "metadata": {},
     "output_type": "display_data"
    },
    {
     "data": {
      "application/javascript": [
       "window.weights_l0 = [[1, -5.91082783208934], [2, -1.2585692583646344], [3, -4.385777917552181], [4, 2.708012749180987], [5, 4.642588909533743], [6, 3.6751860400095238], [7, -4.144385703327133], [8, -4.598647638535159], [9, -2.2003255558894717], [10, 0.12331070068512237], [11, 1.044123326109671], [12, -1.111133891109259]]"
      ],
      "text/plain": [
       "<IPython.core.display.Javascript object>"
      ]
     },
     "metadata": {},
     "output_type": "display_data"
    },
    {
     "data": {
      "application/javascript": [
       "window.weight_plot_l0.setData([window.weights_l0]); window.weight_plot_l0.draw();"
      ],
      "text/plain": [
       "<IPython.core.display.Javascript object>"
      ]
     },
     "metadata": {},
     "output_type": "display_data"
    },
    {
     "data": {
      "application/javascript": [
       "window.weights_l1 = [[1, 7.867855685450906], [2, -3.8408458468842324], [3, -5.163694463052824], [4, 5.391929714968896]]"
      ],
      "text/plain": [
       "<IPython.core.display.Javascript object>"
      ]
     },
     "metadata": {},
     "output_type": "display_data"
    },
    {
     "data": {
      "application/javascript": [
       "window.weight_plot_l1.setData([window.weights_l1]); window.weight_plot_l1.draw();"
      ],
      "text/plain": [
       "<IPython.core.display.Javascript object>"
      ]
     },
     "metadata": {},
     "output_type": "display_data"
    },
    {
     "data": {
      "application/javascript": [
       "window.outputs = [[1, 0.023262744070274295], [2, 0.9636097420031221], [3, 0.9669154079044573], [4, 0.04439143824390998]]"
      ],
      "text/plain": [
       "<IPython.core.display.Javascript object>"
      ]
     },
     "metadata": {},
     "output_type": "display_data"
    },
    {
     "data": {
      "application/javascript": [
       "window.output_plot.setData([window.outputs]); window.output_plot.draw();"
      ],
      "text/plain": [
       "<IPython.core.display.Javascript object>"
      ]
     },
     "metadata": {},
     "output_type": "display_data"
    },
    {
     "data": {
      "application/javascript": [
       "$('#avg-error').html(0.03331)"
      ],
      "text/plain": [
       "<IPython.core.display.Javascript object>"
      ]
     },
     "metadata": {},
     "output_type": "display_data"
    },
    {
     "data": {
      "application/javascript": [
       "$('#iteration').html(1550)"
      ],
      "text/plain": [
       "<IPython.core.display.Javascript object>"
      ]
     },
     "metadata": {},
     "output_type": "display_data"
    },
    {
     "data": {
      "application/javascript": [
       "window.error.push([1550,0.03331])"
      ],
      "text/plain": [
       "<IPython.core.display.Javascript object>"
      ]
     },
     "metadata": {},
     "output_type": "display_data"
    },
    {
     "data": {
      "application/javascript": [
       "window.plot.setData([window.error]); window.plot.draw();"
      ],
      "text/plain": [
       "<IPython.core.display.Javascript object>"
      ]
     },
     "metadata": {},
     "output_type": "display_data"
    },
    {
     "data": {
      "application/javascript": [
       "window.weights_l0 = [[1, -5.931800162715172], [2, -1.2711380509708166], [3, -4.3942550902277135], [4, 2.72456831601305], [5, 4.657385403966276], [6, 3.6939011193000977], [7, -4.15730440769731], [8, -4.619769579495158], [9, -2.203530415697262], [10, 0.1302436007920756], [11, 1.047937524546345], [12, -1.1192364962917716]]"
      ],
      "text/plain": [
       "<IPython.core.display.Javascript object>"
      ]
     },
     "metadata": {},
     "output_type": "display_data"
    },
    {
     "data": {
      "application/javascript": [
       "window.weight_plot_l0.setData([window.weights_l0]); window.weight_plot_l0.draw();"
      ],
      "text/plain": [
       "<IPython.core.display.Javascript object>"
      ]
     },
     "metadata": {},
     "output_type": "display_data"
    },
    {
     "data": {
      "application/javascript": [
       "window.weights_l1 = [[1, 7.919694652317661], [2, -3.8661974777674892], [3, -5.178279519069108], [4, 5.424211364232924]]"
      ],
      "text/plain": [
       "<IPython.core.display.Javascript object>"
      ]
     },
     "metadata": {},
     "output_type": "display_data"
    },
    {
     "data": {
      "application/javascript": [
       "window.weight_plot_l1.setData([window.weights_l1]); window.weight_plot_l1.draw();"
      ],
      "text/plain": [
       "<IPython.core.display.Javascript object>"
      ]
     },
     "metadata": {},
     "output_type": "display_data"
    },
    {
     "data": {
      "application/javascript": [
       "window.outputs = [[1, 0.022545859943658306], [2, 0.9645943068666661], [3, 0.9679045656681001], [4, 0.04317536789366773]]"
      ],
      "text/plain": [
       "<IPython.core.display.Javascript object>"
      ]
     },
     "metadata": {},
     "output_type": "display_data"
    },
    {
     "data": {
      "application/javascript": [
       "window.output_plot.setData([window.outputs]); window.output_plot.draw();"
      ],
      "text/plain": [
       "<IPython.core.display.Javascript object>"
      ]
     },
     "metadata": {},
     "output_type": "display_data"
    },
    {
     "data": {
      "application/javascript": [
       "$('#avg-error').html(0.03240)"
      ],
      "text/plain": [
       "<IPython.core.display.Javascript object>"
      ]
     },
     "metadata": {},
     "output_type": "display_data"
    },
    {
     "data": {
      "application/javascript": [
       "$('#iteration').html(1600)"
      ],
      "text/plain": [
       "<IPython.core.display.Javascript object>"
      ]
     },
     "metadata": {},
     "output_type": "display_data"
    },
    {
     "data": {
      "application/javascript": [
       "window.error.push([1600,0.03240])"
      ],
      "text/plain": [
       "<IPython.core.display.Javascript object>"
      ]
     },
     "metadata": {},
     "output_type": "display_data"
    },
    {
     "data": {
      "application/javascript": [
       "window.plot.setData([window.error]); window.plot.draw();"
      ],
      "text/plain": [
       "<IPython.core.display.Javascript object>"
      ]
     },
     "metadata": {},
     "output_type": "display_data"
    },
    {
     "data": {
      "application/javascript": [
       "window.weights_l0 = [[1, -5.951649525024514], [2, -1.2831015232262406], [3, -4.402243026978427], [4, 2.7402023710632992], [5, 4.6713720713172275], [6, 3.7116317490471644], [7, -4.169498916886849], [8, -4.639712169772914], [9, -2.2065594833604667], [10, 0.1368245981465391], [11, 1.0515141098621255], [12, -1.1268757058678474]]"
      ],
      "text/plain": [
       "<IPython.core.display.Javascript object>"
      ]
     },
     "metadata": {},
     "output_type": "display_data"
    },
    {
     "data": {
      "application/javascript": [
       "window.weight_plot_l0.setData([window.weights_l0]); window.weight_plot_l0.draw();"
      ],
      "text/plain": [
       "<IPython.core.display.Javascript object>"
      ]
     },
     "metadata": {},
     "output_type": "display_data"
    },
    {
     "data": {
      "application/javascript": [
       "window.weights_l1 = [[1, 7.968979536654862], [2, -3.8903166775887428], [3, -5.192032818188809], [4, 5.454793776468135]]"
      ],
      "text/plain": [
       "<IPython.core.display.Javascript object>"
      ]
     },
     "metadata": {},
     "output_type": "display_data"
    },
    {
     "data": {
      "application/javascript": [
       "window.weight_plot_l1.setData([window.weights_l1]); window.weight_plot_l1.draw();"
      ],
      "text/plain": [
       "<IPython.core.display.Javascript object>"
      ]
     },
     "metadata": {},
     "output_type": "display_data"
    },
    {
     "data": {
      "application/javascript": [
       "window.outputs = [[1, 0.021884633036292553], [2, 0.96550646110029], [3, 0.9688174238115291], [4, 0.042049408579177605]]"
      ],
      "text/plain": [
       "<IPython.core.display.Javascript object>"
      ]
     },
     "metadata": {},
     "output_type": "display_data"
    },
    {
     "data": {
      "application/javascript": [
       "window.output_plot.setData([window.outputs]); window.output_plot.draw();"
      ],
      "text/plain": [
       "<IPython.core.display.Javascript object>"
      ]
     },
     "metadata": {},
     "output_type": "display_data"
    },
    {
     "data": {
      "application/javascript": [
       "$('#avg-error').html(0.03156)"
      ],
      "text/plain": [
       "<IPython.core.display.Javascript object>"
      ]
     },
     "metadata": {},
     "output_type": "display_data"
    },
    {
     "data": {
      "application/javascript": [
       "$('#iteration').html(1650)"
      ],
      "text/plain": [
       "<IPython.core.display.Javascript object>"
      ]
     },
     "metadata": {},
     "output_type": "display_data"
    },
    {
     "data": {
      "application/javascript": [
       "window.error.push([1650,0.03156])"
      ],
      "text/plain": [
       "<IPython.core.display.Javascript object>"
      ]
     },
     "metadata": {},
     "output_type": "display_data"
    },
    {
     "data": {
      "application/javascript": [
       "window.plot.setData([window.error]); window.plot.draw();"
      ],
      "text/plain": [
       "<IPython.core.display.Javascript object>"
      ]
     },
     "metadata": {},
     "output_type": "display_data"
    },
    {
     "data": {
      "application/javascript": [
       "window.weights_l0 = [[1, -5.970484326641609], [2, -1.2945139771874261], [3, -4.409791299868743], [4, 2.7550056995483847], [5, 4.68462829903356], [6, 3.7284719277387093], [7, -4.181041023312852], [8, -4.658592282510398], [9, -2.2094300089705845], [10, 0.14308619544512516], [11, 1.0548782558149408], [12, -1.1340977443508518]]"
      ],
      "text/plain": [
       "<IPython.core.display.Javascript object>"
      ]
     },
     "metadata": {},
     "output_type": "display_data"
    },
    {
     "data": {
      "application/javascript": [
       "window.weight_plot_l0.setData([window.weights_l0]); window.weight_plot_l0.draw();"
      ],
      "text/plain": [
       "<IPython.core.display.Javascript object>"
      ]
     },
     "metadata": {},
     "output_type": "display_data"
    },
    {
     "data": {
      "application/javascript": [
       "window.weights_l1 = [[1, 8.015945683825299], [2, -3.9133159083002673], [3, -5.205037775607458], [4, 5.483839747459082]]"
      ],
      "text/plain": [
       "<IPython.core.display.Javascript object>"
      ]
     },
     "metadata": {},
     "output_type": "display_data"
    },
    {
     "data": {
      "application/javascript": [
       "window.weight_plot_l1.setData([window.weights_l1]); window.weight_plot_l1.draw();"
      ],
      "text/plain": [
       "<IPython.core.display.Javascript object>"
      ]
     },
     "metadata": {},
     "output_type": "display_data"
    },
    {
     "data": {
      "application/javascript": [
       "window.outputs = [[1, 0.021272447668355534], [2, 0.9663545092909342], [3, 0.969663030499419], [4, 0.04100316303815852]]"
      ],
      "text/plain": [
       "<IPython.core.display.Javascript object>"
      ]
     },
     "metadata": {},
     "output_type": "display_data"
    },
    {
     "data": {
      "application/javascript": [
       "window.output_plot.setData([window.outputs]); window.output_plot.draw();"
      ],
      "text/plain": [
       "<IPython.core.display.Javascript object>"
      ]
     },
     "metadata": {},
     "output_type": "display_data"
    },
    {
     "data": {
      "application/javascript": [
       "$('#avg-error').html(0.03078)"
      ],
      "text/plain": [
       "<IPython.core.display.Javascript object>"
      ]
     },
     "metadata": {},
     "output_type": "display_data"
    },
    {
     "data": {
      "application/javascript": [
       "$('#iteration').html(1700)"
      ],
      "text/plain": [
       "<IPython.core.display.Javascript object>"
      ]
     },
     "metadata": {},
     "output_type": "display_data"
    },
    {
     "data": {
      "application/javascript": [
       "window.error.push([1700,0.03078])"
      ],
      "text/plain": [
       "<IPython.core.display.Javascript object>"
      ]
     },
     "metadata": {},
     "output_type": "display_data"
    },
    {
     "data": {
      "application/javascript": [
       "window.plot.setData([window.error]); window.plot.draw();"
      ],
      "text/plain": [
       "<IPython.core.display.Javascript object>"
      ]
     },
     "metadata": {},
     "output_type": "display_data"
    },
    {
     "data": {
      "application/javascript": [
       "window.weights_l0 = [[1, -5.988398325226168], [2, -1.3054227942209613], [3, -4.416942529365923], [4, 2.769056658597556], [5, 4.697222612094089], [6, 3.7445030556048433], [7, -4.19199263179944], [8, -4.676510685611358], [9, -2.2121568840867174], [10, 0.14905667362488853], [11, 1.058051489207353], [12, -1.1409424612390222]]"
      ],
      "text/plain": [
       "<IPython.core.display.Javascript object>"
      ]
     },
     "metadata": {},
     "output_type": "display_data"
    },
    {
     "data": {
      "application/javascript": [
       "window.weight_plot_l0.setData([window.weights_l0]); window.weight_plot_l0.draw();"
      ],
      "text/plain": [
       "<IPython.core.display.Javascript object>"
      ]
     },
     "metadata": {},
     "output_type": "display_data"
    },
    {
     "data": {
      "application/javascript": [
       "window.weights_l1 = [[1, 8.060797675115838], [2, -3.93529304343545], [3, -5.217366212456953], [4, 5.511490182151216]]"
      ],
      "text/plain": [
       "<IPython.core.display.Javascript object>"
      ]
     },
     "metadata": {},
     "output_type": "display_data"
    },
    {
     "data": {
      "application/javascript": [
       "window.weight_plot_l1.setData([window.weights_l1]); window.weight_plot_l1.draw();"
      ],
      "text/plain": [
       "<IPython.core.display.Javascript object>"
      ]
     },
     "metadata": {},
     "output_type": "display_data"
    },
    {
     "data": {
      "application/javascript": [
       "window.outputs = [[1, 0.020703720535338314], [2, 0.9671454949815342], [3, 0.9704490229073381], [4, 0.04002782130504945]]"
      ],
      "text/plain": [
       "<IPython.core.display.Javascript object>"
      ]
     },
     "metadata": {},
     "output_type": "display_data"
    },
    {
     "data": {
      "application/javascript": [
       "window.output_plot.setData([window.outputs]); window.output_plot.draw();"
      ],
      "text/plain": [
       "<IPython.core.display.Javascript object>"
      ]
     },
     "metadata": {},
     "output_type": "display_data"
    },
    {
     "data": {
      "application/javascript": [
       "$('#avg-error').html(0.03006)"
      ],
      "text/plain": [
       "<IPython.core.display.Javascript object>"
      ]
     },
     "metadata": {},
     "output_type": "display_data"
    },
    {
     "data": {
      "application/javascript": [
       "$('#iteration').html(1750)"
      ],
      "text/plain": [
       "<IPython.core.display.Javascript object>"
      ]
     },
     "metadata": {},
     "output_type": "display_data"
    },
    {
     "data": {
      "application/javascript": [
       "window.error.push([1750,0.03006])"
      ],
      "text/plain": [
       "<IPython.core.display.Javascript object>"
      ]
     },
     "metadata": {},
     "output_type": "display_data"
    },
    {
     "data": {
      "application/javascript": [
       "window.plot.setData([window.error]); window.plot.draw();"
      ],
      "text/plain": [
       "<IPython.core.display.Javascript object>"
      ]
     },
     "metadata": {},
     "output_type": "display_data"
    },
    {
     "data": {
      "application/javascript": [
       "window.weights_l0 = [[1, -6.005473122356114], [2, -1.3158695558615212], [3, -4.42373360434618], [4, 2.7824233117928525], [5, 4.709214542080764], [6, 3.7597960648113924], [7, -4.2024074678762915], [8, -4.693554826810586], [9, -2.214753046684854], [10, 0.15476078444326813], [11, 1.0610523468267337], [12, -1.1474444312489873]]"
      ],
      "text/plain": [
       "<IPython.core.display.Javascript object>"
      ]
     },
     "metadata": {},
     "output_type": "display_data"
    },
    {
     "data": {
      "application/javascript": [
       "window.weight_plot_l0.setData([window.weights_l0]); window.weight_plot_l0.draw();"
      ],
      "text/plain": [
       "<IPython.core.display.Javascript object>"
      ]
     },
     "metadata": {},
     "output_type": "display_data"
    },
    {
     "data": {
      "application/javascript": [
       "window.weights_l1 = [[1, 8.103714428867073], [2, -3.956333771953616], [3, -5.229080374569137], [4, 5.537867807075555]]"
      ],
      "text/plain": [
       "<IPython.core.display.Javascript object>"
      ]
     },
     "metadata": {},
     "output_type": "display_data"
    },
    {
     "data": {
      "application/javascript": [
       "window.weight_plot_l1.setData([window.weights_l1]); window.weight_plot_l1.draw();"
      ],
      "text/plain": [
       "<IPython.core.display.Javascript object>"
      ]
     },
     "metadata": {},
     "output_type": "display_data"
    },
    {
     "data": {
      "application/javascript": [
       "window.outputs = [[1, 0.02017370463902954], [2, 0.9678854348760305], [3, 0.9711818952445833], [4, 0.03911586444339991]]"
      ],
      "text/plain": [
       "<IPython.core.display.Javascript object>"
      ]
     },
     "metadata": {},
     "output_type": "display_data"
    },
    {
     "data": {
      "application/javascript": [
       "window.output_plot.setData([window.outputs]); window.output_plot.draw();"
      ],
      "text/plain": [
       "<IPython.core.display.Javascript object>"
      ]
     },
     "metadata": {},
     "output_type": "display_data"
    },
    {
     "data": {
      "application/javascript": [
       "$('#avg-error').html(0.02937)"
      ],
      "text/plain": [
       "<IPython.core.display.Javascript object>"
      ]
     },
     "metadata": {},
     "output_type": "display_data"
    },
    {
     "data": {
      "application/javascript": [
       "$('#iteration').html(1800)"
      ],
      "text/plain": [
       "<IPython.core.display.Javascript object>"
      ]
     },
     "metadata": {},
     "output_type": "display_data"
    },
    {
     "data": {
      "application/javascript": [
       "window.error.push([1800,0.02937])"
      ],
      "text/plain": [
       "<IPython.core.display.Javascript object>"
      ]
     },
     "metadata": {},
     "output_type": "display_data"
    },
    {
     "data": {
      "application/javascript": [
       "window.plot.setData([window.error]); window.plot.draw();"
      ],
      "text/plain": [
       "<IPython.core.display.Javascript object>"
      ]
     },
     "metadata": {},
     "output_type": "display_data"
    },
    {
     "data": {
      "application/javascript": [
       "window.weights_l0 = [[1, -6.021780152736899], [2, -1.3258909475918936], [3, -4.430196648660824], [4, 2.795165129011837], [5, 4.720656114375458], [6, 3.774413121056347], [7, -4.212332436146255], [8, -4.7098010476236585], [9, -2.21722980364277], [10, 0.16022030777612817], [11, 1.0638968928879458], [12, -1.1536338297547033]]"
      ],
      "text/plain": [
       "<IPython.core.display.Javascript object>"
      ]
     },
     "metadata": {},
     "output_type": "display_data"
    },
    {
     "data": {
      "application/javascript": [
       "window.weight_plot_l0.setData([window.weights_l0]); window.weight_plot_l0.draw();"
      ],
      "text/plain": [
       "<IPython.core.display.Javascript object>"
      ]
     },
     "metadata": {},
     "output_type": "display_data"
    },
    {
     "data": {
      "application/javascript": [
       "window.weights_l1 = [[1, 8.144853291778077], [2, -3.9765135286877706], [3, -5.240234534865938], [4, 5.563080133859114]]"
      ],
      "text/plain": [
       "<IPython.core.display.Javascript object>"
      ]
     },
     "metadata": {},
     "output_type": "display_data"
    },
    {
     "data": {
      "application/javascript": [
       "window.weight_plot_l1.setData([window.weights_l1]); window.weight_plot_l1.draw();"
      ],
      "text/plain": [
       "<IPython.core.display.Javascript object>"
      ]
     },
     "metadata": {},
     "output_type": "display_data"
    },
    {
     "data": {
      "application/javascript": [
       "window.outputs = [[1, 0.019678336543779124], [2, 0.9685795022712989], [3, 0.9718672075101619], [4, 0.03826083281099848]]"
      ],
      "text/plain": [
       "<IPython.core.display.Javascript object>"
      ]
     },
     "metadata": {},
     "output_type": "display_data"
    },
    {
     "data": {
      "application/javascript": [
       "window.output_plot.setData([window.outputs]); window.output_plot.draw();"
      ],
      "text/plain": [
       "<IPython.core.display.Javascript object>"
      ]
     },
     "metadata": {},
     "output_type": "display_data"
    },
    {
     "data": {
      "application/javascript": [
       "$('#avg-error').html(0.02873)"
      ],
      "text/plain": [
       "<IPython.core.display.Javascript object>"
      ]
     },
     "metadata": {},
     "output_type": "display_data"
    },
    {
     "data": {
      "application/javascript": [
       "$('#iteration').html(1850)"
      ],
      "text/plain": [
       "<IPython.core.display.Javascript object>"
      ]
     },
     "metadata": {},
     "output_type": "display_data"
    },
    {
     "data": {
      "application/javascript": [
       "window.error.push([1850,0.02873])"
      ],
      "text/plain": [
       "<IPython.core.display.Javascript object>"
      ]
     },
     "metadata": {},
     "output_type": "display_data"
    },
    {
     "data": {
      "application/javascript": [
       "window.plot.setData([window.error]); window.plot.draw();"
      ],
      "text/plain": [
       "<IPython.core.display.Javascript object>"
      ]
     },
     "metadata": {},
     "output_type": "display_data"
    },
    {
     "data": {
      "application/javascript": [
       "window.weights_l0 = [[1, -6.037382285791837], [2, -1.3355194939395776], [3, -4.436359794422211], [4, 2.807334352856517], [5, 4.7315930428327295], [6, 3.788408995475901], [7, -4.221808710727066], [8, -4.725316360176042], [9, -2.219597089974243], [10, 0.16545450395097908], [11, 1.0665991307284588], [12, -1.1595371359229834]]"
      ],
      "text/plain": [
       "<IPython.core.display.Javascript object>"
      ]
     },
     "metadata": {},
     "output_type": "display_data"
    },
    {
     "data": {
      "application/javascript": [
       "window.weight_plot_l0.setData([window.weights_l0]); window.weight_plot_l0.draw();"
      ],
      "text/plain": [
       "<IPython.core.display.Javascript object>"
      ]
     },
     "metadata": {},
     "output_type": "display_data"
    },
    {
     "data": {
      "application/javascript": [
       "window.weights_l1 = [[1, 8.184353350176275], [2, -3.995899058651838], [3, -5.250876277558751], [4, 5.587221847052715]]"
      ],
      "text/plain": [
       "<IPython.core.display.Javascript object>"
      ]
     },
     "metadata": {},
     "output_type": "display_data"
    },
    {
     "data": {
      "application/javascript": [
       "window.weight_plot_l1.setData([window.weights_l1]); window.weight_plot_l1.draw();"
      ],
      "text/plain": [
       "<IPython.core.display.Javascript object>"
      ]
     },
     "metadata": {},
     "output_type": "display_data"
    },
    {
     "data": {
      "application/javascript": [
       "window.outputs = [[1, 0.019214116145254548], [2, 0.9692321721764714], [3, 0.9725097497890748], [4, 0.03745714294755078]]"
      ],
      "text/plain": [
       "<IPython.core.display.Javascript object>"
      ]
     },
     "metadata": {},
     "output_type": "display_data"
    },
    {
     "data": {
      "application/javascript": [
       "window.output_plot.setData([window.outputs]); window.output_plot.draw();"
      ],
      "text/plain": [
       "<IPython.core.display.Javascript object>"
      ]
     },
     "metadata": {},
     "output_type": "display_data"
    },
    {
     "data": {
      "application/javascript": [
       "$('#avg-error').html(0.02813)"
      ],
      "text/plain": [
       "<IPython.core.display.Javascript object>"
      ]
     },
     "metadata": {},
     "output_type": "display_data"
    },
    {
     "data": {
      "application/javascript": [
       "$('#iteration').html(1900)"
      ],
      "text/plain": [
       "<IPython.core.display.Javascript object>"
      ]
     },
     "metadata": {},
     "output_type": "display_data"
    },
    {
     "data": {
      "application/javascript": [
       "window.error.push([1900,0.02813])"
      ],
      "text/plain": [
       "<IPython.core.display.Javascript object>"
      ]
     },
     "metadata": {},
     "output_type": "display_data"
    },
    {
     "data": {
      "application/javascript": [
       "window.plot.setData([window.error]); window.plot.draw();"
      ],
      "text/plain": [
       "<IPython.core.display.Javascript object>"
      ]
     },
     "metadata": {},
     "output_type": "display_data"
    },
    {
     "data": {
      "application/javascript": [
       "window.weights_l0 = [[1, -6.052335126338018], [2, -1.3447841611840143], [3, -4.442247806242453], [4, 2.8189771066064266], [5, 4.742065697923643], [6, 3.8018321802385646], [7, -4.230872618318964], [8, -4.740159885811278], [9, -2.2218636790290356], [10, 0.17048048383295072], [11, 1.069171333418413], [12, -1.165177702364033]]"
      ],
      "text/plain": [
       "<IPython.core.display.Javascript object>"
      ]
     },
     "metadata": {},
     "output_type": "display_data"
    },
    {
     "data": {
      "application/javascript": [
       "window.weight_plot_l0.setData([window.weights_l0]); window.weight_plot_l0.draw();"
      ],
      "text/plain": [
       "<IPython.core.display.Javascript object>"
      ]
     },
     "metadata": {},
     "output_type": "display_data"
    },
    {
     "data": {
      "application/javascript": [
       "window.weights_l1 = [[1, 8.222338132466945], [2, -4.014549695222117], [3, -5.261047536507362], [4, 5.610376744702227]]"
      ],
      "text/plain": [
       "<IPython.core.display.Javascript object>"
      ]
     },
     "metadata": {},
     "output_type": "display_data"
    },
    {
     "data": {
      "application/javascript": [
       "window.weight_plot_l1.setData([window.weights_l1]); window.weight_plot_l1.draw();"
      ],
      "text/plain": [
       "<IPython.core.display.Javascript object>"
      ]
     },
     "metadata": {},
     "output_type": "display_data"
    },
    {
     "data": {
      "application/javascript": [
       "window.outputs = [[1, 0.018778011123536355], [2, 0.9698473371921593], [3, 0.9731136728034355], [4, 0.03669994152014641]]"
      ],
      "text/plain": [
       "<IPython.core.display.Javascript object>"
      ]
     },
     "metadata": {},
     "output_type": "display_data"
    },
    {
     "data": {
      "application/javascript": [
       "window.output_plot.setData([window.outputs]); window.output_plot.draw();"
      ],
      "text/plain": [
       "<IPython.core.display.Javascript object>"
      ]
     },
     "metadata": {},
     "output_type": "display_data"
    },
    {
     "data": {
      "application/javascript": [
       "$('#avg-error').html(0.02756)"
      ],
      "text/plain": [
       "<IPython.core.display.Javascript object>"
      ]
     },
     "metadata": {},
     "output_type": "display_data"
    },
    {
     "data": {
      "application/javascript": [
       "$('#iteration').html(1950)"
      ],
      "text/plain": [
       "<IPython.core.display.Javascript object>"
      ]
     },
     "metadata": {},
     "output_type": "display_data"
    },
    {
     "data": {
      "application/javascript": [
       "window.error.push([1950,0.02756])"
      ],
      "text/plain": [
       "<IPython.core.display.Javascript object>"
      ]
     },
     "metadata": {},
     "output_type": "display_data"
    },
    {
     "data": {
      "application/javascript": [
       "window.plot.setData([window.error]); window.plot.draw();"
      ],
      "text/plain": [
       "<IPython.core.display.Javascript object>"
      ]
     },
     "metadata": {},
     "output_type": "display_data"
    },
    {
     "data": {
      "application/javascript": [
       "window.weights_l0 = [[1, -6.0666880793415086], [2, -1.3537108551983053], [3, -4.447882589351575], [4, 2.8301342998037824], [5, 4.75210989768909], [6, 3.8147258029139754], [7, -4.239556359151531], [8, -4.754384029361612], [9, -2.224037354303069], [10, 0.17531351387350852], [11, 1.071624311537649], [12, -1.1705762203459336]]"
      ],
      "text/plain": [
       "<IPython.core.display.Javascript object>"
      ]
     },
     "metadata": {},
     "output_type": "display_data"
    },
    {
     "data": {
      "application/javascript": [
       "window.weight_plot_l0.setData([window.weights_l0]); window.weight_plot_l0.draw();"
      ],
      "text/plain": [
       "<IPython.core.display.Javascript object>"
      ]
     },
     "metadata": {},
     "output_type": "display_data"
    },
    {
     "data": {
      "application/javascript": [
       "window.weights_l1 = [[1, 8.258917831818973], [2, -4.032518412578475], [3, -5.270785441706943], [4, 5.632619328008427]]"
      ],
      "text/plain": [
       "<IPython.core.display.Javascript object>"
      ]
     },
     "metadata": {},
     "output_type": "display_data"
    },
    {
     "data": {
      "application/javascript": [
       "window.weight_plot_l1.setData([window.weights_l1]); window.weight_plot_l1.draw();"
      ],
      "text/plain": [
       "<IPython.core.display.Javascript object>"
      ]
     },
     "metadata": {},
     "output_type": "display_data"
    },
    {
     "data": {
      "application/javascript": [
       "window.outputs = [[1, 0.018367380339898504], [2, 0.9704284008385838], [3, 0.9736825925724052], [4, 0.03598498781312163]]"
      ],
      "text/plain": [
       "<IPython.core.display.Javascript object>"
      ]
     },
     "metadata": {},
     "output_type": "display_data"
    },
    {
     "data": {
      "application/javascript": [
       "window.output_plot.setData([window.outputs]); window.output_plot.draw();"
      ],
      "text/plain": [
       "<IPython.core.display.Javascript object>"
      ]
     },
     "metadata": {},
     "output_type": "display_data"
    },
    {
     "data": {
      "application/javascript": [
       "$('#avg-error').html(0.02702)"
      ],
      "text/plain": [
       "<IPython.core.display.Javascript object>"
      ]
     },
     "metadata": {},
     "output_type": "display_data"
    },
    {
     "data": {
      "application/javascript": [
       "$('#iteration').html(2000)"
      ],
      "text/plain": [
       "<IPython.core.display.Javascript object>"
      ]
     },
     "metadata": {},
     "output_type": "display_data"
    },
    {
     "data": {
      "application/javascript": [
       "window.error.push([2000,0.02702])"
      ],
      "text/plain": [
       "<IPython.core.display.Javascript object>"
      ]
     },
     "metadata": {},
     "output_type": "display_data"
    },
    {
     "data": {
      "application/javascript": [
       "window.plot.setData([window.error]); window.plot.draw();"
      ],
      "text/plain": [
       "<IPython.core.display.Javascript object>"
      ]
     },
     "metadata": {},
     "output_type": "display_data"
    },
    {
     "data": {
      "application/javascript": [
       "window.weights_l0 = [[1, -6.080485228010425], [2, -1.3623228355145818], [3, -4.4532836063866625], [4, 2.8408423739442923], [5, 4.7617575588031835], [6, 3.827128381425517], [7, -4.247888600008928], [8, -4.768035444896538], [9, -2.226125050916545], [10, 0.17996726929259893], [11, 1.0739676317865048], [12, -1.1757511025508809]]"
      ],
      "text/plain": [
       "<IPython.core.display.Javascript object>"
      ]
     },
     "metadata": {},
     "output_type": "display_data"
    },
    {
     "data": {
      "application/javascript": [
       "window.weight_plot_l0.setData([window.weights_l0]); window.weight_plot_l0.draw();"
      ],
      "text/plain": [
       "<IPython.core.display.Javascript object>"
      ]
     },
     "metadata": {},
     "output_type": "display_data"
    },
    {
     "data": {
      "application/javascript": [
       "window.weights_l1 = [[1, 8.294191147414255], [2, -4.049852698466354], [3, -5.280123014615987], [4, 5.654016113150617]]"
      ],
      "text/plain": [
       "<IPython.core.display.Javascript object>"
      ]
     },
     "metadata": {},
     "output_type": "display_data"
    },
    {
     "data": {
      "application/javascript": [
       "window.weight_plot_l1.setData([window.weights_l1]); window.weight_plot_l1.draw();"
      ],
      "text/plain": [
       "<IPython.core.display.Javascript object>"
      ]
     },
     "metadata": {},
     "output_type": "display_data"
    },
    {
     "data": {
      "application/javascript": [
       "window.outputs = [[1, 0.017979911917162916], [2, 0.9709783533217924], [3, 0.9742196750072281], [4, 0.03530855842134003]]"
      ],
      "text/plain": [
       "<IPython.core.display.Javascript object>"
      ]
     },
     "metadata": {},
     "output_type": "display_data"
    },
    {
     "data": {
      "application/javascript": [
       "window.output_plot.setData([window.outputs]); window.output_plot.draw();"
      ],
      "text/plain": [
       "<IPython.core.display.Javascript object>"
      ]
     },
     "metadata": {},
     "output_type": "display_data"
    },
    {
     "data": {
      "application/javascript": [
       "$('#avg-error').html(0.02651)"
      ],
      "text/plain": [
       "<IPython.core.display.Javascript object>"
      ]
     },
     "metadata": {},
     "output_type": "display_data"
    },
    {
     "data": {
      "application/javascript": [
       "$('#iteration').html(2050)"
      ],
      "text/plain": [
       "<IPython.core.display.Javascript object>"
      ]
     },
     "metadata": {},
     "output_type": "display_data"
    },
    {
     "data": {
      "application/javascript": [
       "window.error.push([2050,0.02651])"
      ],
      "text/plain": [
       "<IPython.core.display.Javascript object>"
      ]
     },
     "metadata": {},
     "output_type": "display_data"
    },
    {
     "data": {
      "application/javascript": [
       "window.plot.setData([window.error]); window.plot.draw();"
      ],
      "text/plain": [
       "<IPython.core.display.Javascript object>"
      ]
     },
     "metadata": {},
     "output_type": "display_data"
    },
    {
     "data": {
      "application/javascript": [
       "window.weights_l0 = [[1, -6.093766062941901], [2, -1.370641061927413], [3, -4.458468221716454], [4, 2.851133920755588], [5, 4.771037236240228], [6, 3.839074451641838], [7, -4.255894965446949], [8, -4.781155835554939], [9, -2.228132972922199], [10, 0.18445404556942382], [11, 1.0762097967754352], [12, -1.180718800171106]]"
      ],
      "text/plain": [
       "<IPython.core.display.Javascript object>"
      ]
     },
     "metadata": {},
     "output_type": "display_data"
    },
    {
     "data": {
      "application/javascript": [
       "window.weight_plot_l0.setData([window.weights_l0]); window.weight_plot_l0.draw();"
      ],
      "text/plain": [
       "<IPython.core.display.Javascript object>"
      ]
     },
     "metadata": {},
     "output_type": "display_data"
    },
    {
     "data": {
      "application/javascript": [
       "window.weights_l1 = [[1, 8.328246819924193], [2, -4.066595282763958], [3, -5.289089743360617], [4, 5.674626721265886]]"
      ],
      "text/plain": [
       "<IPython.core.display.Javascript object>"
      ]
     },
     "metadata": {},
     "output_type": "display_data"
    },
    {
     "data": {
      "application/javascript": [
       "window.weight_plot_l1.setData([window.weights_l1]); window.weight_plot_l1.draw();"
      ],
      "text/plain": [
       "<IPython.core.display.Javascript object>"
      ]
     },
     "metadata": {},
     "output_type": "display_data"
    },
    {
     "data": {
      "application/javascript": [
       "window.outputs = [[1, 0.01761357280722578], [2, 0.9714998334994759], [3, 0.9747277048115494], [4, 0.03466736937241291]]"
      ],
      "text/plain": [
       "<IPython.core.display.Javascript object>"
      ]
     },
     "metadata": {},
     "output_type": "display_data"
    },
    {
     "data": {
      "application/javascript": [
       "window.output_plot.setData([window.outputs]); window.output_plot.draw();"
      ],
      "text/plain": [
       "<IPython.core.display.Javascript object>"
      ]
     },
     "metadata": {},
     "output_type": "display_data"
    },
    {
     "data": {
      "application/javascript": [
       "$('#avg-error').html(0.02603)"
      ],
      "text/plain": [
       "<IPython.core.display.Javascript object>"
      ]
     },
     "metadata": {},
     "output_type": "display_data"
    },
    {
     "data": {
      "application/javascript": [
       "$('#iteration').html(2100)"
      ],
      "text/plain": [
       "<IPython.core.display.Javascript object>"
      ]
     },
     "metadata": {},
     "output_type": "display_data"
    },
    {
     "data": {
      "application/javascript": [
       "window.error.push([2100,0.02603])"
      ],
      "text/plain": [
       "<IPython.core.display.Javascript object>"
      ]
     },
     "metadata": {},
     "output_type": "display_data"
    },
    {
     "data": {
      "application/javascript": [
       "window.plot.setData([window.error]); window.plot.draw();"
      ],
      "text/plain": [
       "<IPython.core.display.Javascript object>"
      ]
     },
     "metadata": {},
     "output_type": "display_data"
    },
    {
     "data": {
      "application/javascript": [
       "window.weights_l0 = [[1, -6.106566091476509], [2, -1.378684486368871], [3, -4.4634519877975265], [4, 2.8610381981407245], [5, 4.779974573521795], [6, 3.85059509241661], [7, -4.2635984473340365], [8, -4.793782620297669], [9, -2.2300666912010483], [10, 0.18878493617253989], [11, 1.0783583939032602], [12, -1.1854940673054934]]"
      ],
      "text/plain": [
       "<IPython.core.display.Javascript object>"
      ]
     },
     "metadata": {},
     "output_type": "display_data"
    },
    {
     "data": {
      "application/javascript": [
       "window.weight_plot_l0.setData([window.weights_l0]); window.weight_plot_l0.draw();"
      ],
      "text/plain": [
       "<IPython.core.display.Javascript object>"
      ]
     },
     "metadata": {},
     "output_type": "display_data"
    },
    {
     "data": {
      "application/javascript": [
       "window.weights_l1 = [[1, 8.361164919977686], [2, -4.082784749444004], [3, -5.297712061704034], [4, 5.694504789893723]]"
      ],
      "text/plain": [
       "<IPython.core.display.Javascript object>"
      ]
     },
     "metadata": {},
     "output_type": "display_data"
    },
    {
     "data": {
      "application/javascript": [
       "window.weight_plot_l1.setData([window.weights_l1]); window.weight_plot_l1.draw();"
      ],
      "text/plain": [
       "<IPython.core.display.Javascript object>"
      ]
     },
     "metadata": {},
     "output_type": "display_data"
    },
    {
     "data": {
      "application/javascript": [
       "window.outputs = [[1, 0.017266567422798005], [2, 0.9719951799108338], [3, 0.9752091419988839], [4, 0.034058512046418084]]"
      ],
      "text/plain": [
       "<IPython.core.display.Javascript object>"
      ]
     },
     "metadata": {},
     "output_type": "display_data"
    },
    {
     "data": {
      "application/javascript": [
       "window.output_plot.setData([window.outputs]); window.output_plot.draw();"
      ],
      "text/plain": [
       "<IPython.core.display.Javascript object>"
      ]
     },
     "metadata": {},
     "output_type": "display_data"
    },
    {
     "data": {
      "application/javascript": [
       "$('#avg-error').html(0.02557)"
      ],
      "text/plain": [
       "<IPython.core.display.Javascript object>"
      ]
     },
     "metadata": {},
     "output_type": "display_data"
    },
    {
     "data": {
      "application/javascript": [
       "$('#iteration').html(2150)"
      ],
      "text/plain": [
       "<IPython.core.display.Javascript object>"
      ]
     },
     "metadata": {},
     "output_type": "display_data"
    },
    {
     "data": {
      "application/javascript": [
       "window.error.push([2150,0.02557])"
      ],
      "text/plain": [
       "<IPython.core.display.Javascript object>"
      ]
     },
     "metadata": {},
     "output_type": "display_data"
    },
    {
     "data": {
      "application/javascript": [
       "window.plot.setData([window.error]); window.plot.draw();"
      ],
      "text/plain": [
       "<IPython.core.display.Javascript object>"
      ]
     },
     "metadata": {},
     "output_type": "display_data"
    },
    {
     "data": {
      "application/javascript": [
       "window.weights_l0 = [[1, -6.118917349995311], [2, -1.3864703000771745], [3, -4.468248884803453], [4, 2.870581563319618], [5, 4.788592680646595], [6, 3.8617183674473106], [7, -4.2710197483763555], [8, -4.805949493116857], [9, -2.231931225651006], [10, 0.19296998276182178], [11, 1.0804202194288137], [12, -1.1900901827461263]]"
      ],
      "text/plain": [
       "<IPython.core.display.Javascript object>"
      ]
     },
     "metadata": {},
     "output_type": "display_data"
    },
    {
     "data": {
      "application/javascript": [
       "window.weight_plot_l0.setData([window.weights_l0]); window.weight_plot_l0.draw();"
      ],
      "text/plain": [
       "<IPython.core.display.Javascript object>"
      ]
     },
     "metadata": {},
     "output_type": "display_data"
    },
    {
     "data": {
      "application/javascript": [
       "window.weights_l1 = [[1, 8.39301793565541], [2, -4.098456053565737], [3, -5.306013750335946], [4, 5.71369873968259]]"
      ],
      "text/plain": [
       "<IPython.core.display.Javascript object>"
      ]
     },
     "metadata": {},
     "output_type": "display_data"
    },
    {
     "data": {
      "application/javascript": [
       "window.weight_plot_l1.setData([window.weights_l1]); window.weight_plot_l1.draw();"
      ],
      "text/plain": [
       "<IPython.core.display.Javascript object>"
      ]
     },
     "metadata": {},
     "output_type": "display_data"
    },
    {
     "data": {
      "application/javascript": [
       "window.outputs = [[1, 0.016937303479100822], [2, 0.9724664730722079], [3, 0.975666168561222], [4, 0.033479400104966986]]"
      ],
      "text/plain": [
       "<IPython.core.display.Javascript object>"
      ]
     },
     "metadata": {},
     "output_type": "display_data"
    },
    {
     "data": {
      "application/javascript": [
       "window.output_plot.setData([window.outputs]); window.output_plot.draw();"
      ],
      "text/plain": [
       "<IPython.core.display.Javascript object>"
      ]
     },
     "metadata": {},
     "output_type": "display_data"
    },
    {
     "data": {
      "application/javascript": [
       "$('#avg-error').html(0.02513)"
      ],
      "text/plain": [
       "<IPython.core.display.Javascript object>"
      ]
     },
     "metadata": {},
     "output_type": "display_data"
    },
    {
     "data": {
      "application/javascript": [
       "$('#iteration').html(2200)"
      ],
      "text/plain": [
       "<IPython.core.display.Javascript object>"
      ]
     },
     "metadata": {},
     "output_type": "display_data"
    },
    {
     "data": {
      "application/javascript": [
       "window.error.push([2200,0.02513])"
      ],
      "text/plain": [
       "<IPython.core.display.Javascript object>"
      ]
     },
     "metadata": {},
     "output_type": "display_data"
    },
    {
     "data": {
      "application/javascript": [
       "window.plot.setData([window.error]); window.plot.draw();"
      ],
      "text/plain": [
       "<IPython.core.display.Javascript object>"
      ]
     },
     "metadata": {},
     "output_type": "display_data"
    },
    {
     "data": {
      "application/javascript": [
       "window.weights_l0 = [[1, -6.1308488370364325], [2, -1.394014144008219], [3, -4.4728715223191875], [4, 2.879787838508793], [5, 4.796912453125052], [6, 3.87246969920208], [7, -4.278177571910842], [8, -4.817686894727803], [9, -2.233731114578428], [10, 0.1970183027983503], [11, 1.082401382489009], [12, -1.1945191370736048]]"
      ],
      "text/plain": [
       "<IPython.core.display.Javascript object>"
      ]
     },
     "metadata": {},
     "output_type": "display_data"
    },
    {
     "data": {
      "application/javascript": [
       "window.weight_plot_l0.setData([window.weights_l0]); window.weight_plot_l0.draw();"
      ],
      "text/plain": [
       "<IPython.core.display.Javascript object>"
      ]
     },
     "metadata": {},
     "output_type": "display_data"
    },
    {
     "data": {
      "application/javascript": [
       "window.weights_l1 = [[1, 8.423871695365186], [2, -4.113640960401055], [3, -5.3140162750159154], [4, 5.732252422949461]]"
      ],
      "text/plain": [
       "<IPython.core.display.Javascript object>"
      ]
     },
     "metadata": {},
     "output_type": "display_data"
    },
    {
     "data": {
      "application/javascript": [
       "window.weight_plot_l1.setData([window.weights_l1]); window.weight_plot_l1.draw();"
      ],
      "text/plain": [
       "<IPython.core.display.Javascript object>"
      ]
     },
     "metadata": {},
     "output_type": "display_data"
    },
    {
     "data": {
      "application/javascript": [
       "window.outputs = [[1, 0.01662436361377687], [2, 0.9729155707456278], [3, 0.9761007272450051], [4, 0.0329277252700363]]"
      ],
      "text/plain": [
       "<IPython.core.display.Javascript object>"
      ]
     },
     "metadata": {},
     "output_type": "display_data"
    },
    {
     "data": {
      "application/javascript": [
       "window.output_plot.setData([window.outputs]); window.output_plot.draw();"
      ],
      "text/plain": [
       "<IPython.core.display.Javascript object>"
      ]
     },
     "metadata": {},
     "output_type": "display_data"
    },
    {
     "data": {
      "application/javascript": [
       "$('#avg-error').html(0.02472)"
      ],
      "text/plain": [
       "<IPython.core.display.Javascript object>"
      ]
     },
     "metadata": {},
     "output_type": "display_data"
    },
    {
     "data": {
      "application/javascript": [
       "$('#iteration').html(2250)"
      ],
      "text/plain": [
       "<IPython.core.display.Javascript object>"
      ]
     },
     "metadata": {},
     "output_type": "display_data"
    },
    {
     "data": {
      "application/javascript": [
       "window.error.push([2250,0.02472])"
      ],
      "text/plain": [
       "<IPython.core.display.Javascript object>"
      ]
     },
     "metadata": {},
     "output_type": "display_data"
    },
    {
     "data": {
      "application/javascript": [
       "window.plot.setData([window.error]); window.plot.draw();"
      ],
      "text/plain": [
       "<IPython.core.display.Javascript object>"
      ]
     },
     "metadata": {},
     "output_type": "display_data"
    },
    {
     "data": {
      "application/javascript": [
       "window.weights_l0 = [[1, -6.142386881397064], [2, -1.4013302888415466], [3, -4.477331310032368], [4, 2.888678621280911], [5, 4.804952842734424], [6, 3.882872187011581], [7, -4.285088867677389], [8, -4.829022412571833], [9, -2.2354704735957043], [10, 0.20093819849999384], [11, 1.0843073927942606], [12, -1.1987917913247754]]"
      ],
      "text/plain": [
       "<IPython.core.display.Javascript object>"
      ]
     },
     "metadata": {},
     "output_type": "display_data"
    },
    {
     "data": {
      "application/javascript": [
       "window.weight_plot_l0.setData([window.weights_l0]); window.weight_plot_l0.draw();"
      ],
      "text/plain": [
       "<IPython.core.display.Javascript object>"
      ]
     },
     "metadata": {},
     "output_type": "display_data"
    },
    {
     "data": {
      "application/javascript": [
       "window.weights_l1 = [[1, 8.45378615502589], [2, -4.128368420317643], [3, -5.321739073045247], [4, 5.750205675175851]]"
      ],
      "text/plain": [
       "<IPython.core.display.Javascript object>"
      ]
     },
     "metadata": {},
     "output_type": "display_data"
    },
    {
     "data": {
      "application/javascript": [
       "window.weight_plot_l1.setData([window.weights_l1]); window.weight_plot_l1.draw();"
      ],
      "text/plain": [
       "<IPython.core.display.Javascript object>"
      ]
     },
     "metadata": {},
     "output_type": "display_data"
    },
    {
     "data": {
      "application/javascript": [
       "window.outputs = [[1, 0.01632648167026839], [2, 0.9733441375147591], [3, 0.97651455395737], [4, 0.0324014202660354]]"
      ],
      "text/plain": [
       "<IPython.core.display.Javascript object>"
      ]
     },
     "metadata": {},
     "output_type": "display_data"
    },
    {
     "data": {
      "application/javascript": [
       "window.output_plot.setData([window.outputs]); window.output_plot.draw();"
      ],
      "text/plain": [
       "<IPython.core.display.Javascript object>"
      ]
     },
     "metadata": {},
     "output_type": "display_data"
    },
    {
     "data": {
      "application/javascript": [
       "$('#avg-error').html(0.02432)"
      ],
      "text/plain": [
       "<IPython.core.display.Javascript object>"
      ]
     },
     "metadata": {},
     "output_type": "display_data"
    },
    {
     "data": {
      "application/javascript": [
       "$('#iteration').html(2300)"
      ],
      "text/plain": [
       "<IPython.core.display.Javascript object>"
      ]
     },
     "metadata": {},
     "output_type": "display_data"
    },
    {
     "data": {
      "application/javascript": [
       "window.error.push([2300,0.02432])"
      ],
      "text/plain": [
       "<IPython.core.display.Javascript object>"
      ]
     },
     "metadata": {},
     "output_type": "display_data"
    },
    {
     "data": {
      "application/javascript": [
       "window.plot.setData([window.error]); window.plot.draw();"
      ],
      "text/plain": [
       "<IPython.core.display.Javascript object>"
      ]
     },
     "metadata": {},
     "output_type": "display_data"
    },
    {
     "data": {
      "application/javascript": [
       "window.weights_l0 = [[1, -6.153555456527944], [2, -1.4084317896906104], [3, -4.481638602927514], [4, 2.8972735492836046], [5, 4.812731088453176], [6, 3.892946878991596], [7, -4.291769041304127], [8, -4.839981121733127], [9, -2.2371530458609734], [10, 0.20473725030561638], [11, 1.086143234952431], [12, -1.202918012223372]]"
      ],
      "text/plain": [
       "<IPython.core.display.Javascript object>"
      ]
     },
     "metadata": {},
     "output_type": "display_data"
    },
    {
     "data": {
      "application/javascript": [
       "window.weight_plot_l0.setData([window.weights_l0]); window.weight_plot_l0.draw();"
      ],
      "text/plain": [
       "<IPython.core.display.Javascript object>"
      ]
     },
     "metadata": {},
     "output_type": "display_data"
    },
    {
     "data": {
      "application/javascript": [
       "window.weights_l1 = [[1, 8.482816072741398], [2, -4.142664890346411], [3, -5.329199797194108], [4, 5.767594786278472]]"
      ],
      "text/plain": [
       "<IPython.core.display.Javascript object>"
      ]
     },
     "metadata": {},
     "output_type": "display_data"
    },
    {
     "data": {
      "application/javascript": [
       "window.weight_plot_l1.setData([window.weights_l1]); window.weight_plot_l1.draw();"
      ],
      "text/plain": [
       "<IPython.core.display.Javascript object>"
      ]
     },
     "metadata": {},
     "output_type": "display_data"
    },
    {
     "data": {
      "application/javascript": [
       "window.outputs = [[1, 0.01604252276990882], [2, 0.9737536697194619], [3, 0.9769092049975551], [4, 0.03189862759781248]]"
      ],
      "text/plain": [
       "<IPython.core.display.Javascript object>"
      ]
     },
     "metadata": {},
     "output_type": "display_data"
    },
    {
     "data": {
      "application/javascript": [
       "window.output_plot.setData([window.outputs]); window.output_plot.draw();"
      ],
      "text/plain": [
       "<IPython.core.display.Javascript object>"
      ]
     },
     "metadata": {},
     "output_type": "display_data"
    },
    {
     "data": {
      "application/javascript": [
       "$('#avg-error').html(0.02394)"
      ],
      "text/plain": [
       "<IPython.core.display.Javascript object>"
      ]
     },
     "metadata": {},
     "output_type": "display_data"
    },
    {
     "data": {
      "application/javascript": [
       "$('#iteration').html(2350)"
      ],
      "text/plain": [
       "<IPython.core.display.Javascript object>"
      ]
     },
     "metadata": {},
     "output_type": "display_data"
    },
    {
     "data": {
      "application/javascript": [
       "window.error.push([2350,0.02394])"
      ],
      "text/plain": [
       "<IPython.core.display.Javascript object>"
      ]
     },
     "metadata": {},
     "output_type": "display_data"
    },
    {
     "data": {
      "application/javascript": [
       "window.plot.setData([window.error]); window.plot.draw();"
      ],
      "text/plain": [
       "<IPython.core.display.Javascript object>"
      ]
     },
     "metadata": {},
     "output_type": "display_data"
    },
    {
     "data": {
      "application/javascript": [
       "window.weights_l0 = [[1, -6.164376450307179], [2, -1.4153306196548119], [3, -4.485802825387435], [4, 2.905590527087521], [5, 4.820262914361013], [6, 3.9027130055721084], [7, -4.298232133707654], [8, -4.85058587687416], [9, -2.2387822451337795], [10, 0.2084223974048848], [11, 1.08791343177258], [12, -1.206906787976974]]"
      ],
      "text/plain": [
       "<IPython.core.display.Javascript object>"
      ]
     },
     "metadata": {},
     "output_type": "display_data"
    },
    {
     "data": {
      "application/javascript": [
       "window.weight_plot_l0.setData([window.weights_l0]); window.weight_plot_l0.draw();"
      ],
      "text/plain": [
       "<IPython.core.display.Javascript object>"
      ]
     },
     "metadata": {},
     "output_type": "display_data"
    },
    {
     "data": {
      "application/javascript": [
       "window.weights_l1 = [[1, 8.511011589665433], [2, -4.156554611256692], [3, -5.336414524393768], [4, 5.784452905193732]]"
      ],
      "text/plain": [
       "<IPython.core.display.Javascript object>"
      ]
     },
     "metadata": {},
     "output_type": "display_data"
    },
    {
     "data": {
      "application/javascript": [
       "window.weight_plot_l1.setData([window.weights_l1]); window.weight_plot_l1.draw();"
      ],
      "text/plain": [
       "<IPython.core.display.Javascript object>"
      ]
     },
     "metadata": {},
     "output_type": "display_data"
    },
    {
     "data": {
      "application/javascript": [
       "window.outputs = [[1, 0.01577146648123173], [2, 0.9741455165829972], [3, 0.9772860800579461], [4, 0.03141767311241055]]"
      ],
      "text/plain": [
       "<IPython.core.display.Javascript object>"
      ]
     },
     "metadata": {},
     "output_type": "display_data"
    },
    {
     "data": {
      "application/javascript": [
       "window.output_plot.setData([window.outputs]); window.output_plot.draw();"
      ],
      "text/plain": [
       "<IPython.core.display.Javascript object>"
      ]
     },
     "metadata": {},
     "output_type": "display_data"
    },
    {
     "data": {
      "application/javascript": [
       "$('#avg-error').html(0.02358)"
      ],
      "text/plain": [
       "<IPython.core.display.Javascript object>"
      ]
     },
     "metadata": {},
     "output_type": "display_data"
    },
    {
     "data": {
      "application/javascript": [
       "$('#iteration').html(2400)"
      ],
      "text/plain": [
       "<IPython.core.display.Javascript object>"
      ]
     },
     "metadata": {},
     "output_type": "display_data"
    },
    {
     "data": {
      "application/javascript": [
       "window.error.push([2400,0.02358])"
      ],
      "text/plain": [
       "<IPython.core.display.Javascript object>"
      ]
     },
     "metadata": {},
     "output_type": "display_data"
    },
    {
     "data": {
      "application/javascript": [
       "window.plot.setData([window.error]); window.plot.draw();"
      ],
      "text/plain": [
       "<IPython.core.display.Javascript object>"
      ]
     },
     "metadata": {},
     "output_type": "display_data"
    },
    {
     "data": {
      "application/javascript": [
       "window.weights_l0 = [[1, -6.174869897543085], [2, -1.4220377855839612], [3, -4.489832577748287], [4, 2.9136459214406134], [5, 4.827562699984835], [6, 3.9121881809281533], [7, -4.304490975413912], [8, -4.860857563344163], [9, -2.240361192837308], [10, 0.21200000741338032], [11, 1.089622098434497], [12, -1.2107663278725393]]"
      ],
      "text/plain": [
       "<IPython.core.display.Javascript object>"
      ]
     },
     "metadata": {},
     "output_type": "display_data"
    },
    {
     "data": {
      "application/javascript": [
       "window.weight_plot_l0.setData([window.weights_l0]); window.weight_plot_l0.draw();"
      ],
      "text/plain": [
       "<IPython.core.display.Javascript object>"
      ]
     },
     "metadata": {},
     "output_type": "display_data"
    },
    {
     "data": {
      "application/javascript": [
       "window.weights_l1 = [[1, 8.538418732238753], [2, -4.170059847308351], [3, -5.343397935087074], [4, 5.800810388732693]]"
      ],
      "text/plain": [
       "<IPython.core.display.Javascript object>"
      ]
     },
     "metadata": {},
     "output_type": "display_data"
    },
    {
     "data": {
      "application/javascript": [
       "window.weight_plot_l1.setData([window.weights_l1]); window.weight_plot_l1.draw();"
      ],
      "text/plain": [
       "<IPython.core.display.Javascript object>"
      ]
     },
     "metadata": {},
     "output_type": "display_data"
    },
    {
     "data": {
      "application/javascript": [
       "window.outputs = [[1, 0.01551239253607829], [2, 0.9745208981981125], [3, 0.9776464417465024], [4, 0.030957043504763984]]"
      ],
      "text/plain": [
       "<IPython.core.display.Javascript object>"
      ]
     },
     "metadata": {},
     "output_type": "display_data"
    },
    {
     "data": {
      "application/javascript": [
       "window.output_plot.setData([window.outputs]); window.output_plot.draw();"
      ],
      "text/plain": [
       "<IPython.core.display.Javascript object>"
      ]
     },
     "metadata": {},
     "output_type": "display_data"
    },
    {
     "data": {
      "application/javascript": [
       "$('#avg-error').html(0.02323)"
      ],
      "text/plain": [
       "<IPython.core.display.Javascript object>"
      ]
     },
     "metadata": {},
     "output_type": "display_data"
    },
    {
     "data": {
      "application/javascript": [
       "$('#iteration').html(2450)"
      ],
      "text/plain": [
       "<IPython.core.display.Javascript object>"
      ]
     },
     "metadata": {},
     "output_type": "display_data"
    },
    {
     "data": {
      "application/javascript": [
       "window.error.push([2450,0.02323])"
      ],
      "text/plain": [
       "<IPython.core.display.Javascript object>"
      ]
     },
     "metadata": {},
     "output_type": "display_data"
    },
    {
     "data": {
      "application/javascript": [
       "window.plot.setData([window.error]); window.plot.draw();"
      ],
      "text/plain": [
       "<IPython.core.display.Javascript object>"
      ]
     },
     "metadata": {},
     "output_type": "display_data"
    },
    {
     "data": {
      "application/javascript": [
       "window.weights_l0 = [[1, -6.1850541811868665], [2, -1.4285634288168674], [3, -4.493735728181903], [4, 2.921454730030836], [5, 4.834643627543423], [6, 3.9213885774399477], [7, -4.310557319864807], [8, -4.8708153140817], [9, -2.2418927500949404], [10, 0.21547593689428643], [11, 1.0912729890465347], [12, -1.214504148296121]]"
      ],
      "text/plain": [
       "<IPython.core.display.Javascript object>"
      ]
     },
     "metadata": {},
     "output_type": "display_data"
    },
    {
     "data": {
      "application/javascript": [
       "window.weight_plot_l0.setData([window.weights_l0]); window.weight_plot_l0.draw();"
      ],
      "text/plain": [
       "<IPython.core.display.Javascript object>"
      ]
     },
     "metadata": {},
     "output_type": "display_data"
    },
    {
     "data": {
      "application/javascript": [
       "window.weights_l1 = [[1, 8.565079848195975], [2, -4.183201094540358], [3, -5.350163468017774], [4, 5.816695103626834]]"
      ],
      "text/plain": [
       "<IPython.core.display.Javascript object>"
      ]
     },
     "metadata": {},
     "output_type": "display_data"
    },
    {
     "data": {
      "application/javascript": [
       "window.weight_plot_l1.setData([window.weights_l1]); window.weight_plot_l1.draw();"
      ],
      "text/plain": [
       "<IPython.core.display.Javascript object>"
      ]
     },
     "metadata": {},
     "output_type": "display_data"
    },
    {
     "data": {
      "application/javascript": [
       "window.outputs = [[1, 0.015264468651501715], [2, 0.9748809209076077], [3, 0.9779914322328281], [4, 0.030515367092701223]]"
      ],
      "text/plain": [
       "<IPython.core.display.Javascript object>"
      ]
     },
     "metadata": {},
     "output_type": "display_data"
    },
    {
     "data": {
      "application/javascript": [
       "window.output_plot.setData([window.outputs]); window.output_plot.draw();"
      ],
      "text/plain": [
       "<IPython.core.display.Javascript object>"
      ]
     },
     "metadata": {},
     "output_type": "display_data"
    },
    {
     "data": {
      "application/javascript": [
       "$('#avg-error').html(0.02289)"
      ],
      "text/plain": [
       "<IPython.core.display.Javascript object>"
      ]
     },
     "metadata": {},
     "output_type": "display_data"
    },
    {
     "data": {
      "application/javascript": [
       "$('#iteration').html(2500)"
      ],
      "text/plain": [
       "<IPython.core.display.Javascript object>"
      ]
     },
     "metadata": {},
     "output_type": "display_data"
    },
    {
     "data": {
      "application/javascript": [
       "window.error.push([2500,0.02289])"
      ],
      "text/plain": [
       "<IPython.core.display.Javascript object>"
      ]
     },
     "metadata": {},
     "output_type": "display_data"
    },
    {
     "data": {
      "application/javascript": [
       "window.plot.setData([window.error]); window.plot.draw();"
      ],
      "text/plain": [
       "<IPython.core.display.Javascript object>"
      ]
     },
     "metadata": {},
     "output_type": "display_data"
    },
    {
     "data": {
      "application/javascript": [
       "window.weights_l0 = [[1, -6.1949462071497114], [2, -1.434916913169186], [3, -4.497519492247482], [4, 2.9290307279280134], [5, 4.841517809729783], [6, 3.9303290773824786], [7, -4.316441959031063], [8, -4.880476697718879], [9, -2.24337954553223], [10, 0.21885558412594217], [11, 1.0928695368282335], [12, -1.2181271473217854]]"
      ],
      "text/plain": [
       "<IPython.core.display.Javascript object>"
      ]
     },
     "metadata": {},
     "output_type": "display_data"
    },
    {
     "data": {
      "application/javascript": [
       "window.weight_plot_l0.setData([window.weights_l0]); window.weight_plot_l0.draw();"
      ],
      "text/plain": [
       "<IPython.core.display.Javascript object>"
      ]
     },
     "metadata": {},
     "output_type": "display_data"
    },
    {
     "data": {
      "application/javascript": [
       "window.weights_l1 = [[1, 8.591033986522799], [2, -4.195997262411683], [3, -5.356723454359284], [4, 5.832132689068597]]"
      ],
      "text/plain": [
       "<IPython.core.display.Javascript object>"
      ]
     },
     "metadata": {},
     "output_type": "display_data"
    },
    {
     "data": {
      "application/javascript": [
       "window.weight_plot_l1.setData([window.weights_l1]); window.weight_plot_l1.draw();"
      ],
      "text/plain": [
       "<IPython.core.display.Javascript object>"
      ]
     },
     "metadata": {},
     "output_type": "display_data"
    },
    {
     "data": {
      "application/javascript": [
       "window.outputs = [[1, 0.015026940101954706], [2, 0.9752265905125774], [3, 0.9783220875033983], [4, 0.030091397316003625]]"
      ],
      "text/plain": [
       "<IPython.core.display.Javascript object>"
      ]
     },
     "metadata": {},
     "output_type": "display_data"
    },
    {
     "data": {
      "application/javascript": [
       "window.output_plot.setData([window.outputs]); window.output_plot.draw();"
      ],
      "text/plain": [
       "<IPython.core.display.Javascript object>"
      ]
     },
     "metadata": {},
     "output_type": "display_data"
    },
    {
     "data": {
      "application/javascript": [
       "$('#avg-error').html(0.02257)"
      ],
      "text/plain": [
       "<IPython.core.display.Javascript object>"
      ]
     },
     "metadata": {},
     "output_type": "display_data"
    },
    {
     "data": {
      "application/javascript": [
       "$('#iteration').html(2550)"
      ],
      "text/plain": [
       "<IPython.core.display.Javascript object>"
      ]
     },
     "metadata": {},
     "output_type": "display_data"
    },
    {
     "data": {
      "application/javascript": [
       "window.error.push([2550,0.02257])"
      ],
      "text/plain": [
       "<IPython.core.display.Javascript object>"
      ]
     },
     "metadata": {},
     "output_type": "display_data"
    },
    {
     "data": {
      "application/javascript": [
       "window.plot.setData([window.error]); window.plot.draw();"
      ],
      "text/plain": [
       "<IPython.core.display.Javascript object>"
      ]
     },
     "metadata": {},
     "output_type": "display_data"
    },
    {
     "data": {
      "application/javascript": [
       "window.weights_l0 = [[1, -6.204561556752114], [2, -1.441106902054471], [3, -4.501190502032279], [4, 2.9363865951330586], [5, 4.8481964010213], [6, 3.9390234053036632], [7, -4.322154824058287], [8, -4.8898578823277115], [9, -2.244823999494537], [10, 0.22214393527211695], [11, 1.0944148889276915], [12, -1.22164166963177]]"
      ],
      "text/plain": [
       "<IPython.core.display.Javascript object>"
      ]
     },
     "metadata": {},
     "output_type": "display_data"
    },
    {
     "data": {
      "application/javascript": [
       "window.weight_plot_l0.setData([window.weights_l0]); window.weight_plot_l0.draw();"
      ],
      "text/plain": [
       "<IPython.core.display.Javascript object>"
      ]
     },
     "metadata": {},
     "output_type": "display_data"
    },
    {
     "data": {
      "application/javascript": [
       "window.weights_l1 = [[1, 8.616317229768722], [2, -4.20846583277355], [3, -5.363089234383279], [4, 5.847146785759773]]"
      ],
      "text/plain": [
       "<IPython.core.display.Javascript object>"
      ]
     },
     "metadata": {},
     "output_type": "display_data"
    },
    {
     "data": {
      "application/javascript": [
       "window.weight_plot_l1.setData([window.weights_l1]); window.weight_plot_l1.draw();"
      ],
      "text/plain": [
       "<IPython.core.display.Javascript object>"
      ]
     },
     "metadata": {},
     "output_type": "display_data"
    },
    {
     "data": {
      "application/javascript": [
       "window.outputs = [[1, 0.014799120753479562], [2, 0.9755588236607167], [3, 0.9786393496196131], [4, 0.029683998516292553]]"
      ],
      "text/plain": [
       "<IPython.core.display.Javascript object>"
      ]
     },
     "metadata": {},
     "output_type": "display_data"
    },
    {
     "data": {
      "application/javascript": [
       "window.output_plot.setData([window.outputs]); window.output_plot.draw();"
      ],
      "text/plain": [
       "<IPython.core.display.Javascript object>"
      ]
     },
     "metadata": {},
     "output_type": "display_data"
    },
    {
     "data": {
      "application/javascript": [
       "$('#avg-error').html(0.02226)"
      ],
      "text/plain": [
       "<IPython.core.display.Javascript object>"
      ]
     },
     "metadata": {},
     "output_type": "display_data"
    },
    {
     "data": {
      "application/javascript": [
       "$('#iteration').html(2600)"
      ],
      "text/plain": [
       "<IPython.core.display.Javascript object>"
      ]
     },
     "metadata": {},
     "output_type": "display_data"
    },
    {
     "data": {
      "application/javascript": [
       "window.error.push([2600,0.02226])"
      ],
      "text/plain": [
       "<IPython.core.display.Javascript object>"
      ]
     },
     "metadata": {},
     "output_type": "display_data"
    },
    {
     "data": {
      "application/javascript": [
       "window.plot.setData([window.error]); window.plot.draw();"
      ],
      "text/plain": [
       "<IPython.core.display.Javascript object>"
      ]
     },
     "metadata": {},
     "output_type": "display_data"
    },
    {
     "data": {
      "application/javascript": [
       "window.weights_l0 = [[1, -6.213914620136507], [2, -1.447141426306099], [3, -4.504754866462967], [4, 2.943534028066865], [5, 4.8546896949875915], [6, 3.9474842439544497], [7, -4.327705073197667], [8, -4.898973778474259], [9, -2.2462283452175393], [10, 0.22534560491613229], [11, 1.0959119367030485], [12, -1.225053563222715]]"
      ],
      "text/plain": [
       "<IPython.core.display.Javascript object>"
      ]
     },
     "metadata": {},
     "output_type": "display_data"
    },
    {
     "data": {
      "application/javascript": [
       "window.weight_plot_l0.setData([window.weights_l0]); window.weight_plot_l0.draw();"
      ],
      "text/plain": [
       "<IPython.core.display.Javascript object>"
      ]
     },
     "metadata": {},
     "output_type": "display_data"
    },
    {
     "data": {
      "application/javascript": [
       "window.weights_l1 = [[1, 8.640962985688796], [2, -4.220622999477062], [3, -5.369271259307621], [4, 5.861759236443243]]"
      ],
      "text/plain": [
       "<IPython.core.display.Javascript object>"
      ]
     },
     "metadata": {},
     "output_type": "display_data"
    },
    {
     "data": {
      "application/javascript": [
       "window.weight_plot_l1.setData([window.weights_l1]); window.weight_plot_l1.draw();"
      ],
      "text/plain": [
       "<IPython.core.display.Javascript object>"
      ]
     },
     "metadata": {},
     "output_type": "display_data"
    },
    {
     "data": {
      "application/javascript": [
       "window.outputs = [[1, 0.01458038532484556], [2, 0.9758784577028813], [3, 0.9789440772996814], [4, 0.029292133635483063]]"
      ],
      "text/plain": [
       "<IPython.core.display.Javascript object>"
      ]
     },
     "metadata": {},
     "output_type": "display_data"
    },
    {
     "data": {
      "application/javascript": [
       "window.output_plot.setData([window.outputs]); window.output_plot.draw();"
      ],
      "text/plain": [
       "<IPython.core.display.Javascript object>"
      ]
     },
     "metadata": {},
     "output_type": "display_data"
    },
    {
     "data": {
      "application/javascript": [
       "$('#avg-error').html(0.02197)"
      ],
      "text/plain": [
       "<IPython.core.display.Javascript object>"
      ]
     },
     "metadata": {},
     "output_type": "display_data"
    },
    {
     "data": {
      "application/javascript": [
       "$('#iteration').html(2650)"
      ],
      "text/plain": [
       "<IPython.core.display.Javascript object>"
      ]
     },
     "metadata": {},
     "output_type": "display_data"
    },
    {
     "data": {
      "application/javascript": [
       "window.error.push([2650,0.02197])"
      ],
      "text/plain": [
       "<IPython.core.display.Javascript object>"
      ]
     },
     "metadata": {},
     "output_type": "display_data"
    },
    {
     "data": {
      "application/javascript": [
       "window.plot.setData([window.error]); window.plot.draw();"
      ],
      "text/plain": [
       "<IPython.core.display.Javascript object>"
      ]
     },
     "metadata": {},
     "output_type": "display_data"
    },
    {
     "data": {
      "application/javascript": [
       "window.weights_l0 = [[1, -6.223018713412012], [2, -1.453027944010581], [3, -4.508218224097425], [4, 2.950483837350209], [5, 4.861007209646207], [6, 3.955723336152657], [7, -4.333101168889145], [8, -4.907838164621357], [9, -2.2475946473965838], [10, 0.2284648717610553], [11, 1.0973633421526798], [12, -1.2283682291051123]]"
      ],
      "text/plain": [
       "<IPython.core.display.Javascript object>"
      ]
     },
     "metadata": {},
     "output_type": "display_data"
    },
    {
     "data": {
      "application/javascript": [
       "window.weight_plot_l0.setData([window.weights_l0]); window.weight_plot_l0.draw();"
      ],
      "text/plain": [
       "<IPython.core.display.Javascript object>"
      ]
     },
     "metadata": {},
     "output_type": "display_data"
    },
    {
     "data": {
      "application/javascript": [
       "window.weights_l1 = [[1, 8.6650022440286], [2, -4.232483791372889], [3, -5.375279180511544], [4, 5.875990262055239]]"
      ],
      "text/plain": [
       "<IPython.core.display.Javascript object>"
      ]
     },
     "metadata": {},
     "output_type": "display_data"
    },
    {
     "data": {
      "application/javascript": [
       "window.weight_plot_l1.setData([window.weights_l1]); window.weight_plot_l1.draw();"
      ],
      "text/plain": [
       "<IPython.core.display.Javascript object>"
      ]
     },
     "metadata": {},
     "output_type": "display_data"
    },
    {
     "data": {
      "application/javascript": [
       "window.outputs = [[1, 0.014370162682966344], [2, 0.9761862592548354], [3, 0.9792370550874363], [4, 0.028914853535173562]]"
      ],
      "text/plain": [
       "<IPython.core.display.Javascript object>"
      ]
     },
     "metadata": {},
     "output_type": "display_data"
    },
    {
     "data": {
      "application/javascript": [
       "window.output_plot.setData([window.outputs]); window.output_plot.draw();"
      ],
      "text/plain": [
       "<IPython.core.display.Javascript object>"
      ]
     },
     "metadata": {},
     "output_type": "display_data"
    },
    {
     "data": {
      "application/javascript": [
       "$('#avg-error').html(0.02168)"
      ],
      "text/plain": [
       "<IPython.core.display.Javascript object>"
      ]
     },
     "metadata": {},
     "output_type": "display_data"
    },
    {
     "data": {
      "application/javascript": [
       "$('#iteration').html(2700)"
      ],
      "text/plain": [
       "<IPython.core.display.Javascript object>"
      ]
     },
     "metadata": {},
     "output_type": "display_data"
    },
    {
     "data": {
      "application/javascript": [
       "window.error.push([2700,0.02168])"
      ],
      "text/plain": [
       "<IPython.core.display.Javascript object>"
      ]
     },
     "metadata": {},
     "output_type": "display_data"
    },
    {
     "data": {
      "application/javascript": [
       "window.plot.setData([window.error]); window.plot.draw();"
      ],
      "text/plain": [
       "<IPython.core.display.Javascript object>"
      ]
     },
     "metadata": {},
     "output_type": "display_data"
    },
    {
     "data": {
      "application/javascript": [
       "window.weights_l0 = [[1, -6.231886181843083], [2, -1.4587733934527076], [3, -4.511585789486687], [4, 2.9572460338360185], [5, 4.867157762575957], [6, 3.963751574570794], [7, -4.338350945554027], [8, -4.916463797414357], [9, -2.2489248185269624], [10, 0.23150571016853558], [11, 1.0987715610619206], [12, -1.2315906650022252]]"
      ],
      "text/plain": [
       "<IPython.core.display.Javascript object>"
      ]
     },
     "metadata": {},
     "output_type": "display_data"
    },
    {
     "data": {
      "application/javascript": [
       "window.weight_plot_l0.setData([window.weights_l0]); window.weight_plot_l0.draw();"
      ],
      "text/plain": [
       "<IPython.core.display.Javascript object>"
      ]
     },
     "metadata": {},
     "output_type": "display_data"
    },
    {
     "data": {
      "application/javascript": [
       "window.weights_l1 = [[1, 8.688463803321309], [2, -4.244062181013233], [3, -5.381121927940034], [4, 5.889858616954103]]"
      ],
      "text/plain": [
       "<IPython.core.display.Javascript object>"
      ]
     },
     "metadata": {},
     "output_type": "display_data"
    },
    {
     "data": {
      "application/javascript": [
       "window.weight_plot_l1.setData([window.weights_l1]); window.weight_plot_l1.draw();"
      ],
      "text/plain": [
       "<IPython.core.display.Javascript object>"
      ]
     },
     "metadata": {},
     "output_type": "display_data"
    },
    {
     "data": {
      "application/javascript": [
       "window.outputs = [[1, 0.014167930013886098], [2, 0.9764829316599095], [3, 0.9795190013248338], [4, 0.028551287691244404]]"
      ],
      "text/plain": [
       "<IPython.core.display.Javascript object>"
      ]
     },
     "metadata": {},
     "output_type": "display_data"
    },
    {
     "data": {
      "application/javascript": [
       "window.output_plot.setData([window.outputs]); window.output_plot.draw();"
      ],
      "text/plain": [
       "<IPython.core.display.Javascript object>"
      ]
     },
     "metadata": {},
     "output_type": "display_data"
    },
    {
     "data": {
      "application/javascript": [
       "$('#avg-error').html(0.02140)"
      ],
      "text/plain": [
       "<IPython.core.display.Javascript object>"
      ]
     },
     "metadata": {},
     "output_type": "display_data"
    },
    {
     "data": {
      "application/javascript": [
       "$('#iteration').html(2750)"
      ],
      "text/plain": [
       "<IPython.core.display.Javascript object>"
      ]
     },
     "metadata": {},
     "output_type": "display_data"
    },
    {
     "data": {
      "application/javascript": [
       "window.error.push([2750,0.02140])"
      ],
      "text/plain": [
       "<IPython.core.display.Javascript object>"
      ]
     },
     "metadata": {},
     "output_type": "display_data"
    },
    {
     "data": {
      "application/javascript": [
       "window.plot.setData([window.error]); window.plot.draw();"
      ],
      "text/plain": [
       "<IPython.core.display.Javascript object>"
      ]
     },
     "metadata": {},
     "output_type": "display_data"
    },
    {
     "data": {
      "application/javascript": [
       "window.weights_l0 = [[1, -6.240528491020916], [2, -1.4643842401003961], [3, -4.514862394017944], [4, 2.96382990453715], [5, 4.87314953722013], [6, 3.971579081118308], [7, -4.3434616694005985], [8, -4.924862508971703], [9, -2.2502206333267094], [10, 0.23447181810254158], [11, 1.100138863339479], [12, -1.2347255038910145]]"
      ],
      "text/plain": [
       "<IPython.core.display.Javascript object>"
      ]
     },
     "metadata": {},
     "output_type": "display_data"
    },
    {
     "data": {
      "application/javascript": [
       "window.weight_plot_l0.setData([window.weights_l0]); window.weight_plot_l0.draw();"
      ],
      "text/plain": [
       "<IPython.core.display.Javascript object>"
      ]
     },
     "metadata": {},
     "output_type": "display_data"
    },
    {
     "data": {
      "application/javascript": [
       "window.weights_l1 = [[1, 8.71137447179236], [2, -4.25537118100068], [3, -5.386807779221698], [4, 5.90338172612514]]"
      ],
      "text/plain": [
       "<IPython.core.display.Javascript object>"
      ]
     },
     "metadata": {},
     "output_type": "display_data"
    },
    {
     "data": {
      "application/javascript": [
       "window.weight_plot_l1.setData([window.weights_l1]); window.weight_plot_l1.draw();"
      ],
      "text/plain": [
       "<IPython.core.display.Javascript object>"
      ]
     },
     "metadata": {},
     "output_type": "display_data"
    },
    {
     "data": {
      "application/javascript": [
       "window.outputs = [[1, 0.013973207737971529], [2, 0.97676912151502], [3, 0.9797905751075277], [4, 0.028200636059829604]]"
      ],
      "text/plain": [
       "<IPython.core.display.Javascript object>"
      ]
     },
     "metadata": {},
     "output_type": "display_data"
    },
    {
     "data": {
      "application/javascript": [
       "window.output_plot.setData([window.outputs]); window.output_plot.draw();"
      ],
      "text/plain": [
       "<IPython.core.display.Javascript object>"
      ]
     },
     "metadata": {},
     "output_type": "display_data"
    },
    {
     "data": {
      "application/javascript": [
       "$('#avg-error').html(0.02114)"
      ],
      "text/plain": [
       "<IPython.core.display.Javascript object>"
      ]
     },
     "metadata": {},
     "output_type": "display_data"
    },
    {
     "data": {
      "application/javascript": [
       "$('#iteration').html(2800)"
      ],
      "text/plain": [
       "<IPython.core.display.Javascript object>"
      ]
     },
     "metadata": {},
     "output_type": "display_data"
    },
    {
     "data": {
      "application/javascript": [
       "window.error.push([2800,0.02114])"
      ],
      "text/plain": [
       "<IPython.core.display.Javascript object>"
      ]
     },
     "metadata": {},
     "output_type": "display_data"
    },
    {
     "data": {
      "application/javascript": [
       "window.plot.setData([window.error]); window.plot.draw();"
      ],
      "text/plain": [
       "<IPython.core.display.Javascript object>"
      ]
     },
     "metadata": {},
     "output_type": "display_data"
    },
    {
     "data": {
      "application/javascript": [
       "window.weights_l0 = [[1, -6.248956307650578], [2, -1.4698665184147928], [3, -4.518052522003085], [4, 2.970244079832064], [5, 4.878990141584481], [6, 3.9792152773261633], [7, -4.348440091338815], [8, -4.933045292964199], [9, -2.251483741504188], [10, 0.2373666419566569], [11, 1.1014673509395716], [12, -1.2377770480935013]]"
      ],
      "text/plain": [
       "<IPython.core.display.Javascript object>"
      ]
     },
     "metadata": {},
     "output_type": "display_data"
    },
    {
     "data": {
      "application/javascript": [
       "window.weight_plot_l0.setData([window.weights_l0]); window.weight_plot_l0.draw();"
      ],
      "text/plain": [
       "<IPython.core.display.Javascript object>"
      ]
     },
     "metadata": {},
     "output_type": "display_data"
    },
    {
     "data": {
      "application/javascript": [
       "window.weights_l1 = [[1, 8.733759245830413], [2, -4.266422929627317], [3, -5.392344420780617], [4, 5.91657580680458]]"
      ],
      "text/plain": [
       "<IPython.core.display.Javascript object>"
      ]
     },
     "metadata": {},
     "output_type": "display_data"
    },
    {
     "data": {
      "application/javascript": [
       "window.weight_plot_l1.setData([window.weights_l1]); window.weight_plot_l1.draw();"
      ],
      "text/plain": [
       "<IPython.core.display.Javascript object>"
      ]
     },
     "metadata": {},
     "output_type": "display_data"
    },
    {
     "data": {
      "application/javascript": [
       "window.outputs = [[1, 0.013785555060091367], [2, 0.9770454243954739], [3, 0.9800523823726878], [4, 0.027862161944825787]]"
      ],
      "text/plain": [
       "<IPython.core.display.Javascript object>"
      ]
     },
     "metadata": {},
     "output_type": "display_data"
    },
    {
     "data": {
      "application/javascript": [
       "window.output_plot.setData([window.outputs]); window.output_plot.draw();"
      ],
      "text/plain": [
       "<IPython.core.display.Javascript object>"
      ]
     },
     "metadata": {},
     "output_type": "display_data"
    },
    {
     "data": {
      "application/javascript": [
       "$('#avg-error').html(0.02088)"
      ],
      "text/plain": [
       "<IPython.core.display.Javascript object>"
      ]
     },
     "metadata": {},
     "output_type": "display_data"
    },
    {
     "data": {
      "application/javascript": [
       "$('#iteration').html(2850)"
      ],
      "text/plain": [
       "<IPython.core.display.Javascript object>"
      ]
     },
     "metadata": {},
     "output_type": "display_data"
    },
    {
     "data": {
      "application/javascript": [
       "window.error.push([2850,0.02088])"
      ],
      "text/plain": [
       "<IPython.core.display.Javascript object>"
      ]
     },
     "metadata": {},
     "output_type": "display_data"
    },
    {
     "data": {
      "application/javascript": [
       "window.plot.setData([window.error]); window.plot.draw();"
      ],
      "text/plain": [
       "<IPython.core.display.Javascript object>"
      ]
     },
     "metadata": {},
     "output_type": "display_data"
    },
    {
     "data": {
      "application/javascript": [
       "window.weights_l0 = [[1, -6.257179571334561], [2, -1.475225869153198], [3, -4.521160342657275], [4, 2.976496593116183], [5, 4.8846866603477155], [6, 3.98666894692501], [7, -4.353292493929441], [8, -4.941022380988982], [9, -2.252715679091972], [10, 0.24019339867111805], [11, 1.1027589737026096], [12, -1.2407492995166443]]"
      ],
      "text/plain": [
       "<IPython.core.display.Javascript object>"
      ]
     },
     "metadata": {},
     "output_type": "display_data"
    },
    {
     "data": {
      "application/javascript": [
       "window.weight_plot_l0.setData([window.weights_l0]); window.weight_plot_l0.draw();"
      ],
      "text/plain": [
       "<IPython.core.display.Javascript object>"
      ]
     },
     "metadata": {},
     "output_type": "display_data"
    },
    {
     "data": {
      "application/javascript": [
       "window.weights_l1 = [[1, 8.755641468957265], [2, -4.277228767198473], [3, -5.397739002022343], [4, 5.929455976589313]]"
      ],
      "text/plain": [
       "<IPython.core.display.Javascript object>"
      ]
     },
     "metadata": {},
     "output_type": "display_data"
    },
    {
     "data": {
      "application/javascript": [
       "window.weight_plot_l1.setData([window.weights_l1]); window.weight_plot_l1.draw();"
      ],
      "text/plain": [
       "<IPython.core.display.Javascript object>"
      ]
     },
     "metadata": {},
     "output_type": "display_data"
    },
    {
     "data": {
      "application/javascript": [
       "window.outputs = [[1, 0.013604566063584076], [2, 0.9773123898919398], [3, 0.9803049812436241], [4, 0.027535185724824728]]"
      ],
      "text/plain": [
       "<IPython.core.display.Javascript object>"
      ]
     },
     "metadata": {},
     "output_type": "display_data"
    },
    {
     "data": {
      "application/javascript": [
       "window.output_plot.setData([window.outputs]); window.output_plot.draw();"
      ],
      "text/plain": [
       "<IPython.core.display.Javascript object>"
      ]
     },
     "metadata": {},
     "output_type": "display_data"
    },
    {
     "data": {
      "application/javascript": [
       "$('#avg-error').html(0.02063)"
      ],
      "text/plain": [
       "<IPython.core.display.Javascript object>"
      ]
     },
     "metadata": {},
     "output_type": "display_data"
    },
    {
     "data": {
      "application/javascript": [
       "$('#iteration').html(2900)"
      ],
      "text/plain": [
       "<IPython.core.display.Javascript object>"
      ]
     },
     "metadata": {},
     "output_type": "display_data"
    },
    {
     "data": {
      "application/javascript": [
       "window.error.push([2900,0.02063])"
      ],
      "text/plain": [
       "<IPython.core.display.Javascript object>"
      ]
     },
     "metadata": {},
     "output_type": "display_data"
    },
    {
     "data": {
      "application/javascript": [
       "window.plot.setData([window.error]); window.plot.draw();"
      ],
      "text/plain": [
       "<IPython.core.display.Javascript object>"
      ]
     },
     "metadata": {},
     "output_type": "display_data"
    },
    {
     "data": {
      "application/javascript": [
       "window.weights_l0 = [[1, -6.265207558524823], [2, -1.4804675727342242], [3, -4.524189738512853], [4, 2.982594933889088], [5, 4.890245701247378], [6, 3.993948291628822], [7, -4.358024733151863], [8, -4.948803310514328], [9, -2.253917878534825], [10, 0.24295509548553096], [11, 1.1040155433953254], [12, -1.2436459865475726]]"
      ],
      "text/plain": [
       "<IPython.core.display.Javascript object>"
      ]
     },
     "metadata": {},
     "output_type": "display_data"
    },
    {
     "data": {
      "application/javascript": [
       "window.weight_plot_l0.setData([window.weights_l0]); window.weight_plot_l0.draw();"
      ],
      "text/plain": [
       "<IPython.core.display.Javascript object>"
      ]
     },
     "metadata": {},
     "output_type": "display_data"
    },
    {
     "data": {
      "application/javascript": [
       "window.weights_l1 = [[1, 8.777042973792561], [2, -4.287799304228465], [3, -5.402998183508838], [4, 5.942036349787136]]"
      ],
      "text/plain": [
       "<IPython.core.display.Javascript object>"
      ]
     },
     "metadata": {},
     "output_type": "display_data"
    },
    {
     "data": {
      "application/javascript": [
       "window.weight_plot_l1.setData([window.weights_l1]); window.weight_plot_l1.draw();"
      ],
      "text/plain": [
       "<IPython.core.display.Javascript object>"
      ]
     },
     "metadata": {},
     "output_type": "display_data"
    },
    {
     "data": {
      "application/javascript": [
       "window.outputs = [[1, 0.013429866271546399], [2, 0.9775705260548867], [3, 0.9805488867356537], [4, 0.027219079320072233]]"
      ],
      "text/plain": [
       "<IPython.core.display.Javascript object>"
      ]
     },
     "metadata": {},
     "output_type": "display_data"
    },
    {
     "data": {
      "application/javascript": [
       "window.output_plot.setData([window.outputs]); window.output_plot.draw();"
      ],
      "text/plain": [
       "<IPython.core.display.Javascript object>"
      ]
     },
     "metadata": {},
     "output_type": "display_data"
    },
    {
     "data": {
      "application/javascript": [
       "$('#avg-error').html(0.02039)"
      ],
      "text/plain": [
       "<IPython.core.display.Javascript object>"
      ]
     },
     "metadata": {},
     "output_type": "display_data"
    },
    {
     "data": {
      "application/javascript": [
       "$('#iteration').html(2950)"
      ],
      "text/plain": [
       "<IPython.core.display.Javascript object>"
      ]
     },
     "metadata": {},
     "output_type": "display_data"
    },
    {
     "data": {
      "application/javascript": [
       "window.error.push([2950,0.02039])"
      ],
      "text/plain": [
       "<IPython.core.display.Javascript object>"
      ]
     },
     "metadata": {},
     "output_type": "display_data"
    },
    {
     "data": {
      "application/javascript": [
       "window.plot.setData([window.error]); window.plot.draw();"
      ],
      "text/plain": [
       "<IPython.core.display.Javascript object>"
      ]
     },
     "metadata": {},
     "output_type": "display_data"
    },
    {
     "data": {
      "application/javascript": [
       "window.weights_l0 = [[1, -6.273048939641742], [2, -1.4855965791525452], [3, -4.527144330731684], [4, 2.988546095120322], [5, 4.895673436475601], [6, 4.001060980986645], [7, -4.362642275657686], [8, -4.956396985480811], [9, -2.255091677691683], [10, 0.24565454762293504], [11, 1.1052387461882642], [12, -1.2464705880353188]]"
      ],
      "text/plain": [
       "<IPython.core.display.Javascript object>"
      ]
     },
     "metadata": {},
     "output_type": "display_data"
    },
    {
     "data": {
      "application/javascript": [
       "window.weight_plot_l0.setData([window.weights_l0]); window.weight_plot_l0.draw();"
      ],
      "text/plain": [
       "<IPython.core.display.Javascript object>"
      ]
     },
     "metadata": {},
     "output_type": "display_data"
    },
    {
     "data": {
      "application/javascript": [
       "window.weights_l1 = [[1, 8.797984209145037], [2, -4.298144482523227], [3, -5.408128179899859], [4, 5.95433012350308]]"
      ],
      "text/plain": [
       "<IPython.core.display.Javascript object>"
      ]
     },
     "metadata": {},
     "output_type": "display_data"
    },
    {
     "data": {
      "application/javascript": [
       "window.weight_plot_l1.setData([window.weights_l1]); window.weight_plot_l1.draw();"
      ],
      "text/plain": [
       "<IPython.core.display.Javascript object>"
      ]
     },
     "metadata": {},
     "output_type": "display_data"
    },
    {
     "data": {
      "application/javascript": [
       "window.outputs = [[1, 0.013261109611075109], [2, 0.9778203033269143], [3, 0.9807845749111406], [4, 0.02691326129874681]]"
      ],
      "text/plain": [
       "<IPython.core.display.Javascript object>"
      ]
     },
     "metadata": {},
     "output_type": "display_data"
    },
    {
     "data": {
      "application/javascript": [
       "window.output_plot.setData([window.outputs]); window.output_plot.draw();"
      ],
      "text/plain": [
       "<IPython.core.display.Javascript object>"
      ]
     },
     "metadata": {},
     "output_type": "display_data"
    },
    {
     "data": {
      "application/javascript": [
       "$('#avg-error').html(0.02016)"
      ],
      "text/plain": [
       "<IPython.core.display.Javascript object>"
      ]
     },
     "metadata": {},
     "output_type": "display_data"
    },
    {
     "data": {
      "application/javascript": [
       "$('#iteration').html(3000)"
      ],
      "text/plain": [
       "<IPython.core.display.Javascript object>"
      ]
     },
     "metadata": {},
     "output_type": "display_data"
    },
    {
     "data": {
      "application/javascript": [
       "window.error.push([3000,0.02016])"
      ],
      "text/plain": [
       "<IPython.core.display.Javascript object>"
      ]
     },
     "metadata": {},
     "output_type": "display_data"
    },
    {
     "data": {
      "application/javascript": [
       "window.plot.setData([window.error]); window.plot.draw();"
      ],
      "text/plain": [
       "<IPython.core.display.Javascript object>"
      ]
     },
     "metadata": {},
     "output_type": "display_data"
    },
    {
     "data": {
      "application/javascript": [
       "window.weights_l0 = [[1, -6.280711830213598], [2, -1.4906175348617785], [3, -4.530027501710831], [4, 2.994356615613505], [5, 4.9009756397119295], [6, 4.008014197040322], [7, -4.367150232079563], [8, -4.963811730485463], [9, -2.2562383278881493], [10, 0.2482943941587665], [11, 1.106430153772915], [12, -1.2492263547270333]]"
      ],
      "text/plain": [
       "<IPython.core.display.Javascript object>"
      ]
     },
     "metadata": {},
     "output_type": "display_data"
    },
    {
     "data": {
      "application/javascript": [
       "window.weight_plot_l0.setData([window.weights_l0]); window.weight_plot_l0.draw();"
      ],
      "text/plain": [
       "<IPython.core.display.Javascript object>"
      ]
     },
     "metadata": {},
     "output_type": "display_data"
    },
    {
     "data": {
      "application/javascript": [
       "window.weights_l1 = [[1, 8.81848435405723], [2, -4.308273630020046], [3, -5.413134798324085], [4, 5.966349654740811]]"
      ],
      "text/plain": [
       "<IPython.core.display.Javascript object>"
      ]
     },
     "metadata": {},
     "output_type": "display_data"
    },
    {
     "data": {
      "application/javascript": [
       "window.weight_plot_l1.setData([window.weights_l1]); window.weight_plot_l1.draw();"
      ],
      "text/plain": [
       "<IPython.core.display.Javascript object>"
      ]
     },
     "metadata": {},
     "output_type": "display_data"
    },
    {
     "data": {
      "application/javascript": [
       "window.outputs = [[1, 0.013097975726075649], [2, 0.9780621580310814], [3, 0.9810124865580004], [4, 0.026617192537305736]]"
      ],
      "text/plain": [
       "<IPython.core.display.Javascript object>"
      ]
     },
     "metadata": {},
     "output_type": "display_data"
    },
    {
     "data": {
      "application/javascript": [
       "window.output_plot.setData([window.outputs]); window.output_plot.draw();"
      ],
      "text/plain": [
       "<IPython.core.display.Javascript object>"
      ]
     },
     "metadata": {},
     "output_type": "display_data"
    },
    {
     "data": {
      "application/javascript": [
       "$('#avg-error').html(0.01994)"
      ],
      "text/plain": [
       "<IPython.core.display.Javascript object>"
      ]
     },
     "metadata": {},
     "output_type": "display_data"
    },
    {
     "data": {
      "application/javascript": [
       "$('#iteration').html(3050)"
      ],
      "text/plain": [
       "<IPython.core.display.Javascript object>"
      ]
     },
     "metadata": {},
     "output_type": "display_data"
    },
    {
     "data": {
      "application/javascript": [
       "window.error.push([3050,0.01994])"
      ],
      "text/plain": [
       "<IPython.core.display.Javascript object>"
      ]
     },
     "metadata": {},
     "output_type": "display_data"
    },
    {
     "data": {
      "application/javascript": [
       "window.plot.setData([window.error]); window.plot.draw();"
      ],
      "text/plain": [
       "<IPython.core.display.Javascript object>"
      ]
     },
     "metadata": {},
     "output_type": "display_data"
    },
    {
     "data": {
      "application/javascript": [
       "window.weights_l0 = [[1, -6.288203836768707], [2, -1.4955348069860805], [3, -4.532842415319179], [4, 3.0000326179855503], [5, 4.906157719330744], [6, 4.014814674421585], [7, -4.371553386883077], [8, -4.971055339342465], [9, -2.2573590011365274], [10, 0.25087711229286574], [11, 1.107591233291076], [12, -1.2519163284738772]]"
      ],
      "text/plain": [
       "<IPython.core.display.Javascript object>"
      ]
     },
     "metadata": {},
     "output_type": "display_data"
    },
    {
     "data": {
      "application/javascript": [
       "window.weight_plot_l0.setData([window.weights_l0]); window.weight_plot_l0.draw();"
      ],
      "text/plain": [
       "<IPython.core.display.Javascript object>"
      ]
     },
     "metadata": {},
     "output_type": "display_data"
    },
    {
     "data": {
      "application/javascript": [
       "window.weights_l1 = [[1, 8.83856142037459], [2, -4.318195510133157], [3, -5.41802347274766], [4, 5.978106529616531]]"
      ],
      "text/plain": [
       "<IPython.core.display.Javascript object>"
      ]
     },
     "metadata": {},
     "output_type": "display_data"
    },
    {
     "data": {
      "application/javascript": [
       "window.weight_plot_l1.setData([window.weights_l1]); window.weight_plot_l1.draw();"
      ],
      "text/plain": [
       "<IPython.core.display.Javascript object>"
      ]
     },
     "metadata": {},
     "output_type": "display_data"
    },
    {
     "data": {
      "application/javascript": [
       "window.outputs = [[1, 0.012940167592518865], [2, 0.9782964954731326], [3, 0.9812330304546709], [4, 0.026330372362468102]]"
      ],
      "text/plain": [
       "<IPython.core.display.Javascript object>"
      ]
     },
     "metadata": {},
     "output_type": "display_data"
    },
    {
     "data": {
      "application/javascript": [
       "window.output_plot.setData([window.outputs]); window.output_plot.draw();"
      ],
      "text/plain": [
       "<IPython.core.display.Javascript object>"
      ]
     },
     "metadata": {},
     "output_type": "display_data"
    },
    {
     "data": {
      "application/javascript": [
       "$('#avg-error').html(0.01972)"
      ],
      "text/plain": [
       "<IPython.core.display.Javascript object>"
      ]
     },
     "metadata": {},
     "output_type": "display_data"
    },
    {
     "data": {
      "application/javascript": [
       "$('#iteration').html(3100)"
      ],
      "text/plain": [
       "<IPython.core.display.Javascript object>"
      ]
     },
     "metadata": {},
     "output_type": "display_data"
    },
    {
     "data": {
      "application/javascript": [
       "window.error.push([3100,0.01972])"
      ],
      "text/plain": [
       "<IPython.core.display.Javascript object>"
      ]
     },
     "metadata": {},
     "output_type": "display_data"
    },
    {
     "data": {
      "application/javascript": [
       "window.plot.setData([window.error]); window.plot.draw();"
      ],
      "text/plain": [
       "<IPython.core.display.Javascript object>"
      ]
     },
     "metadata": {},
     "output_type": "display_data"
    },
    {
     "data": {
      "application/javascript": [
       "window.weights_l0 = [[1, -6.295532098110319], [2, -1.5003525051720832], [3, -4.535592035054868], [4, 3.005579842791236], [5, 4.911224748245374], [6, 4.021468736433822], [7, -4.375856225180785], [8, -4.978135118702428], [9, -2.2584547966239996], [10, 0.2534050302127781], [11, 1.1087233562241852], [12, -1.2545433594774076]]"
      ],
      "text/plain": [
       "<IPython.core.display.Javascript object>"
      ]
     },
     "metadata": {},
     "output_type": "display_data"
    },
    {
     "data": {
      "application/javascript": [
       "window.weight_plot_l0.setData([window.weights_l0]); window.weight_plot_l0.draw();"
      ],
      "text/plain": [
       "<IPython.core.display.Javascript object>"
      ]
     },
     "metadata": {},
     "output_type": "display_data"
    },
    {
     "data": {
      "application/javascript": [
       "window.weights_l1 = [[1, 8.858232345194061], [2, -4.327918366251393], [3, -5.4227992948276915], [4, 5.9896116256301]]"
      ],
      "text/plain": [
       "<IPython.core.display.Javascript object>"
      ]
     },
     "metadata": {},
     "output_type": "display_data"
    },
    {
     "data": {
      "application/javascript": [
       "window.weight_plot_l1.setData([window.weights_l1]); window.weight_plot_l1.draw();"
      ],
      "text/plain": [
       "<IPython.core.display.Javascript object>"
      ]
     },
     "metadata": {},
     "output_type": "display_data"
    },
    {
     "data": {
      "application/javascript": [
       "window.outputs = [[1, 0.012787409396902516], [2, 0.9785236927069885], [3, 0.981446586275169], [4, 0.026052335113089183]]"
      ],
      "text/plain": [
       "<IPython.core.display.Javascript object>"
      ]
     },
     "metadata": {},
     "output_type": "display_data"
    },
    {
     "data": {
      "application/javascript": [
       "window.output_plot.setData([window.outputs]); window.output_plot.draw();"
      ],
      "text/plain": [
       "<IPython.core.display.Javascript object>"
      ]
     },
     "metadata": {},
     "output_type": "display_data"
    },
    {
     "data": {
      "application/javascript": [
       "$('#avg-error').html(0.01951)"
      ],
      "text/plain": [
       "<IPython.core.display.Javascript object>"
      ]
     },
     "metadata": {},
     "output_type": "display_data"
    },
    {
     "data": {
      "application/javascript": [
       "$('#iteration').html(3150)"
      ],
      "text/plain": [
       "<IPython.core.display.Javascript object>"
      ]
     },
     "metadata": {},
     "output_type": "display_data"
    },
    {
     "data": {
      "application/javascript": [
       "window.error.push([3150,0.01951])"
      ],
      "text/plain": [
       "<IPython.core.display.Javascript object>"
      ]
     },
     "metadata": {},
     "output_type": "display_data"
    },
    {
     "data": {
      "application/javascript": [
       "window.plot.setData([window.error]); window.plot.draw();"
      ],
      "text/plain": [
       "<IPython.core.display.Javascript object>"
      ]
     },
     "metadata": {},
     "output_type": "display_data"
    },
    {
     "data": {
      "application/javascript": [
       "window.weights_l0 = [[1, -6.3027033225180755], [2, -1.5050745013512483], [3, -4.538279140372924], [4, 3.0110036792503694], [5, 4.916181490787442], [6, 4.027982327589546], [7, -4.380062956869767], [8, -4.985057927317923], [9, -2.259526746555675], [10, 0.2558803387112964], [11, 1.1098278063694937], [12, -1.2571101218098613]]"
      ],
      "text/plain": [
       "<IPython.core.display.Javascript object>"
      ]
     },
     "metadata": {},
     "output_type": "display_data"
    },
    {
     "data": {
      "application/javascript": [
       "window.weight_plot_l0.setData([window.weights_l0]); window.weight_plot_l0.draw();"
      ],
      "text/plain": [
       "<IPython.core.display.Javascript object>"
      ]
     },
     "metadata": {},
     "output_type": "display_data"
    },
    {
     "data": {
      "application/javascript": [
       "window.weights_l1 = [[1, 8.87751307436438], [2, -4.337449961947299], [3, -5.42746704167063], [4, 6.000875167809102]]"
      ],
      "text/plain": [
       "<IPython.core.display.Javascript object>"
      ]
     },
     "metadata": {},
     "output_type": "display_data"
    },
    {
     "data": {
      "application/javascript": [
       "window.weight_plot_l1.setData([window.weights_l1]); window.weight_plot_l1.draw();"
      ],
      "text/plain": [
       "<IPython.core.display.Javascript object>"
      ]
     },
     "metadata": {},
     "output_type": "display_data"
    },
    {
     "data": {
      "application/javascript": [
       "window.outputs = [[1, 0.01263944464441403], [2, 0.9787441010057523], [3, 0.9816535071800084], [4, 0.025782647069116368]]"
      ],
      "text/plain": [
       "<IPython.core.display.Javascript object>"
      ]
     },
     "metadata": {},
     "output_type": "display_data"
    },
    {
     "data": {
      "application/javascript": [
       "window.output_plot.setData([window.outputs]); window.output_plot.draw();"
      ],
      "text/plain": [
       "<IPython.core.display.Javascript object>"
      ]
     },
     "metadata": {},
     "output_type": "display_data"
    },
    {
     "data": {
      "application/javascript": [
       "$('#avg-error').html(0.01930)"
      ],
      "text/plain": [
       "<IPython.core.display.Javascript object>"
      ]
     },
     "metadata": {},
     "output_type": "display_data"
    },
    {
     "data": {
      "application/javascript": [
       "$('#iteration').html(3200)"
      ],
      "text/plain": [
       "<IPython.core.display.Javascript object>"
      ]
     },
     "metadata": {},
     "output_type": "display_data"
    },
    {
     "data": {
      "application/javascript": [
       "window.error.push([3200,0.01930])"
      ],
      "text/plain": [
       "<IPython.core.display.Javascript object>"
      ]
     },
     "metadata": {},
     "output_type": "display_data"
    },
    {
     "data": {
      "application/javascript": [
       "window.plot.setData([window.error]); window.plot.draw();"
      ],
      "text/plain": [
       "<IPython.core.display.Javascript object>"
      ]
     },
     "metadata": {},
     "output_type": "display_data"
    },
    {
     "data": {
      "application/javascript": [
       "window.weights_l0 = [[1, -6.3097238213468705], [2, -1.5097044476474026], [3, -4.540906341398578], [4, 3.0163091929730563], [5, 4.9210324269661925], [6, 4.034361043011515], [7, -4.384177538405028], [8, -4.9918302114635695], [9, -2.2605758214276075], [10, 0.25830510169968357], [11, 1.1109057870123862], [12, -1.25961912741013]]"
      ],
      "text/plain": [
       "<IPython.core.display.Javascript object>"
      ]
     },
     "metadata": {},
     "output_type": "display_data"
    },
    {
     "data": {
      "application/javascript": [
       "window.weight_plot_l0.setData([window.weights_l0]); window.weight_plot_l0.draw();"
      ],
      "text/plain": [
       "<IPython.core.display.Javascript object>"
      ]
     },
     "metadata": {},
     "output_type": "display_data"
    },
    {
     "data": {
      "application/javascript": [
       "window.weights_l1 = [[1, 8.896418638055362], [2, -4.346797617383289], [3, -5.432031200858414], [4, 6.01190677943229]]"
      ],
      "text/plain": [
       "<IPython.core.display.Javascript object>"
      ]
     },
     "metadata": {},
     "output_type": "display_data"
    },
    {
     "data": {
      "application/javascript": [
       "window.weight_plot_l1.setData([window.weights_l1]); window.weight_plot_l1.draw();"
      ],
      "text/plain": [
       "<IPython.core.display.Javascript object>"
      ]
     },
     "metadata": {},
     "output_type": "display_data"
    },
    {
     "data": {
      "application/javascript": [
       "window.outputs = [[1, 0.012496034468100168], [2, 0.9789580480744854], [3, 0.9818541221321899], [4, 0.025520903702319176]]"
      ],
      "text/plain": [
       "<IPython.core.display.Javascript object>"
      ]
     },
     "metadata": {},
     "output_type": "display_data"
    },
    {
     "data": {
      "application/javascript": [
       "window.output_plot.setData([window.outputs]); window.output_plot.draw();"
      ],
      "text/plain": [
       "<IPython.core.display.Javascript object>"
      ]
     },
     "metadata": {},
     "output_type": "display_data"
    },
    {
     "data": {
      "application/javascript": [
       "$('#avg-error').html(0.01910)"
      ],
      "text/plain": [
       "<IPython.core.display.Javascript object>"
      ]
     },
     "metadata": {},
     "output_type": "display_data"
    },
    {
     "data": {
      "application/javascript": [
       "$('#iteration').html(3250)"
      ],
      "text/plain": [
       "<IPython.core.display.Javascript object>"
      ]
     },
     "metadata": {},
     "output_type": "display_data"
    },
    {
     "data": {
      "application/javascript": [
       "window.error.push([3250,0.01910])"
      ],
      "text/plain": [
       "<IPython.core.display.Javascript object>"
      ]
     },
     "metadata": {},
     "output_type": "display_data"
    },
    {
     "data": {
      "application/javascript": [
       "window.plot.setData([window.error]); window.plot.draw();"
      ],
      "text/plain": [
       "<IPython.core.display.Javascript object>"
      ]
     },
     "metadata": {},
     "output_type": "display_data"
    },
    {
     "data": {
      "application/javascript": [
       "window.weights_l0 = [[1, -6.31659953943183], [2, -1.5142457926340573], [3, -4.543476092212769], [4, 3.0215011510261274], [5, 4.92578177440678], [6, 4.04061015505194], [7, -4.3882036924796415], [8, -4.99845803695124], [9, -2.2616029347948094], [10, 0.2606812657396906], [11, 1.1119584273892769], [12, -1.2620727387303623]]"
      ],
      "text/plain": [
       "<IPython.core.display.Javascript object>"
      ]
     },
     "metadata": {},
     "output_type": "display_data"
    },
    {
     "data": {
      "application/javascript": [
       "window.weight_plot_l0.setData([window.weights_l0]); window.weight_plot_l0.draw();"
      ],
      "text/plain": [
       "<IPython.core.display.Javascript object>"
      ]
     },
     "metadata": {},
     "output_type": "display_data"
    },
    {
     "data": {
      "application/javascript": [
       "window.weights_l1 = [[1, 8.914963219281171], [2, -4.3559682423376564], [3, -5.43649599305677], [4, 6.022715527945869]]"
      ],
      "text/plain": [
       "<IPython.core.display.Javascript object>"
      ]
     },
     "metadata": {},
     "output_type": "display_data"
    },
    {
     "data": {
      "application/javascript": [
       "window.weight_plot_l1.setData([window.weights_l1]); window.weight_plot_l1.draw();"
      ],
      "text/plain": [
       "<IPython.core.display.Javascript object>"
      ]
     },
     "metadata": {},
     "output_type": "display_data"
    },
    {
     "data": {
      "application/javascript": [
       "window.outputs = [[1, 0.012356956114392699], [2, 0.9791658400359693], [3, 0.9820487379719479], [4, 0.025266727209801686]]"
      ],
      "text/plain": [
       "<IPython.core.display.Javascript object>"
      ]
     },
     "metadata": {},
     "output_type": "display_data"
    },
    {
     "data": {
      "application/javascript": [
       "window.output_plot.setData([window.outputs]); window.output_plot.draw();"
      ],
      "text/plain": [
       "<IPython.core.display.Javascript object>"
      ]
     },
     "metadata": {},
     "output_type": "display_data"
    },
    {
     "data": {
      "application/javascript": [
       "$('#avg-error').html(0.01891)"
      ],
      "text/plain": [
       "<IPython.core.display.Javascript object>"
      ]
     },
     "metadata": {},
     "output_type": "display_data"
    },
    {
     "data": {
      "application/javascript": [
       "$('#iteration').html(3300)"
      ],
      "text/plain": [
       "<IPython.core.display.Javascript object>"
      ]
     },
     "metadata": {},
     "output_type": "display_data"
    },
    {
     "data": {
      "application/javascript": [
       "window.error.push([3300,0.01891])"
      ],
      "text/plain": [
       "<IPython.core.display.Javascript object>"
      ]
     },
     "metadata": {},
     "output_type": "display_data"
    },
    {
     "data": {
      "application/javascript": [
       "window.plot.setData([window.error]); window.plot.draw();"
      ],
      "text/plain": [
       "<IPython.core.display.Javascript object>"
      ]
     },
     "metadata": {},
     "output_type": "display_data"
    },
    {
     "data": {
      "application/javascript": [
       "window.weights_l0 = [[1, -6.3233360826553], [2, -1.5187017961203093], [3, -4.545990702871857], [4, 3.0265840446390833], [5, 4.9304335082276705], [6, 4.046734637438463], [7, -4.392144925847082], [8, -5.004947118123442], [9, -2.2626089475909534], [10, 0.26301066870180884], [11, 1.1129867885229137], [12, -1.264473180185241]]"
      ],
      "text/plain": [
       "<IPython.core.display.Javascript object>"
      ]
     },
     "metadata": {},
     "output_type": "display_data"
    },
    {
     "data": {
      "application/javascript": [
       "window.weight_plot_l0.setData([window.weights_l0]); window.weight_plot_l0.draw();"
      ],
      "text/plain": [
       "<IPython.core.display.Javascript object>"
      ]
     },
     "metadata": {},
     "output_type": "display_data"
    },
    {
     "data": {
      "application/javascript": [
       "window.weights_l1 = [[1, 8.933160216149744], [2, -4.364968366219399], [3, -5.4408653924788455], [4, 6.0333099666069385]]"
      ],
      "text/plain": [
       "<IPython.core.display.Javascript object>"
      ]
     },
     "metadata": {},
     "output_type": "display_data"
    },
    {
     "data": {
      "application/javascript": [
       "window.weight_plot_l1.setData([window.weights_l1]); window.weight_plot_l1.draw();"
      ],
      "text/plain": [
       "<IPython.core.display.Javascript object>"
      ]
     },
     "metadata": {},
     "output_type": "display_data"
    },
    {
     "data": {
      "application/javascript": [
       "window.outputs = [[1, 0.012222001583752152], [2, 0.9793677632164025], [3, 0.982237641279284], [4, 0.025019764296648067]]"
      ],
      "text/plain": [
       "<IPython.core.display.Javascript object>"
      ]
     },
     "metadata": {},
     "output_type": "display_data"
    },
    {
     "data": {
      "application/javascript": [
       "window.output_plot.setData([window.outputs]); window.output_plot.draw();"
      ],
      "text/plain": [
       "<IPython.core.display.Javascript object>"
      ]
     },
     "metadata": {},
     "output_type": "display_data"
    },
    {
     "data": {
      "application/javascript": [
       "$('#avg-error').html(0.01872)"
      ],
      "text/plain": [
       "<IPython.core.display.Javascript object>"
      ]
     },
     "metadata": {},
     "output_type": "display_data"
    },
    {
     "data": {
      "application/javascript": [
       "$('#iteration').html(3350)"
      ],
      "text/plain": [
       "<IPython.core.display.Javascript object>"
      ]
     },
     "metadata": {},
     "output_type": "display_data"
    },
    {
     "data": {
      "application/javascript": [
       "window.error.push([3350,0.01872])"
      ],
      "text/plain": [
       "<IPython.core.display.Javascript object>"
      ]
     },
     "metadata": {},
     "output_type": "display_data"
    },
    {
     "data": {
      "application/javascript": [
       "window.plot.setData([window.error]); window.plot.draw();"
      ],
      "text/plain": [
       "<IPython.core.display.Javascript object>"
      ]
     },
     "metadata": {},
     "output_type": "display_data"
    },
    {
     "data": {
      "application/javascript": [
       "window.weights_l0 = [[1, -6.329938742986435], [2, -1.5230755426219522], [3, -4.548452350302581], [4, 3.03156210980979], [5, 4.934991379083986], [6, 4.052739187216457], [7, -4.3960045454910786], [8, -5.011302844158819], [9, -2.2635946720490847], [10, 0.265295047643763], [11, 1.1139918685011787], [12, -1.2668225485365197]]"
      ],
      "text/plain": [
       "<IPython.core.display.Javascript object>"
      ]
     },
     "metadata": {},
     "output_type": "display_data"
    },
    {
     "data": {
      "application/javascript": [
       "window.weight_plot_l0.setData([window.weights_l0]); window.weight_plot_l0.draw();"
      ],
      "text/plain": [
       "<IPython.core.display.Javascript object>"
      ]
     },
     "metadata": {},
     "output_type": "display_data"
    },
    {
     "data": {
      "application/javascript": [
       "window.weights_l1 = [[1, 8.951022298513747], [2, -4.3738041653948425], [3, -5.445143145442258], [4, 6.043698172320463]]"
      ],
      "text/plain": [
       "<IPython.core.display.Javascript object>"
      ]
     },
     "metadata": {},
     "output_type": "display_data"
    },
    {
     "data": {
      "application/javascript": [
       "window.weight_plot_l1.setData([window.weights_l1]); window.weight_plot_l1.draw();"
      ],
      "text/plain": [
       "<IPython.core.display.Javascript object>"
      ]
     },
     "metadata": {},
     "output_type": "display_data"
    },
    {
     "data": {
      "application/javascript": [
       "window.outputs = [[1, 0.012090976408076765], [2, 0.9795640857543639], [3, 0.9824211000493689], [4, 0.024779684178576494]]"
      ],
      "text/plain": [
       "<IPython.core.display.Javascript object>"
      ]
     },
     "metadata": {},
     "output_type": "display_data"
    },
    {
     "data": {
      "application/javascript": [
       "window.output_plot.setData([window.outputs]); window.output_plot.draw();"
      ],
      "text/plain": [
       "<IPython.core.display.Javascript object>"
      ]
     },
     "metadata": {},
     "output_type": "display_data"
    },
    {
     "data": {
      "application/javascript": [
       "$('#avg-error').html(0.01854)"
      ],
      "text/plain": [
       "<IPython.core.display.Javascript object>"
      ]
     },
     "metadata": {},
     "output_type": "display_data"
    },
    {
     "data": {
      "application/javascript": [
       "$('#iteration').html(3400)"
      ],
      "text/plain": [
       "<IPython.core.display.Javascript object>"
      ]
     },
     "metadata": {},
     "output_type": "display_data"
    },
    {
     "data": {
      "application/javascript": [
       "window.error.push([3400,0.01854])"
      ],
      "text/plain": [
       "<IPython.core.display.Javascript object>"
      ]
     },
     "metadata": {},
     "output_type": "display_data"
    },
    {
     "data": {
      "application/javascript": [
       "window.plot.setData([window.error]); window.plot.draw();"
      ],
      "text/plain": [
       "<IPython.core.display.Javascript object>"
      ]
     },
     "metadata": {},
     "output_type": "display_data"
    },
    {
     "data": {
      "application/javascript": [
       "window.weights_l0 = [[1, -6.336412521265107], [2, -1.5273699536553489], [3, -4.55086308819543], [4, 3.0364393460374064], [5, 4.939458929575187], [6, 4.058628244723744], [7, -4.399785673322366], [8, -5.017530302981631], [9, -2.2645608752665565], [10, 0.2675360459916934], [11, 1.1149746072613305], [12, -1.2691228223286226]]"
      ],
      "text/plain": [
       "<IPython.core.display.Javascript object>"
      ]
     },
     "metadata": {},
     "output_type": "display_data"
    },
    {
     "data": {
      "application/javascript": [
       "window.weight_plot_l0.setData([window.weights_l0]); window.weight_plot_l0.draw();"
      ],
      "text/plain": [
       "<IPython.core.display.Javascript object>"
      ]
     },
     "metadata": {},
     "output_type": "display_data"
    },
    {
     "data": {
      "application/javascript": [
       "window.weights_l1 = [[1, 8.968561459615273], [2, -4.382481488109295], [3, -5.449332787227427], [4, 6.0538877800781865]]"
      ],
      "text/plain": [
       "<IPython.core.display.Javascript object>"
      ]
     },
     "metadata": {},
     "output_type": "display_data"
    },
    {
     "data": {
      "application/javascript": [
       "window.weight_plot_l1.setData([window.weights_l1]); window.weight_plot_l1.draw();"
      ],
      "text/plain": [
       "<IPython.core.display.Javascript object>"
      ]
     },
     "metadata": {},
     "output_type": "display_data"
    },
    {
     "data": {
      "application/javascript": [
       "window.outputs = [[1, 0.011963698548978387], [2, 0.9797550590532992], [3, 0.9825993652025466], [4, 0.024546176779330315]]"
      ],
      "text/plain": [
       "<IPython.core.display.Javascript object>"
      ]
     },
     "metadata": {},
     "output_type": "display_data"
    },
    {
     "data": {
      "application/javascript": [
       "window.output_plot.setData([window.outputs]); window.output_plot.draw();"
      ],
      "text/plain": [
       "<IPython.core.display.Javascript object>"
      ]
     },
     "metadata": {},
     "output_type": "display_data"
    },
    {
     "data": {
      "application/javascript": [
       "$('#avg-error').html(0.01836)"
      ],
      "text/plain": [
       "<IPython.core.display.Javascript object>"
      ]
     },
     "metadata": {},
     "output_type": "display_data"
    },
    {
     "data": {
      "application/javascript": [
       "$('#iteration').html(3450)"
      ],
      "text/plain": [
       "<IPython.core.display.Javascript object>"
      ]
     },
     "metadata": {},
     "output_type": "display_data"
    },
    {
     "data": {
      "application/javascript": [
       "window.error.push([3450,0.01836])"
      ],
      "text/plain": [
       "<IPython.core.display.Javascript object>"
      ]
     },
     "metadata": {},
     "output_type": "display_data"
    },
    {
     "data": {
      "application/javascript": [
       "window.plot.setData([window.error]); window.plot.draw();"
      ],
      "text/plain": [
       "<IPython.core.display.Javascript object>"
      ]
     },
     "metadata": {},
     "output_type": "display_data"
    },
    {
     "data": {
      "application/javascript": [
       "window.weights_l0 = [[1, -6.342762147968639], [2, -1.531587798975148], [3, -4.553224856004179], [4, 3.0412195333819305], [5, 4.943839509190945], [6, 4.064406011804777], [7, -4.403491259559601], [8, -5.023634303030933], [9, -2.265508282452024], [10, 0.2697352200965115], [11, 1.1159358909337707], [12, -1.2713758704767926]]"
      ],
      "text/plain": [
       "<IPython.core.display.Javascript object>"
      ]
     },
     "metadata": {},
     "output_type": "display_data"
    },
    {
     "data": {
      "application/javascript": [
       "window.weight_plot_l0.setData([window.weights_l0]); window.weight_plot_l0.draw();"
      ],
      "text/plain": [
       "<IPython.core.display.Javascript object>"
      ]
     },
     "metadata": {},
     "output_type": "display_data"
    },
    {
     "data": {
      "application/javascript": [
       "window.weights_l1 = [[1, 8.98578906324477], [2, -4.391005877252922], [3, -5.453437657419259], [4, 6.063886014357642]]"
      ],
      "text/plain": [
       "<IPython.core.display.Javascript object>"
      ]
     },
     "metadata": {},
     "output_type": "display_data"
    },
    {
     "data": {
      "application/javascript": [
       "window.weight_plot_l1.setData([window.weights_l1]); window.weight_plot_l1.draw();"
      ],
      "text/plain": [
       "<IPython.core.display.Javascript object>"
      ]
     },
     "metadata": {},
     "output_type": "display_data"
    },
    {
     "data": {
      "application/javascript": [
       "window.outputs = [[1, 0.01183999740311318], [2, 0.9799409190951521], [3, 0.9827726719478217], [4, 0.024318951100815646]]"
      ],
      "text/plain": [
       "<IPython.core.display.Javascript object>"
      ]
     },
     "metadata": {},
     "output_type": "display_data"
    },
    {
     "data": {
      "application/javascript": [
       "window.output_plot.setData([window.outputs]); window.output_plot.draw();"
      ],
      "text/plain": [
       "<IPython.core.display.Javascript object>"
      ]
     },
     "metadata": {},
     "output_type": "display_data"
    },
    {
     "data": {
      "application/javascript": [
       "$('#avg-error').html(0.01819)"
      ],
      "text/plain": [
       "<IPython.core.display.Javascript object>"
      ]
     },
     "metadata": {},
     "output_type": "display_data"
    },
    {
     "data": {
      "application/javascript": [
       "$('#iteration').html(3500)"
      ],
      "text/plain": [
       "<IPython.core.display.Javascript object>"
      ]
     },
     "metadata": {},
     "output_type": "display_data"
    },
    {
     "data": {
      "application/javascript": [
       "window.error.push([3500,0.01819])"
      ],
      "text/plain": [
       "<IPython.core.display.Javascript object>"
      ]
     },
     "metadata": {},
     "output_type": "display_data"
    },
    {
     "data": {
      "application/javascript": [
       "window.plot.setData([window.error]); window.plot.draw();"
      ],
      "text/plain": [
       "<IPython.core.display.Javascript object>"
      ]
     },
     "metadata": {},
     "output_type": "display_data"
    },
    {
     "data": {
      "application/javascript": [
       "window.weights_l0 = [[1, -6.348992102170892], [2, -1.5357317068626533], [3, -4.555539487146179], [4, 3.0459062480255477], [5, 4.948136287947934], [6, 4.0700764684465724], [7, -4.407124094932426], [8, -5.029619393113957], [9, -2.26643757988775], [10, 0.27189404522930105], [11, 1.116876555792694], [12, -1.2735834600968752]]"
      ],
      "text/plain": [
       "<IPython.core.display.Javascript object>"
      ]
     },
     "metadata": {},
     "output_type": "display_data"
    },
    {
     "data": {
      "application/javascript": [
       "window.weight_plot_l0.setData([window.weights_l0]); window.weight_plot_l0.draw();"
      ],
      "text/plain": [
       "<IPython.core.display.Javascript object>"
      ]
     },
     "metadata": {},
     "output_type": "display_data"
    },
    {
     "data": {
      "application/javascript": [
       "window.weights_l1 = [[1, 9.00271588687279], [2, -4.399382591190356], [3, -5.457460913891992], [4, 6.073699717796473]]"
      ],
      "text/plain": [
       "<IPython.core.display.Javascript object>"
      ]
     },
     "metadata": {},
     "output_type": "display_data"
    },
    {
     "data": {
      "application/javascript": [
       "window.weight_plot_l1.setData([window.weights_l1]); window.weight_plot_l1.draw();"
      ],
      "text/plain": [
       "<IPython.core.display.Javascript object>"
      ]
     },
     "metadata": {},
     "output_type": "display_data"
    },
    {
     "data": {
      "application/javascript": [
       "window.outputs = [[1, 0.01171971290253943], [2, 0.9801218876305294], [3, 0.9829412410162786], [4, 0.024097733746808955]]"
      ],
      "text/plain": [
       "<IPython.core.display.Javascript object>"
      ]
     },
     "metadata": {},
     "output_type": "display_data"
    },
    {
     "data": {
      "application/javascript": [
       "window.output_plot.setData([window.outputs]); window.output_plot.draw();"
      ],
      "text/plain": [
       "<IPython.core.display.Javascript object>"
      ]
     },
     "metadata": {},
     "output_type": "display_data"
    },
    {
     "data": {
      "application/javascript": [
       "$('#avg-error').html(0.01802)"
      ],
      "text/plain": [
       "<IPython.core.display.Javascript object>"
      ]
     },
     "metadata": {},
     "output_type": "display_data"
    },
    {
     "data": {
      "application/javascript": [
       "$('#iteration').html(3550)"
      ],
      "text/plain": [
       "<IPython.core.display.Javascript object>"
      ]
     },
     "metadata": {},
     "output_type": "display_data"
    },
    {
     "data": {
      "application/javascript": [
       "window.error.push([3550,0.01802])"
      ],
      "text/plain": [
       "<IPython.core.display.Javascript object>"
      ]
     },
     "metadata": {},
     "output_type": "display_data"
    },
    {
     "data": {
      "application/javascript": [
       "window.plot.setData([window.error]); window.plot.draw();"
      ],
      "text/plain": [
       "<IPython.core.display.Javascript object>"
      ]
     },
     "metadata": {},
     "output_type": "display_data"
    },
    {
     "data": {
      "application/javascript": [
       "window.weights_l0 = [[1, -6.355106628878529], [2, -1.539804173559296], [3, -4.557808716486479], [4, 3.0505028764899835], [5, 4.952352268852165], [6, 4.0756433879970055], [7, -4.410686821828253], [8, -5.03548988054141], [9, -2.2673494176364857], [10, 0.27401392107216777], [11, 1.1177973918551918], [12, -1.275747263655152]]"
      ],
      "text/plain": [
       "<IPython.core.display.Javascript object>"
      ]
     },
     "metadata": {},
     "output_type": "display_data"
    },
    {
     "data": {
      "application/javascript": [
       "window.weight_plot_l0.setData([window.weights_l0]); window.weight_plot_l0.draw();"
      ],
      "text/plain": [
       "<IPython.core.display.Javascript object>"
      ]
     },
     "metadata": {},
     "output_type": "display_data"
    },
    {
     "data": {
      "application/javascript": [
       "window.weights_l1 = [[1, 9.019352161159432], [2, -4.407616622848006], [3, -5.461405545577799], [4, 6.083335377419708]]"
      ],
      "text/plain": [
       "<IPython.core.display.Javascript object>"
      ]
     },
     "metadata": {},
     "output_type": "display_data"
    },
    {
     "data": {
      "application/javascript": [
       "window.weight_plot_l1.setData([window.weights_l1]); window.weight_plot_l1.draw();"
      ],
      "text/plain": [
       "<IPython.core.display.Javascript object>"
      ]
     },
     "metadata": {},
     "output_type": "display_data"
    },
    {
     "data": {
      "application/javascript": [
       "window.outputs = [[1, 0.011602694699602296], [2, 0.9802981732588418], [3, 0.9831052797787837], [4, 0.02388226758346497]]"
      ],
      "text/plain": [
       "<IPython.core.display.Javascript object>"
      ]
     },
     "metadata": {},
     "output_type": "display_data"
    },
    {
     "data": {
      "application/javascript": [
       "window.output_plot.setData([window.outputs]); window.output_plot.draw();"
      ],
      "text/plain": [
       "<IPython.core.display.Javascript object>"
      ]
     },
     "metadata": {},
     "output_type": "display_data"
    },
    {
     "data": {
      "application/javascript": [
       "$('#avg-error').html(0.01786)"
      ],
      "text/plain": [
       "<IPython.core.display.Javascript object>"
      ]
     },
     "metadata": {},
     "output_type": "display_data"
    },
    {
     "data": {
      "application/javascript": [
       "$('#iteration').html(3600)"
      ],
      "text/plain": [
       "<IPython.core.display.Javascript object>"
      ]
     },
     "metadata": {},
     "output_type": "display_data"
    },
    {
     "data": {
      "application/javascript": [
       "window.error.push([3600,0.01786])"
      ],
      "text/plain": [
       "<IPython.core.display.Javascript object>"
      ]
     },
     "metadata": {},
     "output_type": "display_data"
    },
    {
     "data": {
      "application/javascript": [
       "window.plot.setData([window.error]); window.plot.draw();"
      ],
      "text/plain": [
       "<IPython.core.display.Javascript object>"
      ]
     },
     "metadata": {},
     "output_type": "display_data"
    },
    {
     "data": {
      "application/javascript": [
       "window.weights_l0 = [[1, -6.361109754907497], [2, -1.5438075719288833], [3, -4.5600341871791255], [4, 3.055012628646016], [5, 4.95649029930549], [6, 4.081110351107473], [7, -4.414181944489979], [8, -5.041249847719038], [9, -2.2682444120187863], [10, 0.2760961767544523], [11, 1.118699146165358], [12, -1.277868865507388]]"
      ],
      "text/plain": [
       "<IPython.core.display.Javascript object>"
      ]
     },
     "metadata": {},
     "output_type": "display_data"
    },
    {
     "data": {
      "application/javascript": [
       "window.weight_plot_l0.setData([window.weights_l0]); window.weight_plot_l0.draw();"
      ],
      "text/plain": [
       "<IPython.core.display.Javascript object>"
      ]
     },
     "metadata": {},
     "output_type": "display_data"
    },
    {
     "data": {
      "application/javascript": [
       "window.weights_l1 = [[1, 9.035707606199798], [2, -4.415712717230783], [3, -5.465274384143107], [4, 6.092799148665472]]"
      ],
      "text/plain": [
       "<IPython.core.display.Javascript object>"
      ]
     },
     "metadata": {},
     "output_type": "display_data"
    },
    {
     "data": {
      "application/javascript": [
       "window.weight_plot_l1.setData([window.weights_l1]); window.weight_plot_l1.draw();"
      ],
      "text/plain": [
       "<IPython.core.display.Javascript object>"
      ]
     },
     "metadata": {},
     "output_type": "display_data"
    },
    {
     "data": {
      "application/javascript": [
       "window.outputs = [[1, 0.011488801427156652], [2, 0.9804699724102195], [3, 0.9832649832605426], [4, 0.02367231052193046]]"
      ],
      "text/plain": [
       "<IPython.core.display.Javascript object>"
      ]
     },
     "metadata": {},
     "output_type": "display_data"
    },
    {
     "data": {
      "application/javascript": [
       "window.output_plot.setData([window.outputs]); window.output_plot.draw();"
      ],
      "text/plain": [
       "<IPython.core.display.Javascript object>"
      ]
     },
     "metadata": {},
     "output_type": "display_data"
    },
    {
     "data": {
      "application/javascript": [
       "$('#avg-error').html(0.01770)"
      ],
      "text/plain": [
       "<IPython.core.display.Javascript object>"
      ]
     },
     "metadata": {},
     "output_type": "display_data"
    },
    {
     "data": {
      "application/javascript": [
       "$('#iteration').html(3650)"
      ],
      "text/plain": [
       "<IPython.core.display.Javascript object>"
      ]
     },
     "metadata": {},
     "output_type": "display_data"
    },
    {
     "data": {
      "application/javascript": [
       "window.error.push([3650,0.01770])"
      ],
      "text/plain": [
       "<IPython.core.display.Javascript object>"
      ]
     },
     "metadata": {},
     "output_type": "display_data"
    },
    {
     "data": {
      "application/javascript": [
       "window.plot.setData([window.error]); window.plot.draw();"
      ],
      "text/plain": [
       "<IPython.core.display.Javascript object>"
      ]
     },
     "metadata": {},
     "output_type": "display_data"
    },
    {
     "data": {
      "application/javascript": [
       "window.weights_l0 = [[1, -6.367005303444212], [2, -1.5477441594229213], [3, -4.562217456930303], [4, 3.059438549635448], [5, 4.960553081561375], [6, 4.086480758525529], [7, -4.4176118383593765], [8, -5.046903167349619], [9, -2.2691231478836063], [10, 0.27814207547857456], [11, 1.1195825257956205], [12, -1.2799497678882326]]"
      ],
      "text/plain": [
       "<IPython.core.display.Javascript object>"
      ]
     },
     "metadata": {},
     "output_type": "display_data"
    },
    {
     "data": {
      "application/javascript": [
       "window.weight_plot_l0.setData([window.weights_l0]); window.weight_plot_l0.draw();"
      ],
      "text/plain": [
       "<IPython.core.display.Javascript object>"
      ]
     },
     "metadata": {},
     "output_type": "display_data"
    },
    {
     "data": {
      "application/javascript": [
       "window.weights_l1 = [[1, 9.051791464822964], [2, -4.4236753875205155], [3, -5.469070114682155], [4, 6.10209687742628]]"
      ],
      "text/plain": [
       "<IPython.core.display.Javascript object>"
      ]
     },
     "metadata": {},
     "output_type": "display_data"
    },
    {
     "data": {
      "application/javascript": [
       "window.weight_plot_l1.setData([window.weights_l1]); window.weight_plot_l1.draw();"
      ],
      "text/plain": [
       "<IPython.core.display.Javascript object>"
      ]
     },
     "metadata": {},
     "output_type": "display_data"
    },
    {
     "data": {
      "application/javascript": [
       "window.outputs = [[1, 0.011377900026069893], [2, 0.9806374702395582], [3, 0.983420535063528], [4, 0.023467634410157083]]"
      ],
      "text/plain": [
       "<IPython.core.display.Javascript object>"
      ]
     },
     "metadata": {},
     "output_type": "display_data"
    },
    {
     "data": {
      "application/javascript": [
       "window.output_plot.setData([window.outputs]); window.output_plot.draw();"
      ],
      "text/plain": [
       "<IPython.core.display.Javascript object>"
      ]
     },
     "metadata": {},
     "output_type": "display_data"
    },
    {
     "data": {
      "application/javascript": [
       "$('#avg-error').html(0.01754)"
      ],
      "text/plain": [
       "<IPython.core.display.Javascript object>"
      ]
     },
     "metadata": {},
     "output_type": "display_data"
    },
    {
     "data": {
      "application/javascript": [
       "$('#iteration').html(3700)"
      ],
      "text/plain": [
       "<IPython.core.display.Javascript object>"
      ]
     },
     "metadata": {},
     "output_type": "display_data"
    },
    {
     "data": {
      "application/javascript": [
       "window.error.push([3700,0.01754])"
      ],
      "text/plain": [
       "<IPython.core.display.Javascript object>"
      ]
     },
     "metadata": {},
     "output_type": "display_data"
    },
    {
     "data": {
      "application/javascript": [
       "window.plot.setData([window.error]); window.plot.draw();"
      ],
      "text/plain": [
       "<IPython.core.display.Javascript object>"
      ]
     },
     "metadata": {},
     "output_type": "display_data"
    },
    {
     "data": {
      "application/javascript": [
       "window.weights_l0 = [[1, -6.37279690741944], [2, -1.5516160854150856], [3, -4.564360003740612], [4, 3.063783530812255], [5, 4.964543182322955], [6, 4.091757842849095], [7, -4.420978758650159], [8, -5.0524535163819415], [9, -2.2699861806924084], [10, 0.2801528187748388], [11, 1.1204482005937781], [12, -1.2819913964051055]]"
      ],
      "text/plain": [
       "<IPython.core.display.Javascript object>"
      ]
     },
     "metadata": {},
     "output_type": "display_data"
    },
    {
     "data": {
      "application/javascript": [
       "window.weight_plot_l0.setData([window.weights_l0]); window.weight_plot_l0.draw();"
      ],
      "text/plain": [
       "<IPython.core.display.Javascript object>"
      ]
     },
     "metadata": {},
     "output_type": "display_data"
    },
    {
     "data": {
      "application/javascript": [
       "window.weights_l1 = [[1, 9.067612533226885], [2, -4.431508929891451], [3, -5.47279528552484], [4, 6.111234120298671]]"
      ],
      "text/plain": [
       "<IPython.core.display.Javascript object>"
      ]
     },
     "metadata": {},
     "output_type": "display_data"
    },
    {
     "data": {
      "application/javascript": [
       "window.weight_plot_l1.setData([window.weights_l1]); window.weight_plot_l1.draw();"
      ],
      "text/plain": [
       "<IPython.core.display.Javascript object>"
      ]
     },
     "metadata": {},
     "output_type": "display_data"
    },
    {
     "data": {
      "application/javascript": [
       "window.outputs = [[1, 0.011269865132920779], [2, 0.9808008414418187], [3, 0.9835721082064712], [4, 0.02326802402255169]]"
      ],
      "text/plain": [
       "<IPython.core.display.Javascript object>"
      ]
     },
     "metadata": {},
     "output_type": "display_data"
    },
    {
     "data": {
      "application/javascript": [
       "window.output_plot.setData([window.outputs]); window.output_plot.draw();"
      ],
      "text/plain": [
       "<IPython.core.display.Javascript object>"
      ]
     },
     "metadata": {},
     "output_type": "display_data"
    },
    {
     "data": {
      "application/javascript": [
       "$('#avg-error').html(0.01739)"
      ],
      "text/plain": [
       "<IPython.core.display.Javascript object>"
      ]
     },
     "metadata": {},
     "output_type": "display_data"
    },
    {
     "data": {
      "application/javascript": [
       "$('#iteration').html(3750)"
      ],
      "text/plain": [
       "<IPython.core.display.Javascript object>"
      ]
     },
     "metadata": {},
     "output_type": "display_data"
    },
    {
     "data": {
      "application/javascript": [
       "window.error.push([3750,0.01739])"
      ],
      "text/plain": [
       "<IPython.core.display.Javascript object>"
      ]
     },
     "metadata": {},
     "output_type": "display_data"
    },
    {
     "data": {
      "application/javascript": [
       "window.plot.setData([window.error]); window.plot.draw();"
      ],
      "text/plain": [
       "<IPython.core.display.Javascript object>"
      ]
     },
     "metadata": {},
     "output_type": "display_data"
    },
    {
     "data": {
      "application/javascript": [
       "window.weights_l0 = [[1, -6.3784880218087014], [2, -1.5554253979637556], [3, -4.566463231177289], [4, 3.0680503197975857], [5, 4.968463041566051], [6, 4.096944679341355], [7, -4.424284848225256], [8, -5.057904388828037], [9, -2.2708340384348187], [10, 0.28212955042021237], [11, 1.1212968057009371], [12, -1.2839951050846434]]"
      ],
      "text/plain": [
       "<IPython.core.display.Javascript object>"
      ]
     },
     "metadata": {},
     "output_type": "display_data"
    },
    {
     "data": {
      "application/javascript": [
       "window.weight_plot_l0.setData([window.weights_l0]); window.weight_plot_l0.draw();"
      ],
      "text/plain": [
       "<IPython.core.display.Javascript object>"
      ]
     },
     "metadata": {},
     "output_type": "display_data"
    },
    {
     "data": {
      "application/javascript": [
       "window.weights_l1 = [[1, 9.083179189200326], [2, -4.439217437163359], [3, -5.476452317244828], [4, 6.1202161632124685]]"
      ],
      "text/plain": [
       "<IPython.core.display.Javascript object>"
      ]
     },
     "metadata": {},
     "output_type": "display_data"
    },
    {
     "data": {
      "application/javascript": [
       "window.weight_plot_l1.setData([window.weights_l1]); window.weight_plot_l1.draw();"
      ],
      "text/plain": [
       "<IPython.core.display.Javascript object>"
      ]
     },
     "metadata": {},
     "output_type": "display_data"
    },
    {
     "data": {
      "application/javascript": [
       "window.outputs = [[1, 0.011164578521655446], [2, 0.9809602509966283], [3, 0.9837198658909503], [4, 0.023073276137443123]]"
      ],
      "text/plain": [
       "<IPython.core.display.Javascript object>"
      ]
     },
     "metadata": {},
     "output_type": "display_data"
    },
    {
     "data": {
      "application/javascript": [
       "window.output_plot.setData([window.outputs]); window.output_plot.draw();"
      ],
      "text/plain": [
       "<IPython.core.display.Javascript object>"
      ]
     },
     "metadata": {},
     "output_type": "display_data"
    },
    {
     "data": {
      "application/javascript": [
       "$('#avg-error').html(0.01724)"
      ],
      "text/plain": [
       "<IPython.core.display.Javascript object>"
      ]
     },
     "metadata": {},
     "output_type": "display_data"
    },
    {
     "data": {
      "application/javascript": [
       "$('#iteration').html(3800)"
      ],
      "text/plain": [
       "<IPython.core.display.Javascript object>"
      ]
     },
     "metadata": {},
     "output_type": "display_data"
    },
    {
     "data": {
      "application/javascript": [
       "window.error.push([3800,0.01724])"
      ],
      "text/plain": [
       "<IPython.core.display.Javascript object>"
      ]
     },
     "metadata": {},
     "output_type": "display_data"
    },
    {
     "data": {
      "application/javascript": [
       "window.plot.setData([window.error]); window.plot.draw();"
      ],
      "text/plain": [
       "<IPython.core.display.Javascript object>"
      ]
     },
     "metadata": {},
     "output_type": "display_data"
    },
    {
     "data": {
      "application/javascript": [
       "window.weights_l0 = [[1, -6.384081934960508], [2, -1.5591740500551923], [3, -4.568528473221475], [4, 3.072241529732875], [5, 4.972314980660701], [6, 4.102044195894635], [7, -4.4275321448445695], [8, -5.06325910755642], [9, -2.2716672233917636], [10, 0.2840733600523165], [11, 1.1221289438627031], [12, -1.2859621810144366]]"
      ],
      "text/plain": [
       "<IPython.core.display.Javascript object>"
      ]
     },
     "metadata": {},
     "output_type": "display_data"
    },
    {
     "data": {
      "application/javascript": [
       "window.weight_plot_l0.setData([window.weights_l0]); window.weight_plot_l0.draw();"
      ],
      "text/plain": [
       "<IPython.core.display.Javascript object>"
      ]
     },
     "metadata": {},
     "output_type": "display_data"
    },
    {
     "data": {
      "application/javascript": [
       "window.weights_l1 = [[1, 9.098499418155994], [2, -4.446804811399828], [3, -5.480043510944496], [4, 6.1290480385921775]]"
      ],
      "text/plain": [
       "<IPython.core.display.Javascript object>"
      ]
     },
     "metadata": {},
     "output_type": "display_data"
    },
    {
     "data": {
      "application/javascript": [
       "window.weight_plot_l1.setData([window.weights_l1]); window.weight_plot_l1.draw();"
      ],
      "text/plain": [
       "<IPython.core.display.Javascript object>"
      ]
     },
     "metadata": {},
     "output_type": "display_data"
    },
    {
     "data": {
      "application/javascript": [
       "window.outputs = [[1, 0.011061928593693043], [2, 0.9811158548493003], [3, 0.9838639622011083], [4, 0.0228831986935074]]"
      ],
      "text/plain": [
       "<IPython.core.display.Javascript object>"
      ]
     },
     "metadata": {},
     "output_type": "display_data"
    },
    {
     "data": {
      "application/javascript": [
       "window.output_plot.setData([window.outputs]); window.output_plot.draw();"
      ],
      "text/plain": [
       "<IPython.core.display.Javascript object>"
      ]
     },
     "metadata": {},
     "output_type": "display_data"
    },
    {
     "data": {
      "application/javascript": [
       "$('#avg-error').html(0.01710)"
      ],
      "text/plain": [
       "<IPython.core.display.Javascript object>"
      ]
     },
     "metadata": {},
     "output_type": "display_data"
    },
    {
     "data": {
      "application/javascript": [
       "$('#iteration').html(3850)"
      ],
      "text/plain": [
       "<IPython.core.display.Javascript object>"
      ]
     },
     "metadata": {},
     "output_type": "display_data"
    },
    {
     "data": {
      "application/javascript": [
       "window.error.push([3850,0.01710])"
      ],
      "text/plain": [
       "<IPython.core.display.Javascript object>"
      ]
     },
     "metadata": {},
     "output_type": "display_data"
    },
    {
     "data": {
      "application/javascript": [
       "window.plot.setData([window.error]); window.plot.draw();"
      ],
      "text/plain": [
       "<IPython.core.display.Javascript object>"
      ]
     },
     "metadata": {},
     "output_type": "display_data"
    },
    {
     "data": {
      "application/javascript": [
       "window.weights_l0 = [[1, -6.38958177904276], [2, -1.5628639053744144], [3, -4.570556998730763], [4, 3.076359647806159], [5, 4.976101209856727], [6, 4.107059182222083], [7, -4.430722587842297], [8, -5.068520835157473], [9, -2.272486213760409], [10, 0.2859852865065291], [11, 1.122945187553491], [12, -1.287893848618116]]"
      ],
      "text/plain": [
       "<IPython.core.display.Javascript object>"
      ]
     },
     "metadata": {},
     "output_type": "display_data"
    },
    {
     "data": {
      "application/javascript": [
       "window.weight_plot_l0.setData([window.weights_l0]); window.weight_plot_l0.draw();"
      ],
      "text/plain": [
       "<IPython.core.display.Javascript object>"
      ]
     },
     "metadata": {},
     "output_type": "display_data"
    },
    {
     "data": {
      "application/javascript": [
       "window.weights_l1 = [[1, 9.113580837175002], [2, -4.454274775547888], [3, -5.483571055884853], [4, 6.13773454118664]]"
      ],
      "text/plain": [
       "<IPython.core.display.Javascript object>"
      ]
     },
     "metadata": {},
     "output_type": "display_data"
    },
    {
     "data": {
      "application/javascript": [
       "window.weight_plot_l1.setData([window.weights_l1]); window.weight_plot_l1.draw();"
      ],
      "text/plain": [
       "<IPython.core.display.Javascript object>"
      ]
     },
     "metadata": {},
     "output_type": "display_data"
    },
    {
     "data": {
      "application/javascript": [
       "window.outputs = [[1, 0.010961809911609709], [2, 0.981267800534575], [3, 0.9840045427436703], [4, 0.02269761001730674]]"
      ],
      "text/plain": [
       "<IPython.core.display.Javascript object>"
      ]
     },
     "metadata": {},
     "output_type": "display_data"
    },
    {
     "data": {
      "application/javascript": [
       "window.output_plot.setData([window.outputs]); window.output_plot.draw();"
      ],
      "text/plain": [
       "<IPython.core.display.Javascript object>"
      ]
     },
     "metadata": {},
     "output_type": "display_data"
    },
    {
     "data": {
      "application/javascript": [
       "$('#avg-error').html(0.01696)"
      ],
      "text/plain": [
       "<IPython.core.display.Javascript object>"
      ]
     },
     "metadata": {},
     "output_type": "display_data"
    },
    {
     "data": {
      "application/javascript": [
       "$('#iteration').html(3900)"
      ],
      "text/plain": [
       "<IPython.core.display.Javascript object>"
      ]
     },
     "metadata": {},
     "output_type": "display_data"
    },
    {
     "data": {
      "application/javascript": [
       "window.error.push([3900,0.01696])"
      ],
      "text/plain": [
       "<IPython.core.display.Javascript object>"
      ]
     },
     "metadata": {},
     "output_type": "display_data"
    },
    {
     "data": {
      "application/javascript": [
       "window.plot.setData([window.error]); window.plot.draw();"
      ],
      "text/plain": [
       "<IPython.core.display.Javascript object>"
      ]
     },
     "metadata": {},
     "output_type": "display_data"
    },
    {
     "data": {
      "application/javascript": [
       "window.weights_l0 = [[1, -6.394990539688116], [2, -1.5664967436459227], [3, -4.572550015552847], [4, 3.0804070431186488], [5, 4.97982383519193], [6, 4.1119922983475625], [7, -4.4338580242865495], [8, -5.07369258396671], [9, -2.2732914651536], [10, 0.2878663209011793], [11, 1.1237460809316506], [12, -1.2897912735977757]]"
      ],
      "text/plain": [
       "<IPython.core.display.Javascript object>"
      ]
     },
     "metadata": {},
     "output_type": "display_data"
    },
    {
     "data": {
      "application/javascript": [
       "window.weight_plot_l0.setData([window.weights_l0]); window.weight_plot_l0.draw();"
      ],
      "text/plain": [
       "<IPython.core.display.Javascript object>"
      ]
     },
     "metadata": {},
     "output_type": "display_data"
    },
    {
     "data": {
      "application/javascript": [
       "window.weights_l1 = [[1, 9.128430717241866], [2, -4.461630884205023], [3, -5.487037036521168], [4, 6.146280242688586]]"
      ],
      "text/plain": [
       "<IPython.core.display.Javascript object>"
      ]
     },
     "metadata": {},
     "output_type": "display_data"
    },
    {
     "data": {
      "application/javascript": [
       "window.weight_plot_l1.setData([window.weights_l1]); window.weight_plot_l1.draw();"
      ],
      "text/plain": [
       "<IPython.core.display.Javascript object>"
      ]
     },
     "metadata": {},
     "output_type": "display_data"
    },
    {
     "data": {
      "application/javascript": [
       "window.outputs = [[1, 0.01086412277208572], [2, 0.9814162277486748], [3, 0.9841417452341599], [4, 0.0225163381149814]]"
      ],
      "text/plain": [
       "<IPython.core.display.Javascript object>"
      ]
     },
     "metadata": {},
     "output_type": "display_data"
    },
    {
     "data": {
      "application/javascript": [
       "window.output_plot.setData([window.outputs]); window.output_plot.draw();"
      ],
      "text/plain": [
       "<IPython.core.display.Javascript object>"
      ]
     },
     "metadata": {},
     "output_type": "display_data"
    },
    {
     "data": {
      "application/javascript": [
       "$('#avg-error').html(0.01682)"
      ],
      "text/plain": [
       "<IPython.core.display.Javascript object>"
      ]
     },
     "metadata": {},
     "output_type": "display_data"
    },
    {
     "data": {
      "application/javascript": [
       "$('#iteration').html(3950)"
      ],
      "text/plain": [
       "<IPython.core.display.Javascript object>"
      ]
     },
     "metadata": {},
     "output_type": "display_data"
    },
    {
     "data": {
      "application/javascript": [
       "window.error.push([3950,0.01682])"
      ],
      "text/plain": [
       "<IPython.core.display.Javascript object>"
      ]
     },
     "metadata": {},
     "output_type": "display_data"
    },
    {
     "data": {
      "application/javascript": [
       "window.plot.setData([window.error]); window.plot.draw();"
      ],
      "text/plain": [
       "<IPython.core.display.Javascript object>"
      ]
     },
     "metadata": {},
     "output_type": "display_data"
    },
    {
     "data": {
      "application/javascript": [
       "window.weights_l0 = [[1, -6.400311064910559], [2, -1.5700742655821034], [3, -4.574508674322246], [4, 3.084385973951541], [5, 4.983484864875237], [6, 4.116846082456878], [7, -4.436940214668434], [8, -5.078777225322604], [9, -2.274083411985217], [10, 0.2897174094932316], [11, 1.1245321416411767], [12, -1.2916555665741247]]"
      ],
      "text/plain": [
       "<IPython.core.display.Javascript object>"
      ]
     },
     "metadata": {},
     "output_type": "display_data"
    },
    {
     "data": {
      "application/javascript": [
       "window.weight_plot_l0.setData([window.weights_l0]); window.weight_plot_l0.draw();"
      ],
      "text/plain": [
       "<IPython.core.display.Javascript object>"
      ]
     },
     "metadata": {},
     "output_type": "display_data"
    },
    {
     "data": {
      "application/javascript": [
       "window.weights_l1 = [[1, 9.143056003830754], [2, -4.468876533590833], [3, -5.4904434389987316], [4, 6.1546895052529855]]"
      ],
      "text/plain": [
       "<IPython.core.display.Javascript object>"
      ]
     },
     "metadata": {},
     "output_type": "display_data"
    },
    {
     "data": {
      "application/javascript": [
       "window.weight_plot_l1.setData([window.weights_l1]); window.weight_plot_l1.draw();"
      ],
      "text/plain": [
       "<IPython.core.display.Javascript object>"
      ]
     },
     "metadata": {},
     "output_type": "display_data"
    },
    {
     "data": {
      "application/javascript": [
       "window.outputs = [[1, 0.01076877281428239], [2, 0.9815612688746526], [3, 0.984275700034563], [4, 0.022339220021906706]]"
      ],
      "text/plain": [
       "<IPython.core.display.Javascript object>"
      ]
     },
     "metadata": {},
     "output_type": "display_data"
    },
    {
     "data": {
      "application/javascript": [
       "window.output_plot.setData([window.outputs]); window.output_plot.draw();"
      ],
      "text/plain": [
       "<IPython.core.display.Javascript object>"
      ]
     },
     "metadata": {},
     "output_type": "display_data"
    },
    {
     "data": {
      "application/javascript": [
       "$('#avg-error').html(0.01668)"
      ],
      "text/plain": [
       "<IPython.core.display.Javascript object>"
      ]
     },
     "metadata": {},
     "output_type": "display_data"
    },
    {
     "data": {
      "application/javascript": [
       "$('#iteration').html(4000)"
      ],
      "text/plain": [
       "<IPython.core.display.Javascript object>"
      ]
     },
     "metadata": {},
     "output_type": "display_data"
    },
    {
     "data": {
      "application/javascript": [
       "window.error.push([4000,0.01668])"
      ],
      "text/plain": [
       "<IPython.core.display.Javascript object>"
      ]
     },
     "metadata": {},
     "output_type": "display_data"
    },
    {
     "data": {
      "application/javascript": [
       "window.plot.setData([window.error]); window.plot.draw();"
      ],
      "text/plain": [
       "<IPython.core.display.Javascript object>"
      ]
     },
     "metadata": {},
     "output_type": "display_data"
    },
    {
     "data": {
      "application/javascript": [
       "window.weights_l0 = [[1, -6.405546073357996], [2, -1.5735980974733361], [3, -4.576434071968858], [4, 3.088298594486785], [5, 4.987086215191777], [6, 4.1216229581668715], [7, -4.439970838162814], [8, -5.083777498127711], [9, -2.274862468751642], [10, 0.2915394563245707], [11, 1.1253038624741079], [12, -1.2934877864515386]]"
      ],
      "text/plain": [
       "<IPython.core.display.Javascript object>"
      ]
     },
     "metadata": {},
     "output_type": "display_data"
    },
    {
     "data": {
      "application/javascript": [
       "window.weight_plot_l0.setData([window.weights_l0]); window.weight_plot_l0.draw();"
      ],
      "text/plain": [
       "<IPython.core.display.Javascript object>"
      ]
     },
     "metadata": {},
     "output_type": "display_data"
    },
    {
     "data": {
      "application/javascript": [
       "window.weights_l1 = [[1, 9.157463335987206], [2, -4.476014970792652], [3, -5.493792157157368], [4, 6.162966494011889]]"
      ],
      "text/plain": [
       "<IPython.core.display.Javascript object>"
      ]
     },
     "metadata": {},
     "output_type": "display_data"
    },
    {
     "data": {
      "application/javascript": [
       "window.weight_plot_l1.setData([window.weights_l1]); window.weight_plot_l1.draw();"
      ],
      "text/plain": [
       "<IPython.core.display.Javascript object>"
      ]
     },
     "metadata": {},
     "output_type": "display_data"
    },
    {
     "data": {
      "application/javascript": [
       "window.outputs = [[1, 0.010675670660242022], [2, 0.9817030494654588], [3, 0.9844065306471044], [4, 0.02216610120480489]]"
      ],
      "text/plain": [
       "<IPython.core.display.Javascript object>"
      ]
     },
     "metadata": {},
     "output_type": "display_data"
    },
    {
     "data": {
      "application/javascript": [
       "window.output_plot.setData([window.outputs]); window.output_plot.draw();"
      ],
      "text/plain": [
       "<IPython.core.display.Javascript object>"
      ]
     },
     "metadata": {},
     "output_type": "display_data"
    },
    {
     "data": {
      "application/javascript": [
       "$('#avg-error').html(0.01655)"
      ],
      "text/plain": [
       "<IPython.core.display.Javascript object>"
      ]
     },
     "metadata": {},
     "output_type": "display_data"
    },
    {
     "data": {
      "application/javascript": [
       "$('#iteration').html(4050)"
      ],
      "text/plain": [
       "<IPython.core.display.Javascript object>"
      ]
     },
     "metadata": {},
     "output_type": "display_data"
    },
    {
     "data": {
      "application/javascript": [
       "window.error.push([4050,0.01655])"
      ],
      "text/plain": [
       "<IPython.core.display.Javascript object>"
      ]
     },
     "metadata": {},
     "output_type": "display_data"
    },
    {
     "data": {
      "application/javascript": [
       "window.plot.setData([window.error]); window.plot.draw();"
      ],
      "text/plain": [
       "<IPython.core.display.Javascript object>"
      ]
     },
     "metadata": {},
     "output_type": "display_data"
    },
    {
     "data": {
      "application/javascript": [
       "window.weights_l0 = [[1, -6.410698161959093], [2, -1.5770697954504203], [3, -4.578327254963986], [4, 3.092146961030057], [5, 4.990629715972003], [6, 4.126325241263283], [7, -4.442951497498654], [8, -5.0886960167747075], [9, -2.2756290312184984], [10, 0.29333332567698067], [11, 1.1260617129062325], [12, -1.2952889435324584]]"
      ],
      "text/plain": [
       "<IPython.core.display.Javascript object>"
      ]
     },
     "metadata": {},
     "output_type": "display_data"
    },
    {
     "data": {
      "application/javascript": [
       "window.weight_plot_l0.setData([window.weights_l0]); window.weight_plot_l0.draw();"
      ],
      "text/plain": [
       "<IPython.core.display.Javascript object>"
      ]
     },
     "metadata": {},
     "output_type": "display_data"
    },
    {
     "data": {
      "application/javascript": [
       "window.weights_l1 = [[1, 9.171659064035167], [2, -4.483049302347573], [3, -5.4970849980883525], [4, 6.1711151886734905]]"
      ],
      "text/plain": [
       "<IPython.core.display.Javascript object>"
      ]
     },
     "metadata": {},
     "output_type": "display_data"
    },
    {
     "data": {
      "application/javascript": [
       "window.weight_plot_l1.setData([window.weights_l1]); window.weight_plot_l1.draw();"
      ],
      "text/plain": [
       "<IPython.core.display.Javascript object>"
      ]
     },
     "metadata": {},
     "output_type": "display_data"
    },
    {
     "data": {
      "application/javascript": [
       "window.outputs = [[1, 0.010584731584273331], [2, 0.9818416886886876], [3, 0.9845343541682887], [4, 0.021996835011395786]]"
      ],
      "text/plain": [
       "<IPython.core.display.Javascript object>"
      ]
     },
     "metadata": {},
     "output_type": "display_data"
    },
    {
     "data": {
      "application/javascript": [
       "window.output_plot.setData([window.outputs]); window.output_plot.draw();"
      ],
      "text/plain": [
       "<IPython.core.display.Javascript object>"
      ]
     },
     "metadata": {},
     "output_type": "display_data"
    },
    {
     "data": {
      "application/javascript": [
       "$('#avg-error').html(0.01642)"
      ],
      "text/plain": [
       "<IPython.core.display.Javascript object>"
      ]
     },
     "metadata": {},
     "output_type": "display_data"
    },
    {
     "data": {
      "application/javascript": [
       "$('#iteration').html(4100)"
      ],
      "text/plain": [
       "<IPython.core.display.Javascript object>"
      ]
     },
     "metadata": {},
     "output_type": "display_data"
    },
    {
     "data": {
      "application/javascript": [
       "window.error.push([4100,0.01642])"
      ],
      "text/plain": [
       "<IPython.core.display.Javascript object>"
      ]
     },
     "metadata": {},
     "output_type": "display_data"
    },
    {
     "data": {
      "application/javascript": [
       "window.plot.setData([window.error]); window.plot.draw();"
      ],
      "text/plain": [
       "<IPython.core.display.Javascript object>"
      ]
     },
     "metadata": {},
     "output_type": "display_data"
    },
    {
     "data": {
      "application/javascript": [
       "window.weights_l0 = [[1, -6.415769813016696], [2, -1.5804908494469634], [3, -4.580189222326896], [4, 3.09593303777926], [5, 4.994117115662725], [6, 4.130955145953027], [7, -4.445883723473041], [8, -5.09353527849274], [9, -2.276383477520926], [10, 0.2950998443521165], [11, 1.1268061405174123], [12, -1.2970600024030365]]"
      ],
      "text/plain": [
       "<IPython.core.display.Javascript object>"
      ]
     },
     "metadata": {},
     "output_type": "display_data"
    },
    {
     "data": {
      "application/javascript": [
       "window.weight_plot_l0.setData([window.weights_l0]); window.weight_plot_l0.draw();"
      ],
      "text/plain": [
       "<IPython.core.display.Javascript object>"
      ]
     },
     "metadata": {},
     "output_type": "display_data"
    },
    {
     "data": {
      "application/javascript": [
       "window.weights_l1 = [[1, 9.185649266026262], [2, -4.48998250221715], [3, -5.500323687282933], [4, 6.179139394284384]]"
      ],
      "text/plain": [
       "<IPython.core.display.Javascript object>"
      ]
     },
     "metadata": {},
     "output_type": "display_data"
    },
    {
     "data": {
      "application/javascript": [
       "window.weight_plot_l1.setData([window.weights_l1]); window.weight_plot_l1.draw();"
      ],
      "text/plain": [
       "<IPython.core.display.Javascript object>"
      ]
     },
     "metadata": {},
     "output_type": "display_data"
    },
    {
     "data": {
      "application/javascript": [
       "window.outputs = [[1, 0.01049587520861259], [2, 0.9819772997365298], [3, 0.9846592817069231], [4, 0.021831282163193303]]"
      ],
      "text/plain": [
       "<IPython.core.display.Javascript object>"
      ]
     },
     "metadata": {},
     "output_type": "display_data"
    },
    {
     "data": {
      "application/javascript": [
       "window.output_plot.setData([window.outputs]); window.output_plot.draw();"
      ],
      "text/plain": [
       "<IPython.core.display.Javascript object>"
      ]
     },
     "metadata": {},
     "output_type": "display_data"
    },
    {
     "data": {
      "application/javascript": [
       "$('#avg-error').html(0.01630)"
      ],
      "text/plain": [
       "<IPython.core.display.Javascript object>"
      ]
     },
     "metadata": {},
     "output_type": "display_data"
    },
    {
     "data": {
      "application/javascript": [
       "$('#iteration').html(4150)"
      ],
      "text/plain": [
       "<IPython.core.display.Javascript object>"
      ]
     },
     "metadata": {},
     "output_type": "display_data"
    },
    {
     "data": {
      "application/javascript": [
       "window.error.push([4150,0.01630])"
      ],
      "text/plain": [
       "<IPython.core.display.Javascript object>"
      ]
     },
     "metadata": {},
     "output_type": "display_data"
    },
    {
     "data": {
      "application/javascript": [
       "window.plot.setData([window.error]); window.plot.draw();"
      ],
      "text/plain": [
       "<IPython.core.display.Javascript object>"
      ]
     },
     "metadata": {},
     "output_type": "display_data"
    },
    {
     "data": {
      "application/javascript": [
       "window.weights_l0 = [[1, -6.42076340079502], [2, -1.583862686886656], [3, -4.582020928412696], [4, 3.0996587021776216], [5, 4.997550086034166], [6, 4.135514790672229], [7, -4.44876897913952], [8, -5.098297670163964], [9, -2.277126169184765], [10, 0.2968398037911766], [11, 1.1275375723066858], [12, -1.2988018846097806]]"
      ],
      "text/plain": [
       "<IPython.core.display.Javascript object>"
      ]
     },
     "metadata": {},
     "output_type": "display_data"
    },
    {
     "data": {
      "application/javascript": [
       "window.weight_plot_l0.setData([window.weights_l0]); window.weight_plot_l0.draw();"
      ],
      "text/plain": [
       "<IPython.core.display.Javascript object>"
      ]
     },
     "metadata": {},
     "output_type": "display_data"
    },
    {
     "data": {
      "application/javascript": [
       "window.weights_l1 = [[1, 9.199439763036768], [2, -4.496817419205513], [3, -5.503509873407768], [4, 6.187042751226142]]"
      ],
      "text/plain": [
       "<IPython.core.display.Javascript object>"
      ]
     },
     "metadata": {},
     "output_type": "display_data"
    },
    {
     "data": {
      "application/javascript": [
       "window.weight_plot_l1.setData([window.weights_l1]); window.weight_plot_l1.draw();"
      ],
      "text/plain": [
       "<IPython.core.display.Javascript object>"
      ]
     },
     "metadata": {},
     "output_type": "display_data"
    },
    {
     "data": {
      "application/javascript": [
       "window.outputs = [[1, 0.010409025222937338], [2, 0.9821099902041018], [3, 0.9847814187694325], [4, 0.021669310287515616]]"
      ],
      "text/plain": [
       "<IPython.core.display.Javascript object>"
      ]
     },
     "metadata": {},
     "output_type": "display_data"
    },
    {
     "data": {
      "application/javascript": [
       "window.output_plot.setData([window.outputs]); window.output_plot.draw();"
      ],
      "text/plain": [
       "<IPython.core.display.Javascript object>"
      ]
     },
     "metadata": {},
     "output_type": "display_data"
    },
    {
     "data": {
      "application/javascript": [
       "$('#avg-error').html(0.01617)"
      ],
      "text/plain": [
       "<IPython.core.display.Javascript object>"
      ]
     },
     "metadata": {},
     "output_type": "display_data"
    },
    {
     "data": {
      "application/javascript": [
       "$('#iteration').html(4200)"
      ],
      "text/plain": [
       "<IPython.core.display.Javascript object>"
      ]
     },
     "metadata": {},
     "output_type": "display_data"
    },
    {
     "data": {
      "application/javascript": [
       "window.error.push([4200,0.01617])"
      ],
      "text/plain": [
       "<IPython.core.display.Javascript object>"
      ]
     },
     "metadata": {},
     "output_type": "display_data"
    },
    {
     "data": {
      "application/javascript": [
       "window.plot.setData([window.error]); window.plot.draw();"
      ],
      "text/plain": [
       "<IPython.core.display.Javascript object>"
      ]
     },
     "metadata": {},
     "output_type": "display_data"
    },
    {
     "data": {
      "application/javascript": [
       "window.weights_l0 = [[1, -6.425681197643158], [2, -1.5871866761180047], [3, -4.583823285500252], [4, 3.1033257498865243], [5, 5.000930226553836], [6, 4.140006203487132], [7, -4.451608663698352], [8, -5.102985474655224], [9, -2.277857452075376], [10, 0.29855396204756285], [11, 1.1282564159112993], [12, -1.3005154711449756]]"
      ],
      "text/plain": [
       "<IPython.core.display.Javascript object>"
      ]
     },
     "metadata": {},
     "output_type": "display_data"
    },
    {
     "data": {
      "application/javascript": [
       "window.weight_plot_l0.setData([window.weights_l0]); window.weight_plot_l0.draw();"
      ],
      "text/plain": [
       "<IPython.core.display.Javascript object>"
      ]
     },
     "metadata": {},
     "output_type": "display_data"
    },
    {
     "data": {
      "application/javascript": [
       "window.weights_l1 = [[1, 9.21303613340776], [2, -4.503556783866845], [3, -5.506645132739002], [4, 6.194828744510432]]"
      ],
      "text/plain": [
       "<IPython.core.display.Javascript object>"
      ]
     },
     "metadata": {},
     "output_type": "display_data"
    },
    {
     "data": {
      "application/javascript": [
       "window.weight_plot_l1.setData([window.weights_l1]); window.weight_plot_l1.draw();"
      ],
      "text/plain": [
       "<IPython.core.display.Javascript object>"
      ]
     },
     "metadata": {},
     "output_type": "display_data"
    },
    {
     "data": {
      "application/javascript": [
       "window.outputs = [[1, 0.01032410912556352], [2, 0.9822398624389862], [3, 0.9849008656154418], [4, 0.021510793485184133]]"
      ],
      "text/plain": [
       "<IPython.core.display.Javascript object>"
      ]
     },
     "metadata": {},
     "output_type": "display_data"
    },
    {
     "data": {
      "application/javascript": [
       "window.output_plot.setData([window.outputs]); window.output_plot.draw();"
      ],
      "text/plain": [
       "<IPython.core.display.Javascript object>"
      ]
     },
     "metadata": {},
     "output_type": "display_data"
    },
    {
     "data": {
      "application/javascript": [
       "$('#avg-error').html(0.01605)"
      ],
      "text/plain": [
       "<IPython.core.display.Javascript object>"
      ]
     },
     "metadata": {},
     "output_type": "display_data"
    },
    {
     "data": {
      "application/javascript": [
       "$('#iteration').html(4250)"
      ],
      "text/plain": [
       "<IPython.core.display.Javascript object>"
      ]
     },
     "metadata": {},
     "output_type": "display_data"
    },
    {
     "data": {
      "application/javascript": [
       "window.error.push([4250,0.01605])"
      ],
      "text/plain": [
       "<IPython.core.display.Javascript object>"
      ]
     },
     "metadata": {},
     "output_type": "display_data"
    },
    {
     "data": {
      "application/javascript": [
       "window.plot.setData([window.error]); window.plot.draw();"
      ],
      "text/plain": [
       "<IPython.core.display.Javascript object>"
      ]
     },
     "metadata": {},
     "output_type": "display_data"
    },
    {
     "data": {
      "application/javascript": [
       "window.weights_l0 = [[1, -6.430525379693353], [2, -1.59046412961696], [3, -4.5855971661969415], [4, 3.106935899409893], [5, 5.004259068454914], [6, 4.144431327121587], [7, -4.454404116113703], [8, -5.107600876705439], [9, -2.2785776572801226], [10, 0.30024304562455345], [11, 1.12896306073787], [12, -1.3022016047569323]]"
      ],
      "text/plain": [
       "<IPython.core.display.Javascript object>"
      ]
     },
     "metadata": {},
     "output_type": "display_data"
    },
    {
     "data": {
      "application/javascript": [
       "window.weight_plot_l0.setData([window.weights_l0]); window.weight_plot_l0.draw();"
      ],
      "text/plain": [
       "<IPython.core.display.Javascript object>"
      ]
     },
     "metadata": {},
     "output_type": "display_data"
    },
    {
     "data": {
      "application/javascript": [
       "window.weights_l1 = [[1, 9.226443726014526], [2, -4.5102032149436955], [3, -5.509730973283732], [4, 6.202500712430702]]"
      ],
      "text/plain": [
       "<IPython.core.display.Javascript object>"
      ]
     },
     "metadata": {},
     "output_type": "display_data"
    },
    {
     "data": {
      "application/javascript": [
       "window.weight_plot_l1.setData([window.weights_l1]); window.weight_plot_l1.draw();"
      ],
      "text/plain": [
       "<IPython.core.display.Javascript object>"
      ]
     },
     "metadata": {},
     "output_type": "display_data"
    },
    {
     "data": {
      "application/javascript": [
       "window.outputs = [[1, 0.010241057984380353], [2, 0.9823670138645293], [3, 0.9850177175862893], [4, 0.021355611930746976]]"
      ],
      "text/plain": [
       "<IPython.core.display.Javascript object>"
      ]
     },
     "metadata": {},
     "output_type": "display_data"
    },
    {
     "data": {
      "application/javascript": [
       "window.output_plot.setData([window.outputs]); window.output_plot.draw();"
      ],
      "text/plain": [
       "<IPython.core.display.Javascript object>"
      ]
     },
     "metadata": {},
     "output_type": "display_data"
    },
    {
     "data": {
      "application/javascript": [
       "$('#avg-error').html(0.01593)"
      ],
      "text/plain": [
       "<IPython.core.display.Javascript object>"
      ]
     },
     "metadata": {},
     "output_type": "display_data"
    },
    {
     "data": {
      "application/javascript": [
       "$('#iteration').html(4300)"
      ],
      "text/plain": [
       "<IPython.core.display.Javascript object>"
      ]
     },
     "metadata": {},
     "output_type": "display_data"
    },
    {
     "data": {
      "application/javascript": [
       "window.error.push([4300,0.01593])"
      ],
      "text/plain": [
       "<IPython.core.display.Javascript object>"
      ]
     },
     "metadata": {},
     "output_type": "display_data"
    },
    {
     "data": {
      "application/javascript": [
       "window.plot.setData([window.error]); window.plot.draw();"
      ],
      "text/plain": [
       "<IPython.core.display.Javascript object>"
      ]
     },
     "metadata": {},
     "output_type": "display_data"
    },
    {
     "data": {
      "application/javascript": [
       "window.weights_l0 = [[1, -6.435298032168872], [2, -1.593696306975983], [3, -4.58734340567552], [4, 3.110490796398844], [5, 5.007538078524359], [6, 4.148792023641522], [7, -4.457156618480294], [8, -5.112145968405413], [9, -2.2792871019299614], [10, 0.30190775118888424], [11, 1.1296578790131417], [12, -1.3038610920995901]]"
      ],
      "text/plain": [
       "<IPython.core.display.Javascript object>"
      ]
     },
     "metadata": {},
     "output_type": "display_data"
    },
    {
     "data": {
      "application/javascript": [
       "window.weight_plot_l0.setData([window.weights_l0]); window.weight_plot_l0.draw();"
      ],
      "text/plain": [
       "<IPython.core.display.Javascript object>"
      ]
     },
     "metadata": {},
     "output_type": "display_data"
    },
    {
     "data": {
      "application/javascript": [
       "window.weights_l1 = [[1, 9.239667672643574], [2, -4.516759225373877], [3, -5.512768838614744], [4, 6.21006185462293]]"
      ],
      "text/plain": [
       "<IPython.core.display.Javascript object>"
      ]
     },
     "metadata": {},
     "output_type": "display_data"
    },
    {
     "data": {
      "application/javascript": [
       "window.weight_plot_l1.setData([window.weights_l1]); window.weight_plot_l1.draw();"
      ],
      "text/plain": [
       "<IPython.core.display.Javascript object>"
      ]
     },
     "metadata": {},
     "output_type": "display_data"
    },
    {
     "data": {
      "application/javascript": [
       "window.outputs = [[1, 0.010159806215775], [2, 0.9824915372791924], [3, 0.9851320654088623], [4, 0.021203651502378972]]"
      ],
      "text/plain": [
       "<IPython.core.display.Javascript object>"
      ]
     },
     "metadata": {},
     "output_type": "display_data"
    },
    {
     "data": {
      "application/javascript": [
       "window.output_plot.setData([window.outputs]); window.output_plot.draw();"
      ],
      "text/plain": [
       "<IPython.core.display.Javascript object>"
      ]
     },
     "metadata": {},
     "output_type": "display_data"
    },
    {
     "data": {
      "application/javascript": [
       "$('#avg-error').html(0.01582)"
      ],
      "text/plain": [
       "<IPython.core.display.Javascript object>"
      ]
     },
     "metadata": {},
     "output_type": "display_data"
    },
    {
     "data": {
      "application/javascript": [
       "$('#iteration').html(4350)"
      ],
      "text/plain": [
       "<IPython.core.display.Javascript object>"
      ]
     },
     "metadata": {},
     "output_type": "display_data"
    },
    {
     "data": {
      "application/javascript": [
       "window.error.push([4350,0.01582])"
      ],
      "text/plain": [
       "<IPython.core.display.Javascript object>"
      ]
     },
     "metadata": {},
     "output_type": "display_data"
    },
    {
     "data": {
      "application/javascript": [
       "window.plot.setData([window.error]); window.plot.draw();"
      ],
      "text/plain": [
       "<IPython.core.display.Javascript object>"
      ]
     },
     "metadata": {},
     "output_type": "display_data"
    },
    {
     "data": {
      "application/javascript": [
       "window.weights_l0 = [[1, -6.440001154332971], [2, -1.5968844176963635], [3, -4.589062803756912], [4, 3.1139920176626217], [5, 5.010768662633442], [6, 4.153090078824023], [7, -4.45986739915992], [8, -5.116622754303258], [9, -2.2799860899651208], [10, 0.3035487471701241], [11, 1.1303412267610131], [12, -1.3054947057345903]]"
      ],
      "text/plain": [
       "<IPython.core.display.Javascript object>"
      ]
     },
     "metadata": {},
     "output_type": "display_data"
    },
    {
     "data": {
      "application/javascript": [
       "window.weight_plot_l0.setData([window.weights_l0]); window.weight_plot_l0.draw();"
      ],
      "text/plain": [
       "<IPython.core.display.Javascript object>"
      ]
     },
     "metadata": {},
     "output_type": "display_data"
    },
    {
     "data": {
      "application/javascript": [
       "window.weights_l1 = [[1, 9.252712899548099], [2, -4.5232272279000805], [3, -5.515760111442018], [4, 6.217515239583111]]"
      ],
      "text/plain": [
       "<IPython.core.display.Javascript object>"
      ]
     },
     "metadata": {},
     "output_type": "display_data"
    },
    {
     "data": {
      "application/javascript": [
       "window.weight_plot_l1.setData([window.weights_l1]); window.weight_plot_l1.draw();"
      ],
      "text/plain": [
       "<IPython.core.display.Javascript object>"
      ]
     },
     "metadata": {},
     "output_type": "display_data"
    },
    {
     "data": {
      "application/javascript": [
       "window.outputs = [[1, 0.010080291379975279], [2, 0.9826135211340152], [3, 0.9852439954769123], [4, 0.02105480343889685]]"
      ],
      "text/plain": [
       "<IPython.core.display.Javascript object>"
      ]
     },
     "metadata": {},
     "output_type": "display_data"
    },
    {
     "data": {
      "application/javascript": [
       "window.output_plot.setData([window.outputs]); window.output_plot.draw();"
      ],
      "text/plain": [
       "<IPython.core.display.Javascript object>"
      ]
     },
     "metadata": {},
     "output_type": "display_data"
    },
    {
     "data": {
      "application/javascript": [
       "$('#avg-error').html(0.01571)"
      ],
      "text/plain": [
       "<IPython.core.display.Javascript object>"
      ]
     },
     "metadata": {},
     "output_type": "display_data"
    },
    {
     "data": {
      "application/javascript": [
       "$('#iteration').html(4400)"
      ],
      "text/plain": [
       "<IPython.core.display.Javascript object>"
      ]
     },
     "metadata": {},
     "output_type": "display_data"
    },
    {
     "data": {
      "application/javascript": [
       "window.error.push([4400,0.01571])"
      ],
      "text/plain": [
       "<IPython.core.display.Javascript object>"
      ]
     },
     "metadata": {},
     "output_type": "display_data"
    },
    {
     "data": {
      "application/javascript": [
       "window.plot.setData([window.error]); window.plot.draw();"
      ],
      "text/plain": [
       "<IPython.core.display.Javascript object>"
      ]
     },
     "metadata": {},
     "output_type": "display_data"
    },
    {
     "data": {
      "application/javascript": [
       "window.weights_l0 = [[1, -6.444636664107572], [2, -1.6000296237991214], [3, -4.590756126851342], [4, 3.117441074909405], [5, 5.013952169031359], [6, 4.157327206236041], [7, -4.462537635706377], [8, -5.121033156165564], [9, -2.2806749128493102], [10, 0.3051666752548256], [11, 1.1310134447119182], [12, -1.3071031859977342]]"
      ],
      "text/plain": [
       "<IPython.core.display.Javascript object>"
      ]
     },
     "metadata": {},
     "output_type": "display_data"
    },
    {
     "data": {
      "application/javascript": [
       "window.weight_plot_l0.setData([window.weights_l0]); window.weight_plot_l0.draw();"
      ],
      "text/plain": [
       "<IPython.core.display.Javascript object>"
      ]
     },
     "metadata": {},
     "output_type": "display_data"
    },
    {
     "data": {
      "application/javascript": [
       "window.weights_l1 = [[1, 9.265584138246462], [2, -4.529609540313269], [3, -5.51870611694223], [4, 6.224863811684569]]"
      ],
      "text/plain": [
       "<IPython.core.display.Javascript object>"
      ]
     },
     "metadata": {},
     "output_type": "display_data"
    },
    {
     "data": {
      "application/javascript": [
       "window.weight_plot_l1.setData([window.weights_l1]); window.weight_plot_l1.draw();"
      ],
      "text/plain": [
       "<IPython.core.display.Javascript object>"
      ]
     },
     "metadata": {},
     "output_type": "display_data"
    },
    {
     "data": {
      "application/javascript": [
       "window.outputs = [[1, 0.010002453991394608], [2, 0.9827330497900615], [3, 0.9853535901117841], [4, 0.020908964021577502]]"
      ],
      "text/plain": [
       "<IPython.core.display.Javascript object>"
      ]
     },
     "metadata": {},
     "output_type": "display_data"
    },
    {
     "data": {
      "application/javascript": [
       "window.output_plot.setData([window.outputs]); window.output_plot.draw();"
      ],
      "text/plain": [
       "<IPython.core.display.Javascript object>"
      ]
     },
     "metadata": {},
     "output_type": "display_data"
    },
    {
     "data": {
      "application/javascript": [
       "$('#avg-error').html(0.01560)"
      ],
      "text/plain": [
       "<IPython.core.display.Javascript object>"
      ]
     },
     "metadata": {},
     "output_type": "display_data"
    },
    {
     "data": {
      "application/javascript": [
       "$('#iteration').html(4450)"
      ],
      "text/plain": [
       "<IPython.core.display.Javascript object>"
      ]
     },
     "metadata": {},
     "output_type": "display_data"
    },
    {
     "data": {
      "application/javascript": [
       "window.error.push([4450,0.01560])"
      ],
      "text/plain": [
       "<IPython.core.display.Javascript object>"
      ]
     },
     "metadata": {},
     "output_type": "display_data"
    },
    {
     "data": {
      "application/javascript": [
       "window.plot.setData([window.error]); window.plot.draw();"
      ],
      "text/plain": [
       "<IPython.core.display.Javascript object>"
      ]
     },
     "metadata": {},
     "output_type": "display_data"
    },
    {
     "data": {
      "application/javascript": [
       "window.weights_l0 = [[1, -6.449206402387682], [2, -1.603133042268413], [3, -4.592424109769236], [4, 3.1208394182384245], [5, 5.017089891420631], [6, 4.161505051045542], [7, -4.465168457595605], [8, -5.125379017421639], [9, -2.2813538502365844], [10, 0.3067621517836214], [11, 1.1316748591500556], [12, -1.3086872427406273]]"
      ],
      "text/plain": [
       "<IPython.core.display.Javascript object>"
      ]
     },
     "metadata": {},
     "output_type": "display_data"
    },
    {
     "data": {
      "application/javascript": [
       "window.weight_plot_l0.setData([window.weights_l0]); window.weight_plot_l0.draw();"
      ],
      "text/plain": [
       "<IPython.core.display.Javascript object>"
      ]
     },
     "metadata": {},
     "output_type": "display_data"
    },
    {
     "data": {
      "application/javascript": [
       "window.weights_l1 = [[1, 9.278285935622176], [2, -4.5359083903581565], [3, -5.521608125865573], [4, 6.232110397734471]]"
      ],
      "text/plain": [
       "<IPython.core.display.Javascript object>"
      ]
     },
     "metadata": {},
     "output_type": "display_data"
    },
    {
     "data": {
      "application/javascript": [
       "window.weight_plot_l1.setData([window.weights_l1]); window.weight_plot_l1.draw();"
      ],
      "text/plain": [
       "<IPython.core.display.Javascript object>"
      ]
     },
     "metadata": {},
     "output_type": "display_data"
    },
    {
     "data": {
      "application/javascript": [
       "window.outputs = [[1, 0.009926237342701252], [2, 0.9828502037575182], [3, 0.9854609278043167], [4, 0.020766034278691396]]"
      ],
      "text/plain": [
       "<IPython.core.display.Javascript object>"
      ]
     },
     "metadata": {},
     "output_type": "display_data"
    },
    {
     "data": {
      "application/javascript": [
       "window.output_plot.setData([window.outputs]); window.output_plot.draw();"
      ],
      "text/plain": [
       "<IPython.core.display.Javascript object>"
      ]
     },
     "metadata": {},
     "output_type": "display_data"
    },
    {
     "data": {
      "application/javascript": [
       "$('#avg-error').html(0.01549)"
      ],
      "text/plain": [
       "<IPython.core.display.Javascript object>"
      ]
     },
     "metadata": {},
     "output_type": "display_data"
    },
    {
     "data": {
      "application/javascript": [
       "$('#iteration').html(4500)"
      ],
      "text/plain": [
       "<IPython.core.display.Javascript object>"
      ]
     },
     "metadata": {},
     "output_type": "display_data"
    },
    {
     "data": {
      "application/javascript": [
       "window.error.push([4500,0.01549])"
      ],
      "text/plain": [
       "<IPython.core.display.Javascript object>"
      ]
     },
     "metadata": {},
     "output_type": "display_data"
    },
    {
     "data": {
      "application/javascript": [
       "window.plot.setData([window.error]); window.plot.draw();"
      ],
      "text/plain": [
       "<IPython.core.display.Javascript object>"
      ]
     },
     "metadata": {},
     "output_type": "display_data"
    },
    {
     "data": {
      "application/javascript": [
       "window.weights_l0 = [[1, -6.453712137075126], [2, -1.6061957473401551], [3, -4.594067457412051], [4, 3.1241884394028374], [5, 5.020183071831388], [6, 4.165625193585766], [7, -4.467760948776303], [8, -5.129662107315691], [9, -2.2820231705945155], [10, 0.30833576905870924], [11, 1.1323257827034485], [12, -1.310247556957331]]"
      ],
      "text/plain": [
       "<IPython.core.display.Javascript object>"
      ]
     },
     "metadata": {},
     "output_type": "display_data"
    },
    {
     "data": {
      "application/javascript": [
       "window.weight_plot_l0.setData([window.weights_l0]); window.weight_plot_l0.draw();"
      ],
      "text/plain": [
       "<IPython.core.display.Javascript object>"
      ]
     },
     "metadata": {},
     "output_type": "display_data"
    },
    {
     "data": {
      "application/javascript": [
       "window.weights_l1 = [[1, 9.290822663378952], [2, -4.542125920326536], [3, -5.524467357437415], [4, 6.2392577131051565]]"
      ],
      "text/plain": [
       "<IPython.core.display.Javascript object>"
      ]
     },
     "metadata": {},
     "output_type": "display_data"
    },
    {
     "data": {
      "application/javascript": [
       "window.weight_plot_l1.setData([window.weights_l1]); window.weight_plot_l1.draw();"
      ],
      "text/plain": [
       "<IPython.core.display.Javascript object>"
      ]
     },
     "metadata": {},
     "output_type": "display_data"
    },
    {
     "data": {
      "application/javascript": [
       "window.outputs = [[1, 0.009851587341458176], [2, 0.9829650599179786], [3, 0.9855660834394885], [4, 0.020625919710863888]]"
      ],
      "text/plain": [
       "<IPython.core.display.Javascript object>"
      ]
     },
     "metadata": {},
     "output_type": "display_data"
    },
    {
     "data": {
      "application/javascript": [
       "window.output_plot.setData([window.outputs]); window.output_plot.draw();"
      ],
      "text/plain": [
       "<IPython.core.display.Javascript object>"
      ]
     },
     "metadata": {},
     "output_type": "display_data"
    },
    {
     "data": {
      "application/javascript": [
       "$('#avg-error').html(0.01538)"
      ],
      "text/plain": [
       "<IPython.core.display.Javascript object>"
      ]
     },
     "metadata": {},
     "output_type": "display_data"
    },
    {
     "data": {
      "application/javascript": [
       "$('#iteration').html(4550)"
      ],
      "text/plain": [
       "<IPython.core.display.Javascript object>"
      ]
     },
     "metadata": {},
     "output_type": "display_data"
    },
    {
     "data": {
      "application/javascript": [
       "window.error.push([4550,0.01538])"
      ],
      "text/plain": [
       "<IPython.core.display.Javascript object>"
      ]
     },
     "metadata": {},
     "output_type": "display_data"
    },
    {
     "data": {
      "application/javascript": [
       "window.plot.setData([window.error]); window.plot.draw();"
      ],
      "text/plain": [
       "<IPython.core.display.Javascript object>"
      ]
     },
     "metadata": {},
     "output_type": "display_data"
    },
    {
     "data": {
      "application/javascript": [
       "window.weights_l0 = [[1, -6.458155566853186], [2, -1.60921877264747], [3, -4.595686846352552], [4, 3.1274894748610973], [5, 5.02323290331], [6, 4.169689152691491], [7, -4.470316150054921], [8, -5.133884124789529], [9, -2.2826831317870764], [10, 0.30988809656851024], [11, 1.1329665150813715], [12, -1.3117847823049473]]"
      ],
      "text/plain": [
       "<IPython.core.display.Javascript object>"
      ]
     },
     "metadata": {},
     "output_type": "display_data"
    },
    {
     "data": {
      "application/javascript": [
       "window.weight_plot_l0.setData([window.weights_l0]); window.weight_plot_l0.draw();"
      ],
      "text/plain": [
       "<IPython.core.display.Javascript object>"
      ]
     },
     "metadata": {},
     "output_type": "display_data"
    },
    {
     "data": {
      "application/javascript": [
       "window.weights_l1 = [[1, 9.303198526899497], [2, -4.548264191361919], [3, -5.527284982070738], [4, 6.246308367472902]]"
      ],
      "text/plain": [
       "<IPython.core.display.Javascript object>"
      ]
     },
     "metadata": {},
     "output_type": "display_data"
    },
    {
     "data": {
      "application/javascript": [
       "window.weight_plot_l1.setData([window.weights_l1]); window.weight_plot_l1.draw();"
      ],
      "text/plain": [
       "<IPython.core.display.Javascript object>"
      ]
     },
     "metadata": {},
     "output_type": "display_data"
    },
    {
     "data": {
      "application/javascript": [
       "window.outputs = [[1, 0.009778452358289981], [2, 0.9830776917312838], [3, 0.9856691285052437], [4, 0.02048853003555538]]"
      ],
      "text/plain": [
       "<IPython.core.display.Javascript object>"
      ]
     },
     "metadata": {},
     "output_type": "display_data"
    },
    {
     "data": {
      "application/javascript": [
       "window.output_plot.setData([window.outputs]); window.output_plot.draw();"
      ],
      "text/plain": [
       "<IPython.core.display.Javascript object>"
      ]
     },
     "metadata": {},
     "output_type": "display_data"
    },
    {
     "data": {
      "application/javascript": [
       "$('#avg-error').html(0.01528)"
      ],
      "text/plain": [
       "<IPython.core.display.Javascript object>"
      ]
     },
     "metadata": {},
     "output_type": "display_data"
    },
    {
     "data": {
      "application/javascript": [
       "$('#iteration').html(4600)"
      ],
      "text/plain": [
       "<IPython.core.display.Javascript object>"
      ]
     },
     "metadata": {},
     "output_type": "display_data"
    },
    {
     "data": {
      "application/javascript": [
       "window.error.push([4600,0.01528])"
      ],
      "text/plain": [
       "<IPython.core.display.Javascript object>"
      ]
     },
     "metadata": {},
     "output_type": "display_data"
    },
    {
     "data": {
      "application/javascript": [
       "window.plot.setData([window.error]); window.plot.draw();"
      ],
      "text/plain": [
       "<IPython.core.display.Javascript object>"
      ]
     },
     "metadata": {},
     "output_type": "display_data"
    },
    {
     "data": {
      "application/javascript": [
       "window.weights_l0 = [[1, -6.462538324721783], [2, -1.6122031132335326], [3, -4.597282926312909], [4, 3.1307438086329737], [5, 5.0262405324362], [6, 4.173698388824529], [7, -4.472835061327744], [8, -5.138046702116411], [9, -2.2833339816202938], [10, 0.31141968213569654], [11, 1.1335973437632547], [12, -1.3132995465262864]]"
      ],
      "text/plain": [
       "<IPython.core.display.Javascript object>"
      ]
     },
     "metadata": {},
     "output_type": "display_data"
    },
    {
     "data": {
      "application/javascript": [
       "window.weight_plot_l0.setData([window.weights_l0]); window.weight_plot_l0.draw();"
      ],
      "text/plain": [
       "<IPython.core.display.Javascript object>"
      ]
     },
     "metadata": {},
     "output_type": "display_data"
    },
    {
     "data": {
      "application/javascript": [
       "window.weights_l1 = [[1, 9.31541757355244], [2, -4.554325187497014], [3, -5.530062123903909], [4, 6.253264870193728]]"
      ],
      "text/plain": [
       "<IPython.core.display.Javascript object>"
      ]
     },
     "metadata": {},
     "output_type": "display_data"
    },
    {
     "data": {
      "application/javascript": [
       "window.weight_plot_l1.setData([window.weights_l1]); window.weight_plot_l1.draw();"
      ],
      "text/plain": [
       "<IPython.core.display.Javascript object>"
      ]
     },
     "metadata": {},
     "output_type": "display_data"
    },
    {
     "data": {
      "application/javascript": [
       "window.outputs = [[1, 0.009706783085630992], [2, 0.9831881694281694], [3, 0.9857701312867938], [4, 0.020353778949109433]]"
      ],
      "text/plain": [
       "<IPython.core.display.Javascript object>"
      ]
     },
     "metadata": {},
     "output_type": "display_data"
    },
    {
     "data": {
      "application/javascript": [
       "window.output_plot.setData([window.outputs]); window.output_plot.draw();"
      ],
      "text/plain": [
       "<IPython.core.display.Javascript object>"
      ]
     },
     "metadata": {},
     "output_type": "display_data"
    },
    {
     "data": {
      "application/javascript": [
       "$('#avg-error').html(0.01517)"
      ],
      "text/plain": [
       "<IPython.core.display.Javascript object>"
      ]
     },
     "metadata": {},
     "output_type": "display_data"
    },
    {
     "data": {
      "application/javascript": [
       "$('#iteration').html(4650)"
      ],
      "text/plain": [
       "<IPython.core.display.Javascript object>"
      ]
     },
     "metadata": {},
     "output_type": "display_data"
    },
    {
     "data": {
      "application/javascript": [
       "window.error.push([4650,0.01517])"
      ],
      "text/plain": [
       "<IPython.core.display.Javascript object>"
      ]
     },
     "metadata": {},
     "output_type": "display_data"
    },
    {
     "data": {
      "application/javascript": [
       "window.plot.setData([window.error]); window.plot.draw();"
      ],
      "text/plain": [
       "<IPython.core.display.Javascript object>"
      ]
     },
     "metadata": {},
     "output_type": "display_data"
    },
    {
     "data": {
      "application/javascript": [
       "window.weights_l0 = [[1, -6.466861981311073], [2, -1.615149727441531], [3, -4.598856321548471], [4, 3.1339526749749345], [5, 5.029207061681612], [6, 4.177654307004133], [7, -4.475318643671542], [8, -5.142151408304854], [9, -2.2839759583534853], [10, 0.3129310529942507], [11, 1.1342185446428157], [12, -1.3147924527820256]]"
      ],
      "text/plain": [
       "<IPython.core.display.Javascript object>"
      ]
     },
     "metadata": {},
     "output_type": "display_data"
    },
    {
     "data": {
      "application/javascript": [
       "window.weight_plot_l0.setData([window.weights_l0]); window.weight_plot_l0.draw();"
      ],
      "text/plain": [
       "<IPython.core.display.Javascript object>"
      ]
     },
     "metadata": {},
     "output_type": "display_data"
    },
    {
     "data": {
      "application/javascript": [
       "window.weights_l1 = [[1, 9.32748370048825], [2, -4.560310819443612], [3, -5.532799863177005], [4, 6.260129635343419]]"
      ],
      "text/plain": [
       "<IPython.core.display.Javascript object>"
      ]
     },
     "metadata": {},
     "output_type": "display_data"
    },
    {
     "data": {
      "application/javascript": [
       "window.weight_plot_l1.setData([window.weights_l1]); window.weight_plot_l1.draw();"
      ],
      "text/plain": [
       "<IPython.core.display.Javascript object>"
      ]
     },
     "metadata": {},
     "output_type": "display_data"
    },
    {
     "data": {
      "application/javascript": [
       "window.outputs = [[1, 0.009636532406198035], [2, 0.9832965601898558], [3, 0.9858691570475661], [4, 0.020221583904963446]]"
      ],
      "text/plain": [
       "<IPython.core.display.Javascript object>"
      ]
     },
     "metadata": {},
     "output_type": "display_data"
    },
    {
     "data": {
      "application/javascript": [
       "window.output_plot.setData([window.outputs]); window.output_plot.draw();"
      ],
      "text/plain": [
       "<IPython.core.display.Javascript object>"
      ]
     },
     "metadata": {},
     "output_type": "display_data"
    },
    {
     "data": {
      "application/javascript": [
       "$('#avg-error').html(0.01507)"
      ],
      "text/plain": [
       "<IPython.core.display.Javascript object>"
      ]
     },
     "metadata": {},
     "output_type": "display_data"
    },
    {
     "data": {
      "application/javascript": [
       "$('#iteration').html(4700)"
      ],
      "text/plain": [
       "<IPython.core.display.Javascript object>"
      ]
     },
     "metadata": {},
     "output_type": "display_data"
    },
    {
     "data": {
      "application/javascript": [
       "window.error.push([4700,0.01507])"
      ],
      "text/plain": [
       "<IPython.core.display.Javascript object>"
      ]
     },
     "metadata": {},
     "output_type": "display_data"
    },
    {
     "data": {
      "application/javascript": [
       "window.plot.setData([window.error]); window.plot.draw();"
      ],
      "text/plain": [
       "<IPython.core.display.Javascript object>"
      ]
     },
     "metadata": {},
     "output_type": "display_data"
    },
    {
     "data": {
      "application/javascript": [
       "window.weights_l0 = [[1, -6.471128047989928], [2, -1.618059538690614], [3, -4.6004076321443], [4, 3.1371172608883895], [5, 5.032133551621467], [6, 4.181558259556764], [7, -4.477767821303408], [8, -5.146199752289514], [9, -2.2846092911786227], [10, 0.314422716800742], [11, 1.1348303826308366], [12, -1.316264080899145]]"
      ],
      "text/plain": [
       "<IPython.core.display.Javascript object>"
      ]
     },
     "metadata": {},
     "output_type": "display_data"
    },
    {
     "data": {
      "application/javascript": [
       "window.weight_plot_l0.setData([window.weights_l0]); window.weight_plot_l0.draw();"
      ],
      "text/plain": [
       "<IPython.core.display.Javascript object>"
      ]
     },
     "metadata": {},
     "output_type": "display_data"
    },
    {
     "data": {
      "application/javascript": [
       "window.weights_l1 = [[1, 9.339400661961166], [2, -4.566222928152883], [3, -5.535499238458791], [4, 6.266904986446462]]"
      ],
      "text/plain": [
       "<IPython.core.display.Javascript object>"
      ]
     },
     "metadata": {},
     "output_type": "display_data"
    },
    {
     "data": {
      "application/javascript": [
       "window.weight_plot_l1.setData([window.weights_l1]); window.weight_plot_l1.draw();"
      ],
      "text/plain": [
       "<IPython.core.display.Javascript object>"
      ]
     },
     "metadata": {},
     "output_type": "display_data"
    },
    {
     "data": {
      "application/javascript": [
       "window.outputs = [[1, 0.009567655270409115], [2, 0.9834029283156124], [3, 0.985966268197871], [4, 0.020091865906742404]]"
      ],
      "text/plain": [
       "<IPython.core.display.Javascript object>"
      ]
     },
     "metadata": {},
     "output_type": "display_data"
    },
    {
     "data": {
      "application/javascript": [
       "window.output_plot.setData([window.outputs]); window.output_plot.draw();"
      ],
      "text/plain": [
       "<IPython.core.display.Javascript object>"
      ]
     },
     "metadata": {},
     "output_type": "display_data"
    },
    {
     "data": {
      "application/javascript": [
       "$('#avg-error').html(0.01497)"
      ],
      "text/plain": [
       "<IPython.core.display.Javascript object>"
      ]
     },
     "metadata": {},
     "output_type": "display_data"
    },
    {
     "data": {
      "application/javascript": [
       "$('#iteration').html(4750)"
      ],
      "text/plain": [
       "<IPython.core.display.Javascript object>"
      ]
     },
     "metadata": {},
     "output_type": "display_data"
    },
    {
     "data": {
      "application/javascript": [
       "window.error.push([4750,0.01497])"
      ],
      "text/plain": [
       "<IPython.core.display.Javascript object>"
      ]
     },
     "metadata": {},
     "output_type": "display_data"
    },
    {
     "data": {
      "application/javascript": [
       "window.plot.setData([window.error]); window.plot.draw();"
      ],
      "text/plain": [
       "<IPython.core.display.Javascript object>"
      ]
     },
     "metadata": {},
     "output_type": "display_data"
    },
    {
     "data": {
      "application/javascript": [
       "window.weights_l0 = [[1, -6.475337979784212], [2, -1.6209334371459578], [3, -4.601937435230909], [4, 3.1402387084730687], [5, 5.035021023010291], [6, 4.185411548698287], [7, -4.480183483419413], [8, -5.150193185924925], [9, -2.2852342006701867], [10, 0.3158951625845614], [11, 1.135433112219713], [12, -1.3177149885418395]]"
      ],
      "text/plain": [
       "<IPython.core.display.Javascript object>"
      ]
     },
     "metadata": {},
     "output_type": "display_data"
    },
    {
     "data": {
      "application/javascript": [
       "window.weight_plot_l0.setData([window.weights_l0]); window.weight_plot_l0.draw();"
      ],
      "text/plain": [
       "<IPython.core.display.Javascript object>"
      ]
     },
     "metadata": {},
     "output_type": "display_data"
    },
    {
     "data": {
      "application/javascript": [
       "window.weights_l1 = [[1, 9.351172076211368], [2, -4.572063288162569], [3, -5.538161248735452], [4, 6.27359316091663]]"
      ],
      "text/plain": [
       "<IPython.core.display.Javascript object>"
      ]
     },
     "metadata": {},
     "output_type": "display_data"
    },
    {
     "data": {
      "application/javascript": [
       "window.weight_plot_l1.setData([window.weights_l1]); window.weight_plot_l1.draw();"
      ],
      "text/plain": [
       "<IPython.core.display.Javascript object>"
      ]
     },
     "metadata": {},
     "output_type": "display_data"
    },
    {
     "data": {
      "application/javascript": [
       "window.outputs = [[1, 0.009500108582040038], [2, 0.9835073353792302], [3, 0.9860615244522565], [4, 0.019964549315071613]]"
      ],
      "text/plain": [
       "<IPython.core.display.Javascript object>"
      ]
     },
     "metadata": {},
     "output_type": "display_data"
    },
    {
     "data": {
      "application/javascript": [
       "window.output_plot.setData([window.outputs]); window.output_plot.draw();"
      ],
      "text/plain": [
       "<IPython.core.display.Javascript object>"
      ]
     },
     "metadata": {},
     "output_type": "display_data"
    },
    {
     "data": {
      "application/javascript": [
       "$('#avg-error').html(0.01488)"
      ],
      "text/plain": [
       "<IPython.core.display.Javascript object>"
      ]
     },
     "metadata": {},
     "output_type": "display_data"
    },
    {
     "data": {
      "application/javascript": [
       "$('#iteration').html(4800)"
      ],
      "text/plain": [
       "<IPython.core.display.Javascript object>"
      ]
     },
     "metadata": {},
     "output_type": "display_data"
    },
    {
     "data": {
      "application/javascript": [
       "window.error.push([4800,0.01488])"
      ],
      "text/plain": [
       "<IPython.core.display.Javascript object>"
      ]
     },
     "metadata": {},
     "output_type": "display_data"
    },
    {
     "data": {
      "application/javascript": [
       "window.plot.setData([window.error]); window.plot.draw();"
      ],
      "text/plain": [
       "<IPython.core.display.Javascript object>"
      ]
     },
     "metadata": {},
     "output_type": "display_data"
    },
    {
     "data": {
      "application/javascript": [
       "window.weights_l0 = [[1, -6.479493178118659], [2, -1.6237722812904438], [3, -4.603446286125162], [4, 3.143318117136833], [5, 5.03787045873145], [6, 4.189215428960735], [7, -4.482566485920895], [8, -5.154133106796338], [9, -2.2858508992076416], [10, 0.31734886164147247], [11, 1.1360269780126173], [12, -1.3191457123105585]]"
      ],
      "text/plain": [
       "<IPython.core.display.Javascript object>"
      ]
     },
     "metadata": {},
     "output_type": "display_data"
    },
    {
     "data": {
      "application/javascript": [
       "window.weight_plot_l0.setData([window.weights_l0]); window.weight_plot_l0.draw();"
      ],
      "text/plain": [
       "<IPython.core.display.Javascript object>"
      ]
     },
     "metadata": {},
     "output_type": "display_data"
    },
    {
     "data": {
      "application/javascript": [
       "window.weights_l1 = [[1, 9.36280143193858], [2, -4.577833610746137], [3, -5.540786855371111], [4, 6.280196314229954]]"
      ],
      "text/plain": [
       "<IPython.core.display.Javascript object>"
      ]
     },
     "metadata": {},
     "output_type": "display_data"
    },
    {
     "data": {
      "application/javascript": [
       "window.weight_plot_l1.setData([window.weights_l1]); window.weight_plot_l1.draw();"
      ],
      "text/plain": [
       "<IPython.core.display.Javascript object>"
      ]
     },
     "metadata": {},
     "output_type": "display_data"
    },
    {
     "data": {
      "application/javascript": [
       "window.outputs = [[1, 0.00943385109147605], [2, 0.9836098403752647], [3, 0.9861549829764287], [4, 0.01983956166704981]]"
      ],
      "text/plain": [
       "<IPython.core.display.Javascript object>"
      ]
     },
     "metadata": {},
     "output_type": "display_data"
    },
    {
     "data": {
      "application/javascript": [
       "window.output_plot.setData([window.outputs]); window.output_plot.draw();"
      ],
      "text/plain": [
       "<IPython.core.display.Javascript object>"
      ]
     },
     "metadata": {},
     "output_type": "display_data"
    },
    {
     "data": {
      "application/javascript": [
       "$('#avg-error').html(0.01478)"
      ],
      "text/plain": [
       "<IPython.core.display.Javascript object>"
      ]
     },
     "metadata": {},
     "output_type": "display_data"
    },
    {
     "data": {
      "application/javascript": [
       "$('#iteration').html(4850)"
      ],
      "text/plain": [
       "<IPython.core.display.Javascript object>"
      ]
     },
     "metadata": {},
     "output_type": "display_data"
    },
    {
     "data": {
      "application/javascript": [
       "window.error.push([4850,0.01478])"
      ],
      "text/plain": [
       "<IPython.core.display.Javascript object>"
      ]
     },
     "metadata": {},
     "output_type": "display_data"
    },
    {
     "data": {
      "application/javascript": [
       "window.plot.setData([window.error]); window.plot.draw();"
      ],
      "text/plain": [
       "<IPython.core.display.Javascript object>"
      ]
     },
     "metadata": {},
     "output_type": "display_data"
    },
    {
     "data": {
      "application/javascript": [
       "window.weights_l0 = [[1, -6.48359499339488], [2, -1.6265768994047816], [3, -4.604934719401765], [4, 3.146356545672226], [5, 5.040682805629554], [6, 4.192971109474631], [7, -4.484917653036498], [8, -5.1580208608609786], [9, -2.2864595913725005], [10, 0.3187842683744731], [11, 1.1366122152198792], [12, -1.3205567687743915]]"
      ],
      "text/plain": [
       "<IPython.core.display.Javascript object>"
      ]
     },
     "metadata": {},
     "output_type": "display_data"
    },
    {
     "data": {
      "application/javascript": [
       "window.weight_plot_l0.setData([window.weights_l0]); window.weight_plot_l0.draw();"
      ],
      "text/plain": [
       "<IPython.core.display.Javascript object>"
      ]
     },
     "metadata": {},
     "output_type": "display_data"
    },
    {
     "data": {
      "application/javascript": [
       "window.weights_l1 = [[1, 9.374292094395905], [2, -4.583535546877778], [3, -5.543376983949474], [4, 6.286716523849153]]"
      ],
      "text/plain": [
       "<IPython.core.display.Javascript object>"
      ]
     },
     "metadata": {},
     "output_type": "display_data"
    },
    {
     "data": {
      "application/javascript": [
       "window.weight_plot_l1.setData([window.weights_l1]); window.weight_plot_l1.draw();"
      ],
      "text/plain": [
       "<IPython.core.display.Javascript object>"
      ]
     },
     "metadata": {},
     "output_type": "display_data"
    },
    {
     "data": {
      "application/javascript": [
       "window.outputs = [[1, 0.009368843295971018], [2, 0.9837104998558232], [3, 0.9862466985245509], [4, 0.019716833507414763]]"
      ],
      "text/plain": [
       "<IPython.core.display.Javascript object>"
      ]
     },
     "metadata": {},
     "output_type": "display_data"
    },
    {
     "data": {
      "application/javascript": [
       "window.output_plot.setData([window.outputs]); window.output_plot.draw();"
      ],
      "text/plain": [
       "<IPython.core.display.Javascript object>"
      ]
     },
     "metadata": {},
     "output_type": "display_data"
    },
    {
     "data": {
      "application/javascript": [
       "$('#avg-error').html(0.01469)"
      ],
      "text/plain": [
       "<IPython.core.display.Javascript object>"
      ]
     },
     "metadata": {},
     "output_type": "display_data"
    },
    {
     "data": {
      "application/javascript": [
       "$('#iteration').html(4900)"
      ],
      "text/plain": [
       "<IPython.core.display.Javascript object>"
      ]
     },
     "metadata": {},
     "output_type": "display_data"
    },
    {
     "data": {
      "application/javascript": [
       "window.error.push([4900,0.01469])"
      ],
      "text/plain": [
       "<IPython.core.display.Javascript object>"
      ]
     },
     "metadata": {},
     "output_type": "display_data"
    },
    {
     "data": {
      "application/javascript": [
       "window.plot.setData([window.error]); window.plot.draw();"
      ],
      "text/plain": [
       "<IPython.core.display.Javascript object>"
      ]
     },
     "metadata": {},
     "output_type": "display_data"
    },
    {
     "data": {
      "application/javascript": [
       "window.weights_l0 = [[1, -6.4876447274171465], [2, -1.6293480909624238], [3, -4.606403249900307], [4, 3.14935501420925], [5, 5.043458976234083], [6, 4.1966797561170806], [7, -4.487237778847387], [8, -5.1618577449316785], [9, -2.287060474321786], [10, 0.32020182108564016], [11, 1.1371890501249764], [12, -1.3219486554415403]]"
      ],
      "text/plain": [
       "<IPython.core.display.Javascript object>"
      ]
     },
     "metadata": {},
     "output_type": "display_data"
    },
    {
     "data": {
      "application/javascript": [
       "window.weight_plot_l0.setData([window.weights_l0]); window.weight_plot_l0.draw();"
      ],
      "text/plain": [
       "<IPython.core.display.Javascript object>"
      ]
     },
     "metadata": {},
     "output_type": "display_data"
    },
    {
     "data": {
      "application/javascript": [
       "window.weights_l1 = [[1, 9.385647311130153], [2, -4.589170690026044], [3, -5.54593252600509], [4, 6.293155792916992]]"
      ],
      "text/plain": [
       "<IPython.core.display.Javascript object>"
      ]
     },
     "metadata": {},
     "output_type": "display_data"
    },
    {
     "data": {
      "application/javascript": [
       "window.weight_plot_l1.setData([window.weights_l1]); window.weight_plot_l1.draw();"
      ],
      "text/plain": [
       "<IPython.core.display.Javascript object>"
      ]
     },
     "metadata": {},
     "output_type": "display_data"
    },
    {
     "data": {
      "application/javascript": [
       "window.outputs = [[1, 0.009305047346378933], [2, 0.9838093680586117], [3, 0.986336723567648], [4, 0.0195962982305187]]"
      ],
      "text/plain": [
       "<IPython.core.display.Javascript object>"
      ]
     },
     "metadata": {},
     "output_type": "display_data"
    },
    {
     "data": {
      "application/javascript": [
       "window.output_plot.setData([window.outputs]); window.output_plot.draw();"
      ],
      "text/plain": [
       "<IPython.core.display.Javascript object>"
      ]
     },
     "metadata": {},
     "output_type": "display_data"
    },
    {
     "data": {
      "application/javascript": [
       "$('#avg-error').html(0.01460)"
      ],
      "text/plain": [
       "<IPython.core.display.Javascript object>"
      ]
     },
     "metadata": {},
     "output_type": "display_data"
    },
    {
     "data": {
      "application/javascript": [
       "$('#iteration').html(4950)"
      ],
      "text/plain": [
       "<IPython.core.display.Javascript object>"
      ]
     },
     "metadata": {},
     "output_type": "display_data"
    },
    {
     "data": {
      "application/javascript": [
       "window.error.push([4950,0.01460])"
      ],
      "text/plain": [
       "<IPython.core.display.Javascript object>"
      ]
     },
     "metadata": {},
     "output_type": "display_data"
    },
    {
     "data": {
      "application/javascript": [
       "window.plot.setData([window.error]); window.plot.draw();"
      ],
      "text/plain": [
       "<IPython.core.display.Javascript object>"
      ]
     },
     "metadata": {},
     "output_type": "display_data"
    },
    {
     "data": {
      "application/javascript": [
       "window.weights_l0 = [[1, -6.49164363567646], [2, -1.632086627945052], [3, -4.607852373672428], [4, 3.1523145060530715], [5, 5.046199850381824], [6, 4.200342493534916], [7, -4.489527628722426], [8, -5.165645009014027], [9, -2.287653738139541], [10, 0.32160194272233494], [11, 1.137757700522323], [12, -1.3233218516722702]]"
      ],
      "text/plain": [
       "<IPython.core.display.Javascript object>"
      ]
     },
     "metadata": {},
     "output_type": "display_data"
    },
    {
     "data": {
      "application/javascript": [
       "window.weight_plot_l0.setData([window.weights_l0]); window.weight_plot_l0.draw();"
      ],
      "text/plain": [
       "<IPython.core.display.Javascript object>"
      ]
     },
     "metadata": {},
     "output_type": "display_data"
    },
    {
     "data": {
      "application/javascript": [
       "window.weights_l1 = [[1, 9.396870217393095], [2, -4.594740578787797], [3, -5.548454340651987], [4, 6.299516053734708]]"
      ],
      "text/plain": [
       "<IPython.core.display.Javascript object>"
      ]
     },
     "metadata": {},
     "output_type": "display_data"
    },
    {
     "data": {
      "application/javascript": [
       "window.weight_plot_l1.setData([window.weights_l1]); window.weight_plot_l1.draw();"
      ],
      "text/plain": [
       "<IPython.core.display.Javascript object>"
      ]
     },
     "metadata": {},
     "output_type": "display_data"
    },
    {
     "data": {
      "application/javascript": [
       "window.outputs = [[1, 0.009242426959869435], [2, 0.9839064970268938], [3, 0.9864251084137907], [4, 0.019477891932307503]]"
      ],
      "text/plain": [
       "<IPython.core.display.Javascript object>"
      ]
     },
     "metadata": {},
     "output_type": "display_data"
    },
    {
     "data": {
      "application/javascript": [
       "window.output_plot.setData([window.outputs]); window.output_plot.draw();"
      ],
      "text/plain": [
       "<IPython.core.display.Javascript object>"
      ]
     },
     "metadata": {},
     "output_type": "display_data"
    },
    {
     "data": {
      "application/javascript": [
       "$('#avg-error').html(0.01451)"
      ],
      "text/plain": [
       "<IPython.core.display.Javascript object>"
      ]
     },
     "metadata": {},
     "output_type": "display_data"
    },
    {
     "data": {
      "application/javascript": [
       "$('#iteration').html(5000)"
      ],
      "text/plain": [
       "<IPython.core.display.Javascript object>"
      ]
     },
     "metadata": {},
     "output_type": "display_data"
    },
    {
     "data": {
      "application/javascript": [
       "window.error.push([5000,0.01451])"
      ],
      "text/plain": [
       "<IPython.core.display.Javascript object>"
      ]
     },
     "metadata": {},
     "output_type": "display_data"
    },
    {
     "data": {
      "application/javascript": [
       "window.plot.setData([window.error]); window.plot.draw();"
      ],
      "text/plain": [
       "<IPython.core.display.Javascript object>"
      ]
     },
     "metadata": {},
     "output_type": "display_data"
    },
    {
     "data": {
      "application/javascript": [
       "window.weights_l0 = [[1, -6.495592929502791], [2, -1.6347932560840146], [3, -4.609282568873333], [4, 3.1552359694146492], [5, 5.048906276745147], [6, 4.20396040705151], [7, -4.491787940669629], [8, -5.169383858507225], [9, -2.288239566167911], [10, 0.3229850415808784], [11, 1.1383183761288629], [12, -1.3246768195383387]]"
      ],
      "text/plain": [
       "<IPython.core.display.Javascript object>"
      ]
     },
     "metadata": {},
     "output_type": "display_data"
    },
    {
     "data": {
      "application/javascript": [
       "window.weight_plot_l0.setData([window.weights_l0]); window.weight_plot_l0.draw();"
      ],
      "text/plain": [
       "<IPython.core.display.Javascript object>"
      ]
     },
     "metadata": {},
     "output_type": "display_data"
    },
    {
     "data": {
      "application/javascript": [
       "window.weights_l1 = [[1, 9.407963841245854], [2, -4.600246699373343], [3, -5.550943256116895], [4, 6.305799171040199]]"
      ],
      "text/plain": [
       "<IPython.core.display.Javascript object>"
      ]
     },
     "metadata": {},
     "output_type": "display_data"
    },
    {
     "data": {
      "application/javascript": [
       "window.weight_plot_l1.setData([window.weights_l1]); window.weight_plot_l1.draw();"
      ],
      "text/plain": [
       "<IPython.core.display.Javascript object>"
      ]
     },
     "metadata": {},
     "output_type": "display_data"
    },
    {
     "data": {
      "application/javascript": [
       "window.outputs = [[1, 0.009180947338180468], [2, 0.9840019367219528], [3, 0.9865119013206717], [4, 0.019361553271564462]]"
      ],
      "text/plain": [
       "<IPython.core.display.Javascript object>"
      ]
     },
     "metadata": {},
     "output_type": "display_data"
    },
    {
     "data": {
      "application/javascript": [
       "window.output_plot.setData([window.outputs]); window.output_plot.draw();"
      ],
      "text/plain": [
       "<IPython.core.display.Javascript object>"
      ]
     },
     "metadata": {},
     "output_type": "display_data"
    },
    {
     "data": {
      "application/javascript": [
       "$('#avg-error').html(0.01442)"
      ],
      "text/plain": [
       "<IPython.core.display.Javascript object>"
      ]
     },
     "metadata": {},
     "output_type": "display_data"
    },
    {
     "data": {
      "application/javascript": [
       "$('#iteration').html(5050)"
      ],
      "text/plain": [
       "<IPython.core.display.Javascript object>"
      ]
     },
     "metadata": {},
     "output_type": "display_data"
    },
    {
     "data": {
      "application/javascript": [
       "window.error.push([5050,0.01442])"
      ],
      "text/plain": [
       "<IPython.core.display.Javascript object>"
      ]
     },
     "metadata": {},
     "output_type": "display_data"
    },
    {
     "data": {
      "application/javascript": [
       "window.plot.setData([window.error]); window.plot.draw();"
      ],
      "text/plain": [
       "<IPython.core.display.Javascript object>"
      ]
     },
     "metadata": {},
     "output_type": "display_data"
    },
    {
     "data": {
      "application/javascript": [
       "window.weights_l0 = [[1, -6.49949377809442], [2, -1.6374686960326383], [3, -4.610694296601455], [4, 3.1581203190416374], [5, 5.051579074272556], [6, 4.207534544465177], [7, -4.494019426609619], [8, -5.173075456278031], [9, -2.288818135319206], [10, 0.32435151197056483], [11, 1.1388712789713038], [12, -1.3260140046326214]]"
      ],
      "text/plain": [
       "<IPython.core.display.Javascript object>"
      ]
     },
     "metadata": {},
     "output_type": "display_data"
    },
    {
     "data": {
      "application/javascript": [
       "window.weight_plot_l0.setData([window.weights_l0]); window.weight_plot_l0.draw();"
      ],
      "text/plain": [
       "<IPython.core.display.Javascript object>"
      ]
     },
     "metadata": {},
     "output_type": "display_data"
    },
    {
     "data": {
      "application/javascript": [
       "window.weights_l1 = [[1, 9.418931108377159], [2, -4.605690487952671], [3, -5.553400071183614], [4, 6.312006945099666]]"
      ],
      "text/plain": [
       "<IPython.core.display.Javascript object>"
      ]
     },
     "metadata": {},
     "output_type": "display_data"
    },
    {
     "data": {
      "application/javascript": [
       "window.weight_plot_l1.setData([window.weights_l1]); window.weight_plot_l1.draw();"
      ],
      "text/plain": [
       "<IPython.core.display.Javascript object>"
      ]
     },
     "metadata": {},
     "output_type": "display_data"
    },
    {
     "data": {
      "application/javascript": [
       "window.outputs = [[1, 0.009120575090998893], [2, 0.9840957351286092], [3, 0.9865971486011317], [4, 0.019247223339742575]]"
      ],
      "text/plain": [
       "<IPython.core.display.Javascript object>"
      ]
     },
     "metadata": {},
     "output_type": "display_data"
    },
    {
     "data": {
      "application/javascript": [
       "window.output_plot.setData([window.outputs]); window.output_plot.draw();"
      ],
      "text/plain": [
       "<IPython.core.display.Javascript object>"
      ]
     },
     "metadata": {},
     "output_type": "display_data"
    },
    {
     "data": {
      "application/javascript": [
       "$('#avg-error').html(0.01433)"
      ],
      "text/plain": [
       "<IPython.core.display.Javascript object>"
      ]
     },
     "metadata": {},
     "output_type": "display_data"
    },
    {
     "data": {
      "application/javascript": [
       "$('#iteration').html(5100)"
      ],
      "text/plain": [
       "<IPython.core.display.Javascript object>"
      ]
     },
     "metadata": {},
     "output_type": "display_data"
    },
    {
     "data": {
      "application/javascript": [
       "window.error.push([5100,0.01433])"
      ],
      "text/plain": [
       "<IPython.core.display.Javascript object>"
      ]
     },
     "metadata": {},
     "output_type": "display_data"
    },
    {
     "data": {
      "application/javascript": [
       "window.plot.setData([window.error]); window.plot.draw();"
      ],
      "text/plain": [
       "<IPython.core.display.Javascript object>"
      ]
     },
     "metadata": {},
     "output_type": "display_data"
    },
    {
     "data": {
      "application/javascript": [
       "window.weights_l0 = [[1, -6.503347310432682], [2, -1.6401136444739806], [3, -4.612088001689866], [4, 3.1609684377563663], [5, 5.054219033547498], [6, 4.211065917746403], [7, -4.496222773576405], [8, -5.1767209246164185], [9, -2.289389616370224], [10, 0.3257017348406548], [11, 1.1394166037506952], [12, -1.327333836832312]]"
      ],
      "text/plain": [
       "<IPython.core.display.Javascript object>"
      ]
     },
     "metadata": {},
     "output_type": "display_data"
    },
    {
     "data": {
      "application/javascript": [
       "window.weight_plot_l0.setData([window.weights_l0]); window.weight_plot_l0.draw();"
      ],
      "text/plain": [
       "<IPython.core.display.Javascript object>"
      ]
     },
     "metadata": {},
     "output_type": "display_data"
    },
    {
     "data": {
      "application/javascript": [
       "window.weights_l1 = [[1, 9.429774846654356], [2, -4.611073332872021], [3, -5.555825556554651], [4, 6.3181411146252575]]"
      ],
      "text/plain": [
       "<IPython.core.display.Javascript object>"
      ]
     },
     "metadata": {},
     "output_type": "display_data"
    },
    {
     "data": {
      "application/javascript": [
       "window.weight_plot_l1.setData([window.weights_l1]); window.weight_plot_l1.draw();"
      ],
      "text/plain": [
       "<IPython.core.display.Javascript object>"
      ]
     },
     "metadata": {},
     "output_type": "display_data"
    },
    {
     "data": {
      "application/javascript": [
       "window.outputs = [[1, 0.00906127816409502], [2, 0.9841879383542887], [3, 0.9866808947221553], [4, 0.019134845538766158]]"
      ],
      "text/plain": [
       "<IPython.core.display.Javascript object>"
      ]
     },
     "metadata": {},
     "output_type": "display_data"
    },
    {
     "data": {
      "application/javascript": [
       "window.output_plot.setData([window.outputs]); window.output_plot.draw();"
      ],
      "text/plain": [
       "<IPython.core.display.Javascript object>"
      ]
     },
     "metadata": {},
     "output_type": "display_data"
    },
    {
     "data": {
      "application/javascript": [
       "$('#avg-error').html(0.01425)"
      ],
      "text/plain": [
       "<IPython.core.display.Javascript object>"
      ]
     },
     "metadata": {},
     "output_type": "display_data"
    },
    {
     "data": {
      "application/javascript": [
       "$('#iteration').html(5150)"
      ],
      "text/plain": [
       "<IPython.core.display.Javascript object>"
      ]
     },
     "metadata": {},
     "output_type": "display_data"
    },
    {
     "data": {
      "application/javascript": [
       "window.error.push([5150,0.01425])"
      ],
      "text/plain": [
       "<IPython.core.display.Javascript object>"
      ]
     },
     "metadata": {},
     "output_type": "display_data"
    },
    {
     "data": {
      "application/javascript": [
       "window.plot.setData([window.error]); window.plot.draw();"
      ],
      "text/plain": [
       "<IPython.core.display.Javascript object>"
      ]
     },
     "metadata": {},
     "output_type": "display_data"
    },
    {
     "data": {
      "application/javascript": [
       "window.weights_l0 = [[1, -6.507154617089769], [2, -1.6427287751682327], [3, -4.613464113452717], [4, 3.163781177907126], [5, 5.05682691807086], [6, 4.214555504640713], [7, -4.498398644850383], [8, -5.180321347080906], [9, -2.2899541742400302], [10, 0.32703607837279053], [11, 1.1399545381859115], [12, -1.3286367310188543]]"
      ],
      "text/plain": [
       "<IPython.core.display.Javascript object>"
      ]
     },
     "metadata": {},
     "output_type": "display_data"
    },
    {
     "data": {
      "application/javascript": [
       "window.weight_plot_l0.setData([window.weights_l0]); window.weight_plot_l0.draw();"
      ],
      "text/plain": [
       "<IPython.core.display.Javascript object>"
      ]
     },
     "metadata": {},
     "output_type": "display_data"
    },
    {
     "data": {
      "application/javascript": [
       "window.weights_l1 = [[1, 9.440497790424851], [2, -4.616396576749268], [3, -5.558220456135655], [4, 6.324203359530283]]"
      ],
      "text/plain": [
       "<IPython.core.display.Javascript object>"
      ]
     },
     "metadata": {},
     "output_type": "display_data"
    },
    {
     "data": {
      "application/javascript": [
       "window.weight_plot_l1.setData([window.weights_l1]); window.weight_plot_l1.draw();"
      ],
      "text/plain": [
       "<IPython.core.display.Javascript object>"
      ]
     },
     "metadata": {},
     "output_type": "display_data"
    },
    {
     "data": {
      "application/javascript": [
       "window.outputs = [[1, 0.009003025771867533], [2, 0.9842785907221054], [3, 0.986763182397801], [4, 0.019024365466231635]]"
      ],
      "text/plain": [
       "<IPython.core.display.Javascript object>"
      ]
     },
     "metadata": {},
     "output_type": "display_data"
    },
    {
     "data": {
      "application/javascript": [
       "window.output_plot.setData([window.outputs]); window.output_plot.draw();"
      ],
      "text/plain": [
       "<IPython.core.display.Javascript object>"
      ]
     },
     "metadata": {},
     "output_type": "display_data"
    },
    {
     "data": {
      "application/javascript": [
       "$('#avg-error').html(0.01416)"
      ],
      "text/plain": [
       "<IPython.core.display.Javascript object>"
      ]
     },
     "metadata": {},
     "output_type": "display_data"
    },
    {
     "data": {
      "application/javascript": [
       "$('#iteration').html(5200)"
      ],
      "text/plain": [
       "<IPython.core.display.Javascript object>"
      ]
     },
     "metadata": {},
     "output_type": "display_data"
    },
    {
     "data": {
      "application/javascript": [
       "window.error.push([5200,0.01416])"
      ],
      "text/plain": [
       "<IPython.core.display.Javascript object>"
      ]
     },
     "metadata": {},
     "output_type": "display_data"
    },
    {
     "data": {
      "application/javascript": [
       "window.plot.setData([window.error]); window.plot.draw();"
      ],
      "text/plain": [
       "<IPython.core.display.Javascript object>"
      ]
     },
     "metadata": {},
     "output_type": "display_data"
    },
    {
     "data": {
      "application/javascript": [
       "window.weights_l0 = [[1, -6.510916751936632], [2, -1.6453147399436723], [3, -4.614823046389659], [4, 3.16655936273853], [5, 5.059403465472269], [6, 4.218004250183252], [7, -4.500547681028088], [8, -5.183877770240951], [9, -2.290511968252296], [10, 0.32835489854108924], [11, 1.1404852633374627], [12, -1.3299230877574884]]"
      ],
      "text/plain": [
       "<IPython.core.display.Javascript object>"
      ]
     },
     "metadata": {},
     "output_type": "display_data"
    },
    {
     "data": {
      "application/javascript": [
       "window.weight_plot_l0.setData([window.weights_l0]); window.weight_plot_l0.draw();"
      ],
      "text/plain": [
       "<IPython.core.display.Javascript object>"
      ]
     },
     "metadata": {},
     "output_type": "display_data"
    },
    {
     "data": {
      "application/javascript": [
       "window.weights_l1 = [[1, 9.451102584584117], [2, -4.621661518455974], [3, -5.560585488247854], [4, 6.330195303532653]]"
      ],
      "text/plain": [
       "<IPython.core.display.Javascript object>"
      ]
     },
     "metadata": {},
     "output_type": "display_data"
    },
    {
     "data": {
      "application/javascript": [
       "window.weight_plot_l1.setData([window.weights_l1]); window.weight_plot_l1.draw();"
      ],
      "text/plain": [
       "<IPython.core.display.Javascript object>"
      ]
     },
     "metadata": {},
     "output_type": "display_data"
    },
    {
     "data": {
      "application/javascript": [
       "window.outputs = [[1, 0.008945788333983538], [2, 0.9843677348583754], [3, 0.9868440526765033], [4, 0.01891573080748566]]"
      ],
      "text/plain": [
       "<IPython.core.display.Javascript object>"
      ]
     },
     "metadata": {},
     "output_type": "display_data"
    },
    {
     "data": {
      "application/javascript": [
       "window.output_plot.setData([window.outputs]); window.output_plot.draw();"
      ],
      "text/plain": [
       "<IPython.core.display.Javascript object>"
      ]
     },
     "metadata": {},
     "output_type": "display_data"
    },
    {
     "data": {
      "application/javascript": [
       "$('#avg-error').html(0.01408)"
      ],
      "text/plain": [
       "<IPython.core.display.Javascript object>"
      ]
     },
     "metadata": {},
     "output_type": "display_data"
    },
    {
     "data": {
      "application/javascript": [
       "$('#iteration').html(5250)"
      ],
      "text/plain": [
       "<IPython.core.display.Javascript object>"
      ]
     },
     "metadata": {},
     "output_type": "display_data"
    },
    {
     "data": {
      "application/javascript": [
       "window.error.push([5250,0.01408])"
      ],
      "text/plain": [
       "<IPython.core.display.Javascript object>"
      ]
     },
     "metadata": {},
     "output_type": "display_data"
    },
    {
     "data": {
      "application/javascript": [
       "window.plot.setData([window.error]); window.plot.draw();"
      ],
      "text/plain": [
       "<IPython.core.display.Javascript object>"
      ]
     },
     "metadata": {},
     "output_type": "display_data"
    },
    {
     "data": {
      "application/javascript": [
       "window.weights_l0 = [[1, -6.51463473375757], [2, -1.6478721696347645], [3, -4.616165200851101], [4, 3.169303787686288], [5, 5.061949388654812], [6, 4.221413068131001], [7, -4.5026705010328305], [8, -5.1873912053231095], [9, -2.2910631523832046], [10, 0.3296585396419989], [11, 1.14100895391298], [12, -1.3311932939390847]]"
      ],
      "text/plain": [
       "<IPython.core.display.Javascript object>"
      ]
     },
     "metadata": {},
     "output_type": "display_data"
    },
    {
     "data": {
      "application/javascript": [
       "window.weight_plot_l0.setData([window.weights_l0]); window.weight_plot_l0.draw();"
      ],
      "text/plain": [
       "<IPython.core.display.Javascript object>"
      ]
     },
     "metadata": {},
     "output_type": "display_data"
    },
    {
     "data": {
      "application/javascript": [
       "window.weights_l1 = [[1, 9.461591788425343], [2, -4.6268694149933705], [3, -5.562921346773236], [4, 6.336118516616533]]"
      ],
      "text/plain": [
       "<IPython.core.display.Javascript object>"
      ]
     },
     "metadata": {},
     "output_type": "display_data"
    },
    {
     "data": {
      "application/javascript": [
       "window.weight_plot_l1.setData([window.weights_l1]); window.weight_plot_l1.draw();"
      ],
      "text/plain": [
       "<IPython.core.display.Javascript object>"
      ]
     },
     "metadata": {},
     "output_type": "display_data"
    },
    {
     "data": {
      "application/javascript": [
       "window.outputs = [[1, 0.008889537415824392], [2, 0.9844554117749584], [3, 0.9869235450231411], [4, 0.018808891234099588]]"
      ],
      "text/plain": [
       "<IPython.core.display.Javascript object>"
      ]
     },
     "metadata": {},
     "output_type": "display_data"
    },
    {
     "data": {
      "application/javascript": [
       "window.output_plot.setData([window.outputs]); window.output_plot.draw();"
      ],
      "text/plain": [
       "<IPython.core.display.Javascript object>"
      ]
     },
     "metadata": {},
     "output_type": "display_data"
    },
    {
     "data": {
      "application/javascript": [
       "$('#avg-error').html(0.01400)"
      ],
      "text/plain": [
       "<IPython.core.display.Javascript object>"
      ]
     },
     "metadata": {},
     "output_type": "display_data"
    },
    {
     "data": {
      "application/javascript": [
       "$('#iteration').html(5300)"
      ],
      "text/plain": [
       "<IPython.core.display.Javascript object>"
      ]
     },
     "metadata": {},
     "output_type": "display_data"
    },
    {
     "data": {
      "application/javascript": [
       "window.error.push([5300,0.01400])"
      ],
      "text/plain": [
       "<IPython.core.display.Javascript object>"
      ]
     },
     "metadata": {},
     "output_type": "display_data"
    },
    {
     "data": {
      "application/javascript": [
       "window.plot.setData([window.error]); window.plot.draw();"
      ],
      "text/plain": [
       "<IPython.core.display.Javascript object>"
      ]
     },
     "metadata": {},
     "output_type": "display_data"
    },
    {
     "data": {
      "application/javascript": [
       "window.weights_l0 = [[1, -6.518309547777435], [2, -1.6504016749707637], [3, -4.617490963666827], [4, 3.172015221601309], [5, 5.06446537687755], [6, 4.224782842317757], [7, -4.504767703070094], [8, -5.190862629767323], [9, -2.291607875495858], [10, 0.33094733479585103], [11, 1.1415257785555686], [12, -1.3324477233867345]]"
      ],
      "text/plain": [
       "<IPython.core.display.Javascript object>"
      ]
     },
     "metadata": {},
     "output_type": "display_data"
    },
    {
     "data": {
      "application/javascript": [
       "window.weight_plot_l0.setData([window.weights_l0]); window.weight_plot_l0.draw();"
      ],
      "text/plain": [
       "<IPython.core.display.Javascript object>"
      ]
     },
     "metadata": {},
     "output_type": "display_data"
    },
    {
     "data": {
      "application/javascript": [
       "window.weights_l1 = [[1, 9.471967879284565], [2, -4.63202148326904], [3, -5.565228702236887], [4, 6.341974517361229]]"
      ],
      "text/plain": [
       "<IPython.core.display.Javascript object>"
      ]
     },
     "metadata": {},
     "output_type": "display_data"
    },
    {
     "data": {
      "application/javascript": [
       "window.weight_plot_l1.setData([window.weights_l1]); window.weight_plot_l1.draw();"
      ],
      "text/plain": [
       "<IPython.core.display.Javascript object>"
      ]
     },
     "metadata": {},
     "output_type": "display_data"
    },
    {
     "data": {
      "application/javascript": [
       "window.outputs = [[1, 0.008834245672470983], [2, 0.9845416609467755], [3, 0.987001697396238], [4, 0.018703798308297607]]"
      ],
      "text/plain": [
       "<IPython.core.display.Javascript object>"
      ]
     },
     "metadata": {},
     "output_type": "display_data"
    },
    {
     "data": {
      "application/javascript": [
       "window.output_plot.setData([window.outputs]); window.output_plot.draw();"
      ],
      "text/plain": [
       "<IPython.core.display.Javascript object>"
      ]
     },
     "metadata": {},
     "output_type": "display_data"
    },
    {
     "data": {
      "application/javascript": [
       "$('#avg-error').html(0.01392)"
      ],
      "text/plain": [
       "<IPython.core.display.Javascript object>"
      ]
     },
     "metadata": {},
     "output_type": "display_data"
    },
    {
     "data": {
      "application/javascript": [
       "$('#iteration').html(5350)"
      ],
      "text/plain": [
       "<IPython.core.display.Javascript object>"
      ]
     },
     "metadata": {},
     "output_type": "display_data"
    },
    {
     "data": {
      "application/javascript": [
       "window.error.push([5350,0.01392])"
      ],
      "text/plain": [
       "<IPython.core.display.Javascript object>"
      ]
     },
     "metadata": {},
     "output_type": "display_data"
    },
    {
     "data": {
      "application/javascript": [
       "window.plot.setData([window.error]); window.plot.draw();"
      ],
      "text/plain": [
       "<IPython.core.display.Javascript object>"
      ]
     },
     "metadata": {},
     "output_type": "display_data"
    },
    {
     "data": {
      "application/javascript": [
       "window.weights_l0 = [[1, -6.521942147107117], [2, -1.6529038474179], [3, -4.6188007087404115], [4, 3.1746944079076775], [5, 5.066952096779782], [6, 4.228114427936939], [7, -4.506839865531269], [8, -5.194292988699035], [9, -2.2921462815620663], [10, 0.33222160642189724], [11, 1.142035900116193], [12, -1.3336867374293728]]"
      ],
      "text/plain": [
       "<IPython.core.display.Javascript object>"
      ]
     },
     "metadata": {},
     "output_type": "display_data"
    },
    {
     "data": {
      "application/javascript": [
       "window.weight_plot_l0.setData([window.weights_l0]); window.weight_plot_l0.draw();"
      ],
      "text/plain": [
       "<IPython.core.display.Javascript object>"
      ]
     },
     "metadata": {},
     "output_type": "display_data"
    },
    {
     "data": {
      "application/javascript": [
       "window.weights_l1 = [[1, 9.482233255994217], [2, -4.637118901780452], [3, -5.5675082028305605], [4, 6.347764775145874]]"
      ],
      "text/plain": [
       "<IPython.core.display.Javascript object>"
      ]
     },
     "metadata": {},
     "output_type": "display_data"
    },
    {
     "data": {
      "application/javascript": [
       "window.weight_plot_l1.setData([window.weights_l1]); window.weight_plot_l1.draw();"
      ],
      "text/plain": [
       "<IPython.core.display.Javascript object>"
      ]
     },
     "metadata": {},
     "output_type": "display_data"
    },
    {
     "data": {
      "application/javascript": [
       "window.outputs = [[1, 0.008779886795983396], [2, 0.9846265203848392], [3, 0.9870785463206344], [4, 0.01860040539293215]]"
      ],
      "text/plain": [
       "<IPython.core.display.Javascript object>"
      ]
     },
     "metadata": {},
     "output_type": "display_data"
    },
    {
     "data": {
      "application/javascript": [
       "window.output_plot.setData([window.outputs]); window.output_plot.draw();"
      ],
      "text/plain": [
       "<IPython.core.display.Javascript object>"
      ]
     },
     "metadata": {},
     "output_type": "display_data"
    },
    {
     "data": {
      "application/javascript": [
       "$('#avg-error').html(0.01384)"
      ],
      "text/plain": [
       "<IPython.core.display.Javascript object>"
      ]
     },
     "metadata": {},
     "output_type": "display_data"
    },
    {
     "data": {
      "application/javascript": [
       "$('#iteration').html(5400)"
      ],
      "text/plain": [
       "<IPython.core.display.Javascript object>"
      ]
     },
     "metadata": {},
     "output_type": "display_data"
    },
    {
     "data": {
      "application/javascript": [
       "window.error.push([5400,0.01384])"
      ],
      "text/plain": [
       "<IPython.core.display.Javascript object>"
      ]
     },
     "metadata": {},
     "output_type": "display_data"
    },
    {
     "data": {
      "application/javascript": [
       "window.plot.setData([window.error]); window.plot.draw();"
      ],
      "text/plain": [
       "<IPython.core.display.Javascript object>"
      ]
     },
     "metadata": {},
     "output_type": "display_data"
    },
    {
     "data": {
      "application/javascript": [
       "window.weights_l0 = [[1, -6.525533454112477], [2, -1.6553792599780364], [3, -4.620094797611536], [4, 3.1773420656987414], [5, 5.069410193350792], [6, 4.2314086527566825], [7, -4.508887547848998], [8, -5.197683196322637], [9, -2.2926785098723137], [10, 0.33348166668848833], [11, 1.142539475911098], [12, -1.3349106854445583]]"
      ],
      "text/plain": [
       "<IPython.core.display.Javascript object>"
      ]
     },
     "metadata": {},
     "output_type": "display_data"
    },
    {
     "data": {
      "application/javascript": [
       "window.weight_plot_l0.setData([window.weights_l0]); window.weight_plot_l0.draw();"
      ],
      "text/plain": [
       "<IPython.core.display.Javascript object>"
      ]
     },
     "metadata": {},
     "output_type": "display_data"
    },
    {
     "data": {
      "application/javascript": [
       "window.weights_l1 = [[1, 9.492390242156988], [2, -4.64216281221124], [3, -5.569760475381216], [4, 6.353490712237699]]"
      ],
      "text/plain": [
       "<IPython.core.display.Javascript object>"
      ]
     },
     "metadata": {},
     "output_type": "display_data"
    },
    {
     "data": {
      "application/javascript": [
       "window.weight_plot_l1.setData([window.weights_l1]); window.weight_plot_l1.draw();"
      ],
      "text/plain": [
       "<IPython.core.display.Javascript object>"
      ]
     },
     "metadata": {},
     "output_type": "display_data"
    },
    {
     "data": {
      "application/javascript": [
       "window.outputs = [[1, 0.008726435465749471], [2, 0.9847100267050954], [3, 0.9871541269559361], [4, 0.018498667566629257]]"
      ],
      "text/plain": [
       "<IPython.core.display.Javascript object>"
      ]
     },
     "metadata": {},
     "output_type": "display_data"
    },
    {
     "data": {
      "application/javascript": [
       "window.output_plot.setData([window.outputs]); window.output_plot.draw();"
      ],
      "text/plain": [
       "<IPython.core.display.Javascript object>"
      ]
     },
     "metadata": {},
     "output_type": "display_data"
    },
    {
     "data": {
      "application/javascript": [
       "$('#avg-error').html(0.01376)"
      ],
      "text/plain": [
       "<IPython.core.display.Javascript object>"
      ]
     },
     "metadata": {},
     "output_type": "display_data"
    },
    {
     "data": {
      "application/javascript": [
       "$('#iteration').html(5450)"
      ],
      "text/plain": [
       "<IPython.core.display.Javascript object>"
      ]
     },
     "metadata": {},
     "output_type": "display_data"
    },
    {
     "data": {
      "application/javascript": [
       "window.error.push([5450,0.01376])"
      ],
      "text/plain": [
       "<IPython.core.display.Javascript object>"
      ]
     },
     "metadata": {},
     "output_type": "display_data"
    },
    {
     "data": {
      "application/javascript": [
       "window.plot.setData([window.error]); window.plot.draw();"
      ],
      "text/plain": [
       "<IPython.core.display.Javascript object>"
      ]
     },
     "metadata": {},
     "output_type": "display_data"
    },
    {
     "data": {
      "application/javascript": [
       "window.weights_l0 = [[1, -6.52908436171149], [2, -1.6578284679464514], [3, -4.621373579988357], [4, 3.179958890775194], [5, 5.071840290848483], [6, 4.234666318271492], [7, -4.510911291307208], [8, -5.201034137241052], [9, -2.293204695234648], [10, 0.334727817939938], [11, 1.1430366579652667], [12, -1.3361199053723603]]"
      ],
      "text/plain": [
       "<IPython.core.display.Javascript object>"
      ]
     },
     "metadata": {},
     "output_type": "display_data"
    },
    {
     "data": {
      "application/javascript": [
       "window.weight_plot_l0.setData([window.weights_l0]); window.weight_plot_l0.draw();"
      ],
      "text/plain": [
       "<IPython.core.display.Javascript object>"
      ]
     },
     "metadata": {},
     "output_type": "display_data"
    },
    {
     "data": {
      "application/javascript": [
       "window.weights_l1 = [[1, 9.50244108925111], [2, -4.647154320945506], [3, -5.571986126268056], [4, 6.3591537057711705]]"
      ],
      "text/plain": [
       "<IPython.core.display.Javascript object>"
      ]
     },
     "metadata": {},
     "output_type": "display_data"
    },
    {
     "data": {
      "application/javascript": [
       "window.weight_plot_l1.setData([window.weights_l1]); window.weight_plot_l1.draw();"
      ],
      "text/plain": [
       "<IPython.core.display.Javascript object>"
      ]
     },
     "metadata": {},
     "output_type": "display_data"
    },
    {
     "data": {
      "application/javascript": [
       "window.outputs = [[1, 0.008673867301693686], [2, 0.9847922151933585], [3, 0.9872284731610285], [4, 0.018398541543758827]]"
      ],
      "text/plain": [
       "<IPython.core.display.Javascript object>"
      ]
     },
     "metadata": {},
     "output_type": "display_data"
    },
    {
     "data": {
      "application/javascript": [
       "window.output_plot.setData([window.outputs]); window.output_plot.draw();"
      ],
      "text/plain": [
       "<IPython.core.display.Javascript object>"
      ]
     },
     "metadata": {},
     "output_type": "display_data"
    },
    {
     "data": {
      "application/javascript": [
       "$('#avg-error').html(0.01369)"
      ],
      "text/plain": [
       "<IPython.core.display.Javascript object>"
      ]
     },
     "metadata": {},
     "output_type": "display_data"
    },
    {
     "data": {
      "application/javascript": [
       "$('#iteration').html(5500)"
      ],
      "text/plain": [
       "<IPython.core.display.Javascript object>"
      ]
     },
     "metadata": {},
     "output_type": "display_data"
    },
    {
     "data": {
      "application/javascript": [
       "window.error.push([5500,0.01369])"
      ],
      "text/plain": [
       "<IPython.core.display.Javascript object>"
      ]
     },
     "metadata": {},
     "output_type": "display_data"
    },
    {
     "data": {
      "application/javascript": [
       "window.plot.setData([window.error]); window.plot.draw();"
      ],
      "text/plain": [
       "<IPython.core.display.Javascript object>"
      ]
     },
     "metadata": {},
     "output_type": "display_data"
    },
    {
     "data": {
      "application/javascript": [
       "window.weights_l0 = [[1, -6.5325957346040635], [2, -1.6602520096312405], [3, -4.622637394251716], [4, 3.1825455566288006], [5, 5.074242993670113], [6, 4.2378882007943615], [7, -4.512911619808664], [8, -5.204346667706241], [9, -2.2937249681631737], [10, 0.3359603531014979], [11, 1.1435275932427862], [12, -1.3373147242021644]]"
      ],
      "text/plain": [
       "<IPython.core.display.Javascript object>"
      ]
     },
     "metadata": {},
     "output_type": "display_data"
    },
    {
     "data": {
      "application/javascript": [
       "window.weight_plot_l0.setData([window.weights_l0]); window.weight_plot_l0.draw();"
      ],
      "text/plain": [
       "<IPython.core.display.Javascript object>"
      ]
     },
     "metadata": {},
     "output_type": "display_data"
    },
    {
     "data": {
      "application/javascript": [
       "window.weights_l1 = [[1, 9.51238797957736], [2, -4.6520945005051875], [3, -5.57418574229128], [4, 6.364755089624761]]"
      ],
      "text/plain": [
       "<IPython.core.display.Javascript object>"
      ]
     },
     "metadata": {},
     "output_type": "display_data"
    },
    {
     "data": {
      "application/javascript": [
       "window.weight_plot_l1.setData([window.weights_l1]); window.weight_plot_l1.draw();"
      ],
      "text/plain": [
       "<IPython.core.display.Javascript object>"
      ]
     },
     "metadata": {},
     "output_type": "display_data"
    },
    {
     "data": {
      "application/javascript": [
       "window.outputs = [[1, 0.008622158820154841], [2, 0.9848731198666012], [3, 0.9873016175549203], [4, 0.018299985598908546]]"
      ],
      "text/plain": [
       "<IPython.core.display.Javascript object>"
      ]
     },
     "metadata": {},
     "output_type": "display_data"
    },
    {
     "data": {
      "application/javascript": [
       "window.output_plot.setData([window.outputs]); window.output_plot.draw();"
      ],
      "text/plain": [
       "<IPython.core.display.Javascript object>"
      ]
     },
     "metadata": {},
     "output_type": "display_data"
    },
    {
     "data": {
      "application/javascript": [
       "$('#avg-error').html(0.01361)"
      ],
      "text/plain": [
       "<IPython.core.display.Javascript object>"
      ]
     },
     "metadata": {},
     "output_type": "display_data"
    },
    {
     "data": {
      "application/javascript": [
       "$('#iteration').html(5550)"
      ],
      "text/plain": [
       "<IPython.core.display.Javascript object>"
      ]
     },
     "metadata": {},
     "output_type": "display_data"
    },
    {
     "data": {
      "application/javascript": [
       "window.error.push([5550,0.01361])"
      ],
      "text/plain": [
       "<IPython.core.display.Javascript object>"
      ]
     },
     "metadata": {},
     "output_type": "display_data"
    },
    {
     "data": {
      "application/javascript": [
       "window.plot.setData([window.error]); window.plot.draw();"
      ],
      "text/plain": [
       "<IPython.core.display.Javascript object>"
      ]
     },
     "metadata": {},
     "output_type": "display_data"
    },
    {
     "data": {
      "application/javascript": [
       "window.weights_l0 = [[1, -6.536068410438688], [2, -1.6626504070366301], [3, -4.623886567933033], [4, 3.185102715375114], [5, 5.07661888717806], [6, 4.241075052492989], [7, -4.514889040602674], [8, -5.2076216168047855], [9, -2.2942394550568213], [10, 0.33717955606377475], [11, 1.1440124238649536], [12, -1.3384954584340887]]"
      ],
      "text/plain": [
       "<IPython.core.display.Javascript object>"
      ]
     },
     "metadata": {},
     "output_type": "display_data"
    },
    {
     "data": {
      "application/javascript": [
       "window.weight_plot_l0.setData([window.weights_l0]); window.weight_plot_l0.draw();"
      ],
      "text/plain": [
       "<IPython.core.display.Javascript object>"
      ]
     },
     "metadata": {},
     "output_type": "display_data"
    },
    {
     "data": {
      "application/javascript": [
       "window.weights_l1 = [[1, 9.522233029057322], [2, -4.6569843909151105], [3, -5.576359891495535], [4, 6.370296156201608]]"
      ],
      "text/plain": [
       "<IPython.core.display.Javascript object>"
      ]
     },
     "metadata": {},
     "output_type": "display_data"
    },
    {
     "data": {
      "application/javascript": [
       "window.weight_plot_l1.setData([window.weights_l1]); window.weight_plot_l1.draw();"
      ],
      "text/plain": [
       "<IPython.core.display.Javascript object>"
      ]
     },
     "metadata": {},
     "output_type": "display_data"
    },
    {
     "data": {
      "application/javascript": [
       "window.outputs = [[1, 0.008571287392254946], [2, 0.984952773530832], [3, 0.9873735915741579], [4, 0.018202959495566134]]"
      ],
      "text/plain": [
       "<IPython.core.display.Javascript object>"
      ]
     },
     "metadata": {},
     "output_type": "display_data"
    },
    {
     "data": {
      "application/javascript": [
       "window.output_plot.setData([window.outputs]); window.output_plot.draw();"
      ],
      "text/plain": [
       "<IPython.core.display.Javascript object>"
      ]
     },
     "metadata": {},
     "output_type": "display_data"
    },
    {
     "data": {
      "application/javascript": [
       "$('#avg-error').html(0.01354)"
      ],
      "text/plain": [
       "<IPython.core.display.Javascript object>"
      ]
     },
     "metadata": {},
     "output_type": "display_data"
    },
    {
     "data": {
      "application/javascript": [
       "$('#iteration').html(5600)"
      ],
      "text/plain": [
       "<IPython.core.display.Javascript object>"
      ]
     },
     "metadata": {},
     "output_type": "display_data"
    },
    {
     "data": {
      "application/javascript": [
       "window.error.push([5600,0.01354])"
      ],
      "text/plain": [
       "<IPython.core.display.Javascript object>"
      ]
     },
     "metadata": {},
     "output_type": "display_data"
    },
    {
     "data": {
      "application/javascript": [
       "window.plot.setData([window.error]); window.plot.draw();"
      ],
      "text/plain": [
       "<IPython.core.display.Javascript object>"
      ]
     },
     "metadata": {},
     "output_type": "display_data"
    },
    {
     "data": {
      "application/javascript": [
       "window.weights_l0 = [[1, -6.539503200919723], [2, -1.6650241665123655], [3, -4.6251214181674385], [4, 3.1876309986383076], [5, 5.078968538483376], [6, 4.244227602373517], [7, -4.516844044975369], [8, -5.210859787582587], [9, -2.294748278368949], [10, 0.3383857020478234], [11, 1.144491287316901], [12, -1.3396624145165628]]"
      ],
      "text/plain": [
       "<IPython.core.display.Javascript object>"
      ]
     },
     "metadata": {},
     "output_type": "display_data"
    },
    {
     "data": {
      "application/javascript": [
       "window.weight_plot_l0.setData([window.weights_l0]); window.weight_plot_l0.draw();"
      ],
      "text/plain": [
       "<IPython.core.display.Javascript object>"
      ]
     },
     "metadata": {},
     "output_type": "display_data"
    },
    {
     "data": {
      "application/javascript": [
       "window.weights_l1 = [[1, 9.53197828989186], [2, -4.661825001000077], [3, -5.578509123950893], [4, 6.37577815811991]]"
      ],
      "text/plain": [
       "<IPython.core.display.Javascript object>"
      ]
     },
     "metadata": {},
     "output_type": "display_data"
    },
    {
     "data": {
      "application/javascript": [
       "window.weight_plot_l1.setData([window.weights_l1]); window.weight_plot_l1.draw();"
      ],
      "text/plain": [
       "<IPython.core.display.Javascript object>"
      ]
     },
     "metadata": {},
     "output_type": "display_data"
    },
    {
     "data": {
      "application/javascript": [
       "window.outputs = [[1, 0.008521231204595126], [2, 0.985031207835789], [3, 0.9874444255270386], [4, 0.018107424418735096]]"
      ],
      "text/plain": [
       "<IPython.core.display.Javascript object>"
      ]
     },
     "metadata": {},
     "output_type": "display_data"
    },
    {
     "data": {
      "application/javascript": [
       "window.output_plot.setData([window.outputs]); window.output_plot.draw();"
      ],
      "text/plain": [
       "<IPython.core.display.Javascript object>"
      ]
     },
     "metadata": {},
     "output_type": "display_data"
    },
    {
     "data": {
      "application/javascript": [
       "$('#avg-error').html(0.01347)"
      ],
      "text/plain": [
       "<IPython.core.display.Javascript object>"
      ]
     },
     "metadata": {},
     "output_type": "display_data"
    },
    {
     "data": {
      "application/javascript": [
       "$('#iteration').html(5650)"
      ],
      "text/plain": [
       "<IPython.core.display.Javascript object>"
      ]
     },
     "metadata": {},
     "output_type": "display_data"
    },
    {
     "data": {
      "application/javascript": [
       "window.error.push([5650,0.01347])"
      ],
      "text/plain": [
       "<IPython.core.display.Javascript object>"
      ]
     },
     "metadata": {},
     "output_type": "display_data"
    },
    {
     "data": {
      "application/javascript": [
       "window.plot.setData([window.error]); window.plot.draw();"
      ],
      "text/plain": [
       "<IPython.core.display.Javascript object>"
      ]
     },
     "metadata": {},
     "output_type": "display_data"
    },
    {
     "data": {
      "application/javascript": [
       "window.weights_l0 = [[1, -6.54290089285893], [2, -1.6673737793711532], [3, -4.626342252123676], [4, 3.190131018391036], [5, 5.081292497189673], [6, 4.247346557214901], [7, -4.518777108904877], [8, -5.214061958112356], [9, -2.2952515567683553], [10, 0.3395790579520686], [11, 1.1449643166434391], [12, -1.3408158892615334]]"
      ],
      "text/plain": [
       "<IPython.core.display.Javascript object>"
      ]
     },
     "metadata": {},
     "output_type": "display_data"
    },
    {
     "data": {
      "application/javascript": [
       "window.weight_plot_l0.setData([window.weights_l0]); window.weight_plot_l0.draw();"
      ],
      "text/plain": [
       "<IPython.core.display.Javascript object>"
      ]
     },
     "metadata": {},
     "output_type": "display_data"
    },
    {
     "data": {
      "application/javascript": [
       "window.weights_l1 = [[1, 9.541625753088084], [2, -4.666617309617918], [3, -5.580633972493914], [4, 6.381202309818428]]"
      ],
      "text/plain": [
       "<IPython.core.display.Javascript object>"
      ]
     },
     "metadata": {},
     "output_type": "display_data"
    },
    {
     "data": {
      "application/javascript": [
       "window.weight_plot_l1.setData([window.weights_l1]); window.weight_plot_l1.draw();"
      ],
      "text/plain": [
       "<IPython.core.display.Javascript object>"
      ]
     },
     "metadata": {},
     "output_type": "display_data"
    },
    {
     "data": {
      "application/javascript": [
       "window.outputs = [[1, 0.008471969222127512], [2, 0.9851084533266513], [3, 0.9875141486448287], [4, 0.018013342911232574]]"
      ],
      "text/plain": [
       "<IPython.core.display.Javascript object>"
      ]
     },
     "metadata": {},
     "output_type": "display_data"
    },
    {
     "data": {
      "application/javascript": [
       "window.output_plot.setData([window.outputs]); window.output_plot.draw();"
      ],
      "text/plain": [
       "<IPython.core.display.Javascript object>"
      ]
     },
     "metadata": {},
     "output_type": "display_data"
    },
    {
     "data": {
      "application/javascript": [
       "$('#avg-error').html(0.01339)"
      ],
      "text/plain": [
       "<IPython.core.display.Javascript object>"
      ]
     },
     "metadata": {},
     "output_type": "display_data"
    },
    {
     "data": {
      "application/javascript": [
       "$('#iteration').html(5700)"
      ],
      "text/plain": [
       "<IPython.core.display.Javascript object>"
      ]
     },
     "metadata": {},
     "output_type": "display_data"
    },
    {
     "data": {
      "application/javascript": [
       "window.error.push([5700,0.01339])"
      ],
      "text/plain": [
       "<IPython.core.display.Javascript object>"
      ]
     },
     "metadata": {},
     "output_type": "display_data"
    },
    {
     "data": {
      "application/javascript": [
       "window.plot.setData([window.error]); window.plot.draw();"
      ],
      "text/plain": [
       "<IPython.core.display.Javascript object>"
      ]
     },
     "metadata": {},
     "output_type": "display_data"
    },
    {
     "data": {
      "application/javascript": [
       "window.weights_l0 = [[1, -6.546262249174523], [2, -1.669699722476036], [3, -4.627549367412237], [4, 3.19260336775202], [5, 5.08359129609973], [6, 4.250432602456846], [7, -4.52068869368346], [8, -5.217228882507372], [9, -2.2957494052922156], [10, 0.34075988268212465], [11, 1.1454316406347858], [12, -1.3419561702386413]]"
      ],
      "text/plain": [
       "<IPython.core.display.Javascript object>"
      ]
     },
     "metadata": {},
     "output_type": "display_data"
    },
    {
     "data": {
      "application/javascript": [
       "window.weight_plot_l0.setData([window.weights_l0]); window.weight_plot_l0.draw();"
      ],
      "text/plain": [
       "<IPython.core.display.Javascript object>"
      ]
     },
     "metadata": {},
     "output_type": "display_data"
    },
    {
     "data": {
      "application/javascript": [
       "window.weights_l1 = [[1, 9.551177350862423], [2, -4.671362266832388], [3, -5.58273495343121], [4, 6.38656978908219]]"
      ],
      "text/plain": [
       "<IPython.core.display.Javascript object>"
      ]
     },
     "metadata": {},
     "output_type": "display_data"
    },
    {
     "data": {
      "application/javascript": [
       "window.weight_plot_l1.setData([window.weights_l1]); window.weight_plot_l1.draw();"
      ],
      "text/plain": [
       "<IPython.core.display.Javascript object>"
      ]
     },
     "metadata": {},
     "output_type": "display_data"
    },
    {
     "data": {
      "application/javascript": [
       "window.outputs = [[1, 0.008423481153062058], [2, 0.9851845394929548], [3, 0.9875827891301804], [4, 0.017920678813432053]]"
      ],
      "text/plain": [
       "<IPython.core.display.Javascript object>"
      ]
     },
     "metadata": {},
     "output_type": "display_data"
    },
    {
     "data": {
      "application/javascript": [
       "window.output_plot.setData([window.outputs]); window.output_plot.draw();"
      ],
      "text/plain": [
       "<IPython.core.display.Javascript object>"
      ]
     },
     "metadata": {},
     "output_type": "display_data"
    },
    {
     "data": {
      "application/javascript": [
       "$('#avg-error').html(0.01332)"
      ],
      "text/plain": [
       "<IPython.core.display.Javascript object>"
      ]
     },
     "metadata": {},
     "output_type": "display_data"
    },
    {
     "data": {
      "application/javascript": [
       "$('#iteration').html(5750)"
      ],
      "text/plain": [
       "<IPython.core.display.Javascript object>"
      ]
     },
     "metadata": {},
     "output_type": "display_data"
    },
    {
     "data": {
      "application/javascript": [
       "window.error.push([5750,0.01332])"
      ],
      "text/plain": [
       "<IPython.core.display.Javascript object>"
      ]
     },
     "metadata": {},
     "output_type": "display_data"
    },
    {
     "data": {
      "application/javascript": [
       "window.plot.setData([window.error]); window.plot.draw();"
      ],
      "text/plain": [
       "<IPython.core.display.Javascript object>"
      ]
     },
     "metadata": {},
     "output_type": "display_data"
    },
    {
     "data": {
      "application/javascript": [
       "window.weights_l0 = [[1, -6.549588009840901], [2, -1.6720024587994335], [3, -4.628743052472928], [4, 3.195048621743868], [5, 5.085865451887018], [6, 4.253486403044072], [7, -4.522579246508586], [8, -5.220361291884637], [9, -2.29624193549141], [10, 0.34192842746451024], [11, 1.1458933840028003], [12, -1.3430835361496272]]"
      ],
      "text/plain": [
       "<IPython.core.display.Javascript object>"
      ]
     },
     "metadata": {},
     "output_type": "display_data"
    },
    {
     "data": {
      "application/javascript": [
       "window.weight_plot_l0.setData([window.weights_l0]); window.weight_plot_l0.draw();"
      ],
      "text/plain": [
       "<IPython.core.display.Javascript object>"
      ]
     },
     "metadata": {},
     "output_type": "display_data"
    },
    {
     "data": {
      "application/javascript": [
       "window.weights_l1 = [[1, 9.560634958927192], [2, -4.676060795029268], [3, -5.584812567207747], [4, 6.391881738493082]]"
      ],
      "text/plain": [
       "<IPython.core.display.Javascript object>"
      ]
     },
     "metadata": {},
     "output_type": "display_data"
    },
    {
     "data": {
      "application/javascript": [
       "window.weight_plot_l1.setData([window.weights_l1]); window.weight_plot_l1.draw();"
      ],
      "text/plain": [
       "<IPython.core.display.Javascript object>"
      ]
     },
     "metadata": {},
     "output_type": "display_data"
    },
    {
     "data": {
      "application/javascript": [
       "window.outputs = [[1, 0.0083757474156787], [2, 0.9852594948148959], [3, 0.9876503742029256], [4, 0.017829397206234845]]"
      ],
      "text/plain": [
       "<IPython.core.display.Javascript object>"
      ]
     },
     "metadata": {},
     "output_type": "display_data"
    },
    {
     "data": {
      "application/javascript": [
       "window.output_plot.setData([window.outputs]); window.output_plot.draw();"
      ],
      "text/plain": [
       "<IPython.core.display.Javascript object>"
      ]
     },
     "metadata": {},
     "output_type": "display_data"
    },
    {
     "data": {
      "application/javascript": [
       "$('#avg-error').html(0.01325)"
      ],
      "text/plain": [
       "<IPython.core.display.Javascript object>"
      ]
     },
     "metadata": {},
     "output_type": "display_data"
    },
    {
     "data": {
      "application/javascript": [
       "$('#iteration').html(5800)"
      ],
      "text/plain": [
       "<IPython.core.display.Javascript object>"
      ]
     },
     "metadata": {},
     "output_type": "display_data"
    },
    {
     "data": {
      "application/javascript": [
       "window.error.push([5800,0.01325])"
      ],
      "text/plain": [
       "<IPython.core.display.Javascript object>"
      ]
     },
     "metadata": {},
     "output_type": "display_data"
    },
    {
     "data": {
      "application/javascript": [
       "window.plot.setData([window.error]); window.plot.draw();"
      ],
      "text/plain": [
       "<IPython.core.display.Javascript object>"
      ]
     },
     "metadata": {},
     "output_type": "display_data"
    },
    {
     "data": {
      "application/javascript": [
       "window.weights_l0 = [[1, -6.552878892791891], [2, -1.6742824379554653], [3, -4.629923586943186], [4, 3.1974673380134857], [5, 5.088115465734212], [6, 4.256508604229427], [7, -4.524449201044806], [8, -5.223459895280472], [9, -2.2967292555687018], [10, 0.3430849361451941], [11, 1.1463496675482845], [12, -1.344198257184137]]"
      ],
      "text/plain": [
       "<IPython.core.display.Javascript object>"
      ]
     },
     "metadata": {},
     "output_type": "display_data"
    },
    {
     "data": {
      "application/javascript": [
       "window.weight_plot_l0.setData([window.weights_l0]); window.weight_plot_l0.draw();"
      ],
      "text/plain": [
       "<IPython.core.display.Javascript object>"
      ]
     },
     "metadata": {},
     "output_type": "display_data"
    },
    {
     "data": {
      "application/javascript": [
       "window.weights_l1 = [[1, 9.570000398667217], [2, -4.680713789979012], [3, -5.586867299042008], [4, 6.397139266809677]]"
      ],
      "text/plain": [
       "<IPython.core.display.Javascript object>"
      ]
     },
     "metadata": {},
     "output_type": "display_data"
    },
    {
     "data": {
      "application/javascript": [
       "window.weight_plot_l1.setData([window.weights_l1]); window.weight_plot_l1.draw();"
      ],
      "text/plain": [
       "<IPython.core.display.Javascript object>"
      ]
     },
     "metadata": {},
     "output_type": "display_data"
    },
    {
     "data": {
      "application/javascript": [
       "window.outputs = [[1, 0.008328749106923989], [2, 0.9853333468071819], [3, 0.9877169301434133], [4, 0.017739464357067983]]"
      ],
      "text/plain": [
       "<IPython.core.display.Javascript object>"
      ]
     },
     "metadata": {},
     "output_type": "display_data"
    },
    {
     "data": {
      "application/javascript": [
       "window.output_plot.setData([window.outputs]); window.output_plot.draw();"
      ],
      "text/plain": [
       "<IPython.core.display.Javascript object>"
      ]
     },
     "metadata": {},
     "output_type": "display_data"
    },
    {
     "data": {
      "application/javascript": [
       "$('#avg-error').html(0.01319)"
      ],
      "text/plain": [
       "<IPython.core.display.Javascript object>"
      ]
     },
     "metadata": {},
     "output_type": "display_data"
    },
    {
     "data": {
      "application/javascript": [
       "$('#iteration').html(5850)"
      ],
      "text/plain": [
       "<IPython.core.display.Javascript object>"
      ]
     },
     "metadata": {},
     "output_type": "display_data"
    },
    {
     "data": {
      "application/javascript": [
       "window.error.push([5850,0.01319])"
      ],
      "text/plain": [
       "<IPython.core.display.Javascript object>"
      ]
     },
     "metadata": {},
     "output_type": "display_data"
    },
    {
     "data": {
      "application/javascript": [
       "window.plot.setData([window.error]); window.plot.draw();"
      ],
      "text/plain": [
       "<IPython.core.display.Javascript object>"
      ]
     },
     "metadata": {},
     "output_type": "display_data"
    },
    {
     "data": {
      "application/javascript": [
       "window.weights_l0 = [[1, -6.556135594780226], [2, -1.6765400967070796], [3, -4.631091242008203], [4, 3.1998600575172427], [5, 5.090341823940607], [6, 4.25949983233821], [7, -4.526298977958101], [8, -5.22652538052131], [9, -2.297211470510176], [10, 0.34422964547383644], [11, 1.1468006083199007], [12, -1.3453005953580233]]"
      ],
      "text/plain": [
       "<IPython.core.display.Javascript object>"
      ]
     },
     "metadata": {},
     "output_type": "display_data"
    },
    {
     "data": {
      "application/javascript": [
       "window.weight_plot_l0.setData([window.weights_l0]); window.weight_plot_l0.draw();"
      ],
      "text/plain": [
       "<IPython.core.display.Javascript object>"
      ]
     },
     "metadata": {},
     "output_type": "display_data"
    },
    {
     "data": {
      "application/javascript": [
       "window.weights_l1 = [[1, 9.579275439212838], [2, -4.68532212184896], [3, -5.588899619529876], [4, 6.402343450280459]]"
      ],
      "text/plain": [
       "<IPython.core.display.Javascript object>"
      ]
     },
     "metadata": {},
     "output_type": "display_data"
    },
    {
     "data": {
      "application/javascript": [
       "window.weight_plot_l1.setData([window.weights_l1]); window.weight_plot_l1.draw();"
      ],
      "text/plain": [
       "<IPython.core.display.Javascript object>"
      ]
     },
     "metadata": {},
     "output_type": "display_data"
    },
    {
     "data": {
      "application/javascript": [
       "window.outputs = [[1, 0.008282467972680512], [2, 0.9854061220605784], [3, 0.9877824823335449], [4, 0.01765084766872032]]"
      ],
      "text/plain": [
       "<IPython.core.display.Javascript object>"
      ]
     },
     "metadata": {},
     "output_type": "display_data"
    },
    {
     "data": {
      "application/javascript": [
       "window.output_plot.setData([window.outputs]); window.output_plot.draw();"
      ],
      "text/plain": [
       "<IPython.core.display.Javascript object>"
      ]
     },
     "metadata": {},
     "output_type": "display_data"
    },
    {
     "data": {
      "application/javascript": [
       "$('#avg-error').html(0.01312)"
      ],
      "text/plain": [
       "<IPython.core.display.Javascript object>"
      ]
     },
     "metadata": {},
     "output_type": "display_data"
    },
    {
     "data": {
      "application/javascript": [
       "$('#iteration').html(5900)"
      ],
      "text/plain": [
       "<IPython.core.display.Javascript object>"
      ]
     },
     "metadata": {},
     "output_type": "display_data"
    },
    {
     "data": {
      "application/javascript": [
       "window.error.push([5900,0.01312])"
      ],
      "text/plain": [
       "<IPython.core.display.Javascript object>"
      ]
     },
     "metadata": {},
     "output_type": "display_data"
    },
    {
     "data": {
      "application/javascript": [
       "window.plot.setData([window.error]); window.plot.draw();"
      ],
      "text/plain": [
       "<IPython.core.display.Javascript object>"
      ]
     },
     "metadata": {},
     "output_type": "display_data"
    },
    {
     "data": {
      "application/javascript": [
       "window.weights_l0 = [[1, -6.559358792195746], [2, -1.6787758594494013], [3, -4.632246280734002], [4, 3.2022273051729604], [5, 5.092544998500211], [6, 4.262460695495982], [7, -4.528128985424292], [8, -5.229558415052279], [9, -2.2976886822103415], [10, 0.3453627853745399], [11, 1.1472463197651814], [12, -1.3463908048351452]]"
      ],
      "text/plain": [
       "<IPython.core.display.Javascript object>"
      ]
     },
     "metadata": {},
     "output_type": "display_data"
    },
    {
     "data": {
      "application/javascript": [
       "window.weight_plot_l0.setData([window.weights_l0]); window.weight_plot_l0.draw();"
      ],
      "text/plain": [
       "<IPython.core.display.Javascript object>"
      ]
     },
     "metadata": {},
     "output_type": "display_data"
    },
    {
     "data": {
      "application/javascript": [
       "window.weights_l1 = [[1, 9.588461799415152], [2, -4.689886636167939], [3, -5.5909099852191755], [4, 6.407495333894155]]"
      ],
      "text/plain": [
       "<IPython.core.display.Javascript object>"
      ]
     },
     "metadata": {},
     "output_type": "display_data"
    },
    {
     "data": {
      "application/javascript": [
       "window.weight_plot_l1.setData([window.weights_l1]); window.weight_plot_l1.draw();"
      ],
      "text/plain": [
       "<IPython.core.display.Javascript object>"
      ]
     },
     "metadata": {},
     "output_type": "display_data"
    },
    {
     "data": {
      "application/javascript": [
       "window.outputs = [[1, 0.008236886379604843], [2, 0.9854778462812998], [3, 0.987847055295646], [4, 0.01756351563084314]]"
      ],
      "text/plain": [
       "<IPython.core.display.Javascript object>"
      ]
     },
     "metadata": {},
     "output_type": "display_data"
    },
    {
     "data": {
      "application/javascript": [
       "window.output_plot.setData([window.outputs]); window.output_plot.draw();"
      ],
      "text/plain": [
       "<IPython.core.display.Javascript object>"
      ]
     },
     "metadata": {},
     "output_type": "display_data"
    },
    {
     "data": {
      "application/javascript": [
       "$('#avg-error').html(0.01305)"
      ],
      "text/plain": [
       "<IPython.core.display.Javascript object>"
      ]
     },
     "metadata": {},
     "output_type": "display_data"
    },
    {
     "data": {
      "application/javascript": [
       "$('#iteration').html(5950)"
      ],
      "text/plain": [
       "<IPython.core.display.Javascript object>"
      ]
     },
     "metadata": {},
     "output_type": "display_data"
    },
    {
     "data": {
      "application/javascript": [
       "window.error.push([5950,0.01305])"
      ],
      "text/plain": [
       "<IPython.core.display.Javascript object>"
      ]
     },
     "metadata": {},
     "output_type": "display_data"
    },
    {
     "data": {
      "application/javascript": [
       "window.plot.setData([window.error]); window.plot.draw();"
      ],
      "text/plain": [
       "<IPython.core.display.Javascript object>"
      ]
     },
     "metadata": {},
     "output_type": "display_data"
    },
    {
     "data": {
      "application/javascript": [
       "window.weights_l0 = [[1, -6.562549141844698], [2, -1.680990138670611], [3, -4.633388958384345], [4, 3.2045695904805798], [5, 5.0947254476522446], [6, 4.265391784321846], [7, -4.529939619613058], [8, -5.232559646725987], [9, -2.2981609895912247], [10, 0.34648457920386894], [11, 1.1476869118741082], [12, -1.3474691322336387]]"
      ],
      "text/plain": [
       "<IPython.core.display.Javascript object>"
      ]
     },
     "metadata": {},
     "output_type": "display_data"
    },
    {
     "data": {
      "application/javascript": [
       "window.weight_plot_l0.setData([window.weights_l0]); window.weight_plot_l0.draw();"
      ],
      "text/plain": [
       "<IPython.core.display.Javascript object>"
      ]
     },
     "metadata": {},
     "output_type": "display_data"
    },
    {
     "data": {
      "application/javascript": [
       "window.weights_l1 = [[1, 9.597561149728952], [2, -4.694408154745949], [3, -5.592898839156435], [4, 6.412595932570832]]"
      ],
      "text/plain": [
       "<IPython.core.display.Javascript object>"
      ]
     },
     "metadata": {},
     "output_type": "display_data"
    },
    {
     "data": {
      "application/javascript": [
       "window.weight_plot_l1.setData([window.weights_l1]); window.weight_plot_l1.draw();"
      ],
      "text/plain": [
       "<IPython.core.display.Javascript object>"
      ]
     },
     "metadata": {},
     "output_type": "display_data"
    },
    {
     "data": {
      "application/javascript": [
       "window.outputs = [[1, 0.00819198728843797], [2, 0.9855485443283684], [3, 0.9879106727293134], [4, 0.017477437773952997]]"
      ],
      "text/plain": [
       "<IPython.core.display.Javascript object>"
      ]
     },
     "metadata": {},
     "output_type": "display_data"
    },
    {
     "data": {
      "application/javascript": [
       "window.output_plot.setData([window.outputs]); window.output_plot.draw();"
      ],
      "text/plain": [
       "<IPython.core.display.Javascript object>"
      ]
     },
     "metadata": {},
     "output_type": "display_data"
    },
    {
     "data": {
      "application/javascript": [
       "$('#avg-error').html(0.01299)"
      ],
      "text/plain": [
       "<IPython.core.display.Javascript object>"
      ]
     },
     "metadata": {},
     "output_type": "display_data"
    },
    {
     "data": {
      "application/javascript": [
       "$('#iteration').html(6000)"
      ],
      "text/plain": [
       "<IPython.core.display.Javascript object>"
      ]
     },
     "metadata": {},
     "output_type": "display_data"
    },
    {
     "data": {
      "application/javascript": [
       "window.error.push([6000,0.01299])"
      ],
      "text/plain": [
       "<IPython.core.display.Javascript object>"
      ]
     },
     "metadata": {},
     "output_type": "display_data"
    },
    {
     "data": {
      "application/javascript": [
       "window.plot.setData([window.error]); window.plot.draw();"
      ],
      "text/plain": [
       "<IPython.core.display.Javascript object>"
      ]
     },
     "metadata": {},
     "output_type": "display_data"
    },
    {
     "data": {
      "application/javascript": [
       "window.weights_l0 = [[1, -6.5657072816922915], [2, -1.683183335391614], [3, -4.634519522722482], [4, 3.206887408113334], [5, 5.096883616405536], [6, 4.268293672589215], [7, -4.531731265148856], [8, -5.235529704553792], [9, -2.298628488715839], [10, 0.3475952439968457], [11, 1.1481224913156916], [12, -1.3485358169175203]]"
      ],
      "text/plain": [
       "<IPython.core.display.Javascript object>"
      ]
     },
     "metadata": {},
     "output_type": "display_data"
    },
    {
     "data": {
      "application/javascript": [
       "window.weight_plot_l0.setData([window.weights_l0]); window.weight_plot_l0.draw();"
      ],
      "text/plain": [
       "<IPython.core.display.Javascript object>"
      ]
     },
     "metadata": {},
     "output_type": "display_data"
    },
    {
     "data": {
      "application/javascript": [
       "window.weights_l1 = [[1, 9.6065751140085], [2, -4.69888747655137], [3, -5.594866611407558], [4, 6.41764623229703]]"
      ],
      "text/plain": [
       "<IPython.core.display.Javascript object>"
      ]
     },
     "metadata": {},
     "output_type": "display_data"
    },
    {
     "data": {
      "application/javascript": [
       "window.weight_plot_l1.setData([window.weights_l1]); window.weight_plot_l1.draw();"
      ],
      "text/plain": [
       "<IPython.core.display.Javascript object>"
      ]
     },
     "metadata": {},
     "output_type": "display_data"
    },
    {
     "data": {
      "application/javascript": [
       "window.outputs = [[1, 0.008147754228697991], [2, 0.9856182402490701], [3, 0.9879733575463585], [4, 0.017392584625785638]]"
      ],
      "text/plain": [
       "<IPython.core.display.Javascript object>"
      ]
     },
     "metadata": {},
     "output_type": "display_data"
    },
    {
     "data": {
      "application/javascript": [
       "window.output_plot.setData([window.outputs]); window.output_plot.draw();"
      ],
      "text/plain": [
       "<IPython.core.display.Javascript object>"
      ]
     },
     "metadata": {},
     "output_type": "display_data"
    },
    {
     "data": {
      "application/javascript": [
       "$('#avg-error').html(0.01292)"
      ],
      "text/plain": [
       "<IPython.core.display.Javascript object>"
      ]
     },
     "metadata": {},
     "output_type": "display_data"
    },
    {
     "data": {
      "application/javascript": [
       "$('#iteration').html(6050)"
      ],
      "text/plain": [
       "<IPython.core.display.Javascript object>"
      ]
     },
     "metadata": {},
     "output_type": "display_data"
    },
    {
     "data": {
      "application/javascript": [
       "window.error.push([6050,0.01292])"
      ],
      "text/plain": [
       "<IPython.core.display.Javascript object>"
      ]
     },
     "metadata": {},
     "output_type": "display_data"
    },
    {
     "data": {
      "application/javascript": [
       "window.plot.setData([window.error]); window.plot.draw();"
      ],
      "text/plain": [
       "<IPython.core.display.Javascript object>"
      ]
     },
     "metadata": {},
     "output_type": "display_data"
    },
    {
     "data": {
      "application/javascript": [
       "window.weights_l0 = [[1, -6.5688338315705925], [2, -1.6853558395856458], [3, -4.635638214298575], [4, 3.2091812384810465], [5, 5.099019937038331], [6, 4.271166917855832], [7, -4.533504295550124], [8, -5.238469199421647], [9, -2.299091272896307], [10, 0.3486949907015877], [11, 1.148553161567942], [12, -1.3495910912744746]]"
      ],
      "text/plain": [
       "<IPython.core.display.Javascript object>"
      ]
     },
     "metadata": {},
     "output_type": "display_data"
    },
    {
     "data": {
      "application/javascript": [
       "window.weight_plot_l0.setData([window.weights_l0]); window.weight_plot_l0.draw();"
      ],
      "text/plain": [
       "<IPython.core.display.Javascript object>"
      ]
     },
     "metadata": {},
     "output_type": "display_data"
    },
    {
     "data": {
      "application/javascript": [
       "window.weights_l1 = [[1, 9.615505271220918], [2, -4.703325378548087], [3, -5.596813719553804], [4, 6.422647191208068]]"
      ],
      "text/plain": [
       "<IPython.core.display.Javascript object>"
      ]
     },
     "metadata": {},
     "output_type": "display_data"
    },
    {
     "data": {
      "application/javascript": [
       "window.weight_plot_l1.setData([window.weights_l1]); window.weight_plot_l1.draw();"
      ],
      "text/plain": [
       "<IPython.core.display.Javascript object>"
      ]
     },
     "metadata": {},
     "output_type": "display_data"
    },
    {
     "data": {
      "application/javascript": [
       "window.outputs = [[1, 0.0081041712746717], [2, 0.9856869573126149], [3, 0.9880351319039573], [4, 0.01730892766986082]]"
      ],
      "text/plain": [
       "<IPython.core.display.Javascript object>"
      ]
     },
     "metadata": {},
     "output_type": "display_data"
    },
    {
     "data": {
      "application/javascript": [
       "window.output_plot.setData([window.outputs]); window.output_plot.draw();"
      ],
      "text/plain": [
       "<IPython.core.display.Javascript object>"
      ]
     },
     "metadata": {},
     "output_type": "display_data"
    },
    {
     "data": {
      "application/javascript": [
       "$('#avg-error').html(0.01286)"
      ],
      "text/plain": [
       "<IPython.core.display.Javascript object>"
      ]
     },
     "metadata": {},
     "output_type": "display_data"
    },
    {
     "data": {
      "application/javascript": [
       "$('#iteration').html(6100)"
      ],
      "text/plain": [
       "<IPython.core.display.Javascript object>"
      ]
     },
     "metadata": {},
     "output_type": "display_data"
    },
    {
     "data": {
      "application/javascript": [
       "window.error.push([6100,0.01286])"
      ],
      "text/plain": [
       "<IPython.core.display.Javascript object>"
      ]
     },
     "metadata": {},
     "output_type": "display_data"
    },
    {
     "data": {
      "application/javascript": [
       "window.plot.setData([window.error]); window.plot.draw();"
      ],
      "text/plain": [
       "<IPython.core.display.Javascript object>"
      ]
     },
     "metadata": {},
     "output_type": "display_data"
    },
    {
     "data": {
      "application/javascript": [
       "window.weights_l0 = [[1, -6.571929393853647], [2, -1.687508030578899], [3, -4.636745266723555], [4, 3.2114515482671355], [5, 5.101134829574849], [6, 4.274012062064737], [7, -4.535259073647949], [8, -5.241378724772492], [9, -2.2995494327969666], [10, 0.34978402440320816], [11, 1.1489790230416232], [12, -1.3506351809805746]]"
      ],
      "text/plain": [
       "<IPython.core.display.Javascript object>"
      ]
     },
     "metadata": {},
     "output_type": "display_data"
    },
    {
     "data": {
      "application/javascript": [
       "window.weight_plot_l0.setData([window.weights_l0]); window.weight_plot_l0.draw();"
      ],
      "text/plain": [
       "<IPython.core.display.Javascript object>"
      ]
     },
     "metadata": {},
     "output_type": "display_data"
    },
    {
     "data": {
      "application/javascript": [
       "window.weights_l1 = [[1, 9.624353157081687], [2, -4.707722616494616], [3, -5.598740569164501], [4, 6.427599740620443]]"
      ],
      "text/plain": [
       "<IPython.core.display.Javascript object>"
      ]
     },
     "metadata": {},
     "output_type": "display_data"
    },
    {
     "data": {
      "application/javascript": [
       "window.weight_plot_l1.setData([window.weights_l1]); window.weight_plot_l1.draw();"
      ],
      "text/plain": [
       "<IPython.core.display.Javascript object>"
      ]
     },
     "metadata": {},
     "output_type": "display_data"
    },
    {
     "data": {
      "application/javascript": [
       "window.outputs = [[1, 0.008061223022627517], [2, 0.9857547180421126], [3, 0.9880960172361224], [4, 0.01722643930612732]]"
      ],
      "text/plain": [
       "<IPython.core.display.Javascript object>"
      ]
     },
     "metadata": {},
     "output_type": "display_data"
    },
    {
     "data": {
      "application/javascript": [
       "window.output_plot.setData([window.outputs]); window.output_plot.draw();"
      ],
      "text/plain": [
       "<IPython.core.display.Javascript object>"
      ]
     },
     "metadata": {},
     "output_type": "display_data"
    },
    {
     "data": {
      "application/javascript": [
       "$('#avg-error').html(0.01280)"
      ],
      "text/plain": [
       "<IPython.core.display.Javascript object>"
      ]
     },
     "metadata": {},
     "output_type": "display_data"
    },
    {
     "data": {
      "application/javascript": [
       "$('#iteration').html(6150)"
      ],
      "text/plain": [
       "<IPython.core.display.Javascript object>"
      ]
     },
     "metadata": {},
     "output_type": "display_data"
    },
    {
     "data": {
      "application/javascript": [
       "window.error.push([6150,0.01280])"
      ],
      "text/plain": [
       "<IPython.core.display.Javascript object>"
      ]
     },
     "metadata": {},
     "output_type": "display_data"
    },
    {
     "data": {
      "application/javascript": [
       "window.plot.setData([window.error]); window.plot.draw();"
      ],
      "text/plain": [
       "<IPython.core.display.Javascript object>"
      ]
     },
     "metadata": {},
     "output_type": "display_data"
    },
    {
     "data": {
      "application/javascript": [
       "window.weights_l0 = [[1, -6.574994554101651], [2, -1.6896402774332038], [3, -4.637840906930262], [4, 3.2136987909407506], [5, 5.1032287022399005], [6, 4.276829632117792], [7, -4.536995951985319], [8, -5.244258857257064], [9, -2.3000030565327036], [10, 0.3508625445375625], [11, 1.149400173198131], [12, -1.3516683052526919]]"
      ],
      "text/plain": [
       "<IPython.core.display.Javascript object>"
      ]
     },
     "metadata": {},
     "output_type": "display_data"
    },
    {
     "data": {
      "application/javascript": [
       "window.weight_plot_l0.setData([window.weights_l0]); window.weight_plot_l0.draw();"
      ],
      "text/plain": [
       "<IPython.core.display.Javascript object>"
      ]
     },
     "metadata": {},
     "output_type": "display_data"
    },
    {
     "data": {
      "application/javascript": [
       "window.weights_l1 = [[1, 9.633120265616437], [2, -4.712079925707368], [3, -5.600647554247772], [4, 6.432504786017013]]"
      ],
      "text/plain": [
       "<IPython.core.display.Javascript object>"
      ]
     },
     "metadata": {},
     "output_type": "display_data"
    },
    {
     "data": {
      "application/javascript": [
       "window.weight_plot_l1.setData([window.weights_l1]); window.weight_plot_l1.draw();"
      ],
      "text/plain": [
       "<IPython.core.display.Javascript object>"
      ]
     },
     "metadata": {},
     "output_type": "display_data"
    },
    {
     "data": {
      "application/javascript": [
       "window.outputs = [[1, 0.008018894569176782], [2, 0.9858215442449585], [3, 0.9881560342835909], [4, 0.01714509281356573]]"
      ],
      "text/plain": [
       "<IPython.core.display.Javascript object>"
      ]
     },
     "metadata": {},
     "output_type": "display_data"
    },
    {
     "data": {
      "application/javascript": [
       "window.output_plot.setData([window.outputs]); window.output_plot.draw();"
      ],
      "text/plain": [
       "<IPython.core.display.Javascript object>"
      ]
     },
     "metadata": {},
     "output_type": "display_data"
    },
    {
     "data": {
      "application/javascript": [
       "$('#avg-error').html(0.01273)"
      ],
      "text/plain": [
       "<IPython.core.display.Javascript object>"
      ]
     },
     "metadata": {},
     "output_type": "display_data"
    },
    {
     "data": {
      "application/javascript": [
       "$('#iteration').html(6200)"
      ],
      "text/plain": [
       "<IPython.core.display.Javascript object>"
      ]
     },
     "metadata": {},
     "output_type": "display_data"
    },
    {
     "data": {
      "application/javascript": [
       "window.error.push([6200,0.01273])"
      ],
      "text/plain": [
       "<IPython.core.display.Javascript object>"
      ]
     },
     "metadata": {},
     "output_type": "display_data"
    },
    {
     "data": {
      "application/javascript": [
       "window.plot.setData([window.error]); window.plot.draw();"
      ],
      "text/plain": [
       "<IPython.core.display.Javascript object>"
      ]
     },
     "metadata": {},
     "output_type": "display_data"
    },
    {
     "data": {
      "application/javascript": [
       "window.weights_l0 = [[1, -6.578029881675827], [2, -1.691752939311697], [3, -4.638925355422447], [4, 3.215923407245429], [5, 5.105301951892706], [6, 4.279620140423228], [7, -4.538715273198045], [8, -5.247110157354846], [9, -2.3004522297627954], [10, 0.3519307450953838], [11, 1.14981670666182], [12, -1.3526906770892444]]"
      ],
      "text/plain": [
       "<IPython.core.display.Javascript object>"
      ]
     },
     "metadata": {},
     "output_type": "display_data"
    },
    {
     "data": {
      "application/javascript": [
       "window.weight_plot_l0.setData([window.weights_l0]); window.weight_plot_l0.draw();"
      ],
      "text/plain": [
       "<IPython.core.display.Javascript object>"
      ]
     },
     "metadata": {},
     "output_type": "display_data"
    },
    {
     "data": {
      "application/javascript": [
       "window.weights_l1 = [[1, 9.641808050653031], [2, -4.716398021789918], [3, -5.602535057680482], [4, 6.4373632079875795]]"
      ],
      "text/plain": [
       "<IPython.core.display.Javascript object>"
      ]
     },
     "metadata": {},
     "output_type": "display_data"
    },
    {
     "data": {
      "application/javascript": [
       "window.weight_plot_l1.setData([window.weights_l1]); window.weight_plot_l1.draw();"
      ],
      "text/plain": [
       "<IPython.core.display.Javascript object>"
      ]
     },
     "metadata": {},
     "output_type": "display_data"
    },
    {
     "data": {
      "application/javascript": [
       "window.outputs = [[1, 0.00797717149071636], [2, 0.9858874570417252], [3, 0.9882152031222207], [4, 0.017064862314634843]]"
      ],
      "text/plain": [
       "<IPython.core.display.Javascript object>"
      ]
     },
     "metadata": {},
     "output_type": "display_data"
    },
    {
     "data": {
      "application/javascript": [
       "window.output_plot.setData([window.outputs]); window.output_plot.draw();"
      ],
      "text/plain": [
       "<IPython.core.display.Javascript object>"
      ]
     },
     "metadata": {},
     "output_type": "display_data"
    },
    {
     "data": {
      "application/javascript": [
       "$('#avg-error').html(0.01267)"
      ],
      "text/plain": [
       "<IPython.core.display.Javascript object>"
      ]
     },
     "metadata": {},
     "output_type": "display_data"
    },
    {
     "data": {
      "application/javascript": [
       "$('#iteration').html(6250)"
      ],
      "text/plain": [
       "<IPython.core.display.Javascript object>"
      ]
     },
     "metadata": {},
     "output_type": "display_data"
    },
    {
     "data": {
      "application/javascript": [
       "window.error.push([6250,0.01267])"
      ],
      "text/plain": [
       "<IPython.core.display.Javascript object>"
      ]
     },
     "metadata": {},
     "output_type": "display_data"
    },
    {
     "data": {
      "application/javascript": [
       "window.plot.setData([window.error]); window.plot.draw();"
      ],
      "text/plain": [
       "<IPython.core.display.Javascript object>"
      ]
     },
     "metadata": {},
     "output_type": "display_data"
    },
    {
     "data": {
      "application/javascript": [
       "window.weights_l0 = [[1, -6.581035930325605], [2, -1.6938463658284015], [3, -4.639998826512437], [4, 3.2181258256655316], [5, 5.107354964441114], [6, 4.282384085418633], [7, -4.540417370378346], [8, -5.24993316996675], [9, -2.3008970357805048], [10, 0.3529888148173246], [11, 1.1502287153271096], [12, -1.353702503499932]]"
      ],
      "text/plain": [
       "<IPython.core.display.Javascript object>"
      ]
     },
     "metadata": {},
     "output_type": "display_data"
    },
    {
     "data": {
      "application/javascript": [
       "window.weight_plot_l0.setData([window.weights_l0]); window.weight_plot_l0.draw();"
      ],
      "text/plain": [
       "<IPython.core.display.Javascript object>"
      ]
     },
     "metadata": {},
     "output_type": "display_data"
    },
    {
     "data": {
      "application/javascript": [
       "window.weights_l1 = [[1, 9.650417927247553], [2, -4.720677601330091], [3, -5.604403451618526], [4, 6.442175863127212]]"
      ],
      "text/plain": [
       "<IPython.core.display.Javascript object>"
      ]
     },
     "metadata": {},
     "output_type": "display_data"
    },
    {
     "data": {
      "application/javascript": [
       "window.weight_plot_l1.setData([window.weights_l1]); window.weight_plot_l1.draw();"
      ],
      "text/plain": [
       "<IPython.core.display.Javascript object>"
      ]
     },
     "metadata": {},
     "output_type": "display_data"
    },
    {
     "data": {
      "application/javascript": [
       "window.outputs = [[1, 0.007936039823889192], [2, 0.9859524768936447], [3, 0.9882735431899861], [4, 0.016985722741456467]]"
      ],
      "text/plain": [
       "<IPython.core.display.Javascript object>"
      ]
     },
     "metadata": {},
     "output_type": "display_data"
    },
    {
     "data": {
      "application/javascript": [
       "window.output_plot.setData([window.outputs]); window.output_plot.draw();"
      ],
      "text/plain": [
       "<IPython.core.display.Javascript object>"
      ]
     },
     "metadata": {},
     "output_type": "display_data"
    },
    {
     "data": {
      "application/javascript": [
       "$('#avg-error').html(0.01261)"
      ],
      "text/plain": [
       "<IPython.core.display.Javascript object>"
      ]
     },
     "metadata": {},
     "output_type": "display_data"
    },
    {
     "data": {
      "application/javascript": [
       "$('#iteration').html(6300)"
      ],
      "text/plain": [
       "<IPython.core.display.Javascript object>"
      ]
     },
     "metadata": {},
     "output_type": "display_data"
    },
    {
     "data": {
      "application/javascript": [
       "window.error.push([6300,0.01261])"
      ],
      "text/plain": [
       "<IPython.core.display.Javascript object>"
      ]
     },
     "metadata": {},
     "output_type": "display_data"
    },
    {
     "data": {
      "application/javascript": [
       "window.plot.setData([window.error]); window.plot.draw();"
      ],
      "text/plain": [
       "<IPython.core.display.Javascript object>"
      ]
     },
     "metadata": {},
     "output_type": "display_data"
    },
    {
     "data": {
      "application/javascript": [
       "window.weights_l0 = [[1, -6.584013238749576], [2, -1.695920897382532], [3, -4.641061528547967], [4, 3.2203064628716542], [5, 5.109388115237205], [6, 4.28512195207064], [7, -4.542102567422039], [8, -5.252728424981126], [9, -2.301337555598647], [10, 0.35403693738038006], [11, 1.150636288460624], [12, -1.3547039857250553]]"
      ],
      "text/plain": [
       "<IPython.core.display.Javascript object>"
      ]
     },
     "metadata": {},
     "output_type": "display_data"
    },
    {
     "data": {
      "application/javascript": [
       "window.weight_plot_l0.setData([window.weights_l0]); window.weight_plot_l0.draw();"
      ],
      "text/plain": [
       "<IPython.core.display.Javascript object>"
      ]
     },
     "metadata": {},
     "output_type": "display_data"
    },
    {
     "data": {
      "application/javascript": [
       "window.weights_l1 = [[1, 9.658951273047768], [2, -4.72491934256653], [3, -5.60625309788857], [4, 6.446943584894604]]"
      ],
      "text/plain": [
       "<IPython.core.display.Javascript object>"
      ]
     },
     "metadata": {},
     "output_type": "display_data"
    },
    {
     "data": {
      "application/javascript": [
       "window.weight_plot_l1.setData([window.weights_l1]); window.weight_plot_l1.draw();"
      ],
      "text/plain": [
       "<IPython.core.display.Javascript object>"
      ]
     },
     "metadata": {},
     "output_type": "display_data"
    },
    {
     "data": {
      "application/javascript": [
       "window.outputs = [[1, 0.007895486047004031], [2, 0.9860166236287593], [3, 0.9883310733126507], [4, 0.016907649803638007]]"
      ],
      "text/plain": [
       "<IPython.core.display.Javascript object>"
      ]
     },
     "metadata": {},
     "output_type": "display_data"
    },
    {
     "data": {
      "application/javascript": [
       "window.output_plot.setData([window.outputs]); window.output_plot.draw();"
      ],
      "text/plain": [
       "<IPython.core.display.Javascript object>"
      ]
     },
     "metadata": {},
     "output_type": "display_data"
    },
    {
     "data": {
      "application/javascript": [
       "$('#avg-error').html(0.01255)"
      ],
      "text/plain": [
       "<IPython.core.display.Javascript object>"
      ]
     },
     "metadata": {},
     "output_type": "display_data"
    },
    {
     "data": {
      "application/javascript": [
       "$('#iteration').html(6350)"
      ],
      "text/plain": [
       "<IPython.core.display.Javascript object>"
      ]
     },
     "metadata": {},
     "output_type": "display_data"
    },
    {
     "data": {
      "application/javascript": [
       "window.error.push([6350,0.01255])"
      ],
      "text/plain": [
       "<IPython.core.display.Javascript object>"
      ]
     },
     "metadata": {},
     "output_type": "display_data"
    },
    {
     "data": {
      "application/javascript": [
       "window.plot.setData([window.error]); window.plot.draw();"
      ],
      "text/plain": [
       "<IPython.core.display.Javascript object>"
      ]
     },
     "metadata": {},
     "output_type": "display_data"
    },
    {
     "data": {
      "application/javascript": [
       "window.weights_l0 = [[1, -6.586962331131611], [2, -1.697976865478343], [3, -4.642113664128787], [4, 3.222465724146135], [5, 5.111401769455308], [6, 4.287834212352598], [7, -4.543771179360169], [8, -5.255496437814415], [9, -2.3017738680313435], [10, 0.35507529157614726], [11, 1.1510395127986628], [12, -1.3556953194449766]]"
      ],
      "text/plain": [
       "<IPython.core.display.Javascript object>"
      ]
     },
     "metadata": {},
     "output_type": "display_data"
    },
    {
     "data": {
      "application/javascript": [
       "window.weight_plot_l0.setData([window.weights_l0]); window.weight_plot_l0.draw();"
      ],
      "text/plain": [
       "<IPython.core.display.Javascript object>"
      ]
     },
     "metadata": {},
     "output_type": "display_data"
    },
    {
     "data": {
      "application/javascript": [
       "window.weights_l1 = [[1, 9.667409429597237], [2, -4.729123906026373], [3, -5.6080843483621425], [4, 6.451667184432532]]"
      ],
      "text/plain": [
       "<IPython.core.display.Javascript object>"
      ]
     },
     "metadata": {},
     "output_type": "display_data"
    },
    {
     "data": {
      "application/javascript": [
       "window.weight_plot_l1.setData([window.weights_l1]); window.weight_plot_l1.draw();"
      ],
      "text/plain": [
       "<IPython.core.display.Javascript object>"
      ]
     },
     "metadata": {},
     "output_type": "display_data"
    },
    {
     "data": {
      "application/javascript": [
       "window.outputs = [[1, 0.007855497062359574], [2, 0.9860799164668208], [3, 0.9883878117281928], [4, 0.016830619957641155]]"
      ],
      "text/plain": [
       "<IPython.core.display.Javascript object>"
      ]
     },
     "metadata": {},
     "output_type": "display_data"
    },
    {
     "data": {
      "application/javascript": [
       "window.output_plot.setData([window.outputs]); window.output_plot.draw();"
      ],
      "text/plain": [
       "<IPython.core.display.Javascript object>"
      ]
     },
     "metadata": {},
     "output_type": "display_data"
    },
    {
     "data": {
      "application/javascript": [
       "$('#avg-error').html(0.01250)"
      ],
      "text/plain": [
       "<IPython.core.display.Javascript object>"
      ]
     },
     "metadata": {},
     "output_type": "display_data"
    },
    {
     "data": {
      "application/javascript": [
       "$('#iteration').html(6400)"
      ],
      "text/plain": [
       "<IPython.core.display.Javascript object>"
      ]
     },
     "metadata": {},
     "output_type": "display_data"
    },
    {
     "data": {
      "application/javascript": [
       "window.error.push([6400,0.01250])"
      ],
      "text/plain": [
       "<IPython.core.display.Javascript object>"
      ]
     },
     "metadata": {},
     "output_type": "display_data"
    },
    {
     "data": {
      "application/javascript": [
       "window.plot.setData([window.error]); window.plot.draw();"
      ],
      "text/plain": [
       "<IPython.core.display.Javascript object>"
      ]
     },
     "metadata": {},
     "output_type": "display_data"
    },
    {
     "data": {
      "application/javascript": [
       "window.weights_l0 = [[1, -6.589883717653434], [2, -1.7000145930312391], [3, -4.643155430313634], [4, 3.224604003789721], [5, 5.113396282453343], [6, 4.290521325701361], [7, -4.545423512675952], [8, -5.258237709927883], [9, -2.3022060497721624], [10, 0.3561040514813447], [11, 1.1514384726402427], [12, -1.356676694980238]]"
      ],
      "text/plain": [
       "<IPython.core.display.Javascript object>"
      ]
     },
     "metadata": {},
     "output_type": "display_data"
    },
    {
     "data": {
      "application/javascript": [
       "window.weight_plot_l0.setData([window.weights_l0]); window.weight_plot_l0.draw();"
      ],
      "text/plain": [
       "<IPython.core.display.Javascript object>"
      ]
     },
     "metadata": {},
     "output_type": "display_data"
    },
    {
     "data": {
      "application/javascript": [
       "window.weights_l1 = [[1, 9.675793703583219], [2, -4.733291935135491], [3, -5.609897545313121], [4, 6.45634745135244]]"
      ],
      "text/plain": [
       "<IPython.core.display.Javascript object>"
      ]
     },
     "metadata": {},
     "output_type": "display_data"
    },
    {
     "data": {
      "application/javascript": [
       "window.weight_plot_l1.setData([window.weights_l1]); window.weight_plot_l1.draw();"
      ],
      "text/plain": [
       "<IPython.core.display.Javascript object>"
      ]
     },
     "metadata": {},
     "output_type": "display_data"
    },
    {
     "data": {
      "application/javascript": [
       "window.outputs = [[1, 0.00781606017942148], [2, 0.986142374043005], [3, 0.9884437761100556], [4, 0.016754610377608985]]"
      ],
      "text/plain": [
       "<IPython.core.display.Javascript object>"
      ]
     },
     "metadata": {},
     "output_type": "display_data"
    },
    {
     "data": {
      "application/javascript": [
       "window.output_plot.setData([window.outputs]); window.output_plot.draw();"
      ],
      "text/plain": [
       "<IPython.core.display.Javascript object>"
      ]
     },
     "metadata": {},
     "output_type": "display_data"
    },
    {
     "data": {
      "application/javascript": [
       "$('#avg-error').html(0.01244)"
      ],
      "text/plain": [
       "<IPython.core.display.Javascript object>"
      ]
     },
     "metadata": {},
     "output_type": "display_data"
    },
    {
     "data": {
      "application/javascript": [
       "$('#iteration').html(6450)"
      ],
      "text/plain": [
       "<IPython.core.display.Javascript object>"
      ]
     },
     "metadata": {},
     "output_type": "display_data"
    },
    {
     "data": {
      "application/javascript": [
       "window.error.push([6450,0.01244])"
      ],
      "text/plain": [
       "<IPython.core.display.Javascript object>"
      ]
     },
     "metadata": {},
     "output_type": "display_data"
    },
    {
     "data": {
      "application/javascript": [
       "window.plot.setData([window.error]); window.plot.draw();"
      ],
      "text/plain": [
       "<IPython.core.display.Javascript object>"
      ]
     },
     "metadata": {},
     "output_type": "display_data"
    },
    {
     "data": {
      "application/javascript": [
       "window.weights_l0 = [[1, -6.5927778949849], [2, -1.7020343946608696], [3, -4.644187018818033], [4, 3.226721685510365], [5, 5.115372000118361], [6, 4.293183739454234], [7, -4.547059865607782], [8, -5.260952729321649], [9, -2.3026341754688575], [10, 0.3571233866209878], [11, 1.1518332499359498], [12, -1.357648297482838]]"
      ],
      "text/plain": [
       "<IPython.core.display.Javascript object>"
      ]
     },
     "metadata": {},
     "output_type": "display_data"
    },
    {
     "data": {
      "application/javascript": [
       "window.weight_plot_l0.setData([window.weights_l0]); window.weight_plot_l0.draw();"
      ],
      "text/plain": [
       "<IPython.core.display.Javascript object>"
      ]
     },
     "metadata": {},
     "output_type": "display_data"
    },
    {
     "data": {
      "application/javascript": [
       "window.weights_l1 = [[1, 9.684105368031165], [2, -4.73742405680271], [3, -5.611693021759449], [4, 6.460985154484976]]"
      ],
      "text/plain": [
       "<IPython.core.display.Javascript object>"
      ]
     },
     "metadata": {},
     "output_type": "display_data"
    },
    {
     "data": {
      "application/javascript": [
       "window.weight_plot_l1.setData([window.weights_l1]); window.weight_plot_l1.draw();"
      ],
      "text/plain": [
       "<IPython.core.display.Javascript object>"
      ]
     },
     "metadata": {},
     "output_type": "display_data"
    },
    {
     "data": {
      "application/javascript": [
       "window.outputs = [[1, 0.007777163098803819], [2, 0.9862040144305082], [3, 0.9884989835892889], [4, 0.016679598927570753]]"
      ],
      "text/plain": [
       "<IPython.core.display.Javascript object>"
      ]
     },
     "metadata": {},
     "output_type": "display_data"
    },
    {
     "data": {
      "application/javascript": [
       "window.output_plot.setData([window.outputs]); window.output_plot.draw();"
      ],
      "text/plain": [
       "<IPython.core.display.Javascript object>"
      ]
     },
     "metadata": {},
     "output_type": "display_data"
    },
    {
     "data": {
      "application/javascript": [
       "$('#avg-error').html(0.01238)"
      ],
      "text/plain": [
       "<IPython.core.display.Javascript object>"
      ]
     },
     "metadata": {},
     "output_type": "display_data"
    },
    {
     "data": {
      "application/javascript": [
       "$('#iteration').html(6500)"
      ],
      "text/plain": [
       "<IPython.core.display.Javascript object>"
      ]
     },
     "metadata": {},
     "output_type": "display_data"
    },
    {
     "data": {
      "application/javascript": [
       "window.error.push([6500,0.01238])"
      ],
      "text/plain": [
       "<IPython.core.display.Javascript object>"
      ]
     },
     "metadata": {},
     "output_type": "display_data"
    },
    {
     "data": {
      "application/javascript": [
       "window.plot.setData([window.error]); window.plot.draw();"
      ],
      "text/plain": [
       "<IPython.core.display.Javascript object>"
      ]
     },
     "metadata": {},
     "output_type": "display_data"
    },
    {
     "data": {
      "application/javascript": [
       "window.weights_l0 = [[1, -6.595645346753114], [2, -1.7040365769718497], [3, -4.6452086162034005], [4, 3.2288191427950914], [5, 5.117329259197104], [6, 4.295821889267192], [7, -4.548680528439014], [8, -5.263641971007177], [9, -2.303058317794834], [10, 0.3581334621245983], [11, 1.1522239243728265], [12, -1.3586103071191282]]"
      ],
      "text/plain": [
       "<IPython.core.display.Javascript object>"
      ]
     },
     "metadata": {},
     "output_type": "display_data"
    },
    {
     "data": {
      "application/javascript": [
       "window.weight_plot_l0.setData([window.weights_l0]); window.weight_plot_l0.draw();"
      ],
      "text/plain": [
       "<IPython.core.display.Javascript object>"
      ]
     },
     "metadata": {},
     "output_type": "display_data"
    },
    {
     "data": {
      "application/javascript": [
       "window.weights_l1 = [[1, 9.692345663448602], [2, -4.74152088197934], [3, -5.613471101789822], [4, 6.465581042598252]]"
      ],
      "text/plain": [
       "<IPython.core.display.Javascript object>"
      ]
     },
     "metadata": {},
     "output_type": "display_data"
    },
    {
     "data": {
      "application/javascript": [
       "window.weight_plot_l1.setData([window.weights_l1]); window.weight_plot_l1.draw();"
      ],
      "text/plain": [
       "<IPython.core.display.Javascript object>"
      ]
     },
     "metadata": {},
     "output_type": "display_data"
    },
    {
     "data": {
      "application/javascript": [
       "window.outputs = [[1, 0.00773879389701109], [2, 0.9862648551620882], [3, 0.98855345077564], [4, 0.016605564134947768]]"
      ],
      "text/plain": [
       "<IPython.core.display.Javascript object>"
      ]
     },
     "metadata": {},
     "output_type": "display_data"
    },
    {
     "data": {
      "application/javascript": [
       "window.output_plot.setData([window.outputs]); window.output_plot.draw();"
      ],
      "text/plain": [
       "<IPython.core.display.Javascript object>"
      ]
     },
     "metadata": {},
     "output_type": "display_data"
    },
    {
     "data": {
      "application/javascript": [
       "$('#avg-error').html(0.01233)"
      ],
      "text/plain": [
       "<IPython.core.display.Javascript object>"
      ]
     },
     "metadata": {},
     "output_type": "display_data"
    },
    {
     "data": {
      "application/javascript": [
       "$('#iteration').html(6550)"
      ],
      "text/plain": [
       "<IPython.core.display.Javascript object>"
      ]
     },
     "metadata": {},
     "output_type": "display_data"
    },
    {
     "data": {
      "application/javascript": [
       "window.error.push([6550,0.01233])"
      ],
      "text/plain": [
       "<IPython.core.display.Javascript object>"
      ]
     },
     "metadata": {},
     "output_type": "display_data"
    },
    {
     "data": {
      "application/javascript": [
       "window.plot.setData([window.error]); window.plot.draw();"
      ],
      "text/plain": [
       "<IPython.core.display.Javascript object>"
      ]
     },
     "metadata": {},
     "output_type": "display_data"
    },
    {
     "data": {
      "application/javascript": [
       "window.weights_l0 = [[1, -6.598486543991449], [2, -1.7060214388227362], [3, -4.646220404057951], [4, 3.2308967392658077], [5, 5.11926838761235], [6, 4.298436199515201], [7, -4.550285783775233], [8, -5.266305897459374], [9, -2.30347854751756], [10, 0.3591344388758], [11, 1.1526105734554986], [12, -1.3595628992447584]]"
      ],
      "text/plain": [
       "<IPython.core.display.Javascript object>"
      ]
     },
     "metadata": {},
     "output_type": "display_data"
    },
    {
     "data": {
      "application/javascript": [
       "window.weight_plot_l0.setData([window.weights_l0]); window.weight_plot_l0.draw();"
      ],
      "text/plain": [
       "<IPython.core.display.Javascript object>"
      ]
     },
     "metadata": {},
     "output_type": "display_data"
    },
    {
     "data": {
      "application/javascript": [
       "window.weights_l1 = [[1, 9.700515798920899], [2, -4.745583006195228], [3, -5.615232100876302], [4, 6.470135845085486]]"
      ],
      "text/plain": [
       "<IPython.core.display.Javascript object>"
      ]
     },
     "metadata": {},
     "output_type": "display_data"
    },
    {
     "data": {
      "application/javascript": [
       "window.weight_plot_l1.setData([window.weights_l1]); window.weight_plot_l1.draw();"
      ],
      "text/plain": [
       "<IPython.core.display.Javascript object>"
      ]
     },
     "metadata": {},
     "output_type": "display_data"
    },
    {
     "data": {
      "application/javascript": [
       "window.outputs = [[1, 0.007700941011897356], [2, 0.9863249132506055], [3, 0.9886071937776577], [4, 0.01653248516528992]]"
      ],
      "text/plain": [
       "<IPython.core.display.Javascript object>"
      ]
     },
     "metadata": {},
     "output_type": "display_data"
    },
    {
     "data": {
      "application/javascript": [
       "window.output_plot.setData([window.outputs]); window.output_plot.draw();"
      ],
      "text/plain": [
       "<IPython.core.display.Javascript object>"
      ]
     },
     "metadata": {},
     "output_type": "display_data"
    },
    {
     "data": {
      "application/javascript": [
       "$('#avg-error').html(0.01227)"
      ],
      "text/plain": [
       "<IPython.core.display.Javascript object>"
      ]
     },
     "metadata": {},
     "output_type": "display_data"
    },
    {
     "data": {
      "application/javascript": [
       "$('#iteration').html(6600)"
      ],
      "text/plain": [
       "<IPython.core.display.Javascript object>"
      ]
     },
     "metadata": {},
     "output_type": "display_data"
    },
    {
     "data": {
      "application/javascript": [
       "window.error.push([6600,0.01227])"
      ],
      "text/plain": [
       "<IPython.core.display.Javascript object>"
      ]
     },
     "metadata": {},
     "output_type": "display_data"
    },
    {
     "data": {
      "application/javascript": [
       "window.plot.setData([window.error]); window.plot.draw();"
      ],
      "text/plain": [
       "<IPython.core.display.Javascript object>"
      ]
     },
     "metadata": {},
     "output_type": "display_data"
    },
    {
     "data": {
      "application/javascript": [
       "window.weights_l0 = [[1, -6.601301945569534], [2, -1.707989271583835], [3, -4.647222559169783], [4, 3.232954829019871], [5, 5.12118970476578], [6, 4.301027083675669], [7, -4.5518759068096175], [8, -5.26894495904931], [9, -2.303894933564054], [10, 0.3601264736556301], [11, 1.1529932725837422], [12, -1.3605062445720841]]"
      ],
      "text/plain": [
       "<IPython.core.display.Javascript object>"
      ]
     },
     "metadata": {},
     "output_type": "display_data"
    },
    {
     "data": {
      "application/javascript": [
       "window.weight_plot_l0.setData([window.weights_l0]); window.weight_plot_l0.draw();"
      ],
      "text/plain": [
       "<IPython.core.display.Javascript object>"
      ]
     },
     "metadata": {},
     "output_type": "display_data"
    },
    {
     "data": {
      "application/javascript": [
       "window.weights_l1 = [[1, 9.708616953161343], [2, -4.749611010072512], [3, -5.616976326173386], [4, 6.474650272623521]]"
      ],
      "text/plain": [
       "<IPython.core.display.Javascript object>"
      ]
     },
     "metadata": {},
     "output_type": "display_data"
    },
    {
     "data": {
      "application/javascript": [
       "window.weight_plot_l1.setData([window.weights_l1]); window.weight_plot_l1.draw();"
      ],
      "text/plain": [
       "<IPython.core.display.Javascript object>"
      ]
     },
     "metadata": {},
     "output_type": "display_data"
    },
    {
     "data": {
      "application/javascript": [
       "window.outputs = [[1, 0.007663593228804351], [2, 0.9863842052086219], [3, 0.9886602282218593], [4, 0.016460341798175536]]"
      ],
      "text/plain": [
       "<IPython.core.display.Javascript object>"
      ]
     },
     "metadata": {},
     "output_type": "display_data"
    },
    {
     "data": {
      "application/javascript": [
       "window.output_plot.setData([window.outputs]); window.output_plot.draw();"
      ],
      "text/plain": [
       "<IPython.core.display.Javascript object>"
      ]
     },
     "metadata": {},
     "output_type": "display_data"
    },
    {
     "data": {
      "application/javascript": [
       "$('#avg-error').html(0.01222)"
      ],
      "text/plain": [
       "<IPython.core.display.Javascript object>"
      ]
     },
     "metadata": {},
     "output_type": "display_data"
    },
    {
     "data": {
      "application/javascript": [
       "$('#iteration').html(6650)"
      ],
      "text/plain": [
       "<IPython.core.display.Javascript object>"
      ]
     },
     "metadata": {},
     "output_type": "display_data"
    },
    {
     "data": {
      "application/javascript": [
       "window.error.push([6650,0.01222])"
      ],
      "text/plain": [
       "<IPython.core.display.Javascript object>"
      ]
     },
     "metadata": {},
     "output_type": "display_data"
    },
    {
     "data": {
      "application/javascript": [
       "window.plot.setData([window.error]); window.plot.draw();"
      ],
      "text/plain": [
       "<IPython.core.display.Javascript object>"
      ]
     },
     "metadata": {},
     "output_type": "display_data"
    },
    {
     "data": {
      "application/javascript": [
       "window.weights_l0 = [[1, -6.604091998605123], [2, -1.709940359384408], [3, -4.648215253692541], [4, 3.234993756956192], [5, 5.12309352182801], [6, 4.30359494469579], [7, -4.553451165577033], [8, -5.2715595944585525], [9, -2.3043075430835924], [10, 0.3611097192798844], [11, 1.1533720951266728], [12, -1.3614405093304136]]"
      ],
      "text/plain": [
       "<IPython.core.display.Javascript object>"
      ]
     },
     "metadata": {},
     "output_type": "display_data"
    },
    {
     "data": {
      "application/javascript": [
       "window.weight_plot_l0.setData([window.weights_l0]); window.weight_plot_l0.draw();"
      ],
      "text/plain": [
       "<IPython.core.display.Javascript object>"
      ]
     },
     "metadata": {},
     "output_type": "display_data"
    },
    {
     "data": {
      "application/javascript": [
       "window.weights_l1 = [[1, 9.716650275517761], [2, -4.753605459818215], [3, -5.618704076804365], [4, 6.479125017803762]]"
      ],
      "text/plain": [
       "<IPython.core.display.Javascript object>"
      ]
     },
     "metadata": {},
     "output_type": "display_data"
    },
    {
     "data": {
      "application/javascript": [
       "window.weight_plot_l1.setData([window.weights_l1]); window.weight_plot_l1.draw();"
      ],
      "text/plain": [
       "<IPython.core.display.Javascript object>"
      ]
     },
     "metadata": {},
     "output_type": "display_data"
    },
    {
     "data": {
      "application/javascript": [
       "window.outputs = [[1, 0.007626739667340525], [2, 0.9864427470671047], [3, 0.9887125692710128], [4, 0.016389114404211282]]"
      ],
      "text/plain": [
       "<IPython.core.display.Javascript object>"
      ]
     },
     "metadata": {},
     "output_type": "display_data"
    },
    {
     "data": {
      "application/javascript": [
       "window.output_plot.setData([window.outputs]); window.output_plot.draw();"
      ],
      "text/plain": [
       "<IPython.core.display.Javascript object>"
      ]
     },
     "metadata": {},
     "output_type": "display_data"
    },
    {
     "data": {
      "application/javascript": [
       "$('#avg-error').html(0.01216)"
      ],
      "text/plain": [
       "<IPython.core.display.Javascript object>"
      ]
     },
     "metadata": {},
     "output_type": "display_data"
    },
    {
     "data": {
      "application/javascript": [
       "$('#iteration').html(6700)"
      ],
      "text/plain": [
       "<IPython.core.display.Javascript object>"
      ]
     },
     "metadata": {},
     "output_type": "display_data"
    },
    {
     "data": {
      "application/javascript": [
       "window.error.push([6700,0.01216])"
      ],
      "text/plain": [
       "<IPython.core.display.Javascript object>"
      ]
     },
     "metadata": {},
     "output_type": "display_data"
    },
    {
     "data": {
      "application/javascript": [
       "window.plot.setData([window.error]); window.plot.draw();"
      ],
      "text/plain": [
       "<IPython.core.display.Javascript object>"
      ]
     },
     "metadata": {},
     "output_type": "display_data"
    },
    {
     "data": {
      "application/javascript": [
       "window.weights_l0 = [[1, -6.606857138858793], [2, -1.71187497934977], [3, -4.649198655304095], [4, 3.2370138590875954], [5, 5.1249801420164935], [6, 4.306140175344595], [7, -4.555011821197405], [8, -5.274150231076058], [9, -2.304716441507793], [10, 0.3620843247307852], [11, 1.153747112493734], [12, -1.3623658554194722]]"
      ],
      "text/plain": [
       "<IPython.core.display.Javascript object>"
      ]
     },
     "metadata": {},
     "output_type": "display_data"
    },
    {
     "data": {
      "application/javascript": [
       "window.weight_plot_l0.setData([window.weights_l0]); window.weight_plot_l0.draw();"
      ],
      "text/plain": [
       "<IPython.core.display.Javascript object>"
      ]
     },
     "metadata": {},
     "output_type": "display_data"
    },
    {
     "data": {
      "application/javascript": [
       "window.weights_l1 = [[1, 9.724616886937895], [2, -4.757566907696659], [3, -5.620415644135541], [4, 6.48356075573682]]"
      ],
      "text/plain": [
       "<IPython.core.display.Javascript object>"
      ]
     },
     "metadata": {},
     "output_type": "display_data"
    },
    {
     "data": {
      "application/javascript": [
       "window.weight_plot_l1.setData([window.weights_l1]); window.weight_plot_l1.draw();"
      ],
      "text/plain": [
       "<IPython.core.display.Javascript object>"
      ]
     },
     "metadata": {},
     "output_type": "display_data"
    },
    {
     "data": {
      "application/javascript": [
       "window.outputs = [[1, 0.007590369768766964], [2, 0.9865005543932844], [3, 0.9887642316415817], [4, 0.01631878392307453]]"
      ],
      "text/plain": [
       "<IPython.core.display.Javascript object>"
      ]
     },
     "metadata": {},
     "output_type": "display_data"
    },
    {
     "data": {
      "application/javascript": [
       "window.output_plot.setData([window.outputs]); window.output_plot.draw();"
      ],
      "text/plain": [
       "<IPython.core.display.Javascript object>"
      ]
     },
     "metadata": {},
     "output_type": "display_data"
    },
    {
     "data": {
      "application/javascript": [
       "$('#avg-error').html(0.01211)"
      ],
      "text/plain": [
       "<IPython.core.display.Javascript object>"
      ]
     },
     "metadata": {},
     "output_type": "display_data"
    },
    {
     "data": {
      "application/javascript": [
       "$('#iteration').html(6750)"
      ],
      "text/plain": [
       "<IPython.core.display.Javascript object>"
      ]
     },
     "metadata": {},
     "output_type": "display_data"
    },
    {
     "data": {
      "application/javascript": [
       "window.error.push([6750,0.01211])"
      ],
      "text/plain": [
       "<IPython.core.display.Javascript object>"
      ]
     },
     "metadata": {},
     "output_type": "display_data"
    },
    {
     "data": {
      "application/javascript": [
       "window.plot.setData([window.error]); window.plot.draw();"
      ],
      "text/plain": [
       "<IPython.core.display.Javascript object>"
      ]
     },
     "metadata": {},
     "output_type": "display_data"
    },
    {
     "data": {
      "application/javascript": [
       "window.weights_l0 = [[1, -6.609597791112254], [2, -1.7137934018287915], [3, -4.650172927358479], [4, 3.239015462840126], [5, 5.126849860861831], [6, 4.30866315855052], [7, -4.556558128108905], [8, -5.276717285378448], [9, -2.3051216926081928], [10, 0.3630504352832555], [11, 1.1541183942026383], [12, -1.3632824405563988]]"
      ],
      "text/plain": [
       "<IPython.core.display.Javascript object>"
      ]
     },
     "metadata": {},
     "output_type": "display_data"
    },
    {
     "data": {
      "application/javascript": [
       "window.weight_plot_l0.setData([window.weights_l0]); window.weight_plot_l0.draw();"
      ],
      "text/plain": [
       "<IPython.core.display.Javascript object>"
      ]
     },
     "metadata": {},
     "output_type": "display_data"
    },
    {
     "data": {
      "application/javascript": [
       "window.weights_l1 = [[1, 9.732517880895436], [2, -4.761495892482725], [3, -5.622111312038923], [4, 6.487958144632245]]"
      ],
      "text/plain": [
       "<IPython.core.display.Javascript object>"
      ]
     },
     "metadata": {},
     "output_type": "display_data"
    },
    {
     "data": {
      "application/javascript": [
       "window.weight_plot_l1.setData([window.weights_l1]); window.weight_plot_l1.draw();"
      ],
      "text/plain": [
       "<IPython.core.display.Javascript object>"
      ]
     },
     "metadata": {},
     "output_type": "display_data"
    },
    {
     "data": {
      "application/javascript": [
       "window.outputs = [[1, 0.0075544732839578025], [2, 0.9865576423077126], [3, 0.9888152296203793], [4, 0.01624933184254216]]"
      ],
      "text/plain": [
       "<IPython.core.display.Javascript object>"
      ]
     },
     "metadata": {},
     "output_type": "display_data"
    },
    {
     "data": {
      "application/javascript": [
       "window.output_plot.setData([window.outputs]); window.output_plot.draw();"
      ],
      "text/plain": [
       "<IPython.core.display.Javascript object>"
      ]
     },
     "metadata": {},
     "output_type": "display_data"
    },
    {
     "data": {
      "application/javascript": [
       "$('#avg-error').html(0.01206)"
      ],
      "text/plain": [
       "<IPython.core.display.Javascript object>"
      ]
     },
     "metadata": {},
     "output_type": "display_data"
    },
    {
     "data": {
      "application/javascript": [
       "$('#iteration').html(6800)"
      ],
      "text/plain": [
       "<IPython.core.display.Javascript object>"
      ]
     },
     "metadata": {},
     "output_type": "display_data"
    },
    {
     "data": {
      "application/javascript": [
       "window.error.push([6800,0.01206])"
      ],
      "text/plain": [
       "<IPython.core.display.Javascript object>"
      ]
     },
     "metadata": {},
     "output_type": "display_data"
    },
    {
     "data": {
      "application/javascript": [
       "window.plot.setData([window.error]); window.plot.draw();"
      ],
      "text/plain": [
       "<IPython.core.display.Javascript object>"
      ]
     },
     "metadata": {},
     "output_type": "display_data"
    },
    {
     "data": {
      "application/javascript": [
       "window.weights_l0 = [[1, -6.612314369531169], [2, -1.7156958906122606], [3, -4.651138229031529], [4, 3.2409988873399644], [5, 5.128702966463112], [6, 4.31116426772513], [7, -4.558090334291462], [8, -5.279261163294532], [9, -2.3055233585514405], [10, 0.3640081926260578], [11, 1.1544860079444352], [12, -1.3641904184166227]]"
      ],
      "text/plain": [
       "<IPython.core.display.Javascript object>"
      ]
     },
     "metadata": {},
     "output_type": "display_data"
    },
    {
     "data": {
      "application/javascript": [
       "window.weight_plot_l0.setData([window.weights_l0]); window.weight_plot_l0.draw();"
      ],
      "text/plain": [
       "<IPython.core.display.Javascript object>"
      ]
     },
     "metadata": {},
     "output_type": "display_data"
    },
    {
     "data": {
      "application/javascript": [
       "window.weights_l1 = [[1, 9.740354324278746], [2, -4.765392939896855], [3, -5.623791357144004], [4, 6.492317826354488]]"
      ],
      "text/plain": [
       "<IPython.core.display.Javascript object>"
      ]
     },
     "metadata": {},
     "output_type": "display_data"
    },
    {
     "data": {
      "application/javascript": [
       "window.weight_plot_l1.setData([window.weights_l1]); window.weight_plot_l1.draw();"
      ],
      "text/plain": [
       "<IPython.core.display.Javascript object>"
      ]
     },
     "metadata": {},
     "output_type": "display_data"
    },
    {
     "data": {
      "application/javascript": [
       "window.outputs = [[1, 0.007519040261903894], [2, 0.9866140255005607], [3, 0.9888655770804704], [4, 0.016180740178454178]]"
      ],
      "text/plain": [
       "<IPython.core.display.Javascript object>"
      ]
     },
     "metadata": {},
     "output_type": "display_data"
    },
    {
     "data": {
      "application/javascript": [
       "window.output_plot.setData([window.outputs]); window.output_plot.draw();"
      ],
      "text/plain": [
       "<IPython.core.display.Javascript object>"
      ]
     },
     "metadata": {},
     "output_type": "display_data"
    },
    {
     "data": {
      "application/javascript": [
       "$('#avg-error').html(0.01200)"
      ],
      "text/plain": [
       "<IPython.core.display.Javascript object>"
      ]
     },
     "metadata": {},
     "output_type": "display_data"
    },
    {
     "data": {
      "application/javascript": [
       "$('#iteration').html(6850)"
      ],
      "text/plain": [
       "<IPython.core.display.Javascript object>"
      ]
     },
     "metadata": {},
     "output_type": "display_data"
    },
    {
     "data": {
      "application/javascript": [
       "window.error.push([6850,0.01200])"
      ],
      "text/plain": [
       "<IPython.core.display.Javascript object>"
      ]
     },
     "metadata": {},
     "output_type": "display_data"
    },
    {
     "data": {
      "application/javascript": [
       "window.plot.setData([window.error]); window.plot.draw();"
      ],
      "text/plain": [
       "<IPython.core.display.Javascript object>"
      ]
     },
     "metadata": {},
     "output_type": "display_data"
    },
    {
     "data": {
      "application/javascript": [
       "window.weights_l0 = [[1, -6.615007278013142], [2, -1.7175827031425333], [3, -4.652094715460478], [4, 3.2429644436885177], [5, 5.130539739732801], [6, 4.3136438670736865], [7, -4.559608681481069], [8, -5.281782260554844], [9, -2.305921499952238], [10, 0.3649577349780485], [11, 1.154850019645822], [12, -1.3650899387689035]]"
      ],
      "text/plain": [
       "<IPython.core.display.Javascript object>"
      ]
     },
     "metadata": {},
     "output_type": "display_data"
    },
    {
     "data": {
      "application/javascript": [
       "window.weight_plot_l0.setData([window.weights_l0]); window.weight_plot_l0.draw();"
      ],
      "text/plain": [
       "<IPython.core.display.Javascript object>"
      ]
     },
     "metadata": {},
     "output_type": "display_data"
    },
    {
     "data": {
      "application/javascript": [
       "window.weights_l1 = [[1, 9.748127258243894], [2, -4.769258563022699], [3, -5.625456049079103], [4, 6.496640426956298]]"
      ],
      "text/plain": [
       "<IPython.core.display.Javascript object>"
      ]
     },
     "metadata": {},
     "output_type": "display_data"
    },
    {
     "data": {
      "application/javascript": [
       "window.weight_plot_l1.setData([window.weights_l1]); window.weight_plot_l1.draw();"
      ],
      "text/plain": [
       "<IPython.core.display.Javascript object>"
      ]
     },
     "metadata": {},
     "output_type": "display_data"
    },
    {
     "data": {
      "application/javascript": [
       "window.outputs = [[1, 0.007484061038731849], [2, 0.986669718247197], [3, 0.9889152874963643], [4, 0.01611299145556306]]"
      ],
      "text/plain": [
       "<IPython.core.display.Javascript object>"
      ]
     },
     "metadata": {},
     "output_type": "display_data"
    },
    {
     "data": {
      "application/javascript": [
       "window.output_plot.setData([window.outputs]); window.output_plot.draw();"
      ],
      "text/plain": [
       "<IPython.core.display.Javascript object>"
      ]
     },
     "metadata": {},
     "output_type": "display_data"
    },
    {
     "data": {
      "application/javascript": [
       "$('#avg-error').html(0.01195)"
      ],
      "text/plain": [
       "<IPython.core.display.Javascript object>"
      ]
     },
     "metadata": {},
     "output_type": "display_data"
    },
    {
     "data": {
      "application/javascript": [
       "$('#iteration').html(6900)"
      ],
      "text/plain": [
       "<IPython.core.display.Javascript object>"
      ]
     },
     "metadata": {},
     "output_type": "display_data"
    },
    {
     "data": {
      "application/javascript": [
       "window.error.push([6900,0.01195])"
      ],
      "text/plain": [
       "<IPython.core.display.Javascript object>"
      ]
     },
     "metadata": {},
     "output_type": "display_data"
    },
    {
     "data": {
      "application/javascript": [
       "window.plot.setData([window.error]); window.plot.draw();"
      ],
      "text/plain": [
       "<IPython.core.display.Javascript object>"
      ]
     },
     "metadata": {},
     "output_type": "display_data"
    },
    {
     "data": {
      "application/javascript": [
       "window.weights_l0 = [[1, -6.617676910521671], [2, -1.7194540907148963], [3, -4.653042537877808], [4, 3.244912435226301], [5, 5.132360454631655], [6, 4.316102311893256], [7, -4.561113405375356], [8, -5.284280963026917], [9, -2.3063161759241257], [10, 0.36589919719977865], [11, 1.1552104935288598], [12, -1.3659811476048291]]"
      ],
      "text/plain": [
       "<IPython.core.display.Javascript object>"
      ]
     },
     "metadata": {},
     "output_type": "display_data"
    },
    {
     "data": {
      "application/javascript": [
       "window.weight_plot_l0.setData([window.weights_l0]); window.weight_plot_l0.draw();"
      ],
      "text/plain": [
       "<IPython.core.display.Javascript object>"
      ]
     },
     "metadata": {},
     "output_type": "display_data"
    },
    {
     "data": {
      "application/javascript": [
       "window.weights_l1 = [[1, 9.75583769903391], [2, -4.773093262708203], [3, -5.627105650702838], [4, 6.500926557190641]]"
      ],
      "text/plain": [
       "<IPython.core.display.Javascript object>"
      ]
     },
     "metadata": {},
     "output_type": "display_data"
    },
    {
     "data": {
      "application/javascript": [
       "window.weight_plot_l1.setData([window.weights_l1]); window.weight_plot_l1.draw();"
      ],
      "text/plain": [
       "<IPython.core.display.Javascript object>"
      ]
     },
     "metadata": {},
     "output_type": "display_data"
    },
    {
     "data": {
      "application/javascript": [
       "window.outputs = [[1, 0.007449526227210925], [2, 0.9867247344230855], [3, 0.9889643739585329], [4, 0.016046068689223533]]"
      ],
      "text/plain": [
       "<IPython.core.display.Javascript object>"
      ]
     },
     "metadata": {},
     "output_type": "display_data"
    },
    {
     "data": {
      "application/javascript": [
       "window.output_plot.setData([window.outputs]); window.output_plot.draw();"
      ],
      "text/plain": [
       "<IPython.core.display.Javascript object>"
      ]
     },
     "metadata": {},
     "output_type": "display_data"
    },
    {
     "data": {
      "application/javascript": [
       "$('#avg-error').html(0.01190)"
      ],
      "text/plain": [
       "<IPython.core.display.Javascript object>"
      ]
     },
     "metadata": {},
     "output_type": "display_data"
    },
    {
     "data": {
      "application/javascript": [
       "$('#iteration').html(6950)"
      ],
      "text/plain": [
       "<IPython.core.display.Javascript object>"
      ]
     },
     "metadata": {},
     "output_type": "display_data"
    },
    {
     "data": {
      "application/javascript": [
       "window.error.push([6950,0.01190])"
      ],
      "text/plain": [
       "<IPython.core.display.Javascript object>"
      ]
     },
     "metadata": {},
     "output_type": "display_data"
    },
    {
     "data": {
      "application/javascript": [
       "window.plot.setData([window.error]); window.plot.draw();"
      ],
      "text/plain": [
       "<IPython.core.display.Javascript object>"
      ]
     },
     "metadata": {},
     "output_type": "display_data"
    },
    {
     "data": {
      "application/javascript": [
       "window.weights_l0 = [[1, -6.620323651406674], [2, -1.7213102986710251], [3, -4.653981843739643], [4, 3.2468431577861447], [5, 5.134165378394206], [6, 4.318539948858846], [7, -4.562604735830789], [8, -5.286757647036961], [9, -2.3067074441282163], [10, 0.36683271090066377], [11, 1.1555674921682078], [12, -1.3668641872630367]]"
      ],
      "text/plain": [
       "<IPython.core.display.Javascript object>"
      ]
     },
     "metadata": {},
     "output_type": "display_data"
    },
    {
     "data": {
      "application/javascript": [
       "window.weight_plot_l0.setData([window.weights_l0]); window.weight_plot_l0.draw();"
      ],
      "text/plain": [
       "<IPython.core.display.Javascript object>"
      ]
     },
     "metadata": {},
     "output_type": "display_data"
    },
    {
     "data": {
      "application/javascript": [
       "window.weights_l1 = [[1, 9.763486638765663], [2, -4.776897527950929], [3, -5.628740418326182], [4, 6.505176813002125]]"
      ],
      "text/plain": [
       "<IPython.core.display.Javascript object>"
      ]
     },
     "metadata": {},
     "output_type": "display_data"
    },
    {
     "data": {
      "application/javascript": [
       "window.weight_plot_l1.setData([window.weights_l1]); window.weight_plot_l1.draw();"
      ],
      "text/plain": [
       "<IPython.core.display.Javascript object>"
      ]
     },
     "metadata": {},
     "output_type": "display_data"
    },
    {
     "data": {
      "application/javascript": [
       "window.outputs = [[1, 0.007415426706722656], [2, 0.9867790875180328], [3, 0.9890128491872905], [4, 0.015979955367879238]]"
      ],
      "text/plain": [
       "<IPython.core.display.Javascript object>"
      ]
     },
     "metadata": {},
     "output_type": "display_data"
    },
    {
     "data": {
      "application/javascript": [
       "window.output_plot.setData([window.outputs]); window.output_plot.draw();"
      ],
      "text/plain": [
       "<IPython.core.display.Javascript object>"
      ]
     },
     "metadata": {},
     "output_type": "display_data"
    },
    {
     "data": {
      "application/javascript": [
       "$('#avg-error').html(0.01185)"
      ],
      "text/plain": [
       "<IPython.core.display.Javascript object>"
      ]
     },
     "metadata": {},
     "output_type": "display_data"
    },
    {
     "data": {
      "application/javascript": [
       "$('#iteration').html(7000)"
      ],
      "text/plain": [
       "<IPython.core.display.Javascript object>"
      ]
     },
     "metadata": {},
     "output_type": "display_data"
    },
    {
     "data": {
      "application/javascript": [
       "window.error.push([7000,0.01185])"
      ],
      "text/plain": [
       "<IPython.core.display.Javascript object>"
      ]
     },
     "metadata": {},
     "output_type": "display_data"
    },
    {
     "data": {
      "application/javascript": [
       "window.plot.setData([window.error]); window.plot.draw();"
      ],
      "text/plain": [
       "<IPython.core.display.Javascript object>"
      ]
     },
     "metadata": {},
     "output_type": "display_data"
    },
    {
     "data": {
      "application/javascript": [
       "window.weights_l0 = [[1, -6.622947875712286], [2, -1.7231515665849102], [3, -4.654912776848968], [4, 3.248756899936212], [5, 5.135954771745206], [6, 4.32095711629823], [7, -4.564082897051988], [8, -5.289212679678642], [9, -2.307095360819982], [10, 0.3677584045419319], [11, 1.1559210765460055], [12, -1.3677391965484194]]"
      ],
      "text/plain": [
       "<IPython.core.display.Javascript object>"
      ]
     },
     "metadata": {},
     "output_type": "display_data"
    },
    {
     "data": {
      "application/javascript": [
       "window.weight_plot_l0.setData([window.weights_l0]); window.weight_plot_l0.draw();"
      ],
      "text/plain": [
       "<IPython.core.display.Javascript object>"
      ]
     },
     "metadata": {},
     "output_type": "display_data"
    },
    {
     "data": {
      "application/javascript": [
       "window.weights_l1 = [[1, 9.77107504618601], [2, -4.780671836268341], [3, -5.630360601925542], [4, 6.50939177599895]]"
      ],
      "text/plain": [
       "<IPython.core.display.Javascript object>"
      ]
     },
     "metadata": {},
     "output_type": "display_data"
    },
    {
     "data": {
      "application/javascript": [
       "window.weight_plot_l1.setData([window.weights_l1]); window.weight_plot_l1.draw();"
      ],
      "text/plain": [
       "<IPython.core.display.Javascript object>"
      ]
     },
     "metadata": {},
     "output_type": "display_data"
    },
    {
     "data": {
      "application/javascript": [
       "window.outputs = [[1, 0.007381753613669536], [2, 0.9868327906498249], [3, 0.9890607255460684], [4, 0.015914635436306012]]"
      ],
      "text/plain": [
       "<IPython.core.display.Javascript object>"
      ]
     },
     "metadata": {},
     "output_type": "display_data"
    },
    {
     "data": {
      "application/javascript": [
       "window.output_plot.setData([window.outputs]); window.output_plot.draw();"
      ],
      "text/plain": [
       "<IPython.core.display.Javascript object>"
      ]
     },
     "metadata": {},
     "output_type": "display_data"
    },
    {
     "data": {
      "application/javascript": [
       "$('#avg-error').html(0.01180)"
      ],
      "text/plain": [
       "<IPython.core.display.Javascript object>"
      ]
     },
     "metadata": {},
     "output_type": "display_data"
    },
    {
     "data": {
      "application/javascript": [
       "$('#iteration').html(7050)"
      ],
      "text/plain": [
       "<IPython.core.display.Javascript object>"
      ]
     },
     "metadata": {},
     "output_type": "display_data"
    },
    {
     "data": {
      "application/javascript": [
       "window.error.push([7050,0.01180])"
      ],
      "text/plain": [
       "<IPython.core.display.Javascript object>"
      ]
     },
     "metadata": {},
     "output_type": "display_data"
    },
    {
     "data": {
      "application/javascript": [
       "window.plot.setData([window.error]); window.plot.draw();"
      ],
      "text/plain": [
       "<IPython.core.display.Javascript object>"
      ]
     },
     "metadata": {},
     "output_type": "display_data"
    },
    {
     "data": {
      "application/javascript": [
       "window.weights_l0 = [[1, -6.625549949472478], [2, -1.7249781284415928], [3, -4.655835477473866], [4, 3.2506539432133446], [5, 5.137728889107489], [6, 4.323354144455953], [7, -4.565548107773475], [8, -5.291646419109548], [9, -2.3074799808941786], [10, 0.3686764035355464], [11, 1.156271306104512], [12, -1.3686063108465403]]"
      ],
      "text/plain": [
       "<IPython.core.display.Javascript object>"
      ]
     },
     "metadata": {},
     "output_type": "display_data"
    },
    {
     "data": {
      "application/javascript": [
       "window.weight_plot_l0.setData([window.weights_l0]); window.weight_plot_l0.draw();"
      ],
      "text/plain": [
       "<IPython.core.display.Javascript object>"
      ]
     },
     "metadata": {},
     "output_type": "display_data"
    },
    {
     "data": {
      "application/javascript": [
       "window.weights_l1 = [[1, 9.778603867398592], [2, -4.784416654053773], [3, -5.631966445347321], [4, 6.513572013906304]]"
      ],
      "text/plain": [
       "<IPython.core.display.Javascript object>"
      ]
     },
     "metadata": {},
     "output_type": "display_data"
    },
    {
     "data": {
      "application/javascript": [
       "window.weight_plot_l1.setData([window.weights_l1]); window.weight_plot_l1.draw();"
      ],
      "text/plain": [
       "<IPython.core.display.Javascript object>"
      ]
     },
     "metadata": {},
     "output_type": "display_data"
    },
    {
     "data": {
      "application/javascript": [
       "window.outputs = [[1, 0.0073484983322999195], [2, 0.9868858565772775], [3, 0.9891080150541136], [4, 0.015850093279572906]]"
      ],
      "text/plain": [
       "<IPython.core.display.Javascript object>"
      ]
     },
     "metadata": {},
     "output_type": "display_data"
    },
    {
     "data": {
      "application/javascript": [
       "window.output_plot.setData([window.outputs]); window.output_plot.draw();"
      ],
      "text/plain": [
       "<IPython.core.display.Javascript object>"
      ]
     },
     "metadata": {},
     "output_type": "display_data"
    },
    {
     "data": {
      "application/javascript": [
       "$('#avg-error').html(0.01175)"
      ],
      "text/plain": [
       "<IPython.core.display.Javascript object>"
      ]
     },
     "metadata": {},
     "output_type": "display_data"
    },
    {
     "data": {
      "application/javascript": [
       "$('#iteration').html(7100)"
      ],
      "text/plain": [
       "<IPython.core.display.Javascript object>"
      ]
     },
     "metadata": {},
     "output_type": "display_data"
    },
    {
     "data": {
      "application/javascript": [
       "window.error.push([7100,0.01175])"
      ],
      "text/plain": [
       "<IPython.core.display.Javascript object>"
      ]
     },
     "metadata": {},
     "output_type": "display_data"
    },
    {
     "data": {
      "application/javascript": [
       "window.plot.setData([window.error]); window.plot.draw();"
      ],
      "text/plain": [
       "<IPython.core.display.Javascript object>"
      ]
     },
     "metadata": {},
     "output_type": "display_data"
    },
    {
     "data": {
      "application/javascript": [
       "window.weights_l0 = [[1, -6.628130229995101], [2, -1.7267902128090524], [3, -4.65675008246109], [4, 3.2525345623471793], [5, 5.139487978801662], [6, 4.325731355747014], [7, -4.567000581434203], [8, -5.29405921483593], [9, -2.3078613579280027], [10, 0.36958683033929035], [11, 1.156618238796611], [12, -1.3694656622335035]]"
      ],
      "text/plain": [
       "<IPython.core.display.Javascript object>"
      ]
     },
     "metadata": {},
     "output_type": "display_data"
    },
    {
     "data": {
      "application/javascript": [
       "window.weight_plot_l0.setData([window.weights_l0]); window.weight_plot_l0.draw();"
      ],
      "text/plain": [
       "<IPython.core.display.Javascript object>"
      ]
     },
     "metadata": {},
     "output_type": "display_data"
    },
    {
     "data": {
      "application/javascript": [
       "window.weights_l1 = [[1, 9.786074026562575], [2, -4.788132436918715], [3, -5.633558186504358], [4, 6.517718081001999]]"
      ],
      "text/plain": [
       "<IPython.core.display.Javascript object>"
      ]
     },
     "metadata": {},
     "output_type": "display_data"
    },
    {
     "data": {
      "application/javascript": [
       "window.weight_plot_l1.setData([window.weights_l1]); window.weight_plot_l1.draw();"
      ],
      "text/plain": [
       "<IPython.core.display.Javascript object>"
      ]
     },
     "metadata": {},
     "output_type": "display_data"
    },
    {
     "data": {
      "application/javascript": [
       "window.outputs = [[1, 0.007315652485928292], [2, 0.986938297712732], [3, 0.9891547293986425], [4, 0.01578631370768565]]"
      ],
      "text/plain": [
       "<IPython.core.display.Javascript object>"
      ]
     },
     "metadata": {},
     "output_type": "display_data"
    },
    {
     "data": {
      "application/javascript": [
       "window.output_plot.setData([window.outputs]); window.output_plot.draw();"
      ],
      "text/plain": [
       "<IPython.core.display.Javascript object>"
      ]
     },
     "metadata": {},
     "output_type": "display_data"
    },
    {
     "data": {
      "application/javascript": [
       "$('#avg-error').html(0.01170)"
      ],
      "text/plain": [
       "<IPython.core.display.Javascript object>"
      ]
     },
     "metadata": {},
     "output_type": "display_data"
    },
    {
     "data": {
      "application/javascript": [
       "$('#iteration').html(7150)"
      ],
      "text/plain": [
       "<IPython.core.display.Javascript object>"
      ]
     },
     "metadata": {},
     "output_type": "display_data"
    },
    {
     "data": {
      "application/javascript": [
       "window.error.push([7150,0.01170])"
      ],
      "text/plain": [
       "<IPython.core.display.Javascript object>"
      ]
     },
     "metadata": {},
     "output_type": "display_data"
    },
    {
     "data": {
      "application/javascript": [
       "window.plot.setData([window.error]); window.plot.draw();"
      ],
      "text/plain": [
       "<IPython.core.display.Javascript object>"
      ]
     },
     "metadata": {},
     "output_type": "display_data"
    },
    {
     "data": {
      "application/javascript": [
       "window.weights_l0 = [[1, -6.630689066134883], [2, -1.7285880430035463], [3, -4.657656725345112], [4, 3.2543990254754678], [5, 5.141232283237974], [6, 4.328089065000747], [7, -4.568440526345273], [8, -5.296451407986256], [9, -2.3082395442225665], [10, 0.3704898045481892], [11, 1.156961931134288], [12, -1.3703173795814825]]"
      ],
      "text/plain": [
       "<IPython.core.display.Javascript object>"
      ]
     },
     "metadata": {},
     "output_type": "display_data"
    },
    {
     "data": {
      "application/javascript": [
       "window.weight_plot_l0.setData([window.weights_l0]); window.weight_plot_l0.draw();"
      ],
      "text/plain": [
       "<IPython.core.display.Javascript object>"
      ]
     },
     "metadata": {},
     "output_type": "display_data"
    },
    {
     "data": {
      "application/javascript": [
       "window.weights_l1 = [[1, 9.79348642656479], [2, -4.791819630022047], [3, -5.635136057564599], [4, 6.521830518535266]]"
      ],
      "text/plain": [
       "<IPython.core.display.Javascript object>"
      ]
     },
     "metadata": {},
     "output_type": "display_data"
    },
    {
     "data": {
      "application/javascript": [
       "window.weight_plot_l1.setData([window.weights_l1]); window.weight_plot_l1.draw();"
      ],
      "text/plain": [
       "<IPython.core.display.Javascript object>"
      ]
     },
     "metadata": {},
     "output_type": "display_data"
    },
    {
     "data": {
      "application/javascript": [
       "window.outputs = [[1, 0.0072832079285310046], [2, 0.9869901261340293], [3, 0.9892008799464751], [4, 0.01572328194087812]]"
      ],
      "text/plain": [
       "<IPython.core.display.Javascript object>"
      ]
     },
     "metadata": {},
     "output_type": "display_data"
    },
    {
     "data": {
      "application/javascript": [
       "window.output_plot.setData([window.outputs]); window.output_plot.draw();"
      ],
      "text/plain": [
       "<IPython.core.display.Javascript object>"
      ]
     },
     "metadata": {},
     "output_type": "display_data"
    },
    {
     "data": {
      "application/javascript": [
       "$('#avg-error').html(0.01166)"
      ],
      "text/plain": [
       "<IPython.core.display.Javascript object>"
      ]
     },
     "metadata": {},
     "output_type": "display_data"
    },
    {
     "data": {
      "application/javascript": [
       "$('#iteration').html(7200)"
      ],
      "text/plain": [
       "<IPython.core.display.Javascript object>"
      ]
     },
     "metadata": {},
     "output_type": "display_data"
    },
    {
     "data": {
      "application/javascript": [
       "window.error.push([7200,0.01166])"
      ],
      "text/plain": [
       "<IPython.core.display.Javascript object>"
      ]
     },
     "metadata": {},
     "output_type": "display_data"
    },
    {
     "data": {
      "application/javascript": [
       "window.plot.setData([window.error]); window.plot.draw();"
      ],
      "text/plain": [
       "<IPython.core.display.Javascript object>"
      ]
     },
     "metadata": {},
     "output_type": "display_data"
    },
    {
     "data": {
      "application/javascript": [
       "window.weights_l0 = [[1, -6.633226798555871], [2, -1.7303718372487074], [3, -4.658555536452902], [4, 3.2562475943510036], [5, 5.142962039100763], [6, 4.330427579695275], [7, -4.569868145851062], [8, -5.298823331574123], [9, -2.3086145908427476], [10, 0.3713854429824409], [11, 1.1573024382351738], [12, -1.3711615886601083]]"
      ],
      "text/plain": [
       "<IPython.core.display.Javascript object>"
      ]
     },
     "metadata": {},
     "output_type": "display_data"
    },
    {
     "data": {
      "application/javascript": [
       "window.weight_plot_l0.setData([window.weights_l0]); window.weight_plot_l0.draw();"
      ],
      "text/plain": [
       "<IPython.core.display.Javascript object>"
      ]
     },
     "metadata": {},
     "output_type": "display_data"
    },
    {
     "data": {
      "application/javascript": [
       "window.weights_l1 = [[1, 9.800841949666298], [2, -4.795478668386828], [3, -5.636700285132395], [4, 6.525909855129412]]"
      ],
      "text/plain": [
       "<IPython.core.display.Javascript object>"
      ]
     },
     "metadata": {},
     "output_type": "display_data"
    },
    {
     "data": {
      "application/javascript": [
       "window.weight_plot_l1.setData([window.weights_l1]); window.weight_plot_l1.draw();"
      ],
      "text/plain": [
       "<IPython.core.display.Javascript object>"
      ]
     },
     "metadata": {},
     "output_type": "display_data"
    },
    {
     "data": {
      "application/javascript": [
       "window.outputs = [[1, 0.007251156736698652], [2, 0.9870413535959764], [3, 0.9892464777551785], [4, 0.015660983595520213]]"
      ],
      "text/plain": [
       "<IPython.core.display.Javascript object>"
      ]
     },
     "metadata": {},
     "output_type": "display_data"
    },
    {
     "data": {
      "application/javascript": [
       "window.output_plot.setData([window.outputs]); window.output_plot.draw();"
      ],
      "text/plain": [
       "<IPython.core.display.Javascript object>"
      ]
     },
     "metadata": {},
     "output_type": "display_data"
    },
    {
     "data": {
      "application/javascript": [
       "$('#avg-error').html(0.01161)"
      ],
      "text/plain": [
       "<IPython.core.display.Javascript object>"
      ]
     },
     "metadata": {},
     "output_type": "display_data"
    },
    {
     "data": {
      "application/javascript": [
       "$('#iteration').html(7250)"
      ],
      "text/plain": [
       "<IPython.core.display.Javascript object>"
      ]
     },
     "metadata": {},
     "output_type": "display_data"
    },
    {
     "data": {
      "application/javascript": [
       "window.error.push([7250,0.01161])"
      ],
      "text/plain": [
       "<IPython.core.display.Javascript object>"
      ]
     },
     "metadata": {},
     "output_type": "display_data"
    },
    {
     "data": {
      "application/javascript": [
       "window.plot.setData([window.error]); window.plot.draw();"
      ],
      "text/plain": [
       "<IPython.core.display.Javascript object>"
      ]
     },
     "metadata": {},
     "output_type": "display_data"
    },
    {
     "data": {
      "application/javascript": [
       "window.weights_l0 = [[1, -6.635743759983829], [2, -1.7321418088286686], [3, -4.659446643004639], [4, 3.258080524540552], [5, 5.1446774775258], [6, 4.332747200183081], [7, -4.57128363848416], [8, -5.3011753107510025], [9, -2.3089865476555205], [10, 0.372273859772009], [11, 1.1576398138672388], [12, -1.371998412233918]]"
      ],
      "text/plain": [
       "<IPython.core.display.Javascript object>"
      ]
     },
     "metadata": {},
     "output_type": "display_data"
    },
    {
     "data": {
      "application/javascript": [
       "window.weight_plot_l0.setData([window.weights_l0]); window.weight_plot_l0.draw();"
      ],
      "text/plain": [
       "<IPython.core.display.Javascript object>"
      ]
     },
     "metadata": {},
     "output_type": "display_data"
    },
    {
     "data": {
      "application/javascript": [
       "window.weights_l1 = [[1, 9.808141458124625], [2, -4.79910997720518], [3, -5.638251090422776], [4, 6.529956607169128]]"
      ],
      "text/plain": [
       "<IPython.core.display.Javascript object>"
      ]
     },
     "metadata": {},
     "output_type": "display_data"
    },
    {
     "data": {
      "application/javascript": [
       "window.weight_plot_l1.setData([window.weights_l1]); window.weight_plot_l1.draw();"
      ],
      "text/plain": [
       "<IPython.core.display.Javascript object>"
      ]
     },
     "metadata": {},
     "output_type": "display_data"
    },
    {
     "data": {
      "application/javascript": [
       "window.outputs = [[1, 0.007219491201927259], [2, 0.9870919915413424], [3, 0.9892915335837401], [4, 0.015599404670610988]]"
      ],
      "text/plain": [
       "<IPython.core.display.Javascript object>"
      ]
     },
     "metadata": {},
     "output_type": "display_data"
    },
    {
     "data": {
      "application/javascript": [
       "window.output_plot.setData([window.outputs]); window.output_plot.draw();"
      ],
      "text/plain": [
       "<IPython.core.display.Javascript object>"
      ]
     },
     "metadata": {},
     "output_type": "display_data"
    },
    {
     "data": {
      "application/javascript": [
       "$('#avg-error').html(0.01156)"
      ],
      "text/plain": [
       "<IPython.core.display.Javascript object>"
      ]
     },
     "metadata": {},
     "output_type": "display_data"
    },
    {
     "data": {
      "application/javascript": [
       "$('#iteration').html(7300)"
      ],
      "text/plain": [
       "<IPython.core.display.Javascript object>"
      ]
     },
     "metadata": {},
     "output_type": "display_data"
    },
    {
     "data": {
      "application/javascript": [
       "window.error.push([7300,0.01156])"
      ],
      "text/plain": [
       "<IPython.core.display.Javascript object>"
      ]
     },
     "metadata": {},
     "output_type": "display_data"
    },
    {
     "data": {
      "application/javascript": [
       "window.plot.setData([window.error]); window.plot.draw();"
      ],
      "text/plain": [
       "<IPython.core.display.Javascript object>"
      ]
     },
     "metadata": {},
     "output_type": "display_data"
    },
    {
     "data": {
      "application/javascript": [
       "window.weights_l0 = [[1, -6.638240275449061], [2, -1.7338981662354986], [3, -4.660330169210515], [4, 3.2598980656161536], [5, 5.1463788242708475], [6, 4.335048219907971], [7, -4.572687198114317], [8, -5.3035076630492695], [9, -2.3093554633668143], [10, 0.37315516643803054], [11, 1.1579741104917358], [12, -1.3728279701560402]]"
      ],
      "text/plain": [
       "<IPython.core.display.Javascript object>"
      ]
     },
     "metadata": {},
     "output_type": "display_data"
    },
    {
     "data": {
      "application/javascript": [
       "window.weight_plot_l0.setData([window.weights_l0]); window.weight_plot_l0.draw();"
      ],
      "text/plain": [
       "<IPython.core.display.Javascript object>"
      ]
     },
     "metadata": {},
     "output_type": "display_data"
    },
    {
     "data": {
      "application/javascript": [
       "window.weights_l1 = [[1, 9.815385794792759], [2, -4.802713972131806], [3, -5.639788689428972], [4, 6.533971279173111]]"
      ],
      "text/plain": [
       "<IPython.core.display.Javascript object>"
      ]
     },
     "metadata": {},
     "output_type": "display_data"
    },
    {
     "data": {
      "application/javascript": [
       "window.weight_plot_l1.setData([window.weights_l1]); window.weight_plot_l1.draw();"
      ],
      "text/plain": [
       "<IPython.core.display.Javascript object>"
      ]
     },
     "metadata": {},
     "output_type": "display_data"
    },
    {
     "data": {
      "application/javascript": [
       "window.outputs = [[1, 0.007188203823232048], [2, 0.9871420511113984], [3, 0.9893360579027981], [4, 0.015538531534830204]]"
      ],
      "text/plain": [
       "<IPython.core.display.Javascript object>"
      ]
     },
     "metadata": {},
     "output_type": "display_data"
    },
    {
     "data": {
      "application/javascript": [
       "window.output_plot.setData([window.outputs]); window.output_plot.draw();"
      ],
      "text/plain": [
       "<IPython.core.display.Javascript object>"
      ]
     },
     "metadata": {},
     "output_type": "display_data"
    },
    {
     "data": {
      "application/javascript": [
       "$('#avg-error').html(0.01152)"
      ],
      "text/plain": [
       "<IPython.core.display.Javascript object>"
      ]
     },
     "metadata": {},
     "output_type": "display_data"
    },
    {
     "data": {
      "application/javascript": [
       "$('#iteration').html(7350)"
      ],
      "text/plain": [
       "<IPython.core.display.Javascript object>"
      ]
     },
     "metadata": {},
     "output_type": "display_data"
    },
    {
     "data": {
      "application/javascript": [
       "window.error.push([7350,0.01152])"
      ],
      "text/plain": [
       "<IPython.core.display.Javascript object>"
      ]
     },
     "metadata": {},
     "output_type": "display_data"
    },
    {
     "data": {
      "application/javascript": [
       "window.plot.setData([window.error]); window.plot.draw();"
      ],
      "text/plain": [
       "<IPython.core.display.Javascript object>"
      ]
     },
     "metadata": {},
     "output_type": "display_data"
    },
    {
     "data": {
      "application/javascript": [
       "window.weights_l0 = [[1, -6.640716662520014], [2, -1.7356411133111818], [3, -4.661206236363843], [4, 3.261700461339132], [5, 5.148066299879772], [6, 4.3373309256139], [7, -4.574079014091742], [8, -5.305820698616004], [9, -2.3097213855569674], [10, 0.3740294719711828], [11, 1.1583053793044686], [12, -1.3736503794582813]]"
      ],
      "text/plain": [
       "<IPython.core.display.Javascript object>"
      ]
     },
     "metadata": {},
     "output_type": "display_data"
    },
    {
     "data": {
      "application/javascript": [
       "window.weight_plot_l0.setData([window.weights_l0]); window.weight_plot_l0.draw();"
      ],
      "text/plain": [
       "<IPython.core.display.Javascript object>"
      ]
     },
     "metadata": {},
     "output_type": "display_data"
    },
    {
     "data": {
      "application/javascript": [
       "window.weights_l1 = [[1, 9.822575783695916], [2, -4.806291059566662], [3, -5.64131329308356], [4, 6.537954364152648]]"
      ],
      "text/plain": [
       "<IPython.core.display.Javascript object>"
      ]
     },
     "metadata": {},
     "output_type": "display_data"
    },
    {
     "data": {
      "application/javascript": [
       "window.weight_plot_l1.setData([window.weights_l1]); window.weight_plot_l1.draw();"
      ],
      "text/plain": [
       "<IPython.core.display.Javascript object>"
      ]
     },
     "metadata": {},
     "output_type": "display_data"
    },
    {
     "data": {
      "application/javascript": [
       "window.outputs = [[1, 0.007157287300067298], [2, 0.9871915431560279], [3, 0.9893800609044455], [4, 0.0154783509141192]]"
      ],
      "text/plain": [
       "<IPython.core.display.Javascript object>"
      ]
     },
     "metadata": {},
     "output_type": "display_data"
    },
    {
     "data": {
      "application/javascript": [
       "window.output_plot.setData([window.outputs]); window.output_plot.draw();"
      ],
      "text/plain": [
       "<IPython.core.display.Javascript object>"
      ]
     },
     "metadata": {},
     "output_type": "display_data"
    },
    {
     "data": {
      "application/javascript": [
       "$('#avg-error').html(0.01147)"
      ],
      "text/plain": [
       "<IPython.core.display.Javascript object>"
      ]
     },
     "metadata": {},
     "output_type": "display_data"
    },
    {
     "data": {
      "application/javascript": [
       "$('#iteration').html(7400)"
      ],
      "text/plain": [
       "<IPython.core.display.Javascript object>"
      ]
     },
     "metadata": {},
     "output_type": "display_data"
    },
    {
     "data": {
      "application/javascript": [
       "window.error.push([7400,0.01147])"
      ],
      "text/plain": [
       "<IPython.core.display.Javascript object>"
      ]
     },
     "metadata": {},
     "output_type": "display_data"
    },
    {
     "data": {
      "application/javascript": [
       "window.plot.setData([window.error]); window.plot.draw();"
      ],
      "text/plain": [
       "<IPython.core.display.Javascript object>"
      ]
     },
     "metadata": {},
     "output_type": "display_data"
    },
    {
     "data": {
      "application/javascript": [
       "window.weights_l0 = [[1, -6.643173231528186], [2, -1.7373708493843907], [3, -4.662074962930609], [4, 3.263487949837142], [5, 5.149740119840452], [6, 4.339595597546022], [7, -4.575459271384963], [8, -5.308114720437928], [9, -2.3100843607148587], [10, 0.37489688290714057], [11, 1.158633670275457], [12, -1.374465754437794]]"
      ],
      "text/plain": [
       "<IPython.core.display.Javascript object>"
      ]
     },
     "metadata": {},
     "output_type": "display_data"
    },
    {
     "data": {
      "application/javascript": [
       "window.weight_plot_l0.setData([window.weights_l0]); window.weight_plot_l0.draw();"
      ],
      "text/plain": [
       "<IPython.core.display.Javascript object>"
      ]
     },
     "metadata": {},
     "output_type": "display_data"
    },
    {
     "data": {
      "application/javascript": [
       "window.weights_l1 = [[1, 9.829712230587075], [2, -4.809841636927226], [3, -5.642825107413462], [4, 6.541906343956845]]"
      ],
      "text/plain": [
       "<IPython.core.display.Javascript object>"
      ]
     },
     "metadata": {},
     "output_type": "display_data"
    },
    {
     "data": {
      "application/javascript": [
       "window.weight_plot_l1.setData([window.weights_l1]); window.weight_plot_l1.draw();"
      ],
      "text/plain": [
       "<IPython.core.display.Javascript object>"
      ]
     },
     "metadata": {},
     "output_type": "display_data"
    },
    {
     "data": {
      "application/javascript": [
       "window.outputs = [[1, 0.0071267345255382865], [2, 0.9872404782434255], [3, 0.9894235525116342], [4, 0.015418849879767684]]"
      ],
      "text/plain": [
       "<IPython.core.display.Javascript object>"
      ]
     },
     "metadata": {},
     "output_type": "display_data"
    },
    {
     "data": {
      "application/javascript": [
       "window.output_plot.setData([window.outputs]); window.output_plot.draw();"
      ],
      "text/plain": [
       "<IPython.core.display.Javascript object>"
      ]
     },
     "metadata": {},
     "output_type": "display_data"
    },
    {
     "data": {
      "application/javascript": [
       "$('#avg-error').html(0.01143)"
      ],
      "text/plain": [
       "<IPython.core.display.Javascript object>"
      ]
     },
     "metadata": {},
     "output_type": "display_data"
    },
    {
     "data": {
      "application/javascript": [
       "$('#iteration').html(7450)"
      ],
      "text/plain": [
       "<IPython.core.display.Javascript object>"
      ]
     },
     "metadata": {},
     "output_type": "display_data"
    },
    {
     "data": {
      "application/javascript": [
       "window.error.push([7450,0.01143])"
      ],
      "text/plain": [
       "<IPython.core.display.Javascript object>"
      ]
     },
     "metadata": {},
     "output_type": "display_data"
    },
    {
     "data": {
      "application/javascript": [
       "window.plot.setData([window.error]); window.plot.draw();"
      ],
      "text/plain": [
       "<IPython.core.display.Javascript object>"
      ]
     },
     "metadata": {},
     "output_type": "display_data"
    },
    {
     "data": {
      "application/javascript": [
       "window.weights_l0 = [[1, -6.645610285784627], [2, -1.7390875694022818], [3, -4.66293646463564], [4, 3.26526076377459], [5, 5.151400494736825], [6, 4.341842509644253], [7, -4.5768281507134985], [8, -5.3103900245579], [9, -2.3104444342707477], [10, 0.375757503399253], [11, 1.1589590321870789], [12, -1.375274206740466]]"
      ],
      "text/plain": [
       "<IPython.core.display.Javascript object>"
      ]
     },
     "metadata": {},
     "output_type": "display_data"
    },
    {
     "data": {
      "application/javascript": [
       "window.weight_plot_l0.setData([window.weights_l0]); window.weight_plot_l0.draw();"
      ],
      "text/plain": [
       "<IPython.core.display.Javascript object>"
      ]
     },
     "metadata": {},
     "output_type": "display_data"
    },
    {
     "data": {
      "application/javascript": [
       "window.weights_l1 = [[1, 9.836795923482184], [2, -4.813366092910868], [3, -5.644324333689116], [4, 6.545827689605037]]"
      ],
      "text/plain": [
       "<IPython.core.display.Javascript object>"
      ]
     },
     "metadata": {},
     "output_type": "display_data"
    },
    {
     "data": {
      "application/javascript": [
       "window.weight_plot_l1.setData([window.weights_l1]); window.weight_plot_l1.draw();"
      ],
      "text/plain": [
       "<IPython.core.display.Javascript object>"
      ]
     },
     "metadata": {},
     "output_type": "display_data"
    },
    {
     "data": {
      "application/javascript": [
       "window.outputs = [[1, 0.007096538579890512], [2, 0.9872888666694062], [3, 0.9894665423871938], [4, 0.015360015836980823]]"
      ],
      "text/plain": [
       "<IPython.core.display.Javascript object>"
      ]
     },
     "metadata": {},
     "output_type": "display_data"
    },
    {
     "data": {
      "application/javascript": [
       "window.output_plot.setData([window.outputs]); window.output_plot.draw();"
      ],
      "text/plain": [
       "<IPython.core.display.Javascript object>"
      ]
     },
     "metadata": {},
     "output_type": "display_data"
    },
    {
     "data": {
      "application/javascript": [
       "$('#avg-error').html(0.01138)"
      ],
      "text/plain": [
       "<IPython.core.display.Javascript object>"
      ]
     },
     "metadata": {},
     "output_type": "display_data"
    },
    {
     "data": {
      "application/javascript": [
       "$('#iteration').html(7500)"
      ],
      "text/plain": [
       "<IPython.core.display.Javascript object>"
      ]
     },
     "metadata": {},
     "output_type": "display_data"
    },
    {
     "data": {
      "application/javascript": [
       "window.error.push([7500,0.01138])"
      ],
      "text/plain": [
       "<IPython.core.display.Javascript object>"
      ]
     },
     "metadata": {},
     "output_type": "display_data"
    },
    {
     "data": {
      "application/javascript": [
       "window.plot.setData([window.error]); window.plot.draw();"
      ],
      "text/plain": [
       "<IPython.core.display.Javascript object>"
      ]
     },
     "metadata": {},
     "output_type": "display_data"
    },
    {
     "data": {
      "application/javascript": [
       "window.weights_l0 = [[1, -6.648028121788457], [2, -1.7407914640575233], [3, -4.663790854545542], [4, 3.267019130516682], [5, 5.153047630395259], [6, 4.344071929729751], [7, -4.578185828675596], [8, -5.312646900283364], [9, -2.3108016506279077], [10, 0.37661143528856605], [11, 1.1592815126707599], [12, -1.3760758454411852]]"
      ],
      "text/plain": [
       "<IPython.core.display.Javascript object>"
      ]
     },
     "metadata": {},
     "output_type": "display_data"
    },
    {
     "data": {
      "application/javascript": [
       "window.weight_plot_l0.setData([window.weights_l0]); window.weight_plot_l0.draw();"
      ],
      "text/plain": [
       "<IPython.core.display.Javascript object>"
      ]
     },
     "metadata": {},
     "output_type": "display_data"
    },
    {
     "data": {
      "application/javascript": [
       "window.weights_l1 = [[1, 9.843827633175943], [2, -4.816864807747686], [3, -5.6458111685680485], [4, 6.549718861606966]]"
      ],
      "text/plain": [
       "<IPython.core.display.Javascript object>"
      ]
     },
     "metadata": {},
     "output_type": "display_data"
    },
    {
     "data": {
      "application/javascript": [
       "window.weight_plot_l1.setData([window.weights_l1]); window.weight_plot_l1.draw();"
      ],
      "text/plain": [
       "<IPython.core.display.Javascript object>"
      ]
     },
     "metadata": {},
     "output_type": "display_data"
    },
    {
     "data": {
      "application/javascript": [
       "window.outputs = [[1, 0.007066692724263395], [2, 0.98733671846634], [3, 0.9895090399424854], [4, 0.015301836513905048]]"
      ],
      "text/plain": [
       "<IPython.core.display.Javascript object>"
      ]
     },
     "metadata": {},
     "output_type": "display_data"
    },
    {
     "data": {
      "application/javascript": [
       "window.output_plot.setData([window.outputs]); window.output_plot.draw();"
      ],
      "text/plain": [
       "<IPython.core.display.Javascript object>"
      ]
     },
     "metadata": {},
     "output_type": "display_data"
    },
    {
     "data": {
      "application/javascript": [
       "$('#avg-error').html(0.01134)"
      ],
      "text/plain": [
       "<IPython.core.display.Javascript object>"
      ]
     },
     "metadata": {},
     "output_type": "display_data"
    },
    {
     "data": {
      "application/javascript": [
       "$('#iteration').html(7550)"
      ],
      "text/plain": [
       "<IPython.core.display.Javascript object>"
      ]
     },
     "metadata": {},
     "output_type": "display_data"
    },
    {
     "data": {
      "application/javascript": [
       "window.error.push([7550,0.01134])"
      ],
      "text/plain": [
       "<IPython.core.display.Javascript object>"
      ]
     },
     "metadata": {},
     "output_type": "display_data"
    },
    {
     "data": {
      "application/javascript": [
       "window.plot.setData([window.error]); window.plot.draw();"
      ],
      "text/plain": [
       "<IPython.core.display.Javascript object>"
      ]
     },
     "metadata": {},
     "output_type": "display_data"
    },
    {
     "data": {
      "application/javascript": [
       "window.weights_l0 = [[1, -6.650427029427746], [2, -1.742482719910765], [3, -4.664638243148537], [4, 3.268763272287416], [5, 5.15468172802554], [6, 4.346284119684535], [7, -4.579532477871245], [8, -5.3148856303870655], [9, -2.311156053193089], [10, 0.37745877817129814], [11, 1.1596011582422696], [12, -1.3768707771211106]]"
      ],
      "text/plain": [
       "<IPython.core.display.Javascript object>"
      ]
     },
     "metadata": {},
     "output_type": "display_data"
    },
    {
     "data": {
      "application/javascript": [
       "window.weight_plot_l0.setData([window.weights_l0]); window.weight_plot_l0.draw();"
      ],
      "text/plain": [
       "<IPython.core.display.Javascript object>"
      ]
     },
     "metadata": {},
     "output_type": "display_data"
    },
    {
     "data": {
      "application/javascript": [
       "window.weights_l1 = [[1, 9.850808113739054], [2, -4.820338153444291], [3, -5.647285804233123], [4, 6.553580310271284]]"
      ],
      "text/plain": [
       "<IPython.core.display.Javascript object>"
      ]
     },
     "metadata": {},
     "output_type": "display_data"
    },
    {
     "data": {
      "application/javascript": [
       "window.weight_plot_l1.setData([window.weights_l1]); window.weight_plot_l1.draw();"
      ],
      "text/plain": [
       "<IPython.core.display.Javascript object>"
      ]
     },
     "metadata": {},
     "output_type": "display_data"
    },
    {
     "data": {
      "application/javascript": [
       "window.outputs = [[1, 0.007037190394695875], [2, 0.9873840434117341], [3, 0.989551054345708], [4, 0.015244299951090173]]"
      ],
      "text/plain": [
       "<IPython.core.display.Javascript object>"
      ]
     },
     "metadata": {},
     "output_type": "display_data"
    },
    {
     "data": {
      "application/javascript": [
       "window.output_plot.setData([window.outputs]); window.output_plot.draw();"
      ],
      "text/plain": [
       "<IPython.core.display.Javascript object>"
      ]
     },
     "metadata": {},
     "output_type": "display_data"
    },
    {
     "data": {
      "application/javascript": [
       "$('#avg-error').html(0.01129)"
      ],
      "text/plain": [
       "<IPython.core.display.Javascript object>"
      ]
     },
     "metadata": {},
     "output_type": "display_data"
    },
    {
     "data": {
      "application/javascript": [
       "$('#iteration').html(7600)"
      ],
      "text/plain": [
       "<IPython.core.display.Javascript object>"
      ]
     },
     "metadata": {},
     "output_type": "display_data"
    },
    {
     "data": {
      "application/javascript": [
       "window.error.push([7600,0.01129])"
      ],
      "text/plain": [
       "<IPython.core.display.Javascript object>"
      ]
     },
     "metadata": {},
     "output_type": "display_data"
    },
    {
     "data": {
      "application/javascript": [
       "window.plot.setData([window.error]); window.plot.draw();"
      ],
      "text/plain": [
       "<IPython.core.display.Javascript object>"
      ]
     },
     "metadata": {},
     "output_type": "display_data"
    },
    {
     "data": {
      "application/javascript": [
       "window.weights_l0 = [[1, -6.652807292173071], [2, -1.7441615195087374], [3, -4.665478738431371], [4, 3.270493406321758], [5, 5.15630298435673], [6, 4.348479335624633], [7, -4.580868267020645], [8, -5.317106491300393], [9, -2.3115076844058637], [10, 0.3782996294638852], [11, 1.1599180143356886], [12, -1.3776591059420957]]"
      ],
      "text/plain": [
       "<IPython.core.display.Javascript object>"
      ]
     },
     "metadata": {},
     "output_type": "display_data"
    },
    {
     "data": {
      "application/javascript": [
       "window.weight_plot_l0.setData([window.weights_l0]); window.weight_plot_l0.draw();"
      ],
      "text/plain": [
       "<IPython.core.display.Javascript object>"
      ]
     },
     "metadata": {},
     "output_type": "display_data"
    },
    {
     "data": {
      "application/javascript": [
       "window.weights_l1 = [[1, 9.857738102997585], [2, -4.823786494018861], [3, -5.648748428525685], [4, 6.557412476002813]]"
      ],
      "text/plain": [
       "<IPython.core.display.Javascript object>"
      ]
     },
     "metadata": {},
     "output_type": "display_data"
    },
    {
     "data": {
      "application/javascript": [
       "window.weight_plot_l1.setData([window.weights_l1]); window.weight_plot_l1.draw();"
      ],
      "text/plain": [
       "<IPython.core.display.Javascript object>"
      ]
     },
     "metadata": {},
     "output_type": "display_data"
    },
    {
     "data": {
      "application/javascript": [
       "window.outputs = [[1, 0.007008025196371524], [2, 0.9874308510364747], [3, 0.9895925945298721], [4, 0.015187394491368007]]"
      ],
      "text/plain": [
       "<IPython.core.display.Javascript object>"
      ]
     },
     "metadata": {},
     "output_type": "display_data"
    },
    {
     "data": {
      "application/javascript": [
       "window.output_plot.setData([window.outputs]); window.output_plot.draw();"
      ],
      "text/plain": [
       "<IPython.core.display.Javascript object>"
      ]
     },
     "metadata": {},
     "output_type": "display_data"
    },
    {
     "data": {
      "application/javascript": [
       "$('#avg-error').html(0.01125)"
      ],
      "text/plain": [
       "<IPython.core.display.Javascript object>"
      ]
     },
     "metadata": {},
     "output_type": "display_data"
    },
    {
     "data": {
      "application/javascript": [
       "$('#iteration').html(7650)"
      ],
      "text/plain": [
       "<IPython.core.display.Javascript object>"
      ]
     },
     "metadata": {},
     "output_type": "display_data"
    },
    {
     "data": {
      "application/javascript": [
       "window.error.push([7650,0.01125])"
      ],
      "text/plain": [
       "<IPython.core.display.Javascript object>"
      ]
     },
     "metadata": {},
     "output_type": "display_data"
    },
    {
     "data": {
      "application/javascript": [
       "window.plot.setData([window.error]); window.plot.draw();"
      ],
      "text/plain": [
       "<IPython.core.display.Javascript object>"
      ]
     },
     "metadata": {},
     "output_type": "display_data"
    },
    {
     "data": {
      "application/javascript": [
       "window.weights_l0 = [[1, -6.65516918726408], [2, -1.745828041498177], [3, -4.666312445953387], [4, 3.2722097450122876], [5, 5.157911591768057], [6, 4.350657828066972], [7, -4.58219336107836], [8, -5.319309753299694], [9, -2.3118565857669053], [10, 0.3791340844656965], [11, 1.1602321253361103], [12, -1.3784409337183678]]"
      ],
      "text/plain": [
       "<IPython.core.display.Javascript object>"
      ]
     },
     "metadata": {},
     "output_type": "display_data"
    },
    {
     "data": {
      "application/javascript": [
       "window.weight_plot_l0.setData([window.weights_l0]); window.weight_plot_l0.draw();"
      ],
      "text/plain": [
       "<IPython.core.display.Javascript object>"
      ]
     },
     "metadata": {},
     "output_type": "display_data"
    },
    {
     "data": {
      "application/javascript": [
       "window.weights_l1 = [[1, 9.864618322995401], [2, -4.827210185727888], [3, -5.650199225073822], [4, 6.5612157895891645]]"
      ],
      "text/plain": [
       "<IPython.core.display.Javascript object>"
      ]
     },
     "metadata": {},
     "output_type": "display_data"
    },
    {
     "data": {
      "application/javascript": [
       "window.weight_plot_l1.setData([window.weights_l1]); window.weight_plot_l1.draw();"
      ],
      "text/plain": [
       "<IPython.core.display.Javascript object>"
      ]
     },
     "metadata": {},
     "output_type": "display_data"
    },
    {
     "data": {
      "application/javascript": [
       "window.outputs = [[1, 0.006979190898092915], [2, 0.9874771506327472], [3, 0.9896336692004593], [4, 0.015131108770128193]]"
      ],
      "text/plain": [
       "<IPython.core.display.Javascript object>"
      ]
     },
     "metadata": {},
     "output_type": "display_data"
    },
    {
     "data": {
      "application/javascript": [
       "window.output_plot.setData([window.outputs]); window.output_plot.draw();"
      ],
      "text/plain": [
       "<IPython.core.display.Javascript object>"
      ]
     },
     "metadata": {},
     "output_type": "display_data"
    },
    {
     "data": {
      "application/javascript": [
       "$('#avg-error').html(0.01121)"
      ],
      "text/plain": [
       "<IPython.core.display.Javascript object>"
      ]
     },
     "metadata": {},
     "output_type": "display_data"
    },
    {
     "data": {
      "application/javascript": [
       "$('#iteration').html(7700)"
      ],
      "text/plain": [
       "<IPython.core.display.Javascript object>"
      ]
     },
     "metadata": {},
     "output_type": "display_data"
    },
    {
     "data": {
      "application/javascript": [
       "window.error.push([7700,0.01121])"
      ],
      "text/plain": [
       "<IPython.core.display.Javascript object>"
      ]
     },
     "metadata": {},
     "output_type": "display_data"
    },
    {
     "data": {
      "application/javascript": [
       "window.plot.setData([window.error]); window.plot.draw();"
      ],
      "text/plain": [
       "<IPython.core.display.Javascript object>"
      ]
     },
     "metadata": {},
     "output_type": "display_data"
    },
    {
     "data": {
      "application/javascript": [
       "window.weights_l0 = [[1, -6.657512985889359], [2, -1.7474824607357435], [3, -4.667139468917878], [4, 3.2739124960505146], [5, 5.1595077384151145], [6, 4.3528198420903115], [7, -4.5835079213433385], [8, -5.321495680685809], [9, -2.3122027978652495], [10, 0.3799622364195213], [11, 1.160543534611129], [12, -1.3792163599856062]]"
      ],
      "text/plain": [
       "<IPython.core.display.Javascript object>"
      ]
     },
     "metadata": {},
     "output_type": "display_data"
    },
    {
     "data": {
      "application/javascript": [
       "window.weight_plot_l0.setData([window.weights_l0]); window.weight_plot_l0.draw();"
      ],
      "text/plain": [
       "<IPython.core.display.Javascript object>"
      ]
     },
     "metadata": {},
     "output_type": "display_data"
    },
    {
     "data": {
      "application/javascript": [
       "window.weights_l1 = [[1, 9.871449480440209], [2, -4.8306095772849424], [3, -5.651638373415957], [4, 6.564990672477049]]"
      ],
      "text/plain": [
       "<IPython.core.display.Javascript object>"
      ]
     },
     "metadata": {},
     "output_type": "display_data"
    },
    {
     "data": {
      "application/javascript": [
       "window.weight_plot_l1.setData([window.weights_l1]); window.weight_plot_l1.draw();"
      ],
      "text/plain": [
       "<IPython.core.display.Javascript object>"
      ]
     },
     "metadata": {},
     "output_type": "display_data"
    },
    {
     "data": {
      "application/javascript": [
       "window.outputs = [[1, 0.0069506814269736], [2, 0.9875229512616467], [3, 0.9896742868427774], [4, 0.015075431705972498]]"
      ],
      "text/plain": [
       "<IPython.core.display.Javascript object>"
      ]
     },
     "metadata": {},
     "output_type": "display_data"
    },
    {
     "data": {
      "application/javascript": [
       "window.output_plot.setData([window.outputs]); window.output_plot.draw();"
      ],
      "text/plain": [
       "<IPython.core.display.Javascript object>"
      ]
     },
     "metadata": {},
     "output_type": "display_data"
    },
    {
     "data": {
      "application/javascript": [
       "$('#avg-error').html(0.01117)"
      ],
      "text/plain": [
       "<IPython.core.display.Javascript object>"
      ]
     },
     "metadata": {},
     "output_type": "display_data"
    },
    {
     "data": {
      "application/javascript": [
       "$('#iteration').html(7750)"
      ],
      "text/plain": [
       "<IPython.core.display.Javascript object>"
      ]
     },
     "metadata": {},
     "output_type": "display_data"
    },
    {
     "data": {
      "application/javascript": [
       "window.error.push([7750,0.01117])"
      ],
      "text/plain": [
       "<IPython.core.display.Javascript object>"
      ]
     },
     "metadata": {},
     "output_type": "display_data"
    },
    {
     "data": {
      "application/javascript": [
       "window.plot.setData([window.error]); window.plot.draw();"
      ],
      "text/plain": [
       "<IPython.core.display.Javascript object>"
      ]
     },
     "metadata": {},
     "output_type": "display_data"
    },
    {
     "data": {
      "application/javascript": [
       "window.weights_l0 = [[1, -6.65983895335989], [2, -1.7491249483941012], [3, -4.6679599082408805], [4, 3.2756018625631196], [5, 5.161091608351528], [6, 4.354965617490443], [7, -4.5848121055649615], [8, -5.323664531957169], [9, -2.312546360404582], [10, 0.3807841765699179], [11, 1.160852284541165], [12, -1.3799854820675153]]"
      ],
      "text/plain": [
       "<IPython.core.display.Javascript object>"
      ]
     },
     "metadata": {},
     "output_type": "display_data"
    },
    {
     "data": {
      "application/javascript": [
       "window.weight_plot_l0.setData([window.weights_l0]); window.weight_plot_l0.draw();"
      ],
      "text/plain": [
       "<IPython.core.display.Javascript object>"
      ]
     },
     "metadata": {},
     "output_type": "display_data"
    },
    {
     "data": {
      "application/javascript": [
       "window.weights_l1 = [[1, 9.878232267134004], [2, -4.833985010071772], [3, -5.653066049119991], [4, 6.5687375370388095]]"
      ],
      "text/plain": [
       "<IPython.core.display.Javascript object>"
      ]
     },
     "metadata": {},
     "output_type": "display_data"
    },
    {
     "data": {
      "application/javascript": [
       "window.weight_plot_l1.setData([window.weights_l1]); window.weight_plot_l1.draw();"
      ],
      "text/plain": [
       "<IPython.core.display.Javascript object>"
      ]
     },
     "metadata": {},
     "output_type": "display_data"
    },
    {
     "data": {
      "application/javascript": [
       "window.outputs = [[1, 0.006922490863338261], [2, 0.9875682617604961], [3, 0.9897144557290313], [4, 0.0150203524917311]]"
      ],
      "text/plain": [
       "<IPython.core.display.Javascript object>"
      ]
     },
     "metadata": {},
     "output_type": "display_data"
    },
    {
     "data": {
      "application/javascript": [
       "window.output_plot.setData([window.outputs]); window.output_plot.draw();"
      ],
      "text/plain": [
       "<IPython.core.display.Javascript object>"
      ]
     },
     "metadata": {},
     "output_type": "display_data"
    },
    {
     "data": {
      "application/javascript": [
       "$('#avg-error').html(0.01112)"
      ],
      "text/plain": [
       "<IPython.core.display.Javascript object>"
      ]
     },
     "metadata": {},
     "output_type": "display_data"
    },
    {
     "data": {
      "application/javascript": [
       "$('#iteration').html(7800)"
      ],
      "text/plain": [
       "<IPython.core.display.Javascript object>"
      ]
     },
     "metadata": {},
     "output_type": "display_data"
    },
    {
     "data": {
      "application/javascript": [
       "window.error.push([7800,0.01112])"
      ],
      "text/plain": [
       "<IPython.core.display.Javascript object>"
      ]
     },
     "metadata": {},
     "output_type": "display_data"
    },
    {
     "data": {
      "application/javascript": [
       "window.plot.setData([window.error]); window.plot.draw();"
      ],
      "text/plain": [
       "<IPython.core.display.Javascript object>"
      ]
     },
     "metadata": {},
     "output_type": "display_data"
    },
    {
     "data": {
      "application/javascript": [
       "window.weights_l0 = [[1, -6.662147349276366], [2, -1.750755672064324], [3, -4.66877386261749], [4, 3.27727804324333], [5, 5.1626633816463015], [6, 4.357095388929945], [7, -4.586106068045317], [8, -5.325816559976716], [9, -2.3128873122285856], [10, 0.3815999942195197], [11, 1.1611584165486868], [12, -1.3807483951399993]]"
      ],
      "text/plain": [
       "<IPython.core.display.Javascript object>"
      ]
     },
     "metadata": {},
     "output_type": "display_data"
    },
    {
     "data": {
      "application/javascript": [
       "window.weight_plot_l0.setData([window.weights_l0]); window.weight_plot_l0.draw();"
      ],
      "text/plain": [
       "<IPython.core.display.Javascript object>"
      ]
     },
     "metadata": {},
     "output_type": "display_data"
    },
    {
     "data": {
      "application/javascript": [
       "window.weights_l1 = [[1, 9.884967360388556], [2, -4.837336818342117], [3, -5.654482423898152], [4, 6.5724567868295445]]"
      ],
      "text/plain": [
       "<IPython.core.display.Javascript object>"
      ]
     },
     "metadata": {},
     "output_type": "display_data"
    },
    {
     "data": {
      "application/javascript": [
       "window.weight_plot_l1.setData([window.weights_l1]); window.weight_plot_l1.draw();"
      ],
      "text/plain": [
       "<IPython.core.display.Javascript object>"
      ]
     },
     "metadata": {},
     "output_type": "display_data"
    },
    {
     "data": {
      "application/javascript": [
       "window.outputs = [[1, 0.006894613435821315], [2, 0.9876130907498838], [3, 0.9897541839251173], [4, 0.014965860585823512]]"
      ],
      "text/plain": [
       "<IPython.core.display.Javascript object>"
      ]
     },
     "metadata": {},
     "output_type": "display_data"
    },
    {
     "data": {
      "application/javascript": [
       "window.output_plot.setData([window.outputs]); window.output_plot.draw();"
      ],
      "text/plain": [
       "<IPython.core.display.Javascript object>"
      ]
     },
     "metadata": {},
     "output_type": "display_data"
    },
    {
     "data": {
      "application/javascript": [
       "$('#avg-error').html(0.01108)"
      ],
      "text/plain": [
       "<IPython.core.display.Javascript object>"
      ]
     },
     "metadata": {},
     "output_type": "display_data"
    },
    {
     "data": {
      "application/javascript": [
       "$('#iteration').html(7850)"
      ],
      "text/plain": [
       "<IPython.core.display.Javascript object>"
      ]
     },
     "metadata": {},
     "output_type": "display_data"
    },
    {
     "data": {
      "application/javascript": [
       "window.error.push([7850,0.01108])"
      ],
      "text/plain": [
       "<IPython.core.display.Javascript object>"
      ]
     },
     "metadata": {},
     "output_type": "display_data"
    },
    {
     "data": {
      "application/javascript": [
       "window.plot.setData([window.error]); window.plot.draw();"
      ],
      "text/plain": [
       "<IPython.core.display.Javascript object>"
      ]
     },
     "metadata": {},
     "output_type": "display_data"
    },
    {
     "data": {
      "application/javascript": [
       "window.weights_l0 = [[1, -6.664438427690625], [2, -1.7523747958547737], [3, -4.669581428585804], [4, 3.278941232477633], [5, 5.164223234497018], [6, 4.359209386082658], [7, -4.587389959737811], [8, -5.32795201213288], [9, -2.313225691345389], [10, 0.3824097767833783], [11, 1.1614619711263643], [12, -1.3815051922930615]]"
      ],
      "text/plain": [
       "<IPython.core.display.Javascript object>"
      ]
     },
     "metadata": {},
     "output_type": "display_data"
    },
    {
     "data": {
      "application/javascript": [
       "window.weight_plot_l0.setData([window.weights_l0]); window.weight_plot_l0.draw();"
      ],
      "text/plain": [
       "<IPython.core.display.Javascript object>"
      ]
     },
     "metadata": {},
     "output_type": "display_data"
    },
    {
     "data": {
      "application/javascript": [
       "window.weights_l1 = [[1, 9.891655423426503], [2, -4.840665329418457], [3, -5.655887665717766], [4, 6.576148816835198]]"
      ],
      "text/plain": [
       "<IPython.core.display.Javascript object>"
      ]
     },
     "metadata": {},
     "output_type": "display_data"
    },
    {
     "data": {
      "application/javascript": [
       "window.weight_plot_l1.setData([window.weights_l1]); window.weight_plot_l1.draw();"
      ],
      "text/plain": [
       "<IPython.core.display.Javascript object>"
      ]
     },
     "metadata": {},
     "output_type": "display_data"
    },
    {
     "data": {
      "application/javascript": [
       "window.outputs = [[1, 0.00686704351665489], [2, 0.9876574466404306], [3, 0.9897934792971552], [4, 0.014911945703949573]]"
      ],
      "text/plain": [
       "<IPython.core.display.Javascript object>"
      ]
     },
     "metadata": {},
     "output_type": "display_data"
    },
    {
     "data": {
      "application/javascript": [
       "window.output_plot.setData([window.outputs]); window.output_plot.draw();"
      ],
      "text/plain": [
       "<IPython.core.display.Javascript object>"
      ]
     },
     "metadata": {},
     "output_type": "display_data"
    },
    {
     "data": {
      "application/javascript": [
       "$('#avg-error').html(0.01104)"
      ],
      "text/plain": [
       "<IPython.core.display.Javascript object>"
      ]
     },
     "metadata": {},
     "output_type": "display_data"
    },
    {
     "data": {
      "application/javascript": [
       "$('#iteration').html(7900)"
      ],
      "text/plain": [
       "<IPython.core.display.Javascript object>"
      ]
     },
     "metadata": {},
     "output_type": "display_data"
    },
    {
     "data": {
      "application/javascript": [
       "window.error.push([7900,0.01104])"
      ],
      "text/plain": [
       "<IPython.core.display.Javascript object>"
      ]
     },
     "metadata": {},
     "output_type": "display_data"
    },
    {
     "data": {
      "application/javascript": [
       "window.plot.setData([window.error]); window.plot.draw();"
      ],
      "text/plain": [
       "<IPython.core.display.Javascript object>"
      ]
     },
     "metadata": {},
     "output_type": "display_data"
    },
    {
     "data": {
      "application/javascript": [
       "window.weights_l0 = [[1, -6.666712437261447], [2, -1.7539824804865953], [3, -4.6703827005886], [4, 3.2805916204680243], [5, 5.165771339339076], [6, 4.361307833773159], [7, -4.588663928342347], [8, -5.330071130494912], [9, -2.313561534951165], [10, 0.3832136098414273], [11, 1.161762987864217], [12, -1.382255964590487]]"
      ],
      "text/plain": [
       "<IPython.core.display.Javascript object>"
      ]
     },
     "metadata": {},
     "output_type": "display_data"
    },
    {
     "data": {
      "application/javascript": [
       "window.weight_plot_l0.setData([window.weights_l0]); window.weight_plot_l0.draw();"
      ],
      "text/plain": [
       "<IPython.core.display.Javascript object>"
      ]
     },
     "metadata": {},
     "output_type": "display_data"
    },
    {
     "data": {
      "application/javascript": [
       "window.weights_l1 = [[1, 9.89829710576872], [2, -4.843970863882043], [3, -5.657281938908102], [4, 6.579814013712061]]"
      ],
      "text/plain": [
       "<IPython.core.display.Javascript object>"
      ]
     },
     "metadata": {},
     "output_type": "display_data"
    },
    {
     "data": {
      "application/javascript": [
       "window.weight_plot_l1.setData([window.weights_l1]); window.weight_plot_l1.draw();"
      ],
      "text/plain": [
       "<IPython.core.display.Javascript object>"
      ]
     },
     "metadata": {},
     "output_type": "display_data"
    },
    {
     "data": {
      "application/javascript": [
       "window.outputs = [[1, 0.006839775617137876], [2, 0.987701337639305], [3, 0.9898323495177729], [4, 0.014858597811095284]]"
      ],
      "text/plain": [
       "<IPython.core.display.Javascript object>"
      ]
     },
     "metadata": {},
     "output_type": "display_data"
    },
    {
     "data": {
      "application/javascript": [
       "window.output_plot.setData([window.outputs]); window.output_plot.draw();"
      ],
      "text/plain": [
       "<IPython.core.display.Javascript object>"
      ]
     },
     "metadata": {},
     "output_type": "display_data"
    },
    {
     "data": {
      "application/javascript": [
       "$('#avg-error').html(0.01100)"
      ],
      "text/plain": [
       "<IPython.core.display.Javascript object>"
      ]
     },
     "metadata": {},
     "output_type": "display_data"
    },
    {
     "data": {
      "application/javascript": [
       "$('#iteration').html(7950)"
      ],
      "text/plain": [
       "<IPython.core.display.Javascript object>"
      ]
     },
     "metadata": {},
     "output_type": "display_data"
    },
    {
     "data": {
      "application/javascript": [
       "window.error.push([7950,0.01100])"
      ],
      "text/plain": [
       "<IPython.core.display.Javascript object>"
      ]
     },
     "metadata": {},
     "output_type": "display_data"
    },
    {
     "data": {
      "application/javascript": [
       "window.plot.setData([window.error]); window.plot.draw();"
      ],
      "text/plain": [
       "<IPython.core.display.Javascript object>"
      ]
     },
     "metadata": {},
     "output_type": "display_data"
    },
    {
     "data": {
      "application/javascript": [
       "window.weights_l0 = [[1, -6.6689696214049565], [2, -1.7555788833859718], [3, -4.671177771032831], [4, 3.282229393349984], [5, 5.167307864951119], [6, 4.363390952111412], [7, -4.589928118397134], [8, -5.33217415196277], [9, -2.313894879452902], [10, 0.3840115771891457], [11, 1.1620615054757757], [12, -1.383000801127446]]"
      ],
      "text/plain": [
       "<IPython.core.display.Javascript object>"
      ]
     },
     "metadata": {},
     "output_type": "display_data"
    },
    {
     "data": {
      "application/javascript": [
       "window.weight_plot_l0.setData([window.weights_l0]); window.weight_plot_l0.draw();"
      ],
      "text/plain": [
       "<IPython.core.display.Javascript object>"
      ]
     },
     "metadata": {},
     "output_type": "display_data"
    },
    {
     "data": {
      "application/javascript": [
       "window.weights_l1 = [[1, 9.904893043608457], [2, -4.847253735756486], [3, -5.658665404263472], [4, 6.583452756017982]]"
      ],
      "text/plain": [
       "<IPython.core.display.Javascript object>"
      ]
     },
     "metadata": {},
     "output_type": "display_data"
    },
    {
     "data": {
      "application/javascript": [
       "window.weight_plot_l1.setData([window.weights_l1]); window.weight_plot_l1.draw();"
      ],
      "text/plain": [
       "<IPython.core.display.Javascript object>"
      ]
     },
     "metadata": {},
     "output_type": "display_data"
    },
    {
     "data": {
      "application/javascript": [
       "window.outputs = [[1, 0.006812804383277318], [2, 0.9877447717564879], [3, 0.9898708020721487], [4, 0.0148058071138388]]"
      ],
      "text/plain": [
       "<IPython.core.display.Javascript object>"
      ]
     },
     "metadata": {},
     "output_type": "display_data"
    },
    {
     "data": {
      "application/javascript": [
       "window.output_plot.setData([window.outputs]); window.output_plot.draw();"
      ],
      "text/plain": [
       "<IPython.core.display.Javascript object>"
      ]
     },
     "metadata": {},
     "output_type": "display_data"
    },
    {
     "data": {
      "application/javascript": [
       "$('#avg-error').html(0.01096)"
      ],
      "text/plain": [
       "<IPython.core.display.Javascript object>"
      ]
     },
     "metadata": {},
     "output_type": "display_data"
    },
    {
     "data": {
      "application/javascript": [
       "$('#iteration').html(8000)"
      ],
      "text/plain": [
       "<IPython.core.display.Javascript object>"
      ]
     },
     "metadata": {},
     "output_type": "display_data"
    },
    {
     "data": {
      "application/javascript": [
       "window.error.push([8000,0.01096])"
      ],
      "text/plain": [
       "<IPython.core.display.Javascript object>"
      ]
     },
     "metadata": {},
     "output_type": "display_data"
    },
    {
     "data": {
      "application/javascript": [
       "window.plot.setData([window.error]); window.plot.draw();"
      ],
      "text/plain": [
       "<IPython.core.display.Javascript object>"
      ]
     },
     "metadata": {},
     "output_type": "display_data"
    },
    {
     "data": {
      "application/javascript": [
       "window.weights_l0 = [[1, -6.671210218439828], [2, -1.7571641587732632], [3, -4.671966730347061], [4, 3.28385473330635], [5, 5.168832976556816], [6, 4.365458956622795], [7, -4.591182671367309], [8, -5.3342613084117945], [9, -2.314225760490389], [10, 0.384803760886488], [11, 1.1623575618233242], [12, -1.383739789086062]]"
      ],
      "text/plain": [
       "<IPython.core.display.Javascript object>"
      ]
     },
     "metadata": {},
     "output_type": "display_data"
    },
    {
     "data": {
      "application/javascript": [
       "window.weight_plot_l0.setData([window.weights_l0]); window.weight_plot_l0.draw();"
      ],
      "text/plain": [
       "<IPython.core.display.Javascript object>"
      ]
     },
     "metadata": {},
     "output_type": "display_data"
    },
    {
     "data": {
      "application/javascript": [
       "window.weights_l1 = [[1, 9.91144386017283], [2, -4.850514252685114], [3, -5.660038219142699], [4, 6.5870654144356156]]"
      ],
      "text/plain": [
       "<IPython.core.display.Javascript object>"
      ]
     },
     "metadata": {},
     "output_type": "display_data"
    },
    {
     "data": {
      "application/javascript": [
       "window.weight_plot_l1.setData([window.weights_l1]); window.weight_plot_l1.draw();"
      ],
      "text/plain": [
       "<IPython.core.display.Javascript object>"
      ]
     },
     "metadata": {},
     "output_type": "display_data"
    },
    {
     "data": {
      "application/javascript": [
       "window.outputs = [[1, 0.006786124591595399], [2, 0.9877877568108099], [3, 0.9899088442638276], [4, 0.014753564052945149]]"
      ],
      "text/plain": [
       "<IPython.core.display.Javascript object>"
      ]
     },
     "metadata": {},
     "output_type": "display_data"
    },
    {
     "data": {
      "application/javascript": [
       "window.output_plot.setData([window.outputs]); window.output_plot.draw();"
      ],
      "text/plain": [
       "<IPython.core.display.Javascript object>"
      ]
     },
     "metadata": {},
     "output_type": "display_data"
    },
    {
     "data": {
      "application/javascript": [
       "$('#avg-error').html(0.01092)"
      ],
      "text/plain": [
       "<IPython.core.display.Javascript object>"
      ]
     },
     "metadata": {},
     "output_type": "display_data"
    },
    {
     "data": {
      "application/javascript": [
       "$('#iteration').html(8050)"
      ],
      "text/plain": [
       "<IPython.core.display.Javascript object>"
      ]
     },
     "metadata": {},
     "output_type": "display_data"
    },
    {
     "data": {
      "application/javascript": [
       "window.error.push([8050,0.01092])"
      ],
      "text/plain": [
       "<IPython.core.display.Javascript object>"
      ]
     },
     "metadata": {},
     "output_type": "display_data"
    },
    {
     "data": {
      "application/javascript": [
       "window.plot.setData([window.error]); window.plot.draw();"
      ],
      "text/plain": [
       "<IPython.core.display.Javascript object>"
      ]
     },
     "metadata": {},
     "output_type": "display_data"
    },
    {
     "data": {
      "application/javascript": [
       "window.weights_l0 = [[1, -6.673434461727537], [2, -1.7587384577491618], [3, -4.67274966703688], [4, 3.2854678186772577], [5, 5.1703468359231435], [6, 4.36751205837368], [7, -4.592427725730522], [8, -5.336332826832394], [9, -2.3145542129574364], [10, 0.38559024130516195], [11, 1.1626511939422477], [12, -1.384473013789068]]"
      ],
      "text/plain": [
       "<IPython.core.display.Javascript object>"
      ]
     },
     "metadata": {},
     "output_type": "display_data"
    },
    {
     "data": {
      "application/javascript": [
       "window.weight_plot_l0.setData([window.weights_l0]); window.weight_plot_l0.draw();"
      ],
      "text/plain": [
       "<IPython.core.display.Javascript object>"
      ]
     },
     "metadata": {},
     "output_type": "display_data"
    },
    {
     "data": {
      "application/javascript": [
       "window.weights_l1 = [[1, 9.917950166072139], [2, -4.8537527161023934], [3, -5.661400537565179], [4, 6.590652351988098]]"
      ],
      "text/plain": [
       "<IPython.core.display.Javascript object>"
      ]
     },
     "metadata": {},
     "output_type": "display_data"
    },
    {
     "data": {
      "application/javascript": [
       "window.weight_plot_l1.setData([window.weights_l1]); window.weight_plot_l1.draw();"
      ],
      "text/plain": [
       "<IPython.core.display.Javascript object>"
      ]
     },
     "metadata": {},
     "output_type": "display_data"
    },
    {
     "data": {
      "application/javascript": [
       "window.outputs = [[1, 0.006759731145093679], [2, 0.9878303004357594], [3, 0.9899464832203189], [4, 0.014701859296235359]]"
      ],
      "text/plain": [
       "<IPython.core.display.Javascript object>"
      ]
     },
     "metadata": {},
     "output_type": "display_data"
    },
    {
     "data": {
      "application/javascript": [
       "window.output_plot.setData([window.outputs]); window.output_plot.draw();"
      ],
      "text/plain": [
       "<IPython.core.display.Javascript object>"
      ]
     },
     "metadata": {},
     "output_type": "display_data"
    },
    {
     "data": {
      "application/javascript": [
       "$('#avg-error').html(0.01088)"
      ],
      "text/plain": [
       "<IPython.core.display.Javascript object>"
      ]
     },
     "metadata": {},
     "output_type": "display_data"
    },
    {
     "data": {
      "application/javascript": [
       "$('#iteration').html(8100)"
      ],
      "text/plain": [
       "<IPython.core.display.Javascript object>"
      ]
     },
     "metadata": {},
     "output_type": "display_data"
    },
    {
     "data": {
      "application/javascript": [
       "window.error.push([8100,0.01088])"
      ],
      "text/plain": [
       "<IPython.core.display.Javascript object>"
      ]
     },
     "metadata": {},
     "output_type": "display_data"
    },
    {
     "data": {
      "application/javascript": [
       "window.plot.setData([window.error]); window.plot.draw();"
      ],
      "text/plain": [
       "<IPython.core.display.Javascript object>"
      ]
     },
     "metadata": {},
     "output_type": "display_data"
    },
    {
     "data": {
      "application/javascript": [
       "window.weights_l0 = [[1, -6.675642579807844], [2, -1.7603019283779764], [3, -4.673526667738422], [4, 3.2870688240663086], [5, 5.171849601455331], [6, 4.369550464092792], [7, -4.593663417059535], [8, -5.338388929464932], [9, -2.314880271022387], [10, 0.38637109717430823], [11, 1.1629424380645224], [12, -1.3852005587515965]]"
      ],
      "text/plain": [
       "<IPython.core.display.Javascript object>"
      ]
     },
     "metadata": {},
     "output_type": "display_data"
    },
    {
     "data": {
      "application/javascript": [
       "window.weight_plot_l0.setData([window.weights_l0]); window.weight_plot_l0.draw();"
      ],
      "text/plain": [
       "<IPython.core.display.Javascript object>"
      ]
     },
     "metadata": {},
     "output_type": "display_data"
    },
    {
     "data": {
      "application/javascript": [
       "window.weights_l1 = [[1, 9.924412559637528], [2, -4.856969421399649], [3, -5.662752510303613], [4, 6.594213924247401]]"
      ],
      "text/plain": [
       "<IPython.core.display.Javascript object>"
      ]
     },
     "metadata": {},
     "output_type": "display_data"
    },
    {
     "data": {
      "application/javascript": [
       "window.weight_plot_l1.setData([window.weights_l1]); window.weight_plot_l1.draw();"
      ],
      "text/plain": [
       "<IPython.core.display.Javascript object>"
      ]
     },
     "metadata": {},
     "output_type": "display_data"
    },
    {
     "data": {
      "application/javascript": [
       "window.outputs = [[1, 0.006733619069368339], [2, 0.98787241008508], [3, 0.9899837258984842], [4, 0.014650683731718487]]"
      ],
      "text/plain": [
       "<IPython.core.display.Javascript object>"
      ]
     },
     "metadata": {},
     "output_type": "display_data"
    },
    {
     "data": {
      "application/javascript": [
       "window.output_plot.setData([window.outputs]); window.output_plot.draw();"
      ],
      "text/plain": [
       "<IPython.core.display.Javascript object>"
      ]
     },
     "metadata": {},
     "output_type": "display_data"
    },
    {
     "data": {
      "application/javascript": [
       "$('#avg-error').html(0.01084)"
      ],
      "text/plain": [
       "<IPython.core.display.Javascript object>"
      ]
     },
     "metadata": {},
     "output_type": "display_data"
    },
    {
     "data": {
      "application/javascript": [
       "$('#iteration').html(8150)"
      ],
      "text/plain": [
       "<IPython.core.display.Javascript object>"
      ]
     },
     "metadata": {},
     "output_type": "display_data"
    },
    {
     "data": {
      "application/javascript": [
       "window.error.push([8150,0.01084])"
      ],
      "text/plain": [
       "<IPython.core.display.Javascript object>"
      ]
     },
     "metadata": {},
     "output_type": "display_data"
    },
    {
     "data": {
      "application/javascript": [
       "window.plot.setData([window.error]); window.plot.draw();"
      ],
      "text/plain": [
       "<IPython.core.display.Javascript object>"
      ]
     },
     "metadata": {},
     "output_type": "display_data"
    },
    {
     "data": {
      "application/javascript": [
       "window.weights_l0 = [[1, -6.677834796529703], [2, -1.7618547157681599], [3, -4.674297817270057], [4, 3.2886579204431294], [5, 5.173341428288545], [6, 4.3715743762884705], [7, -4.594889878102059], [8, -5.340429833930039], [9, -2.315203968147922], [10, 0.38714640562465663], [11, 1.1632313296413863], [12, -1.3859225057312021]]"
      ],
      "text/plain": [
       "<IPython.core.display.Javascript object>"
      ]
     },
     "metadata": {},
     "output_type": "display_data"
    },
    {
     "data": {
      "application/javascript": [
       "window.weight_plot_l0.setData([window.weights_l0]); window.weight_plot_l0.draw();"
      ],
      "text/plain": [
       "<IPython.core.display.Javascript object>"
      ]
     },
     "metadata": {},
     "output_type": "display_data"
    },
    {
     "data": {
      "application/javascript": [
       "window.weights_l1 = [[1, 9.930831627247434], [2, -4.860164658085269], [3, -5.664094284973572], [4, 6.5977504795356765]]"
      ],
      "text/plain": [
       "<IPython.core.display.Javascript object>"
      ]
     },
     "metadata": {},
     "output_type": "display_data"
    },
    {
     "data": {
      "application/javascript": [
       "window.weight_plot_l1.setData([window.weights_l1]); window.weight_plot_l1.draw();"
      ],
      "text/plain": [
       "<IPython.core.display.Javascript object>"
      ]
     },
     "metadata": {},
     "output_type": "display_data"
    },
    {
     "data": {
      "application/javascript": [
       "window.outputs = [[1, 0.0067077835088695525], [2, 0.987914093038161], [3, 0.9900205790897275], [4, 0.014600028460975849]]"
      ],
      "text/plain": [
       "<IPython.core.display.Javascript object>"
      ]
     },
     "metadata": {},
     "output_type": "display_data"
    },
    {
     "data": {
      "application/javascript": [
       "window.output_plot.setData([window.outputs]); window.output_plot.draw();"
      ],
      "text/plain": [
       "<IPython.core.display.Javascript object>"
      ]
     },
     "metadata": {},
     "output_type": "display_data"
    },
    {
     "data": {
      "application/javascript": [
       "$('#avg-error').html(0.01080)"
      ],
      "text/plain": [
       "<IPython.core.display.Javascript object>"
      ]
     },
     "metadata": {},
     "output_type": "display_data"
    },
    {
     "data": {
      "application/javascript": [
       "$('#iteration').html(8200)"
      ],
      "text/plain": [
       "<IPython.core.display.Javascript object>"
      ]
     },
     "metadata": {},
     "output_type": "display_data"
    },
    {
     "data": {
      "application/javascript": [
       "window.error.push([8200,0.01080])"
      ],
      "text/plain": [
       "<IPython.core.display.Javascript object>"
      ]
     },
     "metadata": {},
     "output_type": "display_data"
    },
    {
     "data": {
      "application/javascript": [
       "window.plot.setData([window.error]); window.plot.draw();"
      ],
      "text/plain": [
       "<IPython.core.display.Javascript object>"
      ]
     },
     "metadata": {},
     "output_type": "display_data"
    },
    {
     "data": {
      "application/javascript": [
       "window.weights_l0 = [[1, -6.680011331177762], [2, -1.7633969621501933], [3, -4.675063198682286], [4, 3.2902352752424644], [5, 5.174822468376547], [6, 4.373583993361985], [7, -4.596107238857854], [8, -5.342455753354495], [9, -2.3155253371101963], [10, 0.38791624223121157], [11, 1.1635179033652285], [12, -1.386638934776176]]"
      ],
      "text/plain": [
       "<IPython.core.display.Javascript object>"
      ]
     },
     "metadata": {},
     "output_type": "display_data"
    },
    {
     "data": {
      "application/javascript": [
       "window.weight_plot_l0.setData([window.weights_l0]); window.weight_plot_l0.draw();"
      ],
      "text/plain": [
       "<IPython.core.display.Javascript object>"
      ]
     },
     "metadata": {},
     "output_type": "display_data"
    },
    {
     "data": {
      "application/javascript": [
       "window.weights_l1 = [[1, 9.937207943643271], [2, -4.863338709939685], [3, -5.665426006120009], [4, 6.601262359119868]]"
      ],
      "text/plain": [
       "<IPython.core.display.Javascript object>"
      ]
     },
     "metadata": {},
     "output_type": "display_data"
    },
    {
     "data": {
      "application/javascript": [
       "window.weight_plot_l1.setData([window.weights_l1]); window.weight_plot_l1.draw();"
      ],
      "text/plain": [
       "<IPython.core.display.Javascript object>"
      ]
     },
     "metadata": {},
     "output_type": "display_data"
    },
    {
     "data": {
      "application/javascript": [
       "window.outputs = [[1, 0.006682219723298874], [2, 0.9879553564052339], [3, 0.9900570494249937], [4, 0.014549884792785517]]"
      ],
      "text/plain": [
       "<IPython.core.display.Javascript object>"
      ]
     },
     "metadata": {},
     "output_type": "display_data"
    },
    {
     "data": {
      "application/javascript": [
       "window.output_plot.setData([window.outputs]); window.output_plot.draw();"
      ],
      "text/plain": [
       "<IPython.core.display.Javascript object>"
      ]
     },
     "metadata": {},
     "output_type": "display_data"
    },
    {
     "data": {
      "application/javascript": [
       "$('#avg-error').html(0.01077)"
      ],
      "text/plain": [
       "<IPython.core.display.Javascript object>"
      ]
     },
     "metadata": {},
     "output_type": "display_data"
    },
    {
     "data": {
      "application/javascript": [
       "$('#iteration').html(8250)"
      ],
      "text/plain": [
       "<IPython.core.display.Javascript object>"
      ]
     },
     "metadata": {},
     "output_type": "display_data"
    },
    {
     "data": {
      "application/javascript": [
       "window.error.push([8250,0.01077])"
      ],
      "text/plain": [
       "<IPython.core.display.Javascript object>"
      ]
     },
     "metadata": {},
     "output_type": "display_data"
    },
    {
     "data": {
      "application/javascript": [
       "window.plot.setData([window.error]); window.plot.draw();"
      ],
      "text/plain": [
       "<IPython.core.display.Javascript object>"
      ]
     },
     "metadata": {},
     "output_type": "display_data"
    },
    {
     "data": {
      "application/javascript": [
       "window.weights_l0 = [[1, -6.682172398594682], [2, -1.7649288069519302], [3, -4.675822893305992], [4, 3.2918010524599115], [5, 5.1762928705773295], [6, 4.375579509717146], [7, -4.597315626653229], [8, -5.344466896492908], [9, -2.315844410017338], [10, 0.38868068105453024], [11, 1.1638021931907214], [12, -1.38734992427223]]"
      ],
      "text/plain": [
       "<IPython.core.display.Javascript object>"
      ]
     },
     "metadata": {},
     "output_type": "display_data"
    },
    {
     "data": {
      "application/javascript": [
       "window.weight_plot_l0.setData([window.weights_l0]); window.weight_plot_l0.draw();"
      ],
      "text/plain": [
       "<IPython.core.display.Javascript object>"
      ]
     },
     "metadata": {},
     "output_type": "display_data"
    },
    {
     "data": {
      "application/javascript": [
       "window.weights_l1 = [[1, 9.943542072234786], [2, -4.866491855165252], [3, -5.666747815300845], [4, 6.604749897399886]]"
      ],
      "text/plain": [
       "<IPython.core.display.Javascript object>"
      ]
     },
     "metadata": {},
     "output_type": "display_data"
    },
    {
     "data": {
      "application/javascript": [
       "window.weight_plot_l1.setData([window.weights_l1]); window.weight_plot_l1.draw();"
      ],
      "text/plain": [
       "<IPython.core.display.Javascript object>"
      ]
     },
     "metadata": {},
     "output_type": "display_data"
    },
    {
     "data": {
      "application/javascript": [
       "window.outputs = [[1, 0.006656923084138617], [2, 0.98799620713238], [3, 0.9900931433795835], [4, 0.014500244236977875]]"
      ],
      "text/plain": [
       "<IPython.core.display.Javascript object>"
      ]
     },
     "metadata": {},
     "output_type": "display_data"
    },
    {
     "data": {
      "application/javascript": [
       "window.output_plot.setData([window.outputs]); window.output_plot.draw();"
      ],
      "text/plain": [
       "<IPython.core.display.Javascript object>"
      ]
     },
     "metadata": {},
     "output_type": "display_data"
    },
    {
     "data": {
      "application/javascript": [
       "$('#avg-error').html(0.01073)"
      ],
      "text/plain": [
       "<IPython.core.display.Javascript object>"
      ]
     },
     "metadata": {},
     "output_type": "display_data"
    },
    {
     "data": {
      "application/javascript": [
       "$('#iteration').html(8300)"
      ],
      "text/plain": [
       "<IPython.core.display.Javascript object>"
      ]
     },
     "metadata": {},
     "output_type": "display_data"
    },
    {
     "data": {
      "application/javascript": [
       "window.error.push([8300,0.01073])"
      ],
      "text/plain": [
       "<IPython.core.display.Javascript object>"
      ]
     },
     "metadata": {},
     "output_type": "display_data"
    },
    {
     "data": {
      "application/javascript": [
       "window.plot.setData([window.error]); window.plot.draw();"
      ],
      "text/plain": [
       "<IPython.core.display.Javascript object>"
      ]
     },
     "metadata": {},
     "output_type": "display_data"
    },
    {
     "data": {
      "application/javascript": [
       "window.weights_l0 = [[1, -6.684318209299381], [2, -1.76645038687149], [3, -4.676576980799041], [4, 3.293355412744492], [5, 5.177752780735913], [6, 4.377561115866237], [7, -4.598515166213069], [8, -5.346463467845287], [9, -2.3161612183273315], [10, 0.3894397946806453], [11, 1.1640842323552327], [12, -1.3880555509876042]]"
      ],
      "text/plain": [
       "<IPython.core.display.Javascript object>"
      ]
     },
     "metadata": {},
     "output_type": "display_data"
    },
    {
     "data": {
      "application/javascript": [
       "window.weight_plot_l0.setData([window.weights_l0]); window.weight_plot_l0.draw();"
      ],
      "text/plain": [
       "<IPython.core.display.Javascript object>"
      ]
     },
     "metadata": {},
     "output_type": "display_data"
    },
    {
     "data": {
      "application/javascript": [
       "window.weights_l1 = [[1, 9.949834565395468], [2, -4.8696243665312755], [3, -5.668059851167775], [4, 6.608213422090533]]"
      ],
      "text/plain": [
       "<IPython.core.display.Javascript object>"
      ]
     },
     "metadata": {},
     "output_type": "display_data"
    },
    {
     "data": {
      "application/javascript": [
       "window.weight_plot_l1.setData([window.weights_l1]); window.weight_plot_l1.draw();"
      ],
      "text/plain": [
       "<IPython.core.display.Javascript object>"
      ]
     },
     "metadata": {},
     "output_type": "display_data"
    },
    {
     "data": {
      "application/javascript": [
       "window.outputs = [[1, 0.006631889071307373], [2, 0.9880366520063577], [3, 0.9901288672777954], [4, 0.014451098498511622]]"
      ],
      "text/plain": [
       "<IPython.core.display.Javascript object>"
      ]
     },
     "metadata": {},
     "output_type": "display_data"
    },
    {
     "data": {
      "application/javascript": [
       "window.output_plot.setData([window.outputs]); window.output_plot.draw();"
      ],
      "text/plain": [
       "<IPython.core.display.Javascript object>"
      ]
     },
     "metadata": {},
     "output_type": "display_data"
    },
    {
     "data": {
      "application/javascript": [
       "$('#avg-error').html(0.01069)"
      ],
      "text/plain": [
       "<IPython.core.display.Javascript object>"
      ]
     },
     "metadata": {},
     "output_type": "display_data"
    },
    {
     "data": {
      "application/javascript": [
       "$('#iteration').html(8350)"
      ],
      "text/plain": [
       "<IPython.core.display.Javascript object>"
      ]
     },
     "metadata": {},
     "output_type": "display_data"
    },
    {
     "data": {
      "application/javascript": [
       "window.error.push([8350,0.01069])"
      ],
      "text/plain": [
       "<IPython.core.display.Javascript object>"
      ]
     },
     "metadata": {},
     "output_type": "display_data"
    },
    {
     "data": {
      "application/javascript": [
       "window.plot.setData([window.error]); window.plot.draw();"
      ],
      "text/plain": [
       "<IPython.core.display.Javascript object>"
      ]
     },
     "metadata": {},
     "output_type": "display_data"
    },
    {
     "data": {
      "application/javascript": [
       "window.weights_l0 = [[1, -6.686448969601385], [2, -1.7679618359478046], [3, -4.677325539191329], [4, 3.294898513488124], [5, 5.179202341764462], [6, 4.379528998532531], [7, -4.599705979730485], [8, -5.348445667770752], [9, -2.316475792865306], [10, 0.3901936542596873], [11, 1.164364053398543], [12, -1.3887558901166788]]"
      ],
      "text/plain": [
       "<IPython.core.display.Javascript object>"
      ]
     },
     "metadata": {},
     "output_type": "display_data"
    },
    {
     "data": {
      "application/javascript": [
       "window.weight_plot_l0.setData([window.weights_l0]); window.weight_plot_l0.draw();"
      ],
      "text/plain": [
       "<IPython.core.display.Javascript object>"
      ]
     },
     "metadata": {},
     "output_type": "display_data"
    },
    {
     "data": {
      "application/javascript": [
       "window.weights_l1 = [[1, 9.956085964748409], [2, -4.87273651151435], [3, -5.6693622495443625], [4, 6.611653254397514]]"
      ],
      "text/plain": [
       "<IPython.core.display.Javascript object>"
      ]
     },
     "metadata": {},
     "output_type": "display_data"
    },
    {
     "data": {
      "application/javascript": [
       "window.weight_plot_l1.setData([window.weights_l1]); window.weight_plot_l1.draw();"
      ],
      "text/plain": [
       "<IPython.core.display.Javascript object>"
      ]
     },
     "metadata": {},
     "output_type": "display_data"
    },
    {
     "data": {
      "application/javascript": [
       "window.outputs = [[1, 0.00660711326993682], [2, 0.9880766976592606], [3, 0.9901642272973987], [4, 0.014402439471761916]]"
      ],
      "text/plain": [
       "<IPython.core.display.Javascript object>"
      ]
     },
     "metadata": {},
     "output_type": "display_data"
    },
    {
     "data": {
      "application/javascript": [
       "window.output_plot.setData([window.outputs]); window.output_plot.draw();"
      ],
      "text/plain": [
       "<IPython.core.display.Javascript object>"
      ]
     },
     "metadata": {},
     "output_type": "display_data"
    },
    {
     "data": {
      "application/javascript": [
       "$('#avg-error').html(0.01066)"
      ],
      "text/plain": [
       "<IPython.core.display.Javascript object>"
      ]
     },
     "metadata": {},
     "output_type": "display_data"
    },
    {
     "data": {
      "application/javascript": [
       "$('#iteration').html(8400)"
      ],
      "text/plain": [
       "<IPython.core.display.Javascript object>"
      ]
     },
     "metadata": {},
     "output_type": "display_data"
    },
    {
     "data": {
      "application/javascript": [
       "window.error.push([8400,0.01066])"
      ],
      "text/plain": [
       "<IPython.core.display.Javascript object>"
      ]
     },
     "metadata": {},
     "output_type": "display_data"
    },
    {
     "data": {
      "application/javascript": [
       "window.plot.setData([window.error]); window.plot.draw();"
      ],
      "text/plain": [
       "<IPython.core.display.Javascript object>"
      ]
     },
     "metadata": {},
     "output_type": "display_data"
    },
    {
     "data": {
      "application/javascript": [
       "window.weights_l0 = [[1, -6.688564881711482], [2, -1.76946328562891], [3, -4.678068644928336], [4, 3.2964305089121613], [5, 5.180641693719699], [6, 4.381483340749424], [7, -4.600888186934113], [8, -5.350413692597475], [9, -2.316788163840262], [10, 0.390942329543255], [11, 1.164641688181897], [12, -1.3894510153221236]]"
      ],
      "text/plain": [
       "<IPython.core.display.Javascript object>"
      ]
     },
     "metadata": {},
     "output_type": "display_data"
    },
    {
     "data": {
      "application/javascript": [
       "window.weight_plot_l0.setData([window.weights_l0]); window.weight_plot_l0.draw();"
      ],
      "text/plain": [
       "<IPython.core.display.Javascript object>"
      ]
     },
     "metadata": {},
     "output_type": "display_data"
    },
    {
     "data": {
      "application/javascript": [
       "window.weights_l1 = [[1, 9.96229680144297], [2, -4.875828552434232], [3, -5.67065514350155], [4, 6.615069709187668]]"
      ],
      "text/plain": [
       "<IPython.core.display.Javascript object>"
      ]
     },
     "metadata": {},
     "output_type": "display_data"
    },
    {
     "data": {
      "application/javascript": [
       "window.weight_plot_l1.setData([window.weights_l1]); window.weight_plot_l1.draw();"
      ],
      "text/plain": [
       "<IPython.core.display.Javascript object>"
      ]
     },
     "metadata": {},
     "output_type": "display_data"
    },
    {
     "data": {
      "application/javascript": [
       "window.outputs = [[1, 0.006582591367263893], [2, 0.9881163505730063], [3, 0.9901992294739467], [4, 0.014354259235010188]]"
      ],
      "text/plain": [
       "<IPython.core.display.Javascript object>"
      ]
     },
     "metadata": {},
     "output_type": "display_data"
    },
    {
     "data": {
      "application/javascript": [
       "window.output_plot.setData([window.outputs]); window.output_plot.draw();"
      ],
      "text/plain": [
       "<IPython.core.display.Javascript object>"
      ]
     },
     "metadata": {},
     "output_type": "display_data"
    },
    {
     "data": {
      "application/javascript": [
       "$('#avg-error').html(0.01062)"
      ],
      "text/plain": [
       "<IPython.core.display.Javascript object>"
      ]
     },
     "metadata": {},
     "output_type": "display_data"
    },
    {
     "data": {
      "application/javascript": [
       "$('#iteration').html(8450)"
      ],
      "text/plain": [
       "<IPython.core.display.Javascript object>"
      ]
     },
     "metadata": {},
     "output_type": "display_data"
    },
    {
     "data": {
      "application/javascript": [
       "window.error.push([8450,0.01062])"
      ],
      "text/plain": [
       "<IPython.core.display.Javascript object>"
      ]
     },
     "metadata": {},
     "output_type": "display_data"
    },
    {
     "data": {
      "application/javascript": [
       "window.plot.setData([window.error]); window.plot.draw();"
      ],
      "text/plain": [
       "<IPython.core.display.Javascript object>"
      ]
     },
     "metadata": {},
     "output_type": "display_data"
    },
    {
     "data": {
      "application/javascript": [
       "window.weights_l0 = [[1, -6.690666143848717], [2, -1.7709548648380569], [3, -4.678806372913268], [4, 3.297951550151092], [5, 5.182070973877828], [6, 4.383424321956396], [7, -4.602061905153255], [8, -5.352367734729026], [9, -2.317098360861255], [10, 0.3916858889205839], [11, 1.164917167906418], [12, -1.390140998775674]]"
      ],
      "text/plain": [
       "<IPython.core.display.Javascript object>"
      ]
     },
     "metadata": {},
     "output_type": "display_data"
    },
    {
     "data": {
      "application/javascript": [
       "window.weight_plot_l0.setData([window.weights_l0]); window.weight_plot_l0.draw();"
      ],
      "text/plain": [
       "<IPython.core.display.Javascript object>"
      ]
     },
     "metadata": {},
     "output_type": "display_data"
    },
    {
     "data": {
      "application/javascript": [
       "window.weights_l1 = [[1, 9.968467596422672], [2, -4.878900746585352], [3, -5.671938663430688], [4, 6.6184630951537375]]"
      ],
      "text/plain": [
       "<IPython.core.display.Javascript object>"
      ]
     },
     "metadata": {},
     "output_type": "display_data"
    },
    {
     "data": {
      "application/javascript": [
       "window.weight_plot_l1.setData([window.weights_l1]); window.weight_plot_l1.draw();"
      ],
      "text/plain": [
       "<IPython.core.display.Javascript object>"
      ]
     },
     "metadata": {},
     "output_type": "display_data"
    },
    {
     "data": {
      "application/javascript": [
       "window.outputs = [[1, 0.006558319149634311], [2, 0.9881556170836713], [3, 0.9902338797049366], [4, 0.014306550045128907]]"
      ],
      "text/plain": [
       "<IPython.core.display.Javascript object>"
      ]
     },
     "metadata": {},
     "output_type": "display_data"
    },
    {
     "data": {
      "application/javascript": [
       "window.output_plot.setData([window.outputs]); window.output_plot.draw();"
      ],
      "text/plain": [
       "<IPython.core.display.Javascript object>"
      ]
     },
     "metadata": {},
     "output_type": "display_data"
    },
    {
     "data": {
      "application/javascript": [
       "$('#avg-error').html(0.01058)"
      ],
      "text/plain": [
       "<IPython.core.display.Javascript object>"
      ]
     },
     "metadata": {},
     "output_type": "display_data"
    },
    {
     "data": {
      "application/javascript": [
       "$('#iteration').html(8500)"
      ],
      "text/plain": [
       "<IPython.core.display.Javascript object>"
      ]
     },
     "metadata": {},
     "output_type": "display_data"
    },
    {
     "data": {
      "application/javascript": [
       "window.error.push([8500,0.01058])"
      ],
      "text/plain": [
       "<IPython.core.display.Javascript object>"
      ]
     },
     "metadata": {},
     "output_type": "display_data"
    },
    {
     "data": {
      "application/javascript": [
       "window.plot.setData([window.error]); window.plot.draw();"
      ],
      "text/plain": [
       "<IPython.core.display.Javascript object>"
      ]
     },
     "metadata": {},
     "output_type": "display_data"
    },
    {
     "data": {
      "application/javascript": [
       "window.weights_l0 = [[1, -6.692752950343996], [2, -1.7724367000377348], [3, -4.679538796547769], [4, 3.2994617853335018], [5, 5.183490316807035], [6, 4.38535211809185], [7, -4.60322724938087], [8, -5.354307982747262], [9, -2.3174064129530323], [10, 0.39242439945355806], [11, 1.1651905231309072], [12, -1.390825911197557]]"
      ],
      "text/plain": [
       "<IPython.core.display.Javascript object>"
      ]
     },
     "metadata": {},
     "output_type": "display_data"
    },
    {
     "data": {
      "application/javascript": [
       "window.weight_plot_l0.setData([window.weights_l0]); window.weight_plot_l0.draw();"
      ],
      "text/plain": [
       "<IPython.core.display.Javascript object>"
      ]
     },
     "metadata": {},
     "output_type": "display_data"
    },
    {
     "data": {
      "application/javascript": [
       "window.weights_l1 = [[1, 9.974598860684475], [2, -4.881953346364179], [3, -5.673212937114172], [4, 6.621833714973805]]"
      ],
      "text/plain": [
       "<IPython.core.display.Javascript object>"
      ]
     },
     "metadata": {},
     "output_type": "display_data"
    },
    {
     "data": {
      "application/javascript": [
       "window.weight_plot_l1.setData([window.weights_l1]); window.weight_plot_l1.draw();"
      ],
      "text/plain": [
       "<IPython.core.display.Javascript object>"
      ]
     },
     "metadata": {},
     "output_type": "display_data"
    },
    {
     "data": {
      "application/javascript": [
       "window.outputs = [[1, 0.0065342924996123096], [2, 0.9881945033856715], [3, 0.990268183753822], [4, 0.014259304332452564]]"
      ],
      "text/plain": [
       "<IPython.core.display.Javascript object>"
      ]
     },
     "metadata": {},
     "output_type": "display_data"
    },
    {
     "data": {
      "application/javascript": [
       "window.output_plot.setData([window.outputs]); window.output_plot.draw();"
      ],
      "text/plain": [
       "<IPython.core.display.Javascript object>"
      ]
     },
     "metadata": {},
     "output_type": "display_data"
    },
    {
     "data": {
      "application/javascript": [
       "$('#avg-error').html(0.01055)"
      ],
      "text/plain": [
       "<IPython.core.display.Javascript object>"
      ]
     },
     "metadata": {},
     "output_type": "display_data"
    },
    {
     "data": {
      "application/javascript": [
       "$('#iteration').html(8550)"
      ],
      "text/plain": [
       "<IPython.core.display.Javascript object>"
      ]
     },
     "metadata": {},
     "output_type": "display_data"
    },
    {
     "data": {
      "application/javascript": [
       "window.error.push([8550,0.01055])"
      ],
      "text/plain": [
       "<IPython.core.display.Javascript object>"
      ]
     },
     "metadata": {},
     "output_type": "display_data"
    },
    {
     "data": {
      "application/javascript": [
       "window.plot.setData([window.error]); window.plot.draw();"
      ],
      "text/plain": [
       "<IPython.core.display.Javascript object>"
      ]
     },
     "metadata": {},
     "output_type": "display_data"
    },
    {
     "data": {
      "application/javascript": [
       "window.weights_l0 = [[1, -6.694825491740339], [2, -1.773908915291686], [3, -4.6802659877713495], [4, 3.300961359660431], [5, 5.184899854437654], [6, 4.387266901683032], [7, -4.604384332334552], [8, -5.356234621511865], [9, -2.3177123485712], [10, 0.3931579269106078], [11, 1.165461783789051], [12, -1.3915058218946412]]"
      ],
      "text/plain": [
       "<IPython.core.display.Javascript object>"
      ]
     },
     "metadata": {},
     "output_type": "display_data"
    },
    {
     "data": {
      "application/javascript": [
       "window.weight_plot_l0.setData([window.weights_l0]); window.weight_plot_l0.draw();"
      ],
      "text/plain": [
       "<IPython.core.display.Javascript object>"
      ]
     },
     "metadata": {},
     "output_type": "display_data"
    },
    {
     "data": {
      "application/javascript": [
       "window.weights_l1 = [[1, 9.980691095530005], [2, -4.884986599392576], [3, -5.67447808979378], [4, 6.625181865465647]]"
      ],
      "text/plain": [
       "<IPython.core.display.Javascript object>"
      ]
     },
     "metadata": {},
     "output_type": "display_data"
    },
    {
     "data": {
      "application/javascript": [
       "window.weight_plot_l1.setData([window.weights_l1]); window.weight_plot_l1.draw();"
      ],
      "text/plain": [
       "<IPython.core.display.Javascript object>"
      ]
     },
     "metadata": {},
     "output_type": "display_data"
    },
    {
     "data": {
      "application/javascript": [
       "window.outputs = [[1, 0.0065105073931921885], [2, 0.9882330155357991], [3, 0.9903021472538838], [4, 0.014212514695826628]]"
      ],
      "text/plain": [
       "<IPython.core.display.Javascript object>"
      ]
     },
     "metadata": {},
     "output_type": "display_data"
    },
    {
     "data": {
      "application/javascript": [
       "window.output_plot.setData([window.outputs]); window.output_plot.draw();"
      ],
      "text/plain": [
       "<IPython.core.display.Javascript object>"
      ]
     },
     "metadata": {},
     "output_type": "display_data"
    },
    {
     "data": {
      "application/javascript": [
       "$('#avg-error').html(0.01051)"
      ],
      "text/plain": [
       "<IPython.core.display.Javascript object>"
      ]
     },
     "metadata": {},
     "output_type": "display_data"
    },
    {
     "data": {
      "application/javascript": [
       "$('#iteration').html(8600)"
      ],
      "text/plain": [
       "<IPython.core.display.Javascript object>"
      ]
     },
     "metadata": {},
     "output_type": "display_data"
    },
    {
     "data": {
      "application/javascript": [
       "window.error.push([8600,0.01051])"
      ],
      "text/plain": [
       "<IPython.core.display.Javascript object>"
      ]
     },
     "metadata": {},
     "output_type": "display_data"
    },
    {
     "data": {
      "application/javascript": [
       "window.plot.setData([window.error]); window.plot.draw();"
      ],
      "text/plain": [
       "<IPython.core.display.Javascript object>"
      ]
     },
     "metadata": {},
     "output_type": "display_data"
    },
    {
     "data": {
      "application/javascript": [
       "window.weights_l0 = [[1, -6.696883954889928], [2, -1.7753716323249775], [3, -4.680988017099524], [4, 3.3024504154812138], [5, 5.186299716130073], [6, 4.389168841933033], [7, -4.605533264515498], [8, -5.358147832256717], [9, -2.3180161956168757], [10, 0.3938865357995385], [11, 1.1657309792060706], [12, -1.3921807987973511]]"
      ],
      "text/plain": [
       "<IPython.core.display.Javascript object>"
      ]
     },
     "metadata": {},
     "output_type": "display_data"
    },
    {
     "data": {
      "application/javascript": [
       "window.weight_plot_l0.setData([window.weights_l0]); window.weight_plot_l0.draw();"
      ],
      "text/plain": [
       "<IPython.core.display.Javascript object>"
      ]
     },
     "metadata": {},
     "output_type": "display_data"
    },
    {
     "data": {
      "application/javascript": [
       "window.weights_l1 = [[1, 9.986744792808834], [2, -4.8880007486373005], [3, -5.675734244236819], [4, 6.6285078377361994]]"
      ],
      "text/plain": [
       "<IPython.core.display.Javascript object>"
      ]
     },
     "metadata": {},
     "output_type": "display_data"
    },
    {
     "data": {
      "application/javascript": [
       "window.weight_plot_l1.setData([window.weights_l1]); window.weight_plot_l1.draw();"
      ],
      "text/plain": [
       "<IPython.core.display.Javascript object>"
      ]
     },
     "metadata": {},
     "output_type": "display_data"
    },
    {
     "data": {
      "application/javascript": [
       "window.outputs = [[1, 0.006486959897107607], [2, 0.9882711594571186], [3, 0.9903357757119664], [4, 0.014166173897828517]]"
      ],
      "text/plain": [
       "<IPython.core.display.Javascript object>"
      ]
     },
     "metadata": {},
     "output_type": "display_data"
    },
    {
     "data": {
      "application/javascript": [
       "window.output_plot.setData([window.outputs]); window.output_plot.draw();"
      ],
      "text/plain": [
       "<IPython.core.display.Javascript object>"
      ]
     },
     "metadata": {},
     "output_type": "display_data"
    },
    {
     "data": {
      "application/javascript": [
       "$('#avg-error').html(0.01048)"
      ],
      "text/plain": [
       "<IPython.core.display.Javascript object>"
      ]
     },
     "metadata": {},
     "output_type": "display_data"
    },
    {
     "data": {
      "application/javascript": [
       "$('#iteration').html(8650)"
      ],
      "text/plain": [
       "<IPython.core.display.Javascript object>"
      ]
     },
     "metadata": {},
     "output_type": "display_data"
    },
    {
     "data": {
      "application/javascript": [
       "window.error.push([8650,0.01048])"
      ],
      "text/plain": [
       "<IPython.core.display.Javascript object>"
      ]
     },
     "metadata": {},
     "output_type": "display_data"
    },
    {
     "data": {
      "application/javascript": [
       "window.plot.setData([window.error]); window.plot.draw();"
      ],
      "text/plain": [
       "<IPython.core.display.Javascript object>"
      ]
     },
     "metadata": {},
     "output_type": "display_data"
    },
    {
     "data": {
      "application/javascript": [
       "window.weights_l0 = [[1, -6.698928523048111], [2, -1.7768249705822123], [3, -4.681704953660723], [4, 3.303929092366878], [5, 5.187690028740478], [6, 4.39105810480512], [7, -4.606674154265649], [8, -5.360047792683169], [9, -2.3183179814508836], [10, 0.3946102893993277], [11, 1.1659981381148175], [12, -1.392850908495389]]"
      ],
      "text/plain": [
       "<IPython.core.display.Javascript object>"
      ]
     },
     "metadata": {},
     "output_type": "display_data"
    },
    {
     "data": {
      "application/javascript": [
       "window.weight_plot_l0.setData([window.weights_l0]); window.weight_plot_l0.draw();"
      ],
      "text/plain": [
       "<IPython.core.display.Javascript object>"
      ]
     },
     "metadata": {},
     "output_type": "display_data"
    },
    {
     "data": {
      "application/javascript": [
       "window.weights_l1 = [[1, 9.992760435154208], [2, -4.8909960325258135], [3, -5.676981520800138], [4, 6.631811917326282]]"
      ],
      "text/plain": [
       "<IPython.core.display.Javascript object>"
      ]
     },
     "metadata": {},
     "output_type": "display_data"
    },
    {
     "data": {
      "application/javascript": [
       "window.weight_plot_l1.setData([window.weights_l1]); window.weight_plot_l1.draw();"
      ],
      "text/plain": [
       "<IPython.core.display.Javascript object>"
      ]
     },
     "metadata": {},
     "output_type": "display_data"
    },
    {
     "data": {
      "application/javascript": [
       "window.outputs = [[1, 0.006463646166234571], [2, 0.98830894094273], [3, 0.9903690745120849], [4, 0.014120274860152058]]"
      ],
      "text/plain": [
       "<IPython.core.display.Javascript object>"
      ]
     },
     "metadata": {},
     "output_type": "display_data"
    },
    {
     "data": {
      "application/javascript": [
       "window.output_plot.setData([window.outputs]); window.output_plot.draw();"
      ],
      "text/plain": [
       "<IPython.core.display.Javascript object>"
      ]
     },
     "metadata": {},
     "output_type": "display_data"
    },
    {
     "data": {
      "application/javascript": [
       "$('#avg-error').html(0.01044)"
      ],
      "text/plain": [
       "<IPython.core.display.Javascript object>"
      ]
     },
     "metadata": {},
     "output_type": "display_data"
    },
    {
     "data": {
      "application/javascript": [
       "$('#iteration').html(8700)"
      ],
      "text/plain": [
       "<IPython.core.display.Javascript object>"
      ]
     },
     "metadata": {},
     "output_type": "display_data"
    },
    {
     "data": {
      "application/javascript": [
       "window.error.push([8700,0.01044])"
      ],
      "text/plain": [
       "<IPython.core.display.Javascript object>"
      ]
     },
     "metadata": {},
     "output_type": "display_data"
    },
    {
     "data": {
      "application/javascript": [
       "window.plot.setData([window.error]); window.plot.draw();"
      ],
      "text/plain": [
       "<IPython.core.display.Javascript object>"
      ]
     },
     "metadata": {},
     "output_type": "display_data"
    },
    {
     "data": {
      "application/javascript": [
       "window.weights_l0 = [[1, -6.700959375964427], [2, -1.7782690472839404], [3, -4.68241686523202], [4, 3.30539752718123], [5, 5.189070916684551], [6, 4.392934853104347], [7, -4.607807107822972], [8, -5.3619346770503595], [9, -2.3186177329075064], [10, 0.39532924979093137], [11, 1.1662632886713498], [12, -1.3935162162723225]]"
      ],
      "text/plain": [
       "<IPython.core.display.Javascript object>"
      ]
     },
     "metadata": {},
     "output_type": "display_data"
    },
    {
     "data": {
      "application/javascript": [
       "window.weight_plot_l0.setData([window.weights_l0]); window.weight_plot_l0.draw();"
      ],
      "text/plain": [
       "<IPython.core.display.Javascript object>"
      ]
     },
     "metadata": {},
     "output_type": "display_data"
    },
    {
     "data": {
      "application/javascript": [
       "window.weights_l1 = [[1, 9.998738496211518], [2, -4.8939726850584755], [3, -5.678220037492093], [4, 6.635094384350801]]"
      ],
      "text/plain": [
       "<IPython.core.display.Javascript object>"
      ]
     },
     "metadata": {},
     "output_type": "display_data"
    },
    {
     "data": {
      "application/javascript": [
       "window.weight_plot_l1.setData([window.weights_l1]); window.weight_plot_l1.draw();"
      ],
      "text/plain": [
       "<IPython.core.display.Javascript object>"
      ]
     },
     "metadata": {},
     "output_type": "display_data"
    },
    {
     "data": {
      "application/javascript": [
       "window.outputs = [[1, 0.006440562441084405], [2, 0.9883463656594043], [3, 0.9904020489189056], [4, 0.014074810659150432]]"
      ],
      "text/plain": [
       "<IPython.core.display.Javascript object>"
      ]
     },
     "metadata": {},
     "output_type": "display_data"
    },
    {
     "data": {
      "application/javascript": [
       "window.output_plot.setData([window.outputs]); window.output_plot.draw();"
      ],
      "text/plain": [
       "<IPython.core.display.Javascript object>"
      ]
     },
     "metadata": {},
     "output_type": "display_data"
    },
    {
     "data": {
      "application/javascript": [
       "$('#avg-error').html(0.01041)"
      ],
      "text/plain": [
       "<IPython.core.display.Javascript object>"
      ]
     },
     "metadata": {},
     "output_type": "display_data"
    },
    {
     "data": {
      "application/javascript": [
       "$('#iteration').html(8750)"
      ],
      "text/plain": [
       "<IPython.core.display.Javascript object>"
      ]
     },
     "metadata": {},
     "output_type": "display_data"
    },
    {
     "data": {
      "application/javascript": [
       "window.error.push([8750,0.01041])"
      ],
      "text/plain": [
       "<IPython.core.display.Javascript object>"
      ]
     },
     "metadata": {},
     "output_type": "display_data"
    },
    {
     "data": {
      "application/javascript": [
       "window.plot.setData([window.error]); window.plot.draw();"
      ],
      "text/plain": [
       "<IPython.core.display.Javascript object>"
      ]
     },
     "metadata": {},
     "output_type": "display_data"
    },
    {
     "data": {
      "application/javascript": [
       "window.weights_l0 = [[1, -6.702976689970773], [2, -1.7797039774813463], [3, -4.683123818273725], [4, 3.3068558541496915], [5, 5.190442501999133], [6, 4.394799246556687], [7, -4.608932229375012], [8, -5.363808656262667], [9, -2.3189154763078057], [10, 0.3960434778871321], [11, 1.1665264584700066], [12, -1.3941767861390728]]"
      ],
      "text/plain": [
       "<IPython.core.display.Javascript object>"
      ]
     },
     "metadata": {},
     "output_type": "display_data"
    },
    {
     "data": {
      "application/javascript": [
       "window.weight_plot_l0.setData([window.weights_l0]); window.weight_plot_l0.draw();"
      ],
      "text/plain": [
       "<IPython.core.display.Javascript object>"
      ]
     },
     "metadata": {},
     "output_type": "display_data"
    },
    {
     "data": {
      "application/javascript": [
       "window.weights_l1 = [[1, 10.004679440859666], [2, -4.896930935917329], [3, -5.679449910032557], [4, 6.638355513634585]]"
      ],
      "text/plain": [
       "<IPython.core.display.Javascript object>"
      ]
     },
     "metadata": {},
     "output_type": "display_data"
    },
    {
     "data": {
      "application/javascript": [
       "window.weight_plot_l1.setData([window.weights_l1]); window.weight_plot_l1.draw();"
      ],
      "text/plain": [
       "<IPython.core.display.Javascript object>"
      ]
     },
     "metadata": {},
     "output_type": "display_data"
    },
    {
     "data": {
      "application/javascript": [
       "window.outputs = [[1, 0.006417705045382725], [2, 0.9883834391510935], [3, 0.990434704081109], [4, 0.014029774521529986]]"
      ],
      "text/plain": [
       "<IPython.core.display.Javascript object>"
      ]
     },
     "metadata": {},
     "output_type": "display_data"
    },
    {
     "data": {
      "application/javascript": [
       "window.output_plot.setData([window.outputs]); window.output_plot.draw();"
      ],
      "text/plain": [
       "<IPython.core.display.Javascript object>"
      ]
     },
     "metadata": {},
     "output_type": "display_data"
    },
    {
     "data": {
      "application/javascript": [
       "$('#avg-error').html(0.01037)"
      ],
      "text/plain": [
       "<IPython.core.display.Javascript object>"
      ]
     },
     "metadata": {},
     "output_type": "display_data"
    },
    {
     "data": {
      "application/javascript": [
       "$('#iteration').html(8800)"
      ],
      "text/plain": [
       "<IPython.core.display.Javascript object>"
      ]
     },
     "metadata": {},
     "output_type": "display_data"
    },
    {
     "data": {
      "application/javascript": [
       "window.error.push([8800,0.01037])"
      ],
      "text/plain": [
       "<IPython.core.display.Javascript object>"
      ]
     },
     "metadata": {},
     "output_type": "display_data"
    },
    {
     "data": {
      "application/javascript": [
       "window.plot.setData([window.error]); window.plot.draw();"
      ],
      "text/plain": [
       "<IPython.core.display.Javascript object>"
      ]
     },
     "metadata": {},
     "output_type": "display_data"
    },
    {
     "data": {
      "application/javascript": [
       "window.weights_l0 = [[1, -6.704980638066864], [2, -1.7811298741092625], [3, -4.683825877962913], [4, 3.3083042049259666], [5, 5.191804904401974], [6, 4.39665144188566], [7, -4.6100496211107505], [8, -5.365669897954448], [9, -2.319211237472514], [10, 0.3967530334614715], [11, 1.166787674557997], [12, -1.394832680866335]]"
      ],
      "text/plain": [
       "<IPython.core.display.Javascript object>"
      ]
     },
     "metadata": {},
     "output_type": "display_data"
    },
    {
     "data": {
      "application/javascript": [
       "window.weight_plot_l0.setData([window.weights_l0]); window.weight_plot_l0.draw();"
      ],
      "text/plain": [
       "<IPython.core.display.Javascript object>"
      ]
     },
     "metadata": {},
     "output_type": "display_data"
    },
    {
     "data": {
      "application/javascript": [
       "window.weights_l1 = [[1, 10.010583725425732], [2, -4.89987101057156], [3, -5.68067125191105], [4, 6.641595574844]]"
      ],
      "text/plain": [
       "<IPython.core.display.Javascript object>"
      ]
     },
     "metadata": {},
     "output_type": "display_data"
    },
    {
     "data": {
      "application/javascript": [
       "window.weight_plot_l1.setData([window.weights_l1]); window.weight_plot_l1.draw();"
      ],
      "text/plain": [
       "<IPython.core.display.Javascript object>"
      ]
     },
     "metadata": {},
     "output_type": "display_data"
    },
    {
     "data": {
      "application/javascript": [
       "window.outputs = [[1, 0.00639507038373134], [2, 0.9884201668423246], [3, 0.9904670450346376], [4, 0.013985159820189549]]"
      ],
      "text/plain": [
       "<IPython.core.display.Javascript object>"
      ]
     },
     "metadata": {},
     "output_type": "display_data"
    },
    {
     "data": {
      "application/javascript": [
       "window.output_plot.setData([window.outputs]); window.output_plot.draw();"
      ],
      "text/plain": [
       "<IPython.core.display.Javascript object>"
      ]
     },
     "metadata": {},
     "output_type": "display_data"
    },
    {
     "data": {
      "application/javascript": [
       "$('#avg-error').html(0.01034)"
      ],
      "text/plain": [
       "<IPython.core.display.Javascript object>"
      ]
     },
     "metadata": {},
     "output_type": "display_data"
    },
    {
     "data": {
      "application/javascript": [
       "$('#iteration').html(8850)"
      ],
      "text/plain": [
       "<IPython.core.display.Javascript object>"
      ]
     },
     "metadata": {},
     "output_type": "display_data"
    },
    {
     "data": {
      "application/javascript": [
       "window.error.push([8850,0.01034])"
      ],
      "text/plain": [
       "<IPython.core.display.Javascript object>"
      ]
     },
     "metadata": {},
     "output_type": "display_data"
    },
    {
     "data": {
      "application/javascript": [
       "window.plot.setData([window.error]); window.plot.draw();"
      ],
      "text/plain": [
       "<IPython.core.display.Javascript object>"
      ]
     },
     "metadata": {},
     "output_type": "display_data"
    },
    {
     "data": {
      "application/javascript": [
       "window.weights_l0 = [[1, -6.70697139000303], [2, -1.7825468480375826], [3, -4.68452310822585], [4, 3.309742708656653], [5, 5.193158241349636], [6, 4.398491592886645], [7, -4.611159383270878], [8, -5.367518566572111], [9, -2.3195050417345304], [10, 0.3974579751762925], [11, 1.1670469634495273], [12, -1.3954839620159951]]"
      ],
      "text/plain": [
       "<IPython.core.display.Javascript object>"
      ]
     },
     "metadata": {},
     "output_type": "display_data"
    },
    {
     "data": {
      "application/javascript": [
       "window.weight_plot_l0.setData([window.weights_l0]); window.weight_plot_l0.draw();"
      ],
      "text/plain": [
       "<IPython.core.display.Javascript object>"
      ]
     },
     "metadata": {},
     "output_type": "display_data"
    },
    {
     "data": {
      "application/javascript": [
       "window.weights_l1 = [[1, 10.016451797893103], [2, -4.902793130379753], [3, -5.681884174443016], [4, 6.6448148326145136]]"
      ],
      "text/plain": [
       "<IPython.core.display.Javascript object>"
      ]
     },
     "metadata": {},
     "output_type": "display_data"
    },
    {
     "data": {
      "application/javascript": [
       "window.weight_plot_l1.setData([window.weights_l1]); window.weight_plot_l1.draw();"
      ],
      "text/plain": [
       "<IPython.core.display.Javascript object>"
      ]
     },
     "metadata": {},
     "output_type": "display_data"
    },
    {
     "data": {
      "application/javascript": [
       "window.outputs = [[1, 0.006372654939349646], [2, 0.9884565540414785], [3, 0.9904990767058337], [4, 0.013940960070199307]]"
      ],
      "text/plain": [
       "<IPython.core.display.Javascript object>"
      ]
     },
     "metadata": {},
     "output_type": "display_data"
    },
    {
     "data": {
      "application/javascript": [
       "window.output_plot.setData([window.outputs]); window.output_plot.draw();"
      ],
      "text/plain": [
       "<IPython.core.display.Javascript object>"
      ]
     },
     "metadata": {},
     "output_type": "display_data"
    },
    {
     "data": {
      "application/javascript": [
       "$('#avg-error').html(0.01031)"
      ],
      "text/plain": [
       "<IPython.core.display.Javascript object>"
      ]
     },
     "metadata": {},
     "output_type": "display_data"
    },
    {
     "data": {
      "application/javascript": [
       "$('#iteration').html(8900)"
      ],
      "text/plain": [
       "<IPython.core.display.Javascript object>"
      ]
     },
     "metadata": {},
     "output_type": "display_data"
    },
    {
     "data": {
      "application/javascript": [
       "window.error.push([8900,0.01031])"
      ],
      "text/plain": [
       "<IPython.core.display.Javascript object>"
      ]
     },
     "metadata": {},
     "output_type": "display_data"
    },
    {
     "data": {
      "application/javascript": [
       "window.plot.setData([window.error]); window.plot.draw();"
      ],
      "text/plain": [
       "<IPython.core.display.Javascript object>"
      ]
     },
     "metadata": {},
     "output_type": "display_data"
    },
    {
     "data": {
      "application/javascript": [
       "window.weights_l0 = [[1, -6.708949112360465], [2, -1.7839550081211228], [3, -4.685215571769448], [4, 3.311171492043823], [5, 5.194502628093592], [6, 4.400319850498886], [7, -4.61226161419646], [8, -5.3693548234536586], [9, -2.3197969139510475], [10, 0.39815836060993026], [11, 1.16730435113947], [12, -1.39613068997156]]"
      ],
      "text/plain": [
       "<IPython.core.display.Javascript object>"
      ]
     },
     "metadata": {},
     "output_type": "display_data"
    },
    {
     "data": {
      "application/javascript": [
       "window.weight_plot_l0.setData([window.weights_l0]); window.weight_plot_l0.draw();"
      ],
      "text/plain": [
       "<IPython.core.display.Javascript object>"
      ]
     },
     "metadata": {},
     "output_type": "display_data"
    },
    {
     "data": {
      "application/javascript": [
       "window.weights_l1 = [[1, 10.022284098103293], [2, -4.905697512689078], [3, -5.683088786824394], [4, 6.648013546674375]]"
      ],
      "text/plain": [
       "<IPython.core.display.Javascript object>"
      ]
     },
     "metadata": {},
     "output_type": "display_data"
    },
    {
     "data": {
      "application/javascript": [
       "window.weight_plot_l1.setData([window.weights_l1]); window.weight_plot_l1.draw();"
      ],
      "text/plain": [
       "<IPython.core.display.Javascript object>"
      ]
     },
     "metadata": {},
     "output_type": "display_data"
    },
    {
     "data": {
      "application/javascript": [
       "window.outputs = [[1, 0.006350455271892028], [2, 0.9884926059439602], [3, 0.9905308039144711], [4, 0.013897168924913739]]"
      ],
      "text/plain": [
       "<IPython.core.display.Javascript object>"
      ]
     },
     "metadata": {},
     "output_type": "display_data"
    },
    {
     "data": {
      "application/javascript": [
       "window.output_plot.setData([window.outputs]); window.output_plot.draw();"
      ],
      "text/plain": [
       "<IPython.core.display.Javascript object>"
      ]
     },
     "metadata": {},
     "output_type": "display_data"
    },
    {
     "data": {
      "application/javascript": [
       "$('#avg-error').html(0.01027)"
      ],
      "text/plain": [
       "<IPython.core.display.Javascript object>"
      ]
     },
     "metadata": {},
     "output_type": "display_data"
    },
    {
     "data": {
      "application/javascript": [
       "$('#iteration').html(8950)"
      ],
      "text/plain": [
       "<IPython.core.display.Javascript object>"
      ]
     },
     "metadata": {},
     "output_type": "display_data"
    },
    {
     "data": {
      "application/javascript": [
       "window.error.push([8950,0.01027])"
      ],
      "text/plain": [
       "<IPython.core.display.Javascript object>"
      ]
     },
     "metadata": {},
     "output_type": "display_data"
    },
    {
     "data": {
      "application/javascript": [
       "window.plot.setData([window.error]); window.plot.draw();"
      ],
      "text/plain": [
       "<IPython.core.display.Javascript object>"
      ]
     },
     "metadata": {},
     "output_type": "display_data"
    },
    {
     "data": {
      "application/javascript": [
       "window.weights_l0 = [[1, -6.710913968629037], [2, -1.7853544612479912], [3, -4.68590333011174], [4, 3.312590679405701], [5, 5.195838177734636], [6, 4.402136362875314], [7, -4.613356410376148], [8, -5.371178826905776], [9, -2.3200868785152813], [10, 0.398854246283078], [11, 1.1675598631166149], [12, -1.3967729239676405]]"
      ],
      "text/plain": [
       "<IPython.core.display.Javascript object>"
      ]
     },
     "metadata": {},
     "output_type": "display_data"
    },
    {
     "data": {
      "application/javascript": [
       "window.weight_plot_l0.setData([window.weights_l0]); window.weight_plot_l0.draw();"
      ],
      "text/plain": [
       "<IPython.core.display.Javascript object>"
      ]
     },
     "metadata": {},
     "output_type": "display_data"
    },
    {
     "data": {
      "application/javascript": [
       "window.weights_l1 = [[1, 10.028081057951749], [2, -4.908584370931497], [3, -5.684285196184454], [4, 6.651191971964508]]"
      ],
      "text/plain": [
       "<IPython.core.display.Javascript object>"
      ]
     },
     "metadata": {},
     "output_type": "display_data"
    },
    {
     "data": {
      "application/javascript": [
       "window.weight_plot_l1.setData([window.weights_l1]); window.weight_plot_l1.draw();"
      ],
      "text/plain": [
       "<IPython.core.display.Javascript object>"
      ]
     },
     "metadata": {},
     "output_type": "display_data"
    },
    {
     "data": {
      "application/javascript": [
       "window.outputs = [[1, 0.006328468015338927], [2, 0.9885283276352647], [3, 0.9905622313766862], [4, 0.01385378017221351]]"
      ],
      "text/plain": [
       "<IPython.core.display.Javascript object>"
      ]
     },
     "metadata": {},
     "output_type": "display_data"
    },
    {
     "data": {
      "application/javascript": [
       "window.output_plot.setData([window.outputs]); window.output_plot.draw();"
      ],
      "text/plain": [
       "<IPython.core.display.Javascript object>"
      ]
     },
     "metadata": {},
     "output_type": "display_data"
    },
    {
     "data": {
      "application/javascript": [
       "$('#avg-error').html(0.01024)"
      ],
      "text/plain": [
       "<IPython.core.display.Javascript object>"
      ]
     },
     "metadata": {},
     "output_type": "display_data"
    },
    {
     "data": {
      "application/javascript": [
       "$('#iteration').html(9000)"
      ],
      "text/plain": [
       "<IPython.core.display.Javascript object>"
      ]
     },
     "metadata": {},
     "output_type": "display_data"
    },
    {
     "data": {
      "application/javascript": [
       "window.error.push([9000,0.01024])"
      ],
      "text/plain": [
       "<IPython.core.display.Javascript object>"
      ]
     },
     "metadata": {},
     "output_type": "display_data"
    },
    {
     "data": {
      "application/javascript": [
       "window.plot.setData([window.error]); window.plot.draw();"
      ],
      "text/plain": [
       "<IPython.core.display.Javascript object>"
      ]
     },
     "metadata": {},
     "output_type": "display_data"
    },
    {
     "data": {
      "application/javascript": [
       "window.weights_l0 = [[1, -6.712866119282722], [2, -1.7867453123865205], [3, -4.686586443611391], [4, 3.3140003927354695], [5, 5.197165001275595], [6, 4.403941275450279], [7, -4.6144438664919], [8, -5.372990732278563], [9, -2.3203749593678515], [10, 0.39954568768436105], [11, 1.1678135243764967], [12, -1.3974107221185355]]"
      ],
      "text/plain": [
       "<IPython.core.display.Javascript object>"
      ]
     },
     "metadata": {},
     "output_type": "display_data"
    },
    {
     "data": {
      "application/javascript": [
       "window.weight_plot_l0.setData([window.weights_l0]); window.weight_plot_l0.draw();"
      ],
      "text/plain": [
       "<IPython.core.display.Javascript object>"
      ]
     },
     "metadata": {},
     "output_type": "display_data"
    },
    {
     "data": {
      "application/javascript": [
       "window.weights_l1 = [[1, 10.03384310157774], [2, -4.911453914717109], [3, -5.685473507637035], [4, 6.654350358754771]]"
      ],
      "text/plain": [
       "<IPython.core.display.Javascript object>"
      ]
     },
     "metadata": {},
     "output_type": "display_data"
    },
    {
     "data": {
      "application/javascript": [
       "window.weight_plot_l1.setData([window.weights_l1]); window.weight_plot_l1.draw();"
      ],
      "text/plain": [
       "<IPython.core.display.Javascript object>"
      ]
     },
     "metadata": {},
     "output_type": "display_data"
    },
    {
     "data": {
      "application/javascript": [
       "window.outputs = [[1, 0.006306689875958015], [2, 0.9885637240939398], [3, 0.9905933637078097], [4, 0.013810787730871235]]"
      ],
      "text/plain": [
       "<IPython.core.display.Javascript object>"
      ]
     },
     "metadata": {},
     "output_type": "display_data"
    },
    {
     "data": {
      "application/javascript": [
       "window.output_plot.setData([window.outputs]); window.output_plot.draw();"
      ],
      "text/plain": [
       "<IPython.core.display.Javascript object>"
      ]
     },
     "metadata": {},
     "output_type": "display_data"
    },
    {
     "data": {
      "application/javascript": [
       "$('#avg-error').html(0.01021)"
      ],
      "text/plain": [
       "<IPython.core.display.Javascript object>"
      ]
     },
     "metadata": {},
     "output_type": "display_data"
    },
    {
     "data": {
      "application/javascript": [
       "$('#iteration').html(9050)"
      ],
      "text/plain": [
       "<IPython.core.display.Javascript object>"
      ]
     },
     "metadata": {},
     "output_type": "display_data"
    },
    {
     "data": {
      "application/javascript": [
       "window.error.push([9050,0.01021])"
      ],
      "text/plain": [
       "<IPython.core.display.Javascript object>"
      ]
     },
     "metadata": {},
     "output_type": "display_data"
    },
    {
     "data": {
      "application/javascript": [
       "window.plot.setData([window.error]); window.plot.draw();"
      ],
      "text/plain": [
       "<IPython.core.display.Javascript object>"
      ]
     },
     "metadata": {},
     "output_type": "display_data"
    },
    {
     "data": {
      "application/javascript": [
       "window.weights_l0 = [[1, -6.714805721852794], [2, -1.7881276646308044], [3, -4.687264971496343], [4, 3.315400751758282], [5, 5.198483207672474], [6, 4.4057347310052135], [7, -4.615524075463351], [8, -5.374790692037979], [9, -2.320661180007837], [10, 0.40023273929514475], [11, 1.1680653594338244], [12, -1.3980441414459288]]"
      ],
      "text/plain": [
       "<IPython.core.display.Javascript object>"
      ]
     },
     "metadata": {},
     "output_type": "display_data"
    },
    {
     "data": {
      "application/javascript": [
       "window.weight_plot_l0.setData([window.weights_l0]); window.weight_plot_l0.draw();"
      ],
      "text/plain": [
       "<IPython.core.display.Javascript object>"
      ]
     },
     "metadata": {},
     "output_type": "display_data"
    },
    {
     "data": {
      "application/javascript": [
       "window.weights_l1 = [[1, 10.039570645548723], [2, -4.91430634992473], [3, -5.686653824330223], [4, 6.657488952756766]]"
      ],
      "text/plain": [
       "<IPython.core.display.Javascript object>"
      ]
     },
     "metadata": {},
     "output_type": "display_data"
    },
    {
     "data": {
      "application/javascript": [
       "window.weight_plot_l1.setData([window.weights_l1]); window.weight_plot_l1.draw();"
      ],
      "text/plain": [
       "<IPython.core.display.Javascript object>"
      ]
     },
     "metadata": {},
     "output_type": "display_data"
    },
    {
     "data": {
      "application/javascript": [
       "window.outputs = [[1, 0.006285117630333065], [2, 0.9885988001944558], [3, 0.990624205425107], [4, 0.013768185647036045]]"
      ],
      "text/plain": [
       "<IPython.core.display.Javascript object>"
      ]
     },
     "metadata": {},
     "output_type": "display_data"
    },
    {
     "data": {
      "application/javascript": [
       "window.output_plot.setData([window.outputs]); window.output_plot.draw();"
      ],
      "text/plain": [
       "<IPython.core.display.Javascript object>"
      ]
     },
     "metadata": {},
     "output_type": "display_data"
    },
    {
     "data": {
      "application/javascript": [
       "$('#avg-error').html(0.01018)"
      ],
      "text/plain": [
       "<IPython.core.display.Javascript object>"
      ]
     },
     "metadata": {},
     "output_type": "display_data"
    },
    {
     "data": {
      "application/javascript": [
       "$('#iteration').html(9100)"
      ],
      "text/plain": [
       "<IPython.core.display.Javascript object>"
      ]
     },
     "metadata": {},
     "output_type": "display_data"
    },
    {
     "data": {
      "application/javascript": [
       "window.error.push([9100,0.01018])"
      ],
      "text/plain": [
       "<IPython.core.display.Javascript object>"
      ]
     },
     "metadata": {},
     "output_type": "display_data"
    },
    {
     "data": {
      "application/javascript": [
       "window.plot.setData([window.error]); window.plot.draw();"
      ],
      "text/plain": [
       "<IPython.core.display.Javascript object>"
      ]
     },
     "metadata": {},
     "output_type": "display_data"
    },
    {
     "data": {
      "application/javascript": [
       "window.weights_l0 = [[1, -6.716732930998772], [2, -1.7895016192449031], [3, -4.687938971891545], [4, 3.3167918739865616], [5, 5.199792903884053], [6, 4.407516869732345], [7, -4.616597128490799], [8, -5.376578855836114], [9, -2.320945563503461], [10, 0.40091545461360467], [11, 1.1683153923345284], [12, -1.3986732379057523]]"
      ],
      "text/plain": [
       "<IPython.core.display.Javascript object>"
      ]
     },
     "metadata": {},
     "output_type": "display_data"
    },
    {
     "data": {
      "application/javascript": [
       "window.weight_plot_l0.setData([window.weights_l0]); window.weight_plot_l0.draw();"
      ],
      "text/plain": [
       "<IPython.core.display.Javascript object>"
      ]
     },
     "metadata": {},
     "output_type": "display_data"
    },
    {
     "data": {
      "application/javascript": [
       "window.weights_l1 = [[1, 10.045264099039182], [2, -4.917141878789819], [3, -5.6878262474945], [4, 6.660607995233228]]"
      ],
      "text/plain": [
       "<IPython.core.display.Javascript object>"
      ]
     },
     "metadata": {},
     "output_type": "display_data"
    },
    {
     "data": {
      "application/javascript": [
       "window.weight_plot_l1.setData([window.weights_l1]); window.weight_plot_l1.draw();"
      ],
      "text/plain": [
       "<IPython.core.display.Javascript object>"
      ]
     },
     "metadata": {},
     "output_type": "display_data"
    },
    {
     "data": {
      "application/javascript": [
       "window.outputs = [[1, 0.006263748123457907], [2, 0.9886335607099773], [3, 0.9906547609504271], [4, 0.013725968090832963]]"
      ],
      "text/plain": [
       "<IPython.core.display.Javascript object>"
      ]
     },
     "metadata": {},
     "output_type": "display_data"
    },
    {
     "data": {
      "application/javascript": [
       "window.output_plot.setData([window.outputs]); window.output_plot.draw();"
      ],
      "text/plain": [
       "<IPython.core.display.Javascript object>"
      ]
     },
     "metadata": {},
     "output_type": "display_data"
    },
    {
     "data": {
      "application/javascript": [
       "$('#avg-error').html(0.01014)"
      ],
      "text/plain": [
       "<IPython.core.display.Javascript object>"
      ]
     },
     "metadata": {},
     "output_type": "display_data"
    },
    {
     "data": {
      "application/javascript": [
       "$('#iteration').html(9150)"
      ],
      "text/plain": [
       "<IPython.core.display.Javascript object>"
      ]
     },
     "metadata": {},
     "output_type": "display_data"
    },
    {
     "data": {
      "application/javascript": [
       "window.error.push([9150,0.01014])"
      ],
      "text/plain": [
       "<IPython.core.display.Javascript object>"
      ]
     },
     "metadata": {},
     "output_type": "display_data"
    },
    {
     "data": {
      "application/javascript": [
       "window.plot.setData([window.error]); window.plot.draw();"
      ],
      "text/plain": [
       "<IPython.core.display.Javascript object>"
      ]
     },
     "metadata": {},
     "output_type": "display_data"
    },
    {
     "data": {
      "application/javascript": [
       "window.weights_l0 = [[1, -6.718647898577294], [2, -1.790867275705754], [3, -4.688608501845889], [4, 3.318173874773633], [5, 5.201094194919996], [6, 4.4092878292965345], [7, -4.617663115096938], [8, -5.378355370579335], [9, -2.32122813250249], [10, 0.4015938861780859], [11, 1.1685636466674356], [12, -1.3992980664142287]]"
      ],
      "text/plain": [
       "<IPython.core.display.Javascript object>"
      ]
     },
     "metadata": {},
     "output_type": "display_data"
    },
    {
     "data": {
      "application/javascript": [
       "window.weight_plot_l0.setData([window.weights_l0]); window.weight_plot_l0.draw();"
      ],
      "text/plain": [
       "<IPython.core.display.Javascript object>"
      ]
     },
     "metadata": {},
     "output_type": "display_data"
    },
    {
     "data": {
      "application/javascript": [
       "window.weights_l1 = [[1, 10.050923864004226], [2, -4.91996069998983], [3, -5.68899087648943], [4, 6.663707723104194]]"
      ],
      "text/plain": [
       "<IPython.core.display.Javascript object>"
      ]
     },
     "metadata": {},
     "output_type": "display_data"
    },
    {
     "data": {
      "application/javascript": [
       "window.weight_plot_l1.setData([window.weights_l1]); window.weight_plot_l1.draw();"
      ],
      "text/plain": [
       "<IPython.core.display.Javascript object>"
      ]
     },
     "metadata": {},
     "output_type": "display_data"
    },
    {
     "data": {
      "application/javascript": [
       "window.outputs = [[1, 0.006242578266892767], [2, 0.9886680103150495], [3, 0.9906850346127645], [4, 0.013684129353071907]]"
      ],
      "text/plain": [
       "<IPython.core.display.Javascript object>"
      ]
     },
     "metadata": {},
     "output_type": "display_data"
    },
    {
     "data": {
      "application/javascript": [
       "window.output_plot.setData([window.outputs]); window.output_plot.draw();"
      ],
      "text/plain": [
       "<IPython.core.display.Javascript object>"
      ]
     },
     "metadata": {},
     "output_type": "display_data"
    },
    {
     "data": {
      "application/javascript": [
       "$('#avg-error').html(0.01011)"
      ],
      "text/plain": [
       "<IPython.core.display.Javascript object>"
      ]
     },
     "metadata": {},
     "output_type": "display_data"
    },
    {
     "data": {
      "application/javascript": [
       "$('#iteration').html(9200)"
      ],
      "text/plain": [
       "<IPython.core.display.Javascript object>"
      ]
     },
     "metadata": {},
     "output_type": "display_data"
    },
    {
     "data": {
      "application/javascript": [
       "window.error.push([9200,0.01011])"
      ],
      "text/plain": [
       "<IPython.core.display.Javascript object>"
      ]
     },
     "metadata": {},
     "output_type": "display_data"
    },
    {
     "data": {
      "application/javascript": [
       "window.plot.setData([window.error]); window.plot.draw();"
      ],
      "text/plain": [
       "<IPython.core.display.Javascript object>"
      ]
     },
     "metadata": {},
     "output_type": "display_data"
    },
    {
     "data": {
      "application/javascript": [
       "window.weights_l0 = [[1, -6.720550773708937], [2, -1.7922247317448312], [3, -4.689273617358296], [4, 3.3195468673657413], [5, 5.202387183887523], [6, 4.4110477448952565], [7, -4.618722123167298], [8, -5.3801203804944], [9, -2.321508909242302], [10, 0.40226808558977417], [11, 1.168810145575584], [12, -1.3999186808731345]]"
      ],
      "text/plain": [
       "<IPython.core.display.Javascript object>"
      ]
     },
     "metadata": {},
     "output_type": "display_data"
    },
    {
     "data": {
      "application/javascript": [
       "window.weight_plot_l0.setData([window.weights_l0]); window.weight_plot_l0.draw();"
      ],
      "text/plain": [
       "<IPython.core.display.Javascript object>"
      ]
     },
     "metadata": {},
     "output_type": "display_data"
    },
    {
     "data": {
      "application/javascript": [
       "window.weights_l1 = [[1, 10.056550335348188], [2, -4.922763008727061], [3, -5.69014780884899], [4, 6.666788369050025]]"
      ],
      "text/plain": [
       "<IPython.core.display.Javascript object>"
      ]
     },
     "metadata": {},
     "output_type": "display_data"
    },
    {
     "data": {
      "application/javascript": [
       "window.weight_plot_l1.setData([window.weights_l1]); window.weight_plot_l1.draw();"
      ],
      "text/plain": [
       "<IPython.core.display.Javascript object>"
      ]
     },
     "metadata": {},
     "output_type": "display_data"
    },
    {
     "data": {
      "application/javascript": [
       "window.outputs = [[1, 0.006221605036980856], [2, 0.988702153588195], [3, 0.9907150306507391], [4, 0.013642663842063332]]"
      ],
      "text/plain": [
       "<IPython.core.display.Javascript object>"
      ]
     },
     "metadata": {},
     "output_type": "display_data"
    },
    {
     "data": {
      "application/javascript": [
       "window.output_plot.setData([window.outputs]); window.output_plot.draw();"
      ],
      "text/plain": [
       "<IPython.core.display.Javascript object>"
      ]
     },
     "metadata": {},
     "output_type": "display_data"
    },
    {
     "data": {
      "application/javascript": [
       "$('#avg-error').html(0.01008)"
      ],
      "text/plain": [
       "<IPython.core.display.Javascript object>"
      ]
     },
     "metadata": {},
     "output_type": "display_data"
    },
    {
     "data": {
      "application/javascript": [
       "$('#iteration').html(9250)"
      ],
      "text/plain": [
       "<IPython.core.display.Javascript object>"
      ]
     },
     "metadata": {},
     "output_type": "display_data"
    },
    {
     "data": {
      "application/javascript": [
       "window.error.push([9250,0.01008])"
      ],
      "text/plain": [
       "<IPython.core.display.Javascript object>"
      ]
     },
     "metadata": {},
     "output_type": "display_data"
    },
    {
     "data": {
      "application/javascript": [
       "window.plot.setData([window.error]); window.plot.draw();"
      ],
      "text/plain": [
       "<IPython.core.display.Javascript object>"
      ]
     },
     "metadata": {},
     "output_type": "display_data"
    },
    {
     "data": {
      "application/javascript": [
       "window.weights_l0 = [[1, -6.7224417028430326], [2, -1.793574083388603], [3, -4.6899343734030365], [4, 3.32091096295254], [5, 5.203671972036715], [6, 4.412796749316847], [7, -4.61977423898952], [8, -5.381874027192599], [9, -2.321787915559667], [10, 0.4029381035347063], [11, 1.1690549117671958], [12, -1.4005351341943044]]"
      ],
      "text/plain": [
       "<IPython.core.display.Javascript object>"
      ]
     },
     "metadata": {},
     "output_type": "display_data"
    },
    {
     "data": {
      "application/javascript": [
       "window.weight_plot_l0.setData([window.weights_l0]); window.weight_plot_l0.draw();"
      ],
      "text/plain": [
       "<IPython.core.display.Javascript object>"
      ]
     },
     "metadata": {},
     "output_type": "display_data"
    },
    {
     "data": {
      "application/javascript": [
       "window.weights_l1 = [[1, 10.062143901088294], [2, -4.925548996809126], [3, -5.691297140325491], [4, 6.6698501616114]]"
      ],
      "text/plain": [
       "<IPython.core.display.Javascript object>"
      ]
     },
     "metadata": {},
     "output_type": "display_data"
    },
    {
     "data": {
      "application/javascript": [
       "window.weight_plot_l1.setData([window.weights_l1]); window.weight_plot_l1.draw();"
      ],
      "text/plain": [
       "<IPython.core.display.Javascript object>"
      ]
     },
     "metadata": {},
     "output_type": "display_data"
    },
    {
     "data": {
      "application/javascript": [
       "window.outputs = [[1, 0.006200825473122651], [2, 0.9887359950144303], [3, 0.9907447532149947], [4, 0.013601566080535182]]"
      ],
      "text/plain": [
       "<IPython.core.display.Javascript object>"
      ]
     },
     "metadata": {},
     "output_type": "display_data"
    },
    {
     "data": {
      "application/javascript": [
       "window.output_plot.setData([window.outputs]); window.output_plot.draw();"
      ],
      "text/plain": [
       "<IPython.core.display.Javascript object>"
      ]
     },
     "metadata": {},
     "output_type": "display_data"
    },
    {
     "data": {
      "application/javascript": [
       "$('#avg-error').html(0.01005)"
      ],
      "text/plain": [
       "<IPython.core.display.Javascript object>"
      ]
     },
     "metadata": {},
     "output_type": "display_data"
    },
    {
     "data": {
      "application/javascript": [
       "$('#iteration').html(9300)"
      ],
      "text/plain": [
       "<IPython.core.display.Javascript object>"
      ]
     },
     "metadata": {},
     "output_type": "display_data"
    },
    {
     "data": {
      "application/javascript": [
       "window.error.push([9300,0.01005])"
      ],
      "text/plain": [
       "<IPython.core.display.Javascript object>"
      ]
     },
     "metadata": {},
     "output_type": "display_data"
    },
    {
     "data": {
      "application/javascript": [
       "window.plot.setData([window.error]); window.plot.draw();"
      ],
      "text/plain": [
       "<IPython.core.display.Javascript object>"
      ]
     },
     "metadata": {},
     "output_type": "display_data"
    },
    {
     "data": {
      "application/javascript": [
       "window.weights_l0 = [[1, -6.724320829820645], [2, -1.7949154249978274], [3, -4.690590823954311], [4, 3.32226627071606], [5, 5.204948658804474], [6, 4.414534972997003], [7, -4.620819547291443], [8, -5.383616449732009], [9, -2.3220651729002313], [10, 0.40360398980513906], [11, 1.169297967526321], [12, -1.4011474783234037]]"
      ],
      "text/plain": [
       "<IPython.core.display.Javascript object>"
      ]
     },
     "metadata": {},
     "output_type": "display_data"
    },
    {
     "data": {
      "application/javascript": [
       "window.weight_plot_l0.setData([window.weights_l0]); window.weight_plot_l0.draw();"
      ],
      "text/plain": [
       "<IPython.core.display.Javascript object>"
      ]
     },
     "metadata": {},
     "output_type": "display_data"
    },
    {
     "data": {
      "application/javascript": [
       "window.weights_l1 = [[1, 10.067704942513611], [2, -4.92831885272713], [3, -5.692438964932236], [4, 6.672893325286394]]"
      ],
      "text/plain": [
       "<IPython.core.display.Javascript object>"
      ]
     },
     "metadata": {},
     "output_type": "display_data"
    },
    {
     "data": {
      "application/javascript": [
       "window.weight_plot_l1.setData([window.weights_l1]); window.weight_plot_l1.draw();"
      ],
      "text/plain": [
       "<IPython.core.display.Javascript object>"
      ]
     },
     "metadata": {},
     "output_type": "display_data"
    },
    {
     "data": {
      "application/javascript": [
       "window.outputs = [[1, 0.006180236676105755], [2, 0.9887695389877003], [3, 0.9907742063705209], [4, 0.013560830702648142]]"
      ],
      "text/plain": [
       "<IPython.core.display.Javascript object>"
      ]
     },
     "metadata": {},
     "output_type": "display_data"
    },
    {
     "data": {
      "application/javascript": [
       "window.output_plot.setData([window.outputs]); window.output_plot.draw();"
      ],
      "text/plain": [
       "<IPython.core.display.Javascript object>"
      ]
     },
     "metadata": {},
     "output_type": "display_data"
    },
    {
     "data": {
      "application/javascript": [
       "$('#avg-error').html(0.01002)"
      ],
      "text/plain": [
       "<IPython.core.display.Javascript object>"
      ]
     },
     "metadata": {},
     "output_type": "display_data"
    },
    {
     "data": {
      "application/javascript": [
       "$('#iteration').html(9350)"
      ],
      "text/plain": [
       "<IPython.core.display.Javascript object>"
      ]
     },
     "metadata": {},
     "output_type": "display_data"
    },
    {
     "data": {
      "application/javascript": [
       "window.error.push([9350,0.01002])"
      ],
      "text/plain": [
       "<IPython.core.display.Javascript object>"
      ]
     },
     "metadata": {},
     "output_type": "display_data"
    },
    {
     "data": {
      "application/javascript": [
       "window.plot.setData([window.error]); window.plot.draw();"
      ],
      "text/plain": [
       "<IPython.core.display.Javascript object>"
      ]
     },
     "metadata": {},
     "output_type": "display_data"
    },
    {
     "data": {
      "application/javascript": [
       "window.weights_l0 = [[1, -6.726188295935668], [2, -1.7962488493057216], [3, -4.6912430220100845], [4, 3.3236128978782715], [5, 5.2062173418571955], [6, 4.416262544073719], [7, -4.621858131278079], [8, -5.385347784677915], [9, -2.3223407023277343], [10, 0.4042657933203013], [11, 1.1695393347231586], [12, -1.4017557642630063]]"
      ],
      "text/plain": [
       "<IPython.core.display.Javascript object>"
      ]
     },
     "metadata": {},
     "output_type": "display_data"
    },
    {
     "data": {
      "application/javascript": [
       "window.weight_plot_l0.setData([window.weights_l0]); window.weight_plot_l0.draw();"
      ],
      "text/plain": [
       "<IPython.core.display.Javascript object>"
      ]
     },
     "metadata": {},
     "output_type": "display_data"
    },
    {
     "data": {
      "application/javascript": [
       "window.weights_l1 = [[1, 10.073233834339474], [2, -4.9310727617315635], [3, -5.693573374984888], [4, 6.675918080624735]]"
      ],
      "text/plain": [
       "<IPython.core.display.Javascript object>"
      ]
     },
     "metadata": {},
     "output_type": "display_data"
    },
    {
     "data": {
      "application/javascript": [
       "window.weight_plot_l1.setData([window.weights_l1]); window.weight_plot_l1.draw();"
      ],
      "text/plain": [
       "<IPython.core.display.Javascript object>"
      ]
     },
     "metadata": {},
     "output_type": "display_data"
    },
    {
     "data": {
      "application/javascript": [
       "window.outputs = [[1, 0.0061598358064884435], [2, 0.9888027898132361], [3, 0.9908033940989011], [4, 0.01352045245110528]]"
      ],
      "text/plain": [
       "<IPython.core.display.Javascript object>"
      ]
     },
     "metadata": {},
     "output_type": "display_data"
    },
    {
     "data": {
      "application/javascript": [
       "window.output_plot.setData([window.outputs]); window.output_plot.draw();"
      ],
      "text/plain": [
       "<IPython.core.display.Javascript object>"
      ]
     },
     "metadata": {},
     "output_type": "display_data"
    },
    {
     "data": {
      "application/javascript": [
       "$('#avg-error').html(0.00999)"
      ],
      "text/plain": [
       "<IPython.core.display.Javascript object>"
      ]
     },
     "metadata": {},
     "output_type": "display_data"
    },
    {
     "data": {
      "application/javascript": [
       "$('#iteration').html(9400)"
      ],
      "text/plain": [
       "<IPython.core.display.Javascript object>"
      ]
     },
     "metadata": {},
     "output_type": "display_data"
    },
    {
     "data": {
      "application/javascript": [
       "window.error.push([9400,0.00999])"
      ],
      "text/plain": [
       "<IPython.core.display.Javascript object>"
      ]
     },
     "metadata": {},
     "output_type": "display_data"
    },
    {
     "data": {
      "application/javascript": [
       "window.plot.setData([window.error]); window.plot.draw();"
      ],
      "text/plain": [
       "<IPython.core.display.Javascript object>"
      ]
     },
     "metadata": {},
     "output_type": "display_data"
    },
    {
     "data": {
      "application/javascript": [
       "window.weights_l0 = [[1, -6.728044239994162], [2, -1.7975744474550508], [3, -4.691891019615226], [4, 3.3249509497472296], [5, 5.207478117132206], [6, 4.417979588440557], [7, -4.622890072667518], [8, -5.38706816616146], [9, -2.3226145245329475], [10, 0.40492356214654995], [11, 1.1697790348240646], [12, -1.4023600420949809]]"
      ],
      "text/plain": [
       "<IPython.core.display.Javascript object>"
      ]
     },
     "metadata": {},
     "output_type": "display_data"
    },
    {
     "data": {
      "application/javascript": [
       "window.weight_plot_l0.setData([window.weights_l0]); window.weight_plot_l0.draw();"
      ],
      "text/plain": [
       "<IPython.core.display.Javascript object>"
      ]
     },
     "metadata": {},
     "output_type": "display_data"
    },
    {
     "data": {
      "application/javascript": [
       "window.weights_l1 = [[1, 10.078730944857478], [2, -4.933810905906083], [3, -5.69470046114165], [4, 6.678924644319347]]"
      ],
      "text/plain": [
       "<IPython.core.display.Javascript object>"
      ]
     },
     "metadata": {},
     "output_type": "display_data"
    },
    {
     "data": {
      "application/javascript": [
       "window.weight_plot_l1.setData([window.weights_l1]); window.weight_plot_l1.draw();"
      ],
      "text/plain": [
       "<IPython.core.display.Javascript object>"
      ]
     },
     "metadata": {},
     "output_type": "display_data"
    },
    {
     "data": {
      "application/javascript": [
       "window.outputs = [[1, 0.006139620083034515], [2, 0.9888357517098406], [3, 0.990832320300489], [4, 0.013480426174352881]]"
      ],
      "text/plain": [
       "<IPython.core.display.Javascript object>"
      ]
     },
     "metadata": {},
     "output_type": "display_data"
    },
    {
     "data": {
      "application/javascript": [
       "window.output_plot.setData([window.outputs]); window.output_plot.draw();"
      ],
      "text/plain": [
       "<IPython.core.display.Javascript object>"
      ]
     },
     "metadata": {},
     "output_type": "display_data"
    },
    {
     "data": {
      "application/javascript": [
       "$('#avg-error').html(0.00996)"
      ],
      "text/plain": [
       "<IPython.core.display.Javascript object>"
      ]
     },
     "metadata": {},
     "output_type": "display_data"
    },
    {
     "data": {
      "application/javascript": [
       "$('#iteration').html(9450)"
      ],
      "text/plain": [
       "<IPython.core.display.Javascript object>"
      ]
     },
     "metadata": {},
     "output_type": "display_data"
    },
    {
     "data": {
      "application/javascript": [
       "window.error.push([9450,0.00996])"
      ],
      "text/plain": [
       "<IPython.core.display.Javascript object>"
      ]
     },
     "metadata": {},
     "output_type": "display_data"
    },
    {
     "data": {
      "application/javascript": [
       "window.plot.setData([window.error]); window.plot.draw();"
      ],
      "text/plain": [
       "<IPython.core.display.Javascript object>"
      ]
     },
     "metadata": {},
     "output_type": "display_data"
    },
    {
     "data": {
      "application/javascript": [
       "window.weights_l0 = [[1, -6.729888798371985], [2, -1.798892309034165], [3, -4.692534867883975], [4, 3.326280529761891], [5, 5.2087310788780155], [6, 4.419686229798451], [7, -4.623915451725751], [8, -5.388777725936598], [9, -2.322886659842363], [10, 0.4055773435169505], [11, 1.170017088901271], [12, -1.4029603610022363]]"
      ],
      "text/plain": [
       "<IPython.core.display.Javascript object>"
      ]
     },
     "metadata": {},
     "output_type": "display_data"
    },
    {
     "data": {
      "application/javascript": [
       "window.weight_plot_l0.setData([window.weights_l0]); window.weight_plot_l0.draw();"
      ],
      "text/plain": [
       "<IPython.core.display.Javascript object>"
      ]
     },
     "metadata": {},
     "output_type": "display_data"
    },
    {
     "data": {
      "application/javascript": [
       "window.weights_l1 = [[1, 10.084196636081247], [2, -4.936533464239181], [3, -5.695820312442246], [4, 6.68191322929526]]"
      ],
      "text/plain": [
       "<IPython.core.display.Javascript object>"
      ]
     },
     "metadata": {},
     "output_type": "display_data"
    },
    {
     "data": {
      "application/javascript": [
       "window.weight_plot_l1.setData([window.weights_l1]); window.weight_plot_l1.draw();"
      ],
      "text/plain": [
       "<IPython.core.display.Javascript object>"
      ]
     },
     "metadata": {},
     "output_type": "display_data"
    },
    {
     "data": {
      "application/javascript": [
       "window.outputs = [[1, 0.006119586781197929], [2, 0.9888684288121], [3, 0.9908609887965155], [4, 0.01344074682386837]]"
      ],
      "text/plain": [
       "<IPython.core.display.Javascript object>"
      ]
     },
     "metadata": {},
     "output_type": "display_data"
    },
    {
     "data": {
      "application/javascript": [
       "window.output_plot.setData([window.outputs]); window.output_plot.draw();"
      ],
      "text/plain": [
       "<IPython.core.display.Javascript object>"
      ]
     },
     "metadata": {},
     "output_type": "display_data"
    },
    {
     "data": {
      "application/javascript": [
       "$('#avg-error').html(0.00993)"
      ],
      "text/plain": [
       "<IPython.core.display.Javascript object>"
      ]
     },
     "metadata": {},
     "output_type": "display_data"
    },
    {
     "data": {
      "application/javascript": [
       "$('#iteration').html(9500)"
      ],
      "text/plain": [
       "<IPython.core.display.Javascript object>"
      ]
     },
     "metadata": {},
     "output_type": "display_data"
    },
    {
     "data": {
      "application/javascript": [
       "window.error.push([9500,0.00993])"
      ],
      "text/plain": [
       "<IPython.core.display.Javascript object>"
      ]
     },
     "metadata": {},
     "output_type": "display_data"
    },
    {
     "data": {
      "application/javascript": [
       "window.plot.setData([window.error]); window.plot.draw();"
      ],
      "text/plain": [
       "<IPython.core.display.Javascript object>"
      ]
     },
     "metadata": {},
     "output_type": "display_data"
    },
    {
     "data": {
      "application/javascript": [
       "window.weights_l0 = [[1, -6.731722105070781], [2, -1.8002025221120272], [3, -4.693174617021757], [4, 3.3276017395356376], [5, 5.209976319693373], [6, 4.421382589705975], [7, -4.6249343473005435], [8, -5.3904765934354], [9, -2.3231571282266246], [10, 0.406227183850299], [11, 1.170253517642312], [12, -1.403556769289823]]"
      ],
      "text/plain": [
       "<IPython.core.display.Javascript object>"
      ]
     },
     "metadata": {},
     "output_type": "display_data"
    },
    {
     "data": {
      "application/javascript": [
       "window.weight_plot_l0.setData([window.weights_l0]); window.weight_plot_l0.draw();"
      ],
      "text/plain": [
       "<IPython.core.display.Javascript object>"
      ]
     },
     "metadata": {},
     "output_type": "display_data"
    },
    {
     "data": {
      "application/javascript": [
       "window.weights_l1 = [[1, 10.089631263888085], [2, -4.939240612693854], [3, -5.6969330163458025], [4, 6.684884044795972]]"
      ],
      "text/plain": [
       "<IPython.core.display.Javascript object>"
      ]
     },
     "metadata": {},
     "output_type": "display_data"
    },
    {
     "data": {
      "application/javascript": [
       "window.weight_plot_l1.setData([window.weights_l1]); window.weight_plot_l1.draw();"
      ],
      "text/plain": [
       "<IPython.core.display.Javascript object>"
      ]
     },
     "metadata": {},
     "output_type": "display_data"
    },
    {
     "data": {
      "application/javascript": [
       "window.outputs = [[1, 0.006099733231654899], [2, 0.9889008251725289], [3, 0.9908894033311306], [4, 0.01340140945153312]]"
      ],
      "text/plain": [
       "<IPython.core.display.Javascript object>"
      ]
     },
     "metadata": {},
     "output_type": "display_data"
    },
    {
     "data": {
      "application/javascript": [
       "window.output_plot.setData([window.outputs]); window.output_plot.draw();"
      ],
      "text/plain": [
       "<IPython.core.display.Javascript object>"
      ]
     },
     "metadata": {},
     "output_type": "display_data"
    },
    {
     "data": {
      "application/javascript": [
       "$('#avg-error').html(0.00990)"
      ],
      "text/plain": [
       "<IPython.core.display.Javascript object>"
      ]
     },
     "metadata": {},
     "output_type": "display_data"
    },
    {
     "data": {
      "application/javascript": [
       "$('#iteration').html(9550)"
      ],
      "text/plain": [
       "<IPython.core.display.Javascript object>"
      ]
     },
     "metadata": {},
     "output_type": "display_data"
    },
    {
     "data": {
      "application/javascript": [
       "window.error.push([9550,0.00990])"
      ],
      "text/plain": [
       "<IPython.core.display.Javascript object>"
      ]
     },
     "metadata": {},
     "output_type": "display_data"
    },
    {
     "data": {
      "application/javascript": [
       "window.plot.setData([window.error]); window.plot.draw();"
      ],
      "text/plain": [
       "<IPython.core.display.Javascript object>"
      ]
     },
     "metadata": {},
     "output_type": "display_data"
    },
    {
     "data": {
      "application/javascript": [
       "window.weights_l0 = [[1, -6.733544291772354], [2, -1.8015051732722558], [3, -4.6938103163463545], [4, 3.328914678898534], [5, 5.211213930565243], [6, 4.423068787628222], [7, -4.62594683685428], [8, -5.392164895821766], [9, -2.3234259493087146], [10, 0.4068731287696097], [11, 1.1704883413591711], [12, -1.404149314405428]]"
      ],
      "text/plain": [
       "<IPython.core.display.Javascript object>"
      ]
     },
     "metadata": {},
     "output_type": "display_data"
    },
    {
     "data": {
      "application/javascript": [
       "window.weight_plot_l0.setData([window.weights_l0]); window.weight_plot_l0.draw();"
      ],
      "text/plain": [
       "<IPython.core.display.Javascript object>"
      ]
     },
     "metadata": {},
     "output_type": "display_data"
    },
    {
     "data": {
      "application/javascript": [
       "window.weights_l1 = [[1, 10.095035178156653], [2, -4.941932524275324], [3, -5.698038658767608], [4, 6.68783729646739]]"
      ],
      "text/plain": [
       "<IPython.core.display.Javascript object>"
      ]
     },
     "metadata": {},
     "output_type": "display_data"
    },
    {
     "data": {
      "application/javascript": [
       "window.weight_plot_l1.setData([window.weights_l1]); window.weight_plot_l1.draw();"
      ],
      "text/plain": [
       "<IPython.core.display.Javascript object>"
      ]
     },
     "metadata": {},
     "output_type": "display_data"
    },
    {
     "data": {
      "application/javascript": [
       "window.outputs = [[1, 0.0060800568188822905], [2, 0.9889329447636478], [3, 0.9909175675733807], [4, 0.01336240920708606]]"
      ],
      "text/plain": [
       "<IPython.core.display.Javascript object>"
      ]
     },
     "metadata": {},
     "output_type": "display_data"
    },
    {
     "data": {
      "application/javascript": [
       "window.output_plot.setData([window.outputs]); window.output_plot.draw();"
      ],
      "text/plain": [
       "<IPython.core.display.Javascript object>"
      ]
     },
     "metadata": {},
     "output_type": "display_data"
    },
    {
     "data": {
      "application/javascript": [
       "$('#avg-error').html(0.00987)"
      ],
      "text/plain": [
       "<IPython.core.display.Javascript object>"
      ]
     },
     "metadata": {},
     "output_type": "display_data"
    },
    {
     "data": {
      "application/javascript": [
       "$('#iteration').html(9600)"
      ],
      "text/plain": [
       "<IPython.core.display.Javascript object>"
      ]
     },
     "metadata": {},
     "output_type": "display_data"
    },
    {
     "data": {
      "application/javascript": [
       "window.error.push([9600,0.00987])"
      ],
      "text/plain": [
       "<IPython.core.display.Javascript object>"
      ]
     },
     "metadata": {},
     "output_type": "display_data"
    },
    {
     "data": {
      "application/javascript": [
       "window.plot.setData([window.error]); window.plot.draw();"
      ],
      "text/plain": [
       "<IPython.core.display.Javascript object>"
      ]
     },
     "metadata": {},
     "output_type": "display_data"
    },
    {
     "data": {
      "application/javascript": [
       "window.weights_l0 = [[1, -6.73535548789151], [2, -1.8028003476462278], [3, -4.69444201430848], [4, 3.3302194459383916], [5, 5.212444000905682], [6, 4.42474494098431], [7, -4.626952996495893], [8, -5.393842758043617], [9, -2.3236931423719267], [10, 0.4075152231200813], [11, 1.1707215799971695], [12, -1.4047380429592795]]"
      ],
      "text/plain": [
       "<IPython.core.display.Javascript object>"
      ]
     },
     "metadata": {},
     "output_type": "display_data"
    },
    {
     "data": {
      "application/javascript": [
       "window.weight_plot_l0.setData([window.weights_l0]); window.weight_plot_l0.draw();"
      ],
      "text/plain": [
       "<IPython.core.display.Javascript object>"
      ]
     },
     "metadata": {},
     "output_type": "display_data"
    },
    {
     "data": {
      "application/javascript": [
       "window.weights_l1 = [[1, 10.100408722900838], [2, -4.944609369096866], [3, -5.6991373241148215], [4, 6.69077318643936]]"
      ],
      "text/plain": [
       "<IPython.core.display.Javascript object>"
      ]
     },
     "metadata": {},
     "output_type": "display_data"
    },
    {
     "data": {
      "application/javascript": [
       "window.weight_plot_l1.setData([window.weights_l1]); window.weight_plot_l1.draw();"
      ],
      "text/plain": [
       "<IPython.core.display.Javascript object>"
      ]
     },
     "metadata": {},
     "output_type": "display_data"
    },
    {
     "data": {
      "application/javascript": [
       "window.outputs = [[1, 0.006060554979780124], [2, 0.988964791479997], [3, 0.990945485119125], [4, 0.013323741335655953]]"
      ],
      "text/plain": [
       "<IPython.core.display.Javascript object>"
      ]
     },
     "metadata": {},
     "output_type": "display_data"
    },
    {
     "data": {
      "application/javascript": [
       "window.output_plot.setData([window.outputs]); window.output_plot.draw();"
      ],
      "text/plain": [
       "<IPython.core.display.Javascript object>"
      ]
     },
     "metadata": {},
     "output_type": "display_data"
    },
    {
     "data": {
      "application/javascript": [
       "$('#avg-error').html(0.00984)"
      ],
      "text/plain": [
       "<IPython.core.display.Javascript object>"
      ]
     },
     "metadata": {},
     "output_type": "display_data"
    },
    {
     "data": {
      "application/javascript": [
       "$('#iteration').html(9650)"
      ],
      "text/plain": [
       "<IPython.core.display.Javascript object>"
      ]
     },
     "metadata": {},
     "output_type": "display_data"
    },
    {
     "data": {
      "application/javascript": [
       "window.error.push([9650,0.00984])"
      ],
      "text/plain": [
       "<IPython.core.display.Javascript object>"
      ]
     },
     "metadata": {},
     "output_type": "display_data"
    },
    {
     "data": {
      "application/javascript": [
       "window.plot.setData([window.error]); window.plot.draw();"
      ],
      "text/plain": [
       "<IPython.core.display.Javascript object>"
      ]
     },
     "metadata": {},
     "output_type": "display_data"
    },
    {
     "data": {
      "application/javascript": [
       "window.weights_l0 = [[1, -6.737155820627424], [2, -1.804088128945265], [3, -4.695069758511756], [4, 3.3315161370406643], [5, 5.213666618587683], [6, 4.426411165193521], [7, -4.627952901011895], [8, -5.395510302883579], [9, -2.323958726367589], [10, 0.408153510986561], [11, 1.1709532531435851], [12, -1.4053230007434827]]"
      ],
      "text/plain": [
       "<IPython.core.display.Javascript object>"
      ]
     },
     "metadata": {},
     "output_type": "display_data"
    },
    {
     "data": {
      "application/javascript": [
       "window.weight_plot_l0.setData([window.weights_l0]); window.weight_plot_l0.draw();"
      ],
      "text/plain": [
       "<IPython.core.display.Javascript object>"
      ]
     },
     "metadata": {},
     "output_type": "display_data"
    },
    {
     "data": {
      "application/javascript": [
       "window.weights_l1 = [[1, 10.105752236399855], [2, -4.947271314443826], [3, -5.700229095321193], [4, 6.693691913404943]]"
      ],
      "text/plain": [
       "<IPython.core.display.Javascript object>"
      ]
     },
     "metadata": {},
     "output_type": "display_data"
    },
    {
     "data": {
      "application/javascript": [
       "window.weight_plot_l1.setData([window.weights_l1]); window.weight_plot_l1.draw();"
      ],
      "text/plain": [
       "<IPython.core.display.Javascript object>"
      ]
     },
     "metadata": {},
     "output_type": "display_data"
    },
    {
     "data": {
      "application/javascript": [
       "window.outputs = [[1, 0.006041225202336743], [2, 0.9889963691400899], [3, 0.9909731594928917], [4, 0.013285401175368961]]"
      ],
      "text/plain": [
       "<IPython.core.display.Javascript object>"
      ]
     },
     "metadata": {},
     "output_type": "display_data"
    },
    {
     "data": {
      "application/javascript": [
       "window.output_plot.setData([window.outputs]); window.output_plot.draw();"
      ],
      "text/plain": [
       "<IPython.core.display.Javascript object>"
      ]
     },
     "metadata": {},
     "output_type": "display_data"
    },
    {
     "data": {
      "application/javascript": [
       "$('#avg-error').html(0.00981)"
      ],
      "text/plain": [
       "<IPython.core.display.Javascript object>"
      ]
     },
     "metadata": {},
     "output_type": "display_data"
    },
    {
     "data": {
      "application/javascript": [
       "$('#iteration').html(9700)"
      ],
      "text/plain": [
       "<IPython.core.display.Javascript object>"
      ]
     },
     "metadata": {},
     "output_type": "display_data"
    },
    {
     "data": {
      "application/javascript": [
       "window.error.push([9700,0.00981])"
      ],
      "text/plain": [
       "<IPython.core.display.Javascript object>"
      ]
     },
     "metadata": {},
     "output_type": "display_data"
    },
    {
     "data": {
      "application/javascript": [
       "window.plot.setData([window.error]); window.plot.draw();"
      ],
      "text/plain": [
       "<IPython.core.display.Javascript object>"
      ]
     },
     "metadata": {},
     "output_type": "display_data"
    },
    {
     "data": {
      "application/javascript": [
       "window.weights_l0 = [[1, -6.738945415013538], [2, -1.805368599491932], [3, -4.695693595732147], [4, 3.33280484692721], [5, 5.214881869979998], [6, 4.428067573720167], [7, -4.628946623896504], [8, -5.397167651008245], [9, -2.324222719922586], [10, 0.4087880357105233], [11, 1.171183380036031], [12, -1.405904232750808]]"
      ],
      "text/plain": [
       "<IPython.core.display.Javascript object>"
      ]
     },
     "metadata": {},
     "output_type": "display_data"
    },
    {
     "data": {
      "application/javascript": [
       "window.weight_plot_l0.setData([window.weights_l0]); window.weight_plot_l0.draw();"
      ],
      "text/plain": [
       "<IPython.core.display.Javascript object>"
      ]
     },
     "metadata": {},
     "output_type": "display_data"
    },
    {
     "data": {
      "application/javascript": [
       "window.weights_l1 = [[1, 10.111066051324858], [2, -4.949918524835877], [3, -5.701314053880738], [4, 6.696593672697457]]"
      ],
      "text/plain": [
       "<IPython.core.display.Javascript object>"
      ]
     },
     "metadata": {},
     "output_type": "display_data"
    },
    {
     "data": {
      "application/javascript": [
       "window.weight_plot_l1.setData([window.weights_l1]); window.weight_plot_l1.draw();"
      ],
      "text/plain": [
       "<IPython.core.display.Javascript object>"
      ]
     },
     "metadata": {},
     "output_type": "display_data"
    },
    {
     "data": {
      "application/javascript": [
       "window.outputs = [[1, 0.006022065024335219], [2, 0.9890276814883054], [3, 0.9910005941496788], [4, 0.0132473841550293]]"
      ],
      "text/plain": [
       "<IPython.core.display.Javascript object>"
      ]
     },
     "metadata": {},
     "output_type": "display_data"
    },
    {
     "data": {
      "application/javascript": [
       "window.output_plot.setData([window.outputs]); window.output_plot.draw();"
      ],
      "text/plain": [
       "<IPython.core.display.Javascript object>"
      ]
     },
     "metadata": {},
     "output_type": "display_data"
    },
    {
     "data": {
      "application/javascript": [
       "$('#avg-error').html(0.00978)"
      ],
      "text/plain": [
       "<IPython.core.display.Javascript object>"
      ]
     },
     "metadata": {},
     "output_type": "display_data"
    },
    {
     "data": {
      "application/javascript": [
       "$('#iteration').html(9750)"
      ],
      "text/plain": [
       "<IPython.core.display.Javascript object>"
      ]
     },
     "metadata": {},
     "output_type": "display_data"
    },
    {
     "data": {
      "application/javascript": [
       "window.error.push([9750,0.00978])"
      ],
      "text/plain": [
       "<IPython.core.display.Javascript object>"
      ]
     },
     "metadata": {},
     "output_type": "display_data"
    },
    {
     "data": {
      "application/javascript": [
       "window.plot.setData([window.error]); window.plot.draw();"
      ],
      "text/plain": [
       "<IPython.core.display.Javascript object>"
      ]
     },
     "metadata": {},
     "output_type": "display_data"
    },
    {
     "data": {
      "application/javascript": [
       "window.weights_l0 = [[1, -6.740724393966105], [2, -1.806641840250483], [3, -4.696313571936804], [4, 3.3340856686939664], [5, 5.216089839980999], [6, 4.429714278117216], [7, -4.629934237380947], [8, -5.398814921016086], [9, -2.3244851413466616], [10, 0.4094188399065803], [11, 1.1714119795705868], [12, -1.4064817831929401]]"
      ],
      "text/plain": [
       "<IPython.core.display.Javascript object>"
      ]
     },
     "metadata": {},
     "output_type": "display_data"
    },
    {
     "data": {
      "application/javascript": [
       "window.weight_plot_l0.setData([window.weights_l0]); window.weight_plot_l0.draw();"
      ],
      "text/plain": [
       "<IPython.core.display.Javascript object>"
      ]
     },
     "metadata": {},
     "output_type": "display_data"
    },
    {
     "data": {
      "application/javascript": [
       "window.weights_l1 = [[1, 10.116350494861999], [2, -4.952551162087569], [3, -5.7023922798805335], [4, 6.699478656365392]]"
      ],
      "text/plain": [
       "<IPython.core.display.Javascript object>"
      ]
     },
     "metadata": {},
     "output_type": "display_data"
    },
    {
     "data": {
      "application/javascript": [
       "window.weight_plot_l1.setData([window.weights_l1]); window.weight_plot_l1.draw();"
      ],
      "text/plain": [
       "<IPython.core.display.Javascript object>"
      ]
     },
     "metadata": {},
     "output_type": "display_data"
    },
    {
     "data": {
      "application/javascript": [
       "window.outputs = [[1, 0.006003072032099338], [2, 0.9890587321967239], [3, 0.9910277924766983], [4, 0.013209685791869557]]"
      ],
      "text/plain": [
       "<IPython.core.display.Javascript object>"
      ]
     },
     "metadata": {},
     "output_type": "display_data"
    },
    {
     "data": {
      "application/javascript": [
       "window.output_plot.setData([window.outputs]); window.output_plot.draw();"
      ],
      "text/plain": [
       "<IPython.core.display.Javascript object>"
      ]
     },
     "metadata": {},
     "output_type": "display_data"
    },
    {
     "data": {
      "application/javascript": [
       "$('#avg-error').html(0.00975)"
      ],
      "text/plain": [
       "<IPython.core.display.Javascript object>"
      ]
     },
     "metadata": {},
     "output_type": "display_data"
    },
    {
     "data": {
      "application/javascript": [
       "$('#iteration').html(9800)"
      ],
      "text/plain": [
       "<IPython.core.display.Javascript object>"
      ]
     },
     "metadata": {},
     "output_type": "display_data"
    },
    {
     "data": {
      "application/javascript": [
       "window.error.push([9800,0.00975])"
      ],
      "text/plain": [
       "<IPython.core.display.Javascript object>"
      ]
     },
     "metadata": {},
     "output_type": "display_data"
    },
    {
     "data": {
      "application/javascript": [
       "window.plot.setData([window.error]); window.plot.draw();"
      ],
      "text/plain": [
       "<IPython.core.display.Javascript object>"
      ]
     },
     "metadata": {},
     "output_type": "display_data"
    },
    {
     "data": {
      "application/javascript": [
       "window.weights_l0 = [[1, -6.742492878331354], [2, -1.807907930856479], [3, -4.6969297323024035], [4, 3.3353586938475646], [5, 5.217290612051591], [6, 4.431351388068709], [7, -4.630915812461924], [8, -5.400452229483964], [9, -2.324746008639527], [10, 0.4100459654785378], [11, 1.1716390703097033], [12, -1.4070556955182227]]"
      ],
      "text/plain": [
       "<IPython.core.display.Javascript object>"
      ]
     },
     "metadata": {},
     "output_type": "display_data"
    },
    {
     "data": {
      "application/javascript": [
       "window.weight_plot_l0.setData([window.weights_l0]); window.weight_plot_l0.draw();"
      ],
      "text/plain": [
       "<IPython.core.display.Javascript object>"
      ]
     },
     "metadata": {},
     "output_type": "display_data"
    },
    {
     "data": {
      "application/javascript": [
       "window.weights_l1 = [[1, 10.121605888832143], [2, -4.955169385367241], [3, -5.703463852032532], [4, 6.702347053245252]]"
      ],
      "text/plain": [
       "<IPython.core.display.Javascript object>"
      ]
     },
     "metadata": {},
     "output_type": "display_data"
    },
    {
     "data": {
      "application/javascript": [
       "window.weight_plot_l1.setData([window.weights_l1]); window.weight_plot_l1.draw();"
      ],
      "text/plain": [
       "<IPython.core.display.Javascript object>"
      ]
     },
     "metadata": {},
     "output_type": "display_data"
    },
    {
     "data": {
      "application/javascript": [
       "window.outputs = [[1, 0.005984243859277721], [2, 0.9890895248669092], [3, 0.9910547577950684], [4, 0.013172301689369253]]"
      ],
      "text/plain": [
       "<IPython.core.display.Javascript object>"
      ]
     },
     "metadata": {},
     "output_type": "display_data"
    },
    {
     "data": {
      "application/javascript": [
       "window.output_plot.setData([window.outputs]); window.output_plot.draw();"
      ],
      "text/plain": [
       "<IPython.core.display.Javascript object>"
      ]
     },
     "metadata": {},
     "output_type": "display_data"
    },
    {
     "data": {
      "application/javascript": [
       "$('#avg-error').html(0.00972)"
      ],
      "text/plain": [
       "<IPython.core.display.Javascript object>"
      ]
     },
     "metadata": {},
     "output_type": "display_data"
    },
    {
     "data": {
      "application/javascript": [
       "$('#iteration').html(9850)"
      ],
      "text/plain": [
       "<IPython.core.display.Javascript object>"
      ]
     },
     "metadata": {},
     "output_type": "display_data"
    },
    {
     "data": {
      "application/javascript": [
       "window.error.push([9850,0.00972])"
      ],
      "text/plain": [
       "<IPython.core.display.Javascript object>"
      ]
     },
     "metadata": {},
     "output_type": "display_data"
    },
    {
     "data": {
      "application/javascript": [
       "window.plot.setData([window.error]); window.plot.draw();"
      ],
      "text/plain": [
       "<IPython.core.display.Javascript object>"
      ]
     },
     "metadata": {},
     "output_type": "display_data"
    },
    {
     "data": {
      "application/javascript": [
       "window.weights_l0 = [[1, -6.74425098693136], [2, -1.8091669496456015], [3, -4.697542121232976], [4, 3.3366240123409434], [5, 5.2184842682472175], [6, 4.432979011431012], [7, -4.631891418929307], [8, -5.402079691012389], [9, -2.325005339497757], [10, 0.41066945363501134], [11, 1.171864670489876], [12, -1.407626012428898]]"
      ],
      "text/plain": [
       "<IPython.core.display.Javascript object>"
      ]
     },
     "metadata": {},
     "output_type": "display_data"
    },
    {
     "data": {
      "application/javascript": [
       "window.weight_plot_l0.setData([window.weights_l0]); window.weight_plot_l0.draw();"
      ],
      "text/plain": [
       "<IPython.core.display.Javascript object>"
      ]
     },
     "metadata": {},
     "output_type": "display_data"
    },
    {
     "data": {
      "application/javascript": [
       "window.weights_l1 = [[1, 10.126832549807382], [2, -4.957773351254327], [3, -5.704528847704524], [4, 6.705199049032396]]"
      ],
      "text/plain": [
       "<IPython.core.display.Javascript object>"
      ]
     },
     "metadata": {},
     "output_type": "display_data"
    },
    {
     "data": {
      "application/javascript": [
       "window.weight_plot_l1.setData([window.weights_l1]); window.weight_plot_l1.draw();"
      ],
      "text/plain": [
       "<IPython.core.display.Javascript object>"
      ]
     },
     "metadata": {},
     "output_type": "display_data"
    },
    {
     "data": {
      "application/javascript": [
       "window.outputs = [[1, 0.005965578185665003], [2, 0.9891200630316348], [3, 0.9910814933614536], [4, 0.013135227535138499]]"
      ],
      "text/plain": [
       "<IPython.core.display.Javascript object>"
      ]
     },
     "metadata": {},
     "output_type": "display_data"
    },
    {
     "data": {
      "application/javascript": [
       "window.output_plot.setData([window.outputs]); window.output_plot.draw();"
      ],
      "text/plain": [
       "<IPython.core.display.Javascript object>"
      ]
     },
     "metadata": {},
     "output_type": "display_data"
    },
    {
     "data": {
      "application/javascript": [
       "$('#avg-error').html(0.00970)"
      ],
      "text/plain": [
       "<IPython.core.display.Javascript object>"
      ]
     },
     "metadata": {},
     "output_type": "display_data"
    },
    {
     "data": {
      "application/javascript": [
       "$('#iteration').html(9900)"
      ],
      "text/plain": [
       "<IPython.core.display.Javascript object>"
      ]
     },
     "metadata": {},
     "output_type": "display_data"
    },
    {
     "data": {
      "application/javascript": [
       "window.error.push([9900,0.00970])"
      ],
      "text/plain": [
       "<IPython.core.display.Javascript object>"
      ]
     },
     "metadata": {},
     "output_type": "display_data"
    },
    {
     "data": {
      "application/javascript": [
       "window.plot.setData([window.error]); window.plot.draw();"
      ],
      "text/plain": [
       "<IPython.core.display.Javascript object>"
      ]
     },
     "metadata": {},
     "output_type": "display_data"
    },
    {
     "data": {
      "application/javascript": [
       "window.weights_l0 = [[1, -6.745998836608696], [2, -1.8104189736816934], [3, -4.698150782377232], [4, 3.33788171260796], [5, 5.2196708892489765], [6, 4.434597254272934], [7, -4.632861125393023], [8, -5.403697418269515], [9, -2.325263151321518], [10, 0.41128934490461877], [11, 1.172088798029107], [12, -1.4081927758978732]]"
      ],
      "text/plain": [
       "<IPython.core.display.Javascript object>"
      ]
     },
     "metadata": {},
     "output_type": "display_data"
    },
    {
     "data": {
      "application/javascript": [
       "window.weight_plot_l0.setData([window.weights_l0]); window.weight_plot_l0.draw();"
      ],
      "text/plain": [
       "<IPython.core.display.Javascript object>"
      ]
     },
     "metadata": {},
     "output_type": "display_data"
    },
    {
     "data": {
      "application/javascript": [
       "window.weights_l1 = [[1, 10.132030789224373], [2, -4.96036321379514], [3, -5.7055873429502215], [4, 6.708034826349932]]"
      ],
      "text/plain": [
       "<IPython.core.display.Javascript object>"
      ]
     },
     "metadata": {},
     "output_type": "display_data"
    },
    {
     "data": {
      "application/javascript": [
       "window.weight_plot_l1.setData([window.weights_l1]); window.weight_plot_l1.draw();"
      ],
      "text/plain": [
       "<IPython.core.display.Javascript object>"
      ]
     },
     "metadata": {},
     "output_type": "display_data"
    },
    {
     "data": {
      "application/javascript": [
       "window.outputs = [[1, 0.005947072736058367], [2, 0.9891503501565606], [3, 0.9911080023696567], [4, 0.013098459098864375]]"
      ],
      "text/plain": [
       "<IPython.core.display.Javascript object>"
      ]
     },
     "metadata": {},
     "output_type": "display_data"
    },
    {
     "data": {
      "application/javascript": [
       "window.output_plot.setData([window.outputs]); window.output_plot.draw();"
      ],
      "text/plain": [
       "<IPython.core.display.Javascript object>"
      ]
     },
     "metadata": {},
     "output_type": "display_data"
    },
    {
     "data": {
      "application/javascript": [
       "$('#avg-error').html(0.00967)"
      ],
      "text/plain": [
       "<IPython.core.display.Javascript object>"
      ]
     },
     "metadata": {},
     "output_type": "display_data"
    },
    {
     "data": {
      "application/javascript": [
       "$('#iteration').html(9950)"
      ],
      "text/plain": [
       "<IPython.core.display.Javascript object>"
      ]
     },
     "metadata": {},
     "output_type": "display_data"
    },
    {
     "data": {
      "application/javascript": [
       "window.error.push([9950,0.00967])"
      ],
      "text/plain": [
       "<IPython.core.display.Javascript object>"
      ]
     },
     "metadata": {},
     "output_type": "display_data"
    },
    {
     "data": {
      "application/javascript": [
       "window.plot.setData([window.error]); window.plot.draw();"
      ],
      "text/plain": [
       "<IPython.core.display.Javascript object>"
      ]
     },
     "metadata": {},
     "output_type": "display_data"
    },
    {
     "data": {
      "application/javascript": [
       "window.weights_l0 = [[1, -6.747736542269808], [2, -1.811664078784049], [3, -4.698755758645402], [4, 3.33913188159706], [5, 5.220850554393889], [6, 4.436206220914768], [7, -4.633824999309261], [8, -5.405305522033939], [9, -2.3255194612210857], [10, 0.41190567915076065], [11, 1.1723114705341533], [12, -1.4087560271850166]]"
      ],
      "text/plain": [
       "<IPython.core.display.Javascript object>"
      ]
     },
     "metadata": {},
     "output_type": "display_data"
    },
    {
     "data": {
      "application/javascript": [
       "window.weight_plot_l0.setData([window.weights_l0]); window.weight_plot_l0.draw();"
      ],
      "text/plain": [
       "<IPython.core.display.Javascript object>"
      ]
     },
     "metadata": {},
     "output_type": "display_data"
    },
    {
     "data": {
      "application/javascript": [
       "window.weights_l1 = [[1, 10.137200913494656], [2, -4.962939124557136], [3, -5.706639412538521], [4, 6.71085456481577]]"
      ],
      "text/plain": [
       "<IPython.core.display.Javascript object>"
      ]
     },
     "metadata": {},
     "output_type": "display_data"
    },
    {
     "data": {
      "application/javascript": [
       "window.weight_plot_l1.setData([window.weights_l1]); window.weight_plot_l1.draw();"
      ],
      "text/plain": [
       "<IPython.core.display.Javascript object>"
      ]
     },
     "metadata": {},
     "output_type": "display_data"
    },
    {
     "data": {
      "application/javascript": [
       "window.outputs = [[1, 0.005928725279148488], [2, 0.9891803896418605], [3, 0.9911342879521624], [4, 0.013061992230318734]]"
      ],
      "text/plain": [
       "<IPython.core.display.Javascript object>"
      ]
     },
     "metadata": {},
     "output_type": "display_data"
    },
    {
     "data": {
      "application/javascript": [
       "window.output_plot.setData([window.outputs]); window.output_plot.draw();"
      ],
      "text/plain": [
       "<IPython.core.display.Javascript object>"
      ]
     },
     "metadata": {},
     "output_type": "display_data"
    },
    {
     "data": {
      "application/javascript": [
       "$('#avg-error').html(0.00964)"
      ],
      "text/plain": [
       "<IPython.core.display.Javascript object>"
      ]
     },
     "metadata": {},
     "output_type": "display_data"
    },
    {
     "data": {
      "application/javascript": [
       "$('#iteration').html(10000)"
      ],
      "text/plain": [
       "<IPython.core.display.Javascript object>"
      ]
     },
     "metadata": {},
     "output_type": "display_data"
    },
    {
     "data": {
      "application/javascript": [
       "window.error.push([10000,0.00964])"
      ],
      "text/plain": [
       "<IPython.core.display.Javascript object>"
      ]
     },
     "metadata": {},
     "output_type": "display_data"
    },
    {
     "data": {
      "application/javascript": [
       "window.plot.setData([window.error]); window.plot.draw();"
      ],
      "text/plain": [
       "<IPython.core.display.Javascript object>"
      ]
     },
     "metadata": {},
     "output_type": "display_data"
    },
    {
     "data": {
      "application/javascript": [
       "window.weights_l0 = [[1, -6.749464216927254], [2, -1.8129023395539807], [3, -4.699357092225621], [4, 3.3403746048040106], [5, 5.222023341704356], [6, 4.437806013966258], [7, -4.634783107005905], [8, -5.406904111236302], [9, -2.32577428602321], [10, 0.4125184955860043], [11, 1.172532705307574], [12, -1.4093158068530085]]"
      ],
      "text/plain": [
       "<IPython.core.display.Javascript object>"
      ]
     },
     "metadata": {},
     "output_type": "display_data"
    },
    {
     "data": {
      "application/javascript": [
       "window.weight_plot_l0.setData([window.weights_l0]); window.weight_plot_l0.draw();"
      ],
      "text/plain": [
       "<IPython.core.display.Javascript object>"
      ]
     },
     "metadata": {},
     "output_type": "display_data"
    },
    {
     "data": {
      "application/javascript": [
       "window.weights_l1 = [[1, 10.142343224112], [2, -4.965501232681764], [3, -5.7076851299819715], [4, 6.713658441107834]]"
      ],
      "text/plain": [
       "<IPython.core.display.Javascript object>"
      ]
     },
     "metadata": {},
     "output_type": "display_data"
    },
    {
     "data": {
      "application/javascript": [
       "window.weight_plot_l1.setData([window.weights_l1]); window.weight_plot_l1.draw();"
      ],
      "text/plain": [
       "<IPython.core.display.Javascript object>"
      ]
     },
     "metadata": {},
     "output_type": "display_data"
    },
    {
     "data": {
      "application/javascript": [
       "window.outputs = [[1, 0.005910533626443405], [2, 0.9892101848237997], [3, 0.991160353181635], [4, 0.013025822857424062]]"
      ],
      "text/plain": [
       "<IPython.core.display.Javascript object>"
      ]
     },
     "metadata": {},
     "output_type": "display_data"
    },
    {
     "data": {
      "application/javascript": [
       "window.output_plot.setData([window.outputs]); window.output_plot.draw();"
      ],
      "text/plain": [
       "<IPython.core.display.Javascript object>"
      ]
     },
     "metadata": {},
     "output_type": "display_data"
    },
    {
     "data": {
      "application/javascript": [
       "$('#avg-error').html(0.00961)"
      ],
      "text/plain": [
       "<IPython.core.display.Javascript object>"
      ]
     },
     "metadata": {},
     "output_type": "display_data"
    },
    {
     "data": {
      "application/javascript": [
       "$('#iteration').html(10050)"
      ],
      "text/plain": [
       "<IPython.core.display.Javascript object>"
      ]
     },
     "metadata": {},
     "output_type": "display_data"
    },
    {
     "data": {
      "application/javascript": [
       "window.error.push([10050,0.00961])"
      ],
      "text/plain": [
       "<IPython.core.display.Javascript object>"
      ]
     },
     "metadata": {},
     "output_type": "display_data"
    },
    {
     "data": {
      "application/javascript": [
       "window.plot.setData([window.error]); window.plot.draw();"
      ],
      "text/plain": [
       "<IPython.core.display.Javascript object>"
      ]
     },
     "metadata": {},
     "output_type": "display_data"
    },
    {
     "data": {
      "application/javascript": [
       "window.weights_l0 = [[1, -6.75118197174078], [2, -1.8141338294006726], [3, -4.69995482459987], [4, 3.341609966303765], [5, 5.223189327916794], [6, 4.4393967343635685], [7, -4.635735513707304], [8, -5.40849329299979], [9, -2.326027642277294], [10, 0.41312783278608106], [11, 1.1727525193545814], [12, -1.4098721547827557]]"
      ],
      "text/plain": [
       "<IPython.core.display.Javascript object>"
      ]
     },
     "metadata": {},
     "output_type": "display_data"
    },
    {
     "data": {
      "application/javascript": [
       "window.weight_plot_l0.setData([window.weights_l0]); window.weight_plot_l0.draw();"
      ],
      "text/plain": [
       "<IPython.core.display.Javascript object>"
      ]
     },
     "metadata": {},
     "output_type": "display_data"
    },
    {
     "data": {
      "application/javascript": [
       "window.weights_l1 = [[1, 10.147458017756936], [2, -4.9680496849358855], [3, -5.708724567564413], [4, 6.716446629027526]]"
      ],
      "text/plain": [
       "<IPython.core.display.Javascript object>"
      ]
     },
     "metadata": {},
     "output_type": "display_data"
    },
    {
     "data": {
      "application/javascript": [
       "window.weight_plot_l1.setData([window.weights_l1]); window.weight_plot_l1.draw();"
      ],
      "text/plain": [
       "<IPython.core.display.Javascript object>"
      ]
     },
     "metadata": {},
     "output_type": "display_data"
    },
    {
     "data": {
      "application/javascript": [
       "window.outputs = [[1, 0.005892495631224659], [2, 0.9892397389762683], [3, 0.9911862010723712], [4, 0.012989946984376485]]"
      ],
      "text/plain": [
       "<IPython.core.display.Javascript object>"
      ]
     },
     "metadata": {},
     "output_type": "display_data"
    },
    {
     "data": {
      "application/javascript": [
       "window.output_plot.setData([window.outputs]); window.output_plot.draw();"
      ],
      "text/plain": [
       "<IPython.core.display.Javascript object>"
      ]
     },
     "metadata": {},
     "output_type": "display_data"
    },
    {
     "data": {
      "application/javascript": [
       "$('#avg-error').html(0.00959)"
      ],
      "text/plain": [
       "<IPython.core.display.Javascript object>"
      ]
     },
     "metadata": {},
     "output_type": "display_data"
    },
    {
     "data": {
      "application/javascript": [
       "$('#iteration').html(10100)"
      ],
      "text/plain": [
       "<IPython.core.display.Javascript object>"
      ]
     },
     "metadata": {},
     "output_type": "display_data"
    },
    {
     "data": {
      "application/javascript": [
       "window.error.push([10100,0.00959])"
      ],
      "text/plain": [
       "<IPython.core.display.Javascript object>"
      ]
     },
     "metadata": {},
     "output_type": "display_data"
    },
    {
     "data": {
      "application/javascript": [
       "window.plot.setData([window.error]); window.plot.draw();"
      ],
      "text/plain": [
       "<IPython.core.display.Javascript object>"
      ]
     },
     "metadata": {},
     "output_type": "display_data"
    },
    {
     "data": {
      "application/javascript": [
       "window.weights_l0 = [[1, -6.75288991605732], [2, -1.815358620566366], [3, -4.700548996559468], [4, 3.342838048781451], [5, 5.224348588509522], [6, 4.440978481405235], [7, -4.636682283558371], [8, -5.410073172679508], [9, -2.3262795462614005], [10, 0.41373372870351255], [11, 1.1729709293897004], [12, -1.4104251101883907]]"
      ],
      "text/plain": [
       "<IPython.core.display.Javascript object>"
      ]
     },
     "metadata": {},
     "output_type": "display_data"
    },
    {
     "data": {
      "application/javascript": [
       "window.weight_plot_l0.setData([window.weights_l0]); window.weight_plot_l0.draw();"
      ],
      "text/plain": [
       "<IPython.core.display.Javascript object>"
      ]
     },
     "metadata": {},
     "output_type": "display_data"
    },
    {
     "data": {
      "application/javascript": [
       "window.weights_l1 = [[1, 10.152545586398505], [2, -4.9705846257618695], [3, -5.70975779636795], [4, 6.7192192995615105]]"
      ],
      "text/plain": [
       "<IPython.core.display.Javascript object>"
      ]
     },
     "metadata": {},
     "output_type": "display_data"
    },
    {
     "data": {
      "application/javascript": [
       "window.weight_plot_l1.setData([window.weights_l1]); window.weight_plot_l1.draw();"
      ],
      "text/plain": [
       "<IPython.core.display.Javascript object>"
      ]
     },
     "metadata": {},
     "output_type": "display_data"
    },
    {
     "data": {
      "application/javascript": [
       "window.outputs = [[1, 0.005874609187533805], [2, 0.9892690553122689], [3, 0.9912118345817129], [4, 0.012954360689823268]]"
      ],
      "text/plain": [
       "<IPython.core.display.Javascript object>"
      ]
     },
     "metadata": {},
     "output_type": "display_data"
    },
    {
     "data": {
      "application/javascript": [
       "window.output_plot.setData([window.outputs]); window.output_plot.draw();"
      ],
      "text/plain": [
       "<IPython.core.display.Javascript object>"
      ]
     },
     "metadata": {},
     "output_type": "display_data"
    },
    {
     "data": {
      "application/javascript": [
       "$('#avg-error').html(0.00956)"
      ],
      "text/plain": [
       "<IPython.core.display.Javascript object>"
      ]
     },
     "metadata": {},
     "output_type": "display_data"
    },
    {
     "data": {
      "application/javascript": [
       "$('#iteration').html(10150)"
      ],
      "text/plain": [
       "<IPython.core.display.Javascript object>"
      ]
     },
     "metadata": {},
     "output_type": "display_data"
    },
    {
     "data": {
      "application/javascript": [
       "window.error.push([10150,0.00956])"
      ],
      "text/plain": [
       "<IPython.core.display.Javascript object>"
      ]
     },
     "metadata": {},
     "output_type": "display_data"
    },
    {
     "data": {
      "application/javascript": [
       "window.plot.setData([window.error]); window.plot.draw();"
      ],
      "text/plain": [
       "<IPython.core.display.Javascript object>"
      ]
     },
     "metadata": {},
     "output_type": "display_data"
    },
    {
     "data": {
      "application/javascript": [
       "window.weights_l0 = [[1, -6.754588157449898], [2, -1.8165767841508735], [3, -4.701139648220154], [4, 3.3440589335625153], [5, 5.225501197729871], [6, 4.4425513527871985], [7, -4.637623479648005], [8, -5.411643853900819], [9, -2.3265300139881195], [10, 0.41433622068087406], [11, 1.1731879518432482], [12, -1.4109747116318547]]"
      ],
      "text/plain": [
       "<IPython.core.display.Javascript object>"
      ]
     },
     "metadata": {},
     "output_type": "display_data"
    },
    {
     "data": {
      "application/javascript": [
       "window.weight_plot_l0.setData([window.weights_l0]); window.weight_plot_l0.draw();"
      ],
      "text/plain": [
       "<IPython.core.display.Javascript object>"
      ]
     },
     "metadata": {},
     "output_type": "display_data"
    },
    {
     "data": {
      "application/javascript": [
       "window.weights_l1 = [[1, 10.157606217393335], [2, -4.973106197326351], [3, -5.7107848862991135], [4, 6.721976620941822]]"
      ],
      "text/plain": [
       "<IPython.core.display.Javascript object>"
      ]
     },
     "metadata": {},
     "output_type": "display_data"
    },
    {
     "data": {
      "application/javascript": [
       "window.weight_plot_l1.setData([window.weights_l1]); window.weight_plot_l1.draw();"
      ],
      "text/plain": [
       "<IPython.core.display.Javascript object>"
      ]
     },
     "metadata": {},
     "output_type": "display_data"
    },
    {
     "data": {
      "application/javascript": [
       "window.outputs = [[1, 0.0058568722291889915], [2, 0.9892981369853617], [3, 0.9912372566114139], [4, 0.012919060125093128]]"
      ],
      "text/plain": [
       "<IPython.core.display.Javascript object>"
      ]
     },
     "metadata": {},
     "output_type": "display_data"
    },
    {
     "data": {
      "application/javascript": [
       "window.output_plot.setData([window.outputs]); window.output_plot.draw();"
      ],
      "text/plain": [
       "<IPython.core.display.Javascript object>"
      ]
     },
     "metadata": {},
     "output_type": "display_data"
    },
    {
     "data": {
      "application/javascript": [
       "$('#avg-error').html(0.00953)"
      ],
      "text/plain": [
       "<IPython.core.display.Javascript object>"
      ]
     },
     "metadata": {},
     "output_type": "display_data"
    },
    {
     "data": {
      "application/javascript": [
       "$('#iteration').html(10200)"
      ],
      "text/plain": [
       "<IPython.core.display.Javascript object>"
      ]
     },
     "metadata": {},
     "output_type": "display_data"
    },
    {
     "data": {
      "application/javascript": [
       "window.error.push([10200,0.00953])"
      ],
      "text/plain": [
       "<IPython.core.display.Javascript object>"
      ]
     },
     "metadata": {},
     "output_type": "display_data"
    },
    {
     "data": {
      "application/javascript": [
       "window.plot.setData([window.error]); window.plot.draw();"
      ],
      "text/plain": [
       "<IPython.core.display.Javascript object>"
      ]
     },
     "metadata": {},
     "output_type": "display_data"
    },
    {
     "data": {
      "application/javascript": [
       "window.weights_l0 = [[1, -6.756276801755519], [2, -1.817788390135461], [3, -4.701726819036762], [4, 3.345272700642084], [5, 5.226647228620609], [6, 4.444115444636871], [7, -4.638559164031925], [8, -5.413205438596634], [9, -2.3267790612102552], [10, 0.4149353454637102], [11, 1.1734036028676287], [12, -1.4115209970370974]]"
      ],
      "text/plain": [
       "<IPython.core.display.Javascript object>"
      ]
     },
     "metadata": {},
     "output_type": "display_data"
    },
    {
     "data": {
      "application/javascript": [
       "window.weight_plot_l0.setData([window.weights_l0]); window.weight_plot_l0.draw();"
      ],
      "text/plain": [
       "<IPython.core.display.Javascript object>"
      ]
     },
     "metadata": {},
     "output_type": "display_data"
    },
    {
     "data": {
      "application/javascript": [
       "window.weights_l1 = [[1, 10.162640193582178], [2, -4.97561453956774], [3, -5.711805906114371], [4, 6.724718758704419]]"
      ],
      "text/plain": [
       "<IPython.core.display.Javascript object>"
      ]
     },
     "metadata": {},
     "output_type": "display_data"
    },
    {
     "data": {
      "application/javascript": [
       "window.weight_plot_l1.setData([window.weights_l1]); window.weight_plot_l1.draw();"
      ],
      "text/plain": [
       "<IPython.core.display.Javascript object>"
      ]
     },
     "metadata": {},
     "output_type": "display_data"
    },
    {
     "data": {
      "application/javascript": [
       "window.outputs = [[1, 0.005839282728830138], [2, 0.9893269870910685], [3, 0.9912624700089716], [4, 0.012884041512477708]]"
      ],
      "text/plain": [
       "<IPython.core.display.Javascript object>"
      ]
     },
     "metadata": {},
     "output_type": "display_data"
    },
    {
     "data": {
      "application/javascript": [
       "window.output_plot.setData([window.outputs]); window.output_plot.draw();"
      ],
      "text/plain": [
       "<IPython.core.display.Javascript object>"
      ]
     },
     "metadata": {},
     "output_type": "display_data"
    },
    {
     "data": {
      "application/javascript": [
       "$('#avg-error').html(0.00951)"
      ],
      "text/plain": [
       "<IPython.core.display.Javascript object>"
      ]
     },
     "metadata": {},
     "output_type": "display_data"
    },
    {
     "data": {
      "application/javascript": [
       "$('#iteration').html(10250)"
      ],
      "text/plain": [
       "<IPython.core.display.Javascript object>"
      ]
     },
     "metadata": {},
     "output_type": "display_data"
    },
    {
     "data": {
      "application/javascript": [
       "window.error.push([10250,0.00951])"
      ],
      "text/plain": [
       "<IPython.core.display.Javascript object>"
      ]
     },
     "metadata": {},
     "output_type": "display_data"
    },
    {
     "data": {
      "application/javascript": [
       "window.plot.setData([window.error]); window.plot.draw();"
      ],
      "text/plain": [
       "<IPython.core.display.Javascript object>"
      ]
     },
     "metadata": {},
     "output_type": "display_data"
    },
    {
     "data": {
      "application/javascript": [
       "window.weights_l0 = [[1, -6.757955953112039], [2, -1.8189935074061085], [3, -4.702310547817504], [4, 3.3464794287135184], [5, 5.227786753045637], [6, 4.445670851546323], [7, -4.639489397754871], [8, -5.414758027043738], [9, -2.3270267034263754], [10, 0.41553113921311113], [11, 1.1736178983434693], [12, -1.4120640037038883]]"
      ],
      "text/plain": [
       "<IPython.core.display.Javascript object>"
      ]
     },
     "metadata": {},
     "output_type": "display_data"
    },
    {
     "data": {
      "application/javascript": [
       "window.weight_plot_l0.setData([window.weights_l0]); window.weight_plot_l0.draw();"
      ],
      "text/plain": [
       "<IPython.core.display.Javascript object>"
      ]
     },
     "metadata": {},
     "output_type": "display_data"
    },
    {
     "data": {
      "application/javascript": [
       "window.weights_l1 = [[1, 10.167647793383841], [2, -4.978109790242477], [3, -5.712820923444922], [4, 6.727445875746173]]"
      ],
      "text/plain": [
       "<IPython.core.display.Javascript object>"
      ]
     },
     "metadata": {},
     "output_type": "display_data"
    },
    {
     "data": {
      "application/javascript": [
       "window.weight_plot_l1.setData([window.weights_l1]); window.weight_plot_l1.draw();"
      ],
      "text/plain": [
       "<IPython.core.display.Javascript object>"
      ]
     },
     "metadata": {},
     "output_type": "display_data"
    },
    {
     "data": {
      "application/javascript": [
       "window.outputs = [[1, 0.005821838696991936], [2, 0.9893556086682339], [3, 0.9912874775689169], [4, 0.012849301143562268]]"
      ],
      "text/plain": [
       "<IPython.core.display.Javascript object>"
      ]
     },
     "metadata": {},
     "output_type": "display_data"
    },
    {
     "data": {
      "application/javascript": [
       "window.output_plot.setData([window.outputs]); window.output_plot.draw();"
      ],
      "text/plain": [
       "<IPython.core.display.Javascript object>"
      ]
     },
     "metadata": {},
     "output_type": "display_data"
    },
    {
     "data": {
      "application/javascript": [
       "$('#avg-error').html(0.00948)"
      ],
      "text/plain": [
       "<IPython.core.display.Javascript object>"
      ]
     },
     "metadata": {},
     "output_type": "display_data"
    },
    {
     "data": {
      "application/javascript": [
       "$('#iteration').html(10300)"
      ],
      "text/plain": [
       "<IPython.core.display.Javascript object>"
      ]
     },
     "metadata": {},
     "output_type": "display_data"
    },
    {
     "data": {
      "application/javascript": [
       "window.error.push([10300,0.00948])"
      ],
      "text/plain": [
       "<IPython.core.display.Javascript object>"
      ]
     },
     "metadata": {},
     "output_type": "display_data"
    },
    {
     "data": {
      "application/javascript": [
       "window.plot.setData([window.error]); window.plot.draw();"
      ],
      "text/plain": [
       "<IPython.core.display.Javascript object>"
      ]
     },
     "metadata": {},
     "output_type": "display_data"
    },
    {
     "data": {
      "application/javascript": [
       "window.weights_l0 = [[1, -6.759625713994102], [2, -1.820192203776167], [3, -4.702890872737859], [4, 3.3476791951962253], [5, 5.228919841715013], [6, 4.44721766660461], [7, -4.640414240872207], [8, -5.416301717898115], [9, -2.3272729558862055], [10, 0.41612363751795994], [11, 1.1738308538855755], [12, -1.4126037683212622]]"
      ],
      "text/plain": [
       "<IPython.core.display.Javascript object>"
      ]
     },
     "metadata": {},
     "output_type": "display_data"
    },
    {
     "data": {
      "application/javascript": [
       "window.weight_plot_l0.setData([window.weights_l0]); window.weight_plot_l0.draw();"
      ],
      "text/plain": [
       "<IPython.core.display.Javascript object>"
      ]
     },
     "metadata": {},
     "output_type": "display_data"
    },
    {
     "data": {
      "application/javascript": [
       "window.weights_l1 = [[1, 10.172629290886793], [2, -4.98059208497011], [3, -5.713830004820861], [4, 6.730158132380376]]"
      ],
      "text/plain": [
       "<IPython.core.display.Javascript object>"
      ]
     },
     "metadata": {},
     "output_type": "display_data"
    },
    {
     "data": {
      "application/javascript": [
       "window.weight_plot_l1.setData([window.weights_l1]); window.weight_plot_l1.draw();"
      ],
      "text/plain": [
       "<IPython.core.display.Javascript object>"
      ]
     },
     "metadata": {},
     "output_type": "display_data"
    },
    {
     "data": {
      "application/javascript": [
       "window.outputs = [[1, 0.00580453818120362], [2, 0.9893840047003517], [3, 0.9913122820340682], [4, 0.012814835377604169]]"
      ],
      "text/plain": [
       "<IPython.core.display.Javascript object>"
      ]
     },
     "metadata": {},
     "output_type": "display_data"
    },
    {
     "data": {
      "application/javascript": [
       "window.output_plot.setData([window.outputs]); window.output_plot.draw();"
      ],
      "text/plain": [
       "<IPython.core.display.Javascript object>"
      ]
     },
     "metadata": {},
     "output_type": "display_data"
    },
    {
     "data": {
      "application/javascript": [
       "$('#avg-error').html(0.00945)"
      ],
      "text/plain": [
       "<IPython.core.display.Javascript object>"
      ]
     },
     "metadata": {},
     "output_type": "display_data"
    },
    {
     "data": {
      "application/javascript": [
       "$('#iteration').html(10350)"
      ],
      "text/plain": [
       "<IPython.core.display.Javascript object>"
      ]
     },
     "metadata": {},
     "output_type": "display_data"
    },
    {
     "data": {
      "application/javascript": [
       "window.error.push([10350,0.00945])"
      ],
      "text/plain": [
       "<IPython.core.display.Javascript object>"
      ]
     },
     "metadata": {},
     "output_type": "display_data"
    },
    {
     "data": {
      "application/javascript": [
       "window.plot.setData([window.error]); window.plot.draw();"
      ],
      "text/plain": [
       "<IPython.core.display.Javascript object>"
      ]
     },
     "metadata": {},
     "output_type": "display_data"
    },
    {
     "data": {
      "application/javascript": [
       "window.weights_l0 = [[1, -6.761286185248075], [2, -1.8213845460084412], [3, -4.703467831354116], [4, 3.3488720762627304], [5, 5.2300465642093235], [6, 4.448755981429236], [7, -4.641333752470977], [8, -5.417836608229371], [9, -2.327517833595899], [10, 0.4167128754068637], [11, 1.1740424848487334], [12, -1.41314032698061]]"
      ],
      "text/plain": [
       "<IPython.core.display.Javascript object>"
      ]
     },
     "metadata": {},
     "output_type": "display_data"
    },
    {
     "data": {
      "application/javascript": [
       "window.weight_plot_l0.setData([window.weights_l0]); window.weight_plot_l0.draw();"
      ],
      "text/plain": [
       "<IPython.core.display.Javascript object>"
      ]
     },
     "metadata": {},
     "output_type": "display_data"
    },
    {
     "data": {
      "application/javascript": [
       "window.weights_l1 = [[1, 10.177584955938347], [2, -4.98306155727721], [3, -5.714833215694676], [4, 6.732855686390782]]"
      ],
      "text/plain": [
       "<IPython.core.display.Javascript object>"
      ]
     },
     "metadata": {},
     "output_type": "display_data"
    },
    {
     "data": {
      "application/javascript": [
       "window.weight_plot_l1.setData([window.weights_l1]); window.weight_plot_l1.draw();"
      ],
      "text/plain": [
       "<IPython.core.display.Javascript object>"
      ]
     },
     "metadata": {},
     "output_type": "display_data"
    },
    {
     "data": {
      "application/javascript": [
       "window.outputs = [[1, 0.005787379265114506], [2, 0.9894121781168501], [3, 0.9913368860967494], [4, 0.012780640639957283]]"
      ],
      "text/plain": [
       "<IPython.core.display.Javascript object>"
      ]
     },
     "metadata": {},
     "output_type": "display_data"
    },
    {
     "data": {
      "application/javascript": [
       "window.output_plot.setData([window.outputs]); window.output_plot.draw();"
      ],
      "text/plain": [
       "<IPython.core.display.Javascript object>"
      ]
     },
     "metadata": {},
     "output_type": "display_data"
    },
    {
     "data": {
      "application/javascript": [
       "$('#avg-error').html(0.00943)"
      ],
      "text/plain": [
       "<IPython.core.display.Javascript object>"
      ]
     },
     "metadata": {},
     "output_type": "display_data"
    },
    {
     "data": {
      "application/javascript": [
       "$('#iteration').html(10400)"
      ],
      "text/plain": [
       "<IPython.core.display.Javascript object>"
      ]
     },
     "metadata": {},
     "output_type": "display_data"
    },
    {
     "data": {
      "application/javascript": [
       "window.error.push([10400,0.00943])"
      ],
      "text/plain": [
       "<IPython.core.display.Javascript object>"
      ]
     },
     "metadata": {},
     "output_type": "display_data"
    },
    {
     "data": {
      "application/javascript": [
       "window.plot.setData([window.error]); window.plot.draw();"
      ],
      "text/plain": [
       "<IPython.core.display.Javascript object>"
      ]
     },
     "metadata": {},
     "output_type": "display_data"
    },
    {
     "data": {
      "application/javascript": [
       "window.weights_l0 = [[1, -6.762937466126141], [2, -1.8225705998367012], [3, -4.704041460616537], [4, 3.350058146865038], [5, 5.2311669890034205], [6, 4.450285886196824], [7, -4.642247990690388], [8, -5.4193627935542485], [9, -2.327761351323139], [10, 0.4172988873597757], [11, 1.1742528063333586], [12, -1.4136737151884193]]"
      ],
      "text/plain": [
       "<IPython.core.display.Javascript object>"
      ]
     },
     "metadata": {},
     "output_type": "display_data"
    },
    {
     "data": {
      "application/javascript": [
       "window.weight_plot_l0.setData([window.weights_l0]); window.weight_plot_l0.draw();"
      ],
      "text/plain": [
       "<IPython.core.display.Javascript object>"
      ]
     },
     "metadata": {},
     "output_type": "display_data"
    },
    {
     "data": {
      "application/javascript": [
       "window.weights_l1 = [[1, 10.182515054231592], [2, -4.985518338640164], [3, -5.715830620464142], [4, 6.735538693084289]]"
      ],
      "text/plain": [
       "<IPython.core.display.Javascript object>"
      ]
     },
     "metadata": {},
     "output_type": "display_data"
    },
    {
     "data": {
      "application/javascript": [
       "window.weight_plot_l1.setData([window.weights_l1]); window.weight_plot_l1.draw();"
      ],
      "text/plain": [
       "<IPython.core.display.Javascript object>"
      ]
     },
     "metadata": {},
     "output_type": "display_data"
    },
    {
     "data": {
      "application/javascript": [
       "window.outputs = [[1, 0.005770360067644825], [2, 0.9894401317943429], [3, 0.991361292399973], [4, 0.012746713420541005]]"
      ],
      "text/plain": [
       "<IPython.core.display.Javascript object>"
      ]
     },
     "metadata": {},
     "output_type": "display_data"
    },
    {
     "data": {
      "application/javascript": [
       "window.output_plot.setData([window.outputs]); window.output_plot.draw();"
      ],
      "text/plain": [
       "<IPython.core.display.Javascript object>"
      ]
     },
     "metadata": {},
     "output_type": "display_data"
    },
    {
     "data": {
      "application/javascript": [
       "$('#avg-error').html(0.00940)"
      ],
      "text/plain": [
       "<IPython.core.display.Javascript object>"
      ]
     },
     "metadata": {},
     "output_type": "display_data"
    },
    {
     "data": {
      "application/javascript": [
       "$('#iteration').html(10450)"
      ],
      "text/plain": [
       "<IPython.core.display.Javascript object>"
      ]
     },
     "metadata": {},
     "output_type": "display_data"
    },
    {
     "data": {
      "application/javascript": [
       "window.error.push([10450,0.00940])"
      ],
      "text/plain": [
       "<IPython.core.display.Javascript object>"
      ]
     },
     "metadata": {},
     "output_type": "display_data"
    },
    {
     "data": {
      "application/javascript": [
       "window.plot.setData([window.error]); window.plot.draw();"
      ],
      "text/plain": [
       "<IPython.core.display.Javascript object>"
      ]
     },
     "metadata": {},
     "output_type": "display_data"
    },
    {
     "data": {
      "application/javascript": [
       "window.weights_l0 = [[1, -6.76457965431946], [2, -1.823750429986651], [3, -4.704611796882197], [4, 3.351237480760309], [5, 5.232281183489529], [6, 4.451807469672975], [7, -4.643157012741773], [8, -5.420880367869245], [9, -2.328003523602149], [10, 0.41788170731931945], [11, 1.1744618331909842], [12, -1.4142039678786817]]"
      ],
      "text/plain": [
       "<IPython.core.display.Javascript object>"
      ]
     },
     "metadata": {},
     "output_type": "display_data"
    },
    {
     "data": {
      "application/javascript": [
       "window.weight_plot_l0.setData([window.weights_l0]); window.weight_plot_l0.draw();"
      ],
      "text/plain": [
       "<IPython.core.display.Javascript object>"
      ]
     },
     "metadata": {},
     "output_type": "display_data"
    },
    {
     "data": {
      "application/javascript": [
       "window.weights_l1 = [[1, 10.187419847390101], [2, -4.9879625585268865], [3, -5.716822282494608], [4, 6.7382073053422]]"
      ],
      "text/plain": [
       "<IPython.core.display.Javascript object>"
      ]
     },
     "metadata": {},
     "output_type": "display_data"
    },
    {
     "data": {
      "application/javascript": [
       "window.weight_plot_l1.setData([window.weights_l1]); window.weight_plot_l1.draw();"
      ],
      "text/plain": [
       "<IPython.core.display.Javascript object>"
      ]
     },
     "metadata": {},
     "output_type": "display_data"
    },
    {
     "data": {
      "application/javascript": [
       "window.outputs = [[1, 0.005753478742160407], [2, 0.9894678685578444], [3, 0.9913855035385885], [4, 0.012713050272352193]]"
      ],
      "text/plain": [
       "<IPython.core.display.Javascript object>"
      ]
     },
     "metadata": {},
     "output_type": "display_data"
    },
    {
     "data": {
      "application/javascript": [
       "window.output_plot.setData([window.outputs]); window.output_plot.draw();"
      ],
      "text/plain": [
       "<IPython.core.display.Javascript object>"
      ]
     },
     "metadata": {},
     "output_type": "display_data"
    },
    {
     "data": {
      "application/javascript": [
       "$('#avg-error').html(0.00938)"
      ],
      "text/plain": [
       "<IPython.core.display.Javascript object>"
      ]
     },
     "metadata": {},
     "output_type": "display_data"
    },
    {
     "data": {
      "application/javascript": [
       "$('#iteration').html(10500)"
      ],
      "text/plain": [
       "<IPython.core.display.Javascript object>"
      ]
     },
     "metadata": {},
     "output_type": "display_data"
    },
    {
     "data": {
      "application/javascript": [
       "window.error.push([10500,0.00938])"
      ],
      "text/plain": [
       "<IPython.core.display.Javascript object>"
      ]
     },
     "metadata": {},
     "output_type": "display_data"
    },
    {
     "data": {
      "application/javascript": [
       "window.plot.setData([window.error]); window.plot.draw();"
      ],
      "text/plain": [
       "<IPython.core.display.Javascript object>"
      ]
     },
     "metadata": {},
     "output_type": "display_data"
    },
    {
     "data": {
      "application/javascript": [
       "window.weights_l0 = [[1, -6.766212845990509], [2, -1.8249241001963645], [3, -4.705178875927469], [4, 3.352410150535865], [5, 5.233389213999767], [6, 4.453320819241366], [7, -4.64406087492803], [8, -5.422389423682422], [9, -2.328244364738527], [10, 0.4184613687018219], [11, 1.1746695800296163], [12, -1.414731119424976]]"
      ],
      "text/plain": [
       "<IPython.core.display.Javascript object>"
      ]
     },
     "metadata": {},
     "output_type": "display_data"
    },
    {
     "data": {
      "application/javascript": [
       "window.weight_plot_l0.setData([window.weights_l0]); window.weight_plot_l0.draw();"
      ],
      "text/plain": [
       "<IPython.core.display.Javascript object>"
      ]
     },
     "metadata": {},
     "output_type": "display_data"
    },
    {
     "data": {
      "application/javascript": [
       "window.weights_l1 = [[1, 10.192299593050494], [2, -4.990394344437474], [3, -5.717808264140709], [4, 6.740861673670234]]"
      ],
      "text/plain": [
       "<IPython.core.display.Javascript object>"
      ]
     },
     "metadata": {},
     "output_type": "display_data"
    },
    {
     "data": {
      "application/javascript": [
       "window.weight_plot_l1.setData([window.weights_l1]); window.weight_plot_l1.draw();"
      ],
      "text/plain": [
       "<IPython.core.display.Javascript object>"
      ]
     },
     "metadata": {},
     "output_type": "display_data"
    },
    {
     "data": {
      "application/javascript": [
       "window.outputs = [[1, 0.0057367334756710095], [2, 0.9894953911819504], [3, 0.9914095220604017], [4, 0.012679647810018789]]"
      ],
      "text/plain": [
       "<IPython.core.display.Javascript object>"
      ]
     },
     "metadata": {},
     "output_type": "display_data"
    },
    {
     "data": {
      "application/javascript": [
       "window.output_plot.setData([window.outputs]); window.output_plot.draw();"
      ],
      "text/plain": [
       "<IPython.core.display.Javascript object>"
      ]
     },
     "metadata": {},
     "output_type": "display_data"
    },
    {
     "data": {
      "application/javascript": [
       "$('#avg-error').html(0.00935)"
      ],
      "text/plain": [
       "<IPython.core.display.Javascript object>"
      ]
     },
     "metadata": {},
     "output_type": "display_data"
    },
    {
     "data": {
      "application/javascript": [
       "$('#iteration').html(10550)"
      ],
      "text/plain": [
       "<IPython.core.display.Javascript object>"
      ]
     },
     "metadata": {},
     "output_type": "display_data"
    },
    {
     "data": {
      "application/javascript": [
       "window.error.push([10550,0.00935])"
      ],
      "text/plain": [
       "<IPython.core.display.Javascript object>"
      ]
     },
     "metadata": {},
     "output_type": "display_data"
    },
    {
     "data": {
      "application/javascript": [
       "window.plot.setData([window.error]); window.plot.draw();"
      ],
      "text/plain": [
       "<IPython.core.display.Javascript object>"
      ]
     },
     "metadata": {},
     "output_type": "display_data"
    },
    {
     "data": {
      "application/javascript": [
       "window.weights_l0 = [[1, -6.7678371358045695], [2, -1.8260916732362114], [3, -4.705742732960182], [4, 3.3535762276335483], [5, 5.234491145828084], [6, 4.454826020932112], [7, -4.644959632662545], [8, -5.423890052044352], [9, -2.3284838888139943], [10, 0.4190379044080678], [11, 1.1748760612189373], [12, -1.4152552036522357]]"
      ],
      "text/plain": [
       "<IPython.core.display.Javascript object>"
      ]
     },
     "metadata": {},
     "output_type": "display_data"
    },
    {
     "data": {
      "application/javascript": [
       "window.weight_plot_l0.setData([window.weights_l0]); window.weight_plot_l0.draw();"
      ],
      "text/plain": [
       "<IPython.core.display.Javascript object>"
      ]
     },
     "metadata": {},
     "output_type": "display_data"
    },
    {
     "data": {
      "application/javascript": [
       "window.weights_l1 = [[1, 10.197154544942913], [2, -4.992813821943824], [3, -5.718788626767506], [4, 6.743501946247224]]"
      ],
      "text/plain": [
       "<IPython.core.display.Javascript object>"
      ]
     },
     "metadata": {},
     "output_type": "display_data"
    },
    {
     "data": {
      "application/javascript": [
       "window.weight_plot_l1.setData([window.weights_l1]); window.weight_plot_l1.draw();"
      ],
      "text/plain": [
       "<IPython.core.display.Javascript object>"
      ]
     },
     "metadata": {},
     "output_type": "display_data"
    },
    {
     "data": {
      "application/javascript": [
       "window.outputs = [[1, 0.005720122488051144], [2, 0.9895227023919873], [3, 0.9914333504672579], [4, 0.012646502708393964]]"
      ],
      "text/plain": [
       "<IPython.core.display.Javascript object>"
      ]
     },
     "metadata": {},
     "output_type": "display_data"
    },
    {
     "data": {
      "application/javascript": [
       "window.output_plot.setData([window.outputs]); window.output_plot.draw();"
      ],
      "text/plain": [
       "<IPython.core.display.Javascript object>"
      ]
     },
     "metadata": {},
     "output_type": "display_data"
    },
    {
     "data": {
      "application/javascript": [
       "$('#avg-error').html(0.00933)"
      ],
      "text/plain": [
       "<IPython.core.display.Javascript object>"
      ]
     },
     "metadata": {},
     "output_type": "display_data"
    },
    {
     "data": {
      "application/javascript": [
       "$('#iteration').html(10600)"
      ],
      "text/plain": [
       "<IPython.core.display.Javascript object>"
      ]
     },
     "metadata": {},
     "output_type": "display_data"
    },
    {
     "data": {
      "application/javascript": [
       "window.error.push([10600,0.00933])"
      ],
      "text/plain": [
       "<IPython.core.display.Javascript object>"
      ]
     },
     "metadata": {},
     "output_type": "display_data"
    },
    {
     "data": {
      "application/javascript": [
       "window.plot.setData([window.error]); window.plot.draw();"
      ],
      "text/plain": [
       "<IPython.core.display.Javascript object>"
      ]
     },
     "metadata": {},
     "output_type": "display_data"
    },
    {
     "data": {
      "application/javascript": [
       "window.weights_l0 = [[1, -6.769452616960427], [2, -1.8272532109282795], [3, -4.706303402631499], [4, 3.3547357823734583], [5, 5.2355870432516385], [6, 4.456323159449405], [7, -4.645853340487644], [8, -5.425382342578306], [9, -2.3287221096910007], [10, 0.4196113468337809], [11, 1.1750812908953772], [12, -1.4157762538482137]]"
      ],
      "text/plain": [
       "<IPython.core.display.Javascript object>"
      ]
     },
     "metadata": {},
     "output_type": "display_data"
    },
    {
     "data": {
      "application/javascript": [
       "window.weight_plot_l0.setData([window.weights_l0]); window.weight_plot_l0.draw();"
      ],
      "text/plain": [
       "<IPython.core.display.Javascript object>"
      ]
     },
     "metadata": {},
     "output_type": "display_data"
    },
    {
     "data": {
      "application/javascript": [
       "window.weights_l1 = [[1, 10.201984952969491], [2, -4.995221114728295], [3, -5.719763430771084], [4, 6.746128268972566]]"
      ],
      "text/plain": [
       "<IPython.core.display.Javascript object>"
      ]
     },
     "metadata": {},
     "output_type": "display_data"
    },
    {
     "data": {
      "application/javascript": [
       "window.weight_plot_l1.setData([window.weights_l1]); window.weight_plot_l1.draw();"
      ],
      "text/plain": [
       "<IPython.core.display.Javascript object>"
      ]
     },
     "metadata": {},
     "output_type": "display_data"
    },
    {
     "data": {
      "application/javascript": [
       "window.outputs = [[1, 0.0057036440312826266], [2, 0.9895498048651286], [3, 0.9914569912160986], [4, 0.012613611701188509]]"
      ],
      "text/plain": [
       "<IPython.core.display.Javascript object>"
      ]
     },
     "metadata": {},
     "output_type": "display_data"
    },
    {
     "data": {
      "application/javascript": [
       "window.output_plot.setData([window.outputs]); window.output_plot.draw();"
      ],
      "text/plain": [
       "<IPython.core.display.Javascript object>"
      ]
     },
     "metadata": {},
     "output_type": "display_data"
    },
    {
     "data": {
      "application/javascript": [
       "$('#avg-error').html(0.00930)"
      ],
      "text/plain": [
       "<IPython.core.display.Javascript object>"
      ]
     },
     "metadata": {},
     "output_type": "display_data"
    },
    {
     "data": {
      "application/javascript": [
       "$('#iteration').html(10650)"
      ],
      "text/plain": [
       "<IPython.core.display.Javascript object>"
      ]
     },
     "metadata": {},
     "output_type": "display_data"
    },
    {
     "data": {
      "application/javascript": [
       "window.error.push([10650,0.00930])"
      ],
      "text/plain": [
       "<IPython.core.display.Javascript object>"
      ]
     },
     "metadata": {},
     "output_type": "display_data"
    },
    {
     "data": {
      "application/javascript": [
       "window.plot.setData([window.error]); window.plot.draw();"
      ],
      "text/plain": [
       "<IPython.core.display.Javascript object>"
      ]
     },
     "metadata": {},
     "output_type": "display_data"
    },
    {
     "data": {
      "application/javascript": [
       "window.weights_l0 = [[1, -6.771059381220284], [2, -1.8284087741653148], [3, -4.70686091904743], [4, 3.3558888839770726], [5, 5.236676969551636], [6, 4.457812318198446], [7, -4.646742052092579], [8, -5.426866383509636], [9, -2.3289590410172196], [10, 0.42018172787984254], [11, 1.1752852829670495], [12, -1.4162943027746502]]"
      ],
      "text/plain": [
       "<IPython.core.display.Javascript object>"
      ]
     },
     "metadata": {},
     "output_type": "display_data"
    },
    {
     "data": {
      "application/javascript": [
       "window.weight_plot_l0.setData([window.weights_l0]); window.weight_plot_l0.draw();"
      ],
      "text/plain": [
       "<IPython.core.display.Javascript object>"
      ]
     },
     "metadata": {},
     "output_type": "display_data"
    },
    {
     "data": {
      "application/javascript": [
       "window.weights_l1 = [[1, 10.206791063280876], [2, -4.997616344621354], [3, -5.720732735598623], [4, 6.748740785512511]]"
      ],
      "text/plain": [
       "<IPython.core.display.Javascript object>"
      ]
     },
     "metadata": {},
     "output_type": "display_data"
    },
    {
     "data": {
      "application/javascript": [
       "window.weight_plot_l1.setData([window.weights_l1]); window.weight_plot_l1.draw();"
      ],
      "text/plain": [
       "<IPython.core.display.Javascript object>"
      ]
     },
     "metadata": {},
     "output_type": "display_data"
    },
    {
     "data": {
      "application/javascript": [
       "window.outputs = [[1, 0.005687296388718573], [2, 0.9895767012314809], [3, 0.9914804467199868], [4, 0.012580971579641928]]"
      ],
      "text/plain": [
       "<IPython.core.display.Javascript object>"
      ]
     },
     "metadata": {},
     "output_type": "display_data"
    },
    {
     "data": {
      "application/javascript": [
       "window.output_plot.setData([window.outputs]); window.output_plot.draw();"
      ],
      "text/plain": [
       "<IPython.core.display.Javascript object>"
      ]
     },
     "metadata": {},
     "output_type": "display_data"
    },
    {
     "data": {
      "application/javascript": [
       "$('#avg-error').html(0.00928)"
      ],
      "text/plain": [
       "<IPython.core.display.Javascript object>"
      ]
     },
     "metadata": {},
     "output_type": "display_data"
    },
    {
     "data": {
      "application/javascript": [
       "$('#iteration').html(10700)"
      ],
      "text/plain": [
       "<IPython.core.display.Javascript object>"
      ]
     },
     "metadata": {},
     "output_type": "display_data"
    },
    {
     "data": {
      "application/javascript": [
       "window.error.push([10700,0.00928])"
      ],
      "text/plain": [
       "<IPython.core.display.Javascript object>"
      ]
     },
     "metadata": {},
     "output_type": "display_data"
    },
    {
     "data": {
      "application/javascript": [
       "window.plot.setData([window.error]); window.plot.draw();"
      ],
      "text/plain": [
       "<IPython.core.display.Javascript object>"
      ]
     },
     "metadata": {},
     "output_type": "display_data"
    },
    {
     "data": {
      "application/javascript": [
       "window.weights_l0 = [[1, -6.77265751893892], [2, -1.8295584229291944], [3, -4.707415315780111], [4, 3.3570356005897906], [5, 5.237760987033625], [6, 4.4592935793117014], [7, -4.647625820331024], [8, -5.428342261694431], [9, -2.329194696229931], [10, 0.42074907896225155], [11, 1.1754880511185606], [12, -1.4168093826781527]]"
      ],
      "text/plain": [
       "<IPython.core.display.Javascript object>"
      ]
     },
     "metadata": {},
     "output_type": "display_data"
    },
    {
     "data": {
      "application/javascript": [
       "window.weight_plot_l0.setData([window.weights_l0]); window.weight_plot_l0.draw();"
      ],
      "text/plain": [
       "<IPython.core.display.Javascript object>"
      ]
     },
     "metadata": {},
     "output_type": "display_data"
    },
    {
     "data": {
      "application/javascript": [
       "window.weights_l1 = [[1, 10.2115731183508], [2, -4.999999631638347], [3, -5.721696599767951], [4, 6.751339637345246]]"
      ],
      "text/plain": [
       "<IPython.core.display.Javascript object>"
      ]
     },
     "metadata": {},
     "output_type": "display_data"
    },
    {
     "data": {
      "application/javascript": [
       "window.weight_plot_l1.setData([window.weights_l1]); window.weight_plot_l1.draw();"
      ],
      "text/plain": [
       "<IPython.core.display.Javascript object>"
      ]
     },
     "metadata": {},
     "output_type": "display_data"
    },
    {
     "data": {
      "application/javascript": [
       "window.outputs = [[1, 0.005671077874367478], [2, 0.9896033940751398], [3, 0.9915037193491051], [4, 0.012548579191228907]]"
      ],
      "text/plain": [
       "<IPython.core.display.Javascript object>"
      ]
     },
     "metadata": {},
     "output_type": "display_data"
    },
    {
     "data": {
      "application/javascript": [
       "window.output_plot.setData([window.outputs]); window.output_plot.draw();"
      ],
      "text/plain": [
       "<IPython.core.display.Javascript object>"
      ]
     },
     "metadata": {},
     "output_type": "display_data"
    },
    {
     "data": {
      "application/javascript": [
       "$('#avg-error').html(0.00925)"
      ],
      "text/plain": [
       "<IPython.core.display.Javascript object>"
      ]
     },
     "metadata": {},
     "output_type": "display_data"
    },
    {
     "data": {
      "application/javascript": [
       "$('#iteration').html(10750)"
      ],
      "text/plain": [
       "<IPython.core.display.Javascript object>"
      ]
     },
     "metadata": {},
     "output_type": "display_data"
    },
    {
     "data": {
      "application/javascript": [
       "window.error.push([10750,0.00925])"
      ],
      "text/plain": [
       "<IPython.core.display.Javascript object>"
      ]
     },
     "metadata": {},
     "output_type": "display_data"
    },
    {
     "data": {
      "application/javascript": [
       "window.plot.setData([window.error]); window.plot.draw();"
      ],
      "text/plain": [
       "<IPython.core.display.Javascript object>"
      ]
     },
     "metadata": {},
     "output_type": "display_data"
    },
    {
     "data": {
      "application/javascript": [
       "window.weights_l0 = [[1, -6.774247119092104], [2, -1.8307022163089408], [3, -4.707966625878757], [4, 3.3581759993028926], [5, 5.238839157047295], [6, 4.46076702367452], [7, -4.648504697238153], [8, -5.429810062647445], [9, -2.329429088560284], [10, 0.42131343102183844], [11, 1.1756896088156967], [12, -1.417321525300803]]"
      ],
      "text/plain": [
       "<IPython.core.display.Javascript object>"
      ]
     },
     "metadata": {},
     "output_type": "display_data"
    },
    {
     "data": {
      "application/javascript": [
       "window.weight_plot_l0.setData([window.weights_l0]); window.weight_plot_l0.draw();"
      ],
      "text/plain": [
       "<IPython.core.display.Javascript object>"
      ]
     },
     "metadata": {},
     "output_type": "display_data"
    },
    {
     "data": {
      "application/javascript": [
       "window.weights_l1 = [[1, 10.216331357048874], [2, -5.002371094015321], [3, -5.722655080886607], [4, 6.753924963804884]]"
      ],
      "text/plain": [
       "<IPython.core.display.Javascript object>"
      ]
     },
     "metadata": {},
     "output_type": "display_data"
    },
    {
     "data": {
      "application/javascript": [
       "window.weight_plot_l1.setData([window.weights_l1]); window.weight_plot_l1.draw();"
      ],
      "text/plain": [
       "<IPython.core.display.Javascript object>"
      ]
     },
     "metadata": {},
     "output_type": "display_data"
    },
    {
     "data": {
      "application/javascript": [
       "window.outputs = [[1, 0.005654986832197295], [2, 0.9896298859352177], [3, 0.991526811431725], [4, 0.012516431438401919]]"
      ],
      "text/plain": [
       "<IPython.core.display.Javascript object>"
      ]
     },
     "metadata": {},
     "output_type": "display_data"
    },
    {
     "data": {
      "application/javascript": [
       "window.output_plot.setData([window.outputs]); window.output_plot.draw();"
      ],
      "text/plain": [
       "<IPython.core.display.Javascript object>"
      ]
     },
     "metadata": {},
     "output_type": "display_data"
    },
    {
     "data": {
      "application/javascript": [
       "$('#avg-error').html(0.00923)"
      ],
      "text/plain": [
       "<IPython.core.display.Javascript object>"
      ]
     },
     "metadata": {},
     "output_type": "display_data"
    },
    {
     "data": {
      "application/javascript": [
       "$('#iteration').html(10800)"
      ],
      "text/plain": [
       "<IPython.core.display.Javascript object>"
      ]
     },
     "metadata": {},
     "output_type": "display_data"
    },
    {
     "data": {
      "application/javascript": [
       "window.error.push([10800,0.00923])"
      ],
      "text/plain": [
       "<IPython.core.display.Javascript object>"
      ]
     },
     "metadata": {},
     "output_type": "display_data"
    },
    {
     "data": {
      "application/javascript": [
       "window.plot.setData([window.error]); window.plot.draw();"
      ],
      "text/plain": [
       "<IPython.core.display.Javascript object>"
      ]
     },
     "metadata": {},
     "output_type": "display_data"
    },
    {
     "data": {
      "application/javascript": [
       "window.weights_l0 = [[1, -6.775828269304347], [2, -1.8318402125182938], [3, -4.70851488188035], [4, 3.359310146174957], [5, 5.239911540005756], [6, 4.462232730950081], [7, -4.649378734047282], [8, -5.431269870569309], [9, -2.3296622310374704], [10, 0.4218748145337373], [11, 1.1758899693099847], [12, -1.41783076189049]]"
      ],
      "text/plain": [
       "<IPython.core.display.Javascript object>"
      ]
     },
     "metadata": {},
     "output_type": "display_data"
    },
    {
     "data": {
      "application/javascript": [
       "window.weight_plot_l0.setData([window.weights_l0]); window.weight_plot_l0.draw();"
      ],
      "text/plain": [
       "<IPython.core.display.Javascript object>"
      ]
     },
     "metadata": {},
     "output_type": "display_data"
    },
    {
     "data": {
      "application/javascript": [
       "window.weights_l1 = [[1, 10.221066014711557], [2, -5.0047308482439865], [3, -5.723608235670408], [4, 6.75649690212434]]"
      ],
      "text/plain": [
       "<IPython.core.display.Javascript object>"
      ]
     },
     "metadata": {},
     "output_type": "display_data"
    },
    {
     "data": {
      "application/javascript": [
       "window.weight_plot_l1.setData([window.weights_l1]); window.weight_plot_l1.draw();"
      ],
      "text/plain": [
       "<IPython.core.display.Javascript object>"
      ]
     },
     "metadata": {},
     "output_type": "display_data"
    },
    {
     "data": {
      "application/javascript": [
       "window.outputs = [[1, 0.005639021635458634], [2, 0.9896561793068437], [3, 0.9915497252551507], [4, 0.012484525277367337]]"
      ],
      "text/plain": [
       "<IPython.core.display.Javascript object>"
      ]
     },
     "metadata": {},
     "output_type": "display_data"
    },
    {
     "data": {
      "application/javascript": [
       "window.output_plot.setData([window.outputs]); window.output_plot.draw();"
      ],
      "text/plain": [
       "<IPython.core.display.Javascript object>"
      ]
     },
     "metadata": {},
     "output_type": "display_data"
    },
    {
     "data": {
      "application/javascript": [
       "$('#avg-error').html(0.00921)"
      ],
      "text/plain": [
       "<IPython.core.display.Javascript object>"
      ]
     },
     "metadata": {},
     "output_type": "display_data"
    },
    {
     "data": {
      "application/javascript": [
       "$('#iteration').html(10850)"
      ],
      "text/plain": [
       "<IPython.core.display.Javascript object>"
      ]
     },
     "metadata": {},
     "output_type": "display_data"
    },
    {
     "data": {
      "application/javascript": [
       "window.error.push([10850,0.00921])"
      ],
      "text/plain": [
       "<IPython.core.display.Javascript object>"
      ]
     },
     "metadata": {},
     "output_type": "display_data"
    },
    {
     "data": {
      "application/javascript": [
       "window.plot.setData([window.error]); window.plot.draw();"
      ],
      "text/plain": [
       "<IPython.core.display.Javascript object>"
      ]
     },
     "metadata": {},
     "output_type": "display_data"
    },
    {
     "data": {
      "application/javascript": [
       "window.weights_l0 = [[1, -6.77740105587589], [2, -1.832972468912858], [3, -4.709060115820063], [4, 3.360438106252731], [5, 5.240978195404378], [6, 4.4636907796037475], [7, -4.650247981206099], [8, -5.432721768373069], [9, -2.329894136492771], [10, 0.422433259516624], [11, 1.1760891456431382], [12, -1.418337123210986]]"
      ],
      "text/plain": [
       "<IPython.core.display.Javascript object>"
      ]
     },
     "metadata": {},
     "output_type": "display_data"
    },
    {
     "data": {
      "application/javascript": [
       "window.weight_plot_l0.setData([window.weights_l0]); window.weight_plot_l0.draw();"
      ],
      "text/plain": [
       "<IPython.core.display.Javascript object>"
      ]
     },
     "metadata": {},
     "output_type": "display_data"
    },
    {
     "data": {
      "application/javascript": [
       "window.weights_l1 = [[1, 10.225777323211382], [2, -5.007079009105823], [3, -5.7245561199615596], [4, 6.759055587477138]]"
      ],
      "text/plain": [
       "<IPython.core.display.Javascript object>"
      ]
     },
     "metadata": {},
     "output_type": "display_data"
    },
    {
     "data": {
      "application/javascript": [
       "window.weight_plot_l1.setData([window.weights_l1]); window.weight_plot_l1.draw();"
      ],
      "text/plain": [
       "<IPython.core.display.Javascript object>"
      ]
     },
     "metadata": {},
     "output_type": "display_data"
    },
    {
     "data": {
      "application/javascript": [
       "window.outputs = [[1, 0.005623180686026343], [2, 0.9896822766421358], [3, 0.9915724630666366], [4, 0.012452857716895145]]"
      ],
      "text/plain": [
       "<IPython.core.display.Javascript object>"
      ]
     },
     "metadata": {},
     "output_type": "display_data"
    },
    {
     "data": {
      "application/javascript": [
       "window.output_plot.setData([window.outputs]); window.output_plot.draw();"
      ],
      "text/plain": [
       "<IPython.core.display.Javascript object>"
      ]
     },
     "metadata": {},
     "output_type": "display_data"
    },
    {
     "data": {
      "application/javascript": [
       "$('#avg-error').html(0.00918)"
      ],
      "text/plain": [
       "<IPython.core.display.Javascript object>"
      ]
     },
     "metadata": {},
     "output_type": "display_data"
    },
    {
     "data": {
      "application/javascript": [
       "$('#iteration').html(10900)"
      ],
      "text/plain": [
       "<IPython.core.display.Javascript object>"
      ]
     },
     "metadata": {},
     "output_type": "display_data"
    },
    {
     "data": {
      "application/javascript": [
       "window.error.push([10900,0.00918])"
      ],
      "text/plain": [
       "<IPython.core.display.Javascript object>"
      ]
     },
     "metadata": {},
     "output_type": "display_data"
    },
    {
     "data": {
      "application/javascript": [
       "window.plot.setData([window.error]); window.plot.draw();"
      ],
      "text/plain": [
       "<IPython.core.display.Javascript object>"
      ]
     },
     "metadata": {},
     "output_type": "display_data"
    },
    {
     "data": {
      "application/javascript": [
       "window.weights_l0 = [[1, -6.778965563809081], [2, -1.8340990420068228], [3, -4.709602359241403], [4, 3.3615599435914794], [5, 5.242039181839121], [6, 4.465141246926806], [7, -4.6511124883924655], [8, -5.434165837710071], [9, -2.3301248175635236], [10, 0.4229887955417275], [11, 1.1762871506513932], [12, -1.4188406395517625]]"
      ],
      "text/plain": [
       "<IPython.core.display.Javascript object>"
      ]
     },
     "metadata": {},
     "output_type": "display_data"
    },
    {
     "data": {
      "application/javascript": [
       "window.weight_plot_l0.setData([window.weights_l0]); window.weight_plot_l0.draw();"
      ],
      "text/plain": [
       "<IPython.core.display.Javascript object>"
      ]
     },
     "metadata": {},
     "output_type": "display_data"
    },
    {
     "data": {
      "application/javascript": [
       "window.weights_l1 = [[1, 10.230465511024502], [2, -5.009415689705355], [3, -5.725498788746313], [4, 6.761601153018209]]"
      ],
      "text/plain": [
       "<IPython.core.display.Javascript object>"
      ]
     },
     "metadata": {},
     "output_type": "display_data"
    },
    {
     "data": {
      "application/javascript": [
       "window.weight_plot_l1.setData([window.weights_l1]); window.weight_plot_l1.draw();"
      ],
      "text/plain": [
       "<IPython.core.display.Javascript object>"
      ]
     },
     "metadata": {},
     "output_type": "display_data"
    },
    {
     "data": {
      "application/javascript": [
       "window.outputs = [[1, 0.005607462413759206], [2, 0.9897081803511472], [3, 0.99159502707428], [4, 0.01242142581716025]]"
      ],
      "text/plain": [
       "<IPython.core.display.Javascript object>"
      ]
     },
     "metadata": {},
     "output_type": "display_data"
    },
    {
     "data": {
      "application/javascript": [
       "window.output_plot.setData([window.outputs]); window.output_plot.draw();"
      ],
      "text/plain": [
       "<IPython.core.display.Javascript object>"
      ]
     },
     "metadata": {},
     "output_type": "display_data"
    },
    {
     "data": {
      "application/javascript": [
       "$('#avg-error').html(0.00916)"
      ],
      "text/plain": [
       "<IPython.core.display.Javascript object>"
      ]
     },
     "metadata": {},
     "output_type": "display_data"
    },
    {
     "data": {
      "application/javascript": [
       "$('#iteration').html(10950)"
      ],
      "text/plain": [
       "<IPython.core.display.Javascript object>"
      ]
     },
     "metadata": {},
     "output_type": "display_data"
    },
    {
     "data": {
      "application/javascript": [
       "window.error.push([10950,0.00916])"
      ],
      "text/plain": [
       "<IPython.core.display.Javascript object>"
      ]
     },
     "metadata": {},
     "output_type": "display_data"
    },
    {
     "data": {
      "application/javascript": [
       "window.plot.setData([window.error]); window.plot.draw();"
      ],
      "text/plain": [
       "<IPython.core.display.Javascript object>"
      ]
     },
     "metadata": {},
     "output_type": "display_data"
    },
    {
     "data": {
      "application/javascript": [
       "window.weights_l0 = [[1, -6.780521876834071], [2, -1.8352199874892932], [3, -4.710141643206128], [4, 3.3626757212748437], [5, 5.243094557024429], [6, 4.466584209059638], [7, -4.651972304529854], [8, -5.435602158995177], [9, -2.330354286696973], [10, 0.4235414517416212], [11, 1.1764839969697278], [12, -1.4193413407375695]]"
      ],
      "text/plain": [
       "<IPython.core.display.Javascript object>"
      ]
     },
     "metadata": {},
     "output_type": "display_data"
    },
    {
     "data": {
      "application/javascript": [
       "window.weight_plot_l0.setData([window.weights_l0]); window.weight_plot_l0.draw();"
      ],
      "text/plain": [
       "<IPython.core.display.Javascript object>"
      ]
     },
     "metadata": {},
     "output_type": "display_data"
    },
    {
     "data": {
      "application/javascript": [
       "window.weights_l1 = [[1, 10.235130803296641], [2, -5.011741001502612], [3, -5.726436296172167], [4, 6.764133729923662]]"
      ],
      "text/plain": [
       "<IPython.core.display.Javascript object>"
      ]
     },
     "metadata": {},
     "output_type": "display_data"
    },
    {
     "data": {
      "application/javascript": [
       "window.weight_plot_l1.setData([window.weights_l1]); window.weight_plot_l1.draw();"
      ],
      "text/plain": [
       "<IPython.core.display.Javascript object>"
      ]
     },
     "metadata": {},
     "output_type": "display_data"
    },
    {
     "data": {
      "application/javascript": [
       "window.outputs = [[1, 0.005591865275876851], [2, 0.989733892802788], [3, 0.9916174194478902], [4, 0.012390226688615159]]"
      ],
      "text/plain": [
       "<IPython.core.display.Javascript object>"
      ]
     },
     "metadata": {},
     "output_type": "display_data"
    },
    {
     "data": {
      "application/javascript": [
       "window.output_plot.setData([window.outputs]); window.output_plot.draw();"
      ],
      "text/plain": [
       "<IPython.core.display.Javascript object>"
      ]
     },
     "metadata": {},
     "output_type": "display_data"
    },
    {
     "data": {
      "application/javascript": [
       "$('#avg-error').html(0.00913)"
      ],
      "text/plain": [
       "<IPython.core.display.Javascript object>"
      ]
     },
     "metadata": {},
     "output_type": "display_data"
    },
    {
     "data": {
      "application/javascript": [
       "$('#iteration').html(11000)"
      ],
      "text/plain": [
       "<IPython.core.display.Javascript object>"
      ]
     },
     "metadata": {},
     "output_type": "display_data"
    },
    {
     "data": {
      "application/javascript": [
       "window.error.push([11000,0.00913])"
      ],
      "text/plain": [
       "<IPython.core.display.Javascript object>"
      ]
     },
     "metadata": {},
     "output_type": "display_data"
    },
    {
     "data": {
      "application/javascript": [
       "window.plot.setData([window.error]); window.plot.draw();"
      ],
      "text/plain": [
       "<IPython.core.display.Javascript object>"
      ]
     },
     "metadata": {},
     "output_type": "display_data"
    },
    {
     "data": {
      "application/javascript": [
       "window.weights_l0 = [[1, -6.782070077433922], [2, -1.8363353602402088], [3, -4.710677998303884], [4, 3.363785501434188], [5, 5.24414437781068], [6, 4.468019741014301], [7, -4.652827477802385], [8, -5.437030811431384], [9, -2.3305825561540465], [10, 0.42409125681879817], [11, 1.176679697035979], [12, -1.4198392561377684]]"
      ],
      "text/plain": [
       "<IPython.core.display.Javascript object>"
      ]
     },
     "metadata": {},
     "output_type": "display_data"
    },
    {
     "data": {
      "application/javascript": [
       "window.weight_plot_l0.setData([window.weights_l0]); window.weight_plot_l0.draw();"
      ],
      "text/plain": [
       "<IPython.core.display.Javascript object>"
      ]
     },
     "metadata": {},
     "output_type": "display_data"
    },
    {
     "data": {
      "application/javascript": [
       "window.weights_l1 = [[1, 10.23977342190738], [2, -5.014055054344841], [3, -5.7273686955646745], [4, 6.766653447429603]]"
      ],
      "text/plain": [
       "<IPython.core.display.Javascript object>"
      ]
     },
     "metadata": {},
     "output_type": "display_data"
    },
    {
     "data": {
      "application/javascript": [
       "window.weight_plot_l1.setData([window.weights_l1]); window.weight_plot_l1.draw();"
      ],
      "text/plain": [
       "<IPython.core.display.Javascript object>"
      ]
     },
     "metadata": {},
     "output_type": "display_data"
    },
    {
     "data": {
      "application/javascript": [
       "window.outputs = [[1, 0.005576387756353445], [2, 0.9897594163257222], [3, 0.9916396423198336], [4, 0.012359257490892171]]"
      ],
      "text/plain": [
       "<IPython.core.display.Javascript object>"
      ]
     },
     "metadata": {},
     "output_type": "display_data"
    },
    {
     "data": {
      "application/javascript": [
       "window.output_plot.setData([window.outputs]); window.output_plot.draw();"
      ],
      "text/plain": [
       "<IPython.core.display.Javascript object>"
      ]
     },
     "metadata": {},
     "output_type": "display_data"
    },
    {
     "data": {
      "application/javascript": [
       "$('#avg-error').html(0.00911)"
      ],
      "text/plain": [
       "<IPython.core.display.Javascript object>"
      ]
     },
     "metadata": {},
     "output_type": "display_data"
    },
    {
     "data": {
      "application/javascript": [
       "$('#iteration').html(11050)"
      ],
      "text/plain": [
       "<IPython.core.display.Javascript object>"
      ]
     },
     "metadata": {},
     "output_type": "display_data"
    },
    {
     "data": {
      "application/javascript": [
       "window.error.push([11050,0.00911])"
      ],
      "text/plain": [
       "<IPython.core.display.Javascript object>"
      ]
     },
     "metadata": {},
     "output_type": "display_data"
    },
    {
     "data": {
      "application/javascript": [
       "window.plot.setData([window.error]); window.plot.draw();"
      ],
      "text/plain": [
       "<IPython.core.display.Javascript object>"
      ]
     },
     "metadata": {},
     "output_type": "display_data"
    },
    {
     "data": {
      "application/javascript": [
       "window.weights_l0 = [[1, -6.783610246869021], [2, -1.837445214345903], [3, -4.711211454661634], [4, 3.3648893452674806], [5, 5.245188700201215], [6, 4.469447916696581], [7, -4.653678055669489], [8, -5.4384518730338165], [9, -2.330809638013013], [10, 0.42463823905404274], [11, 1.176874263094856], [12, -1.4203344146754404]]"
      ],
      "text/plain": [
       "<IPython.core.display.Javascript object>"
      ]
     },
     "metadata": {},
     "output_type": "display_data"
    },
    {
     "data": {
      "application/javascript": [
       "window.weight_plot_l0.setData([window.weights_l0]); window.weight_plot_l0.draw();"
      ],
      "text/plain": [
       "<IPython.core.display.Javascript object>"
      ]
     },
     "metadata": {},
     "output_type": "display_data"
    },
    {
     "data": {
      "application/javascript": [
       "window.weights_l1 = [[1, 10.244393585532942], [2, -5.016357956497411], [3, -5.728296039443783], [4, 6.769160432869998]]"
      ],
      "text/plain": [
       "<IPython.core.display.Javascript object>"
      ]
     },
     "metadata": {},
     "output_type": "display_data"
    },
    {
     "data": {
      "application/javascript": [
       "window.weight_plot_l1.setData([window.weights_l1]); window.weight_plot_l1.draw();"
      ],
      "text/plain": [
       "<IPython.core.display.Javascript object>"
      ]
     },
     "metadata": {},
     "output_type": "display_data"
    },
    {
     "data": {
      "application/javascript": [
       "window.outputs = [[1, 0.005561028365327824], [2, 0.9897847532092392], [3, 0.9916616977858558], [4, 0.012328515431735344]]"
      ],
      "text/plain": [
       "<IPython.core.display.Javascript object>"
      ]
     },
     "metadata": {},
     "output_type": "display_data"
    },
    {
     "data": {
      "application/javascript": [
       "window.output_plot.setData([window.outputs]); window.output_plot.draw();"
      ],
      "text/plain": [
       "<IPython.core.display.Javascript object>"
      ]
     },
     "metadata": {},
     "output_type": "display_data"
    },
    {
     "data": {
      "application/javascript": [
       "$('#avg-error').html(0.00909)"
      ],
      "text/plain": [
       "<IPython.core.display.Javascript object>"
      ]
     },
     "metadata": {},
     "output_type": "display_data"
    },
    {
     "data": {
      "application/javascript": [
       "$('#iteration').html(11100)"
      ],
      "text/plain": [
       "<IPython.core.display.Javascript object>"
      ]
     },
     "metadata": {},
     "output_type": "display_data"
    },
    {
     "data": {
      "application/javascript": [
       "window.error.push([11100,0.00909])"
      ],
      "text/plain": [
       "<IPython.core.display.Javascript object>"
      ]
     },
     "metadata": {},
     "output_type": "display_data"
    },
    {
     "data": {
      "application/javascript": [
       "window.plot.setData([window.error]); window.plot.draw();"
      ],
      "text/plain": [
       "<IPython.core.display.Javascript object>"
      ]
     },
     "metadata": {},
     "output_type": "display_data"
    },
    {
     "data": {
      "application/javascript": [
       "window.weights_l0 = [[1, -6.785142465201002], [2, -1.83854960311427], [3, -4.711742041952849], [4, 3.3659873130577127], [5, 5.24622757936895], [6, 4.470868808927508], [7, -4.6545240848802365], [8, -5.439865420653155], [9, -2.3310355441730803], [10, 0.42518242631459563], [11, 1.1770677072018527], [12, -1.4208268448362638]]"
      ],
      "text/plain": [
       "<IPython.core.display.Javascript object>"
      ]
     },
     "metadata": {},
     "output_type": "display_data"
    },
    {
     "data": {
      "application/javascript": [
       "window.weight_plot_l0.setData([window.weights_l0]); window.weight_plot_l0.draw();"
      ],
      "text/plain": [
       "<IPython.core.display.Javascript object>"
      ]
     },
     "metadata": {},
     "output_type": "display_data"
    },
    {
     "data": {
      "application/javascript": [
       "window.weights_l1 = [[1, 10.248991509707494], [2, -5.018649814674024], [3, -5.729218379539823], [4, 6.771654811713636]]"
      ],
      "text/plain": [
       "<IPython.core.display.Javascript object>"
      ]
     },
     "metadata": {},
     "output_type": "display_data"
    },
    {
     "data": {
      "application/javascript": [
       "window.weight_plot_l1.setData([window.weights_l1]); window.weight_plot_l1.draw();"
      ],
      "text/plain": [
       "<IPython.core.display.Javascript object>"
      ]
     },
     "metadata": {},
     "output_type": "display_data"
    },
    {
     "data": {
      "application/javascript": [
       "window.outputs = [[1, 0.0055457856385292175], [2, 0.9898099057041061], [3, 0.9916835879058831], [4, 0.012297997765960012]]"
      ],
      "text/plain": [
       "<IPython.core.display.Javascript object>"
      ]
     },
     "metadata": {},
     "output_type": "display_data"
    },
    {
     "data": {
      "application/javascript": [
       "window.output_plot.setData([window.outputs]); window.output_plot.draw();"
      ],
      "text/plain": [
       "<IPython.core.display.Javascript object>"
      ]
     },
     "metadata": {},
     "output_type": "display_data"
    },
    {
     "data": {
      "application/javascript": [
       "$('#avg-error').html(0.00906)"
      ],
      "text/plain": [
       "<IPython.core.display.Javascript object>"
      ]
     },
     "metadata": {},
     "output_type": "display_data"
    },
    {
     "data": {
      "application/javascript": [
       "$('#iteration').html(11150)"
      ],
      "text/plain": [
       "<IPython.core.display.Javascript object>"
      ]
     },
     "metadata": {},
     "output_type": "display_data"
    },
    {
     "data": {
      "application/javascript": [
       "window.error.push([11150,0.00906])"
      ],
      "text/plain": [
       "<IPython.core.display.Javascript object>"
      ]
     },
     "metadata": {},
     "output_type": "display_data"
    },
    {
     "data": {
      "application/javascript": [
       "window.plot.setData([window.error]); window.plot.draw();"
      ],
      "text/plain": [
       "<IPython.core.display.Javascript object>"
      ]
     },
     "metadata": {},
     "output_type": "display_data"
    },
    {
     "data": {
      "application/javascript": [
       "window.weights_l0 = [[1, -6.786666811316001], [2, -1.8396485790895862], [3, -4.712269789406443], [4, 3.3670794641908666], [5, 5.24726106967257], [6, 4.472282489464346], [7, -4.655365611487282], [8, -5.441271529998479], [9, -2.3312602863578764], [10, 0.42572384606212677], [11, 1.1772600412270604], [12, -1.421316574677178]]"
      ],
      "text/plain": [
       "<IPython.core.display.Javascript object>"
      ]
     },
     "metadata": {},
     "output_type": "display_data"
    },
    {
     "data": {
      "application/javascript": [
       "window.weight_plot_l0.setData([window.weights_l0]); window.weight_plot_l0.draw();"
      ],
      "text/plain": [
       "<IPython.core.display.Javascript object>"
      ]
     },
     "metadata": {},
     "output_type": "display_data"
    },
    {
     "data": {
      "application/javascript": [
       "window.weights_l1 = [[1, 10.253567406882972], [2, -5.020930734066185], [3, -5.730135766809081], [4, 6.774136707600178]]"
      ],
      "text/plain": [
       "<IPython.core.display.Javascript object>"
      ]
     },
     "metadata": {},
     "output_type": "display_data"
    },
    {
     "data": {
      "application/javascript": [
       "window.weight_plot_l1.setData([window.weights_l1]); window.weight_plot_l1.draw();"
      ],
      "text/plain": [
       "<IPython.core.display.Javascript object>"
      ]
     },
     "metadata": {},
     "output_type": "display_data"
    },
    {
     "data": {
      "application/javascript": [
       "window.outputs = [[1, 0.005530658136718303], [2, 0.9898348760233934], [3, 0.9917053147048014], [4, 0.012267701794439995]]"
      ],
      "text/plain": [
       "<IPython.core.display.Javascript object>"
      ]
     },
     "metadata": {},
     "output_type": "display_data"
    },
    {
     "data": {
      "application/javascript": [
       "window.output_plot.setData([window.outputs]); window.output_plot.draw();"
      ],
      "text/plain": [
       "<IPython.core.display.Javascript object>"
      ]
     },
     "metadata": {},
     "output_type": "display_data"
    },
    {
     "data": {
      "application/javascript": [
       "$('#avg-error').html(0.00904)"
      ],
      "text/plain": [
       "<IPython.core.display.Javascript object>"
      ]
     },
     "metadata": {},
     "output_type": "display_data"
    },
    {
     "data": {
      "application/javascript": [
       "$('#iteration').html(11200)"
      ],
      "text/plain": [
       "<IPython.core.display.Javascript object>"
      ]
     },
     "metadata": {},
     "output_type": "display_data"
    },
    {
     "data": {
      "application/javascript": [
       "window.error.push([11200,0.00904])"
      ],
      "text/plain": [
       "<IPython.core.display.Javascript object>"
      ]
     },
     "metadata": {},
     "output_type": "display_data"
    },
    {
     "data": {
      "application/javascript": [
       "window.plot.setData([window.error]); window.plot.draw();"
      ],
      "text/plain": [
       "<IPython.core.display.Javascript object>"
      ]
     },
     "metadata": {},
     "output_type": "display_data"
    },
    {
     "data": {
      "application/javascript": [
       "window.weights_l0 = [[1, -6.788183362947427], [2, -1.8407421940669721], [3, -4.712794725815537], [4, 3.368165857173443], [5, 5.248289224672349], [6, 4.473689029021085], [7, -4.656202680860498], [8, -5.442670275659537], [9, -2.3314838761188685], [10, 0.4262625253605162], [11, 1.1774512768588856], [12, -1.4218036318348337]]"
      ],
      "text/plain": [
       "<IPython.core.display.Javascript object>"
      ]
     },
     "metadata": {},
     "output_type": "display_data"
    },
    {
     "data": {
      "application/javascript": [
       "window.weight_plot_l0.setData([window.weights_l0]); window.weight_plot_l0.draw();"
      ],
      "text/plain": [
       "<IPython.core.display.Javascript object>"
      ]
     },
     "metadata": {},
     "output_type": "display_data"
    },
    {
     "data": {
      "application/javascript": [
       "window.weights_l1 = [[1, 10.258121486487465], [2, -5.023200818371987], [3, -5.731048251448994], [4, 6.77660624237536]]"
      ],
      "text/plain": [
       "<IPython.core.display.Javascript object>"
      ]
     },
     "metadata": {},
     "output_type": "display_data"
    },
    {
     "data": {
      "application/javascript": [
       "window.weight_plot_l1.setData([window.weights_l1]); window.weight_plot_l1.draw();"
      ],
      "text/plain": [
       "<IPython.core.display.Javascript object>"
      ]
     },
     "metadata": {},
     "output_type": "display_data"
    },
    {
     "data": {
      "application/javascript": [
       "window.outputs = [[1, 0.0055156444451430016], [2, 0.989859666343282], [3, 0.991726880173216], [4, 0.012237624863121035]]"
      ],
      "text/plain": [
       "<IPython.core.display.Javascript object>"
      ]
     },
     "metadata": {},
     "output_type": "display_data"
    },
    {
     "data": {
      "application/javascript": [
       "window.output_plot.setData([window.outputs]); window.output_plot.draw();"
      ],
      "text/plain": [
       "<IPython.core.display.Javascript object>"
      ]
     },
     "metadata": {},
     "output_type": "display_data"
    },
    {
     "data": {
      "application/javascript": [
       "$('#avg-error').html(0.00902)"
      ],
      "text/plain": [
       "<IPython.core.display.Javascript object>"
      ]
     },
     "metadata": {},
     "output_type": "display_data"
    },
    {
     "data": {
      "application/javascript": [
       "$('#iteration').html(11250)"
      ],
      "text/plain": [
       "<IPython.core.display.Javascript object>"
      ]
     },
     "metadata": {},
     "output_type": "display_data"
    },
    {
     "data": {
      "application/javascript": [
       "window.error.push([11250,0.00902])"
      ],
      "text/plain": [
       "<IPython.core.display.Javascript object>"
      ]
     },
     "metadata": {},
     "output_type": "display_data"
    },
    {
     "data": {
      "application/javascript": [
       "window.plot.setData([window.error]); window.plot.draw();"
      ],
      "text/plain": [
       "<IPython.core.display.Javascript object>"
      ]
     },
     "metadata": {},
     "output_type": "display_data"
    },
    {
     "data": {
      "application/javascript": [
       "window.weights_l0 = [[1, -6.7896921966981125], [2, -1.8418304991065235], [3, -4.713316879545976], [4, 3.369246549649576], [5, 5.24931209714559], [6, 4.475088497288433], [7, -4.657035337700263], [8, -5.44406173112852], [9, -2.3317063248386964], [10, 0.4267984908834494], [11, 1.1776414256076844], [12, -1.4222880435338376]]"
      ],
      "text/plain": [
       "<IPython.core.display.Javascript object>"
      ]
     },
     "metadata": {},
     "output_type": "display_data"
    },
    {
     "data": {
      "application/javascript": [
       "window.weight_plot_l0.setData([window.weights_l0]); window.weight_plot_l0.draw();"
      ],
      "text/plain": [
       "<IPython.core.display.Javascript object>"
      ]
     },
     "metadata": {},
     "output_type": "display_data"
    },
    {
     "data": {
      "application/javascript": [
       "window.weights_l1 = [[1, 10.26265395498226], [2, -5.025460169824217], [3, -5.73195588291298], [4, 6.779063536125353]]"
      ],
      "text/plain": [
       "<IPython.core.display.Javascript object>"
      ]
     },
     "metadata": {},
     "output_type": "display_data"
    },
    {
     "data": {
      "application/javascript": [
       "window.weight_plot_l1.setData([window.weights_l1]); window.weight_plot_l1.draw();"
      ],
      "text/plain": [
       "<IPython.core.display.Javascript object>"
      ]
     },
     "metadata": {},
     "output_type": "display_data"
    },
    {
     "data": {
      "application/javascript": [
       "window.outputs = [[1, 0.005500743173008669], [2, 0.9898842788038481], [3, 0.9917482862681896], [4, 0.01220776436206007]]"
      ],
      "text/plain": [
       "<IPython.core.display.Javascript object>"
      ]
     },
     "metadata": {},
     "output_type": "display_data"
    },
    {
     "data": {
      "application/javascript": [
       "window.output_plot.setData([window.outputs]); window.output_plot.draw();"
      ],
      "text/plain": [
       "<IPython.core.display.Javascript object>"
      ]
     },
     "metadata": {},
     "output_type": "display_data"
    },
    {
     "data": {
      "application/javascript": [
       "$('#avg-error').html(0.00900)"
      ],
      "text/plain": [
       "<IPython.core.display.Javascript object>"
      ]
     },
     "metadata": {},
     "output_type": "display_data"
    },
    {
     "data": {
      "application/javascript": [
       "$('#iteration').html(11300)"
      ],
      "text/plain": [
       "<IPython.core.display.Javascript object>"
      ]
     },
     "metadata": {},
     "output_type": "display_data"
    },
    {
     "data": {
      "application/javascript": [
       "window.error.push([11300,0.00900])"
      ],
      "text/plain": [
       "<IPython.core.display.Javascript object>"
      ]
     },
     "metadata": {},
     "output_type": "display_data"
    },
    {
     "data": {
      "application/javascript": [
       "window.plot.setData([window.error]); window.plot.draw();"
      ],
      "text/plain": [
       "<IPython.core.display.Javascript object>"
      ]
     },
     "metadata": {},
     "output_type": "display_data"
    },
    {
     "data": {
      "application/javascript": [
       "window.weights_l0 = [[1, -6.791193388061998], [2, -1.8429135445471017], [3, -4.713836278544652], [4, 3.370321598417726], [5, 5.2503297391016925], [6, 4.476480962953361], [7, -4.65786362605044], [8, -5.445445968821274], [9, -2.3319276437344105], [10, 0.4273317689218348], [11, 1.177830498809294], [12, -1.422769836594799]]"
      ],
      "text/plain": [
       "<IPython.core.display.Javascript object>"
      ]
     },
     "metadata": {},
     "output_type": "display_data"
    },
    {
     "data": {
      "application/javascript": [
       "window.weight_plot_l0.setData([window.weights_l0]); window.weight_plot_l0.draw();"
      ],
      "text/plain": [
       "<IPython.core.display.Javascript object>"
      ]
     },
     "metadata": {},
     "output_type": "display_data"
    },
    {
     "data": {
      "application/javascript": [
       "window.weights_l1 = [[1, 10.267165015917557], [2, -5.027708889217785], [3, -5.732858709924903], [4, 6.781508707210306]]"
      ],
      "text/plain": [
       "<IPython.core.display.Javascript object>"
      ]
     },
     "metadata": {},
     "output_type": "display_data"
    },
    {
     "data": {
      "application/javascript": [
       "window.weight_plot_l1.setData([window.weights_l1]); window.weight_plot_l1.draw();"
      ],
      "text/plain": [
       "<IPython.core.display.Javascript object>"
      ]
     },
     "metadata": {},
     "output_type": "display_data"
    },
    {
     "data": {
      "application/javascript": [
       "window.outputs = [[1, 0.005485952952962218], [2, 0.9899087155098287], [3, 0.9917695349139627], [4, 0.012178117724489538]]"
      ],
      "text/plain": [
       "<IPython.core.display.Javascript object>"
      ]
     },
     "metadata": {},
     "output_type": "display_data"
    },
    {
     "data": {
      "application/javascript": [
       "window.output_plot.setData([window.outputs]); window.output_plot.draw();"
      ],
      "text/plain": [
       "<IPython.core.display.Javascript object>"
      ]
     },
     "metadata": {},
     "output_type": "display_data"
    },
    {
     "data": {
      "application/javascript": [
       "$('#avg-error').html(0.00897)"
      ],
      "text/plain": [
       "<IPython.core.display.Javascript object>"
      ]
     },
     "metadata": {},
     "output_type": "display_data"
    },
    {
     "data": {
      "application/javascript": [
       "$('#iteration').html(11350)"
      ],
      "text/plain": [
       "<IPython.core.display.Javascript object>"
      ]
     },
     "metadata": {},
     "output_type": "display_data"
    },
    {
     "data": {
      "application/javascript": [
       "window.error.push([11350,0.00897])"
      ],
      "text/plain": [
       "<IPython.core.display.Javascript object>"
      ]
     },
     "metadata": {},
     "output_type": "display_data"
    },
    {
     "data": {
      "application/javascript": [
       "window.plot.setData([window.error]); window.plot.draw();"
      ],
      "text/plain": [
       "<IPython.core.display.Javascript object>"
      ]
     },
     "metadata": {},
     "output_type": "display_data"
    },
    {
     "data": {
      "application/javascript": [
       "window.weights_l0 = [[1, -6.792687011445279], [2, -1.8439913800198098], [3, -4.714352950347629], [4, 3.3713910594469727], [5, 5.251342201796846], [6, 4.477866493718149], [7, -4.658687589311033], [8, -5.446823060098051], [9, -2.3321478438606547], [10, 0.42786238539104426], [11, 1.1780185076284908], [12, -1.4232490374421796]]"
      ],
      "text/plain": [
       "<IPython.core.display.Javascript object>"
      ]
     },
     "metadata": {},
     "output_type": "display_data"
    },
    {
     "data": {
      "application/javascript": [
       "window.weight_plot_l0.setData([window.weights_l0]); window.weight_plot_l0.draw();"
      ],
      "text/plain": [
       "<IPython.core.display.Javascript object>"
      ]
     },
     "metadata": {},
     "output_type": "display_data"
    },
    {
     "data": {
      "application/javascript": [
       "window.weights_l1 = [[1, 10.271654869986833], [2, -5.0299470759365565], [3, -5.733756780493215], [4, 6.783941872297087]]"
      ],
      "text/plain": [
       "<IPython.core.display.Javascript object>"
      ]
     },
     "metadata": {},
     "output_type": "display_data"
    },
    {
     "data": {
      "application/javascript": [
       "window.weight_plot_l1.setData([window.weights_l1]); window.weight_plot_l1.draw();"
      ],
      "text/plain": [
       "<IPython.core.display.Javascript object>"
      ]
     },
     "metadata": {},
     "output_type": "display_data"
    },
    {
     "data": {
      "application/javascript": [
       "window.outputs = [[1, 0.005471272440589449], [2, 0.9899329785313657], [3, 0.9917906280026549], [4, 0.012148682425905156]]"
      ],
      "text/plain": [
       "<IPython.core.display.Javascript object>"
      ]
     },
     "metadata": {},
     "output_type": "display_data"
    },
    {
     "data": {
      "application/javascript": [
       "window.output_plot.setData([window.outputs]); window.output_plot.draw();"
      ],
      "text/plain": [
       "<IPython.core.display.Javascript object>"
      ]
     },
     "metadata": {},
     "output_type": "display_data"
    },
    {
     "data": {
      "application/javascript": [
       "$('#avg-error').html(0.00895)"
      ],
      "text/plain": [
       "<IPython.core.display.Javascript object>"
      ]
     },
     "metadata": {},
     "output_type": "display_data"
    },
    {
     "data": {
      "application/javascript": [
       "$('#iteration').html(11400)"
      ],
      "text/plain": [
       "<IPython.core.display.Javascript object>"
      ]
     },
     "metadata": {},
     "output_type": "display_data"
    },
    {
     "data": {
      "application/javascript": [
       "window.error.push([11400,0.00895])"
      ],
      "text/plain": [
       "<IPython.core.display.Javascript object>"
      ]
     },
     "metadata": {},
     "output_type": "display_data"
    },
    {
     "data": {
      "application/javascript": [
       "window.plot.setData([window.error]); window.plot.draw();"
      ],
      "text/plain": [
       "<IPython.core.display.Javascript object>"
      ]
     },
     "metadata": {},
     "output_type": "display_data"
    },
    {
     "data": {
      "application/javascript": [
       "window.weights_l0 = [[1, -6.794173140187046], [2, -1.8450640544611558], [3, -4.714866922088071], [4, 3.372454987892933], [5, 5.252349535748401], [6, 4.479245156319012], [7, -4.65950727025056], [8, -5.448193075283696], [9, -2.3323669361127557], [10, 0.4283903658379859], [11, 1.178205463062354], [12, -1.423725672111961]]"
      ],
      "text/plain": [
       "<IPython.core.display.Javascript object>"
      ]
     },
     "metadata": {},
     "output_type": "display_data"
    },
    {
     "data": {
      "application/javascript": [
       "window.weight_plot_l0.setData([window.weights_l0]); window.weight_plot_l0.draw();"
      ],
      "text/plain": [
       "<IPython.core.display.Javascript object>"
      ]
     },
     "metadata": {},
     "output_type": "display_data"
    },
    {
     "data": {
      "application/javascript": [
       "window.weights_l1 = [[1, 10.276123715080006], [2, -5.0321748279795235], [3, -5.734650141924702], [4, 6.786363146391268]]"
      ],
      "text/plain": [
       "<IPython.core.display.Javascript object>"
      ]
     },
     "metadata": {},
     "output_type": "display_data"
    },
    {
     "data": {
      "application/javascript": [
       "window.weight_plot_l1.setData([window.weights_l1]); window.weight_plot_l1.draw();"
      ],
      "text/plain": [
       "<IPython.core.display.Javascript object>"
      ]
     },
     "metadata": {},
     "output_type": "display_data"
    },
    {
     "data": {
      "application/javascript": [
       "window.outputs = [[1, 0.00545670031392586], [2, 0.9899570699047332], [3, 0.9918115673949465], [4, 0.012119455983177825]]"
      ],
      "text/plain": [
       "<IPython.core.display.Javascript object>"
      ]
     },
     "metadata": {},
     "output_type": "display_data"
    },
    {
     "data": {
      "application/javascript": [
       "window.output_plot.setData([window.outputs]); window.output_plot.draw();"
      ],
      "text/plain": [
       "<IPython.core.display.Javascript object>"
      ]
     },
     "metadata": {},
     "output_type": "display_data"
    },
    {
     "data": {
      "application/javascript": [
       "$('#avg-error').html(0.00893)"
      ],
      "text/plain": [
       "<IPython.core.display.Javascript object>"
      ]
     },
     "metadata": {},
     "output_type": "display_data"
    },
    {
     "data": {
      "application/javascript": [
       "$('#iteration').html(11450)"
      ],
      "text/plain": [
       "<IPython.core.display.Javascript object>"
      ]
     },
     "metadata": {},
     "output_type": "display_data"
    },
    {
     "data": {
      "application/javascript": [
       "window.error.push([11450,0.00893])"
      ],
      "text/plain": [
       "<IPython.core.display.Javascript object>"
      ]
     },
     "metadata": {},
     "output_type": "display_data"
    },
    {
     "data": {
      "application/javascript": [
       "window.plot.setData([window.error]); window.plot.draw();"
      ],
      "text/plain": [
       "<IPython.core.display.Javascript object>"
      ]
     },
     "metadata": {},
     "output_type": "display_data"
    },
    {
     "data": {
      "application/javascript": [
       "window.weights_l0 = [[1, -6.795651846579445], [2, -1.8461316161259058], [3, -4.715378220503976], [4, 3.373513438113289], [5, 5.253351790748882], [6, 4.480617016544282], [7, -4.660322711018104], [8, -5.449556083687422], [9, -2.3325849312297513], [10, 0.428915735448011], [11, 1.1783913759435547], [12, -1.4241997662591221]]"
      ],
      "text/plain": [
       "<IPython.core.display.Javascript object>"
      ]
     },
     "metadata": {},
     "output_type": "display_data"
    },
    {
     "data": {
      "application/javascript": [
       "window.weight_plot_l0.setData([window.weights_l0]); window.weight_plot_l0.draw();"
      ],
      "text/plain": [
       "<IPython.core.display.Javascript object>"
      ]
     },
     "metadata": {},
     "output_type": "display_data"
    },
    {
     "data": {
      "application/javascript": [
       "window.weights_l1 = [[1, 10.280571746335315], [2, -5.034392241986394], [3, -5.735538840837987], [4, 6.788772642868359]]"
      ],
      "text/plain": [
       "<IPython.core.display.Javascript object>"
      ]
     },
     "metadata": {},
     "output_type": "display_data"
    },
    {
     "data": {
      "application/javascript": [
       "window.weight_plot_l1.setData([window.weights_l1]); window.weight_plot_l1.draw();"
      ],
      "text/plain": [
       "<IPython.core.display.Javascript object>"
      ]
     },
     "metadata": {},
     "output_type": "display_data"
    },
    {
     "data": {
      "application/javascript": [
       "window.outputs = [[1, 0.005442235272979599], [2, 0.9899809916330438], [3, 0.991832354920745], [4, 0.01209043595368777]]"
      ],
      "text/plain": [
       "<IPython.core.display.Javascript object>"
      ]
     },
     "metadata": {},
     "output_type": "display_data"
    },
    {
     "data": {
      "application/javascript": [
       "window.output_plot.setData([window.outputs]); window.output_plot.draw();"
      ],
      "text/plain": [
       "<IPython.core.display.Javascript object>"
      ]
     },
     "metadata": {},
     "output_type": "display_data"
    },
    {
     "data": {
      "application/javascript": [
       "$('#avg-error').html(0.00891)"
      ],
      "text/plain": [
       "<IPython.core.display.Javascript object>"
      ]
     },
     "metadata": {},
     "output_type": "display_data"
    },
    {
     "data": {
      "application/javascript": [
       "$('#iteration').html(11500)"
      ],
      "text/plain": [
       "<IPython.core.display.Javascript object>"
      ]
     },
     "metadata": {},
     "output_type": "display_data"
    },
    {
     "data": {
      "application/javascript": [
       "window.error.push([11500,0.00891])"
      ],
      "text/plain": [
       "<IPython.core.display.Javascript object>"
      ]
     },
     "metadata": {},
     "output_type": "display_data"
    },
    {
     "data": {
      "application/javascript": [
       "window.plot.setData([window.error]); window.plot.draw();"
      ],
      "text/plain": [
       "<IPython.core.display.Javascript object>"
      ]
     },
     "metadata": {},
     "output_type": "display_data"
    },
    {
     "data": {
      "application/javascript": [
       "window.weights_l0 = [[1, -6.7971232018873655], [2, -1.8471941125996483], [3, -4.715886871945728], [4, 3.374566463682954], [5, 5.2543490158796695], [6, 4.481982139252152], [7, -4.6611339531551135], [8, -5.450912153622089], [9, -2.332801839797339], [10, 0.42943851905166003], [11, 1.1785762569435634], [12, -1.4246713451649422]]"
      ],
      "text/plain": [
       "<IPython.core.display.Javascript object>"
      ]
     },
     "metadata": {},
     "output_type": "display_data"
    },
    {
     "data": {
      "application/javascript": [
       "window.weight_plot_l0.setData([window.weights_l0]); window.weight_plot_l0.draw();"
      ],
      "text/plain": [
       "<IPython.core.display.Javascript object>"
      ]
     },
     "metadata": {},
     "output_type": "display_data"
    },
    {
     "data": {
      "application/javascript": [
       "window.weights_l1 = [[1, 10.284999156190047], [2, -5.036599413262586], [3, -5.736422923176646], [4, 6.791170473504306]]"
      ],
      "text/plain": [
       "<IPython.core.display.Javascript object>"
      ]
     },
     "metadata": {},
     "output_type": "display_data"
    },
    {
     "data": {
      "application/javascript": [
       "window.weight_plot_l1.setData([window.weights_l1]); window.weight_plot_l1.draw();"
      ],
      "text/plain": [
       "<IPython.core.display.Javascript object>"
      ]
     },
     "metadata": {},
     "output_type": "display_data"
    },
    {
     "data": {
      "application/javascript": [
       "window.outputs = [[1, 0.0054278760392671], [2, 0.9900047456869396], [3, 0.9918529923798323], [4, 0.012061619934480775]]"
      ],
      "text/plain": [
       "<IPython.core.display.Javascript object>"
      ]
     },
     "metadata": {},
     "output_type": "display_data"
    },
    {
     "data": {
      "application/javascript": [
       "window.output_plot.setData([window.outputs]); window.output_plot.draw();"
      ],
      "text/plain": [
       "<IPython.core.display.Javascript object>"
      ]
     },
     "metadata": {},
     "output_type": "display_data"
    },
    {
     "data": {
      "application/javascript": [
       "$('#avg-error').html(0.00889)"
      ],
      "text/plain": [
       "<IPython.core.display.Javascript object>"
      ]
     },
     "metadata": {},
     "output_type": "display_data"
    },
    {
     "data": {
      "application/javascript": [
       "$('#iteration').html(11550)"
      ],
      "text/plain": [
       "<IPython.core.display.Javascript object>"
      ]
     },
     "metadata": {},
     "output_type": "display_data"
    },
    {
     "data": {
      "application/javascript": [
       "window.error.push([11550,0.00889])"
      ],
      "text/plain": [
       "<IPython.core.display.Javascript object>"
      ]
     },
     "metadata": {},
     "output_type": "display_data"
    },
    {
     "data": {
      "application/javascript": [
       "window.plot.setData([window.error]); window.plot.draw();"
      ],
      "text/plain": [
       "<IPython.core.display.Javascript object>"
      ]
     },
     "metadata": {},
     "output_type": "display_data"
    },
    {
     "data": {
      "application/javascript": [
       "window.weights_l0 = [[1, -6.798587276367689], [2, -1.848251590811069], [3, -4.716392902383489], [4, 3.3756141174088783], [5, 5.25534125952439], [6, 4.48334058838803], [7, -4.661941037606897], [8, -5.452261352423038], [9, -2.3330176722507616], [10, 0.4299587411312539], [11, 1.1787601165757764], [12, -1.4251404337441314]]"
      ],
      "text/plain": [
       "<IPython.core.display.Javascript object>"
      ]
     },
     "metadata": {},
     "output_type": "display_data"
    },
    {
     "data": {
      "application/javascript": [
       "window.weight_plot_l0.setData([window.weights_l0]); window.weight_plot_l0.draw();"
      ],
      "text/plain": [
       "<IPython.core.display.Javascript object>"
      ]
     },
     "metadata": {},
     "output_type": "display_data"
    },
    {
     "data": {
      "application/javascript": [
       "window.weights_l1 = [[1, 10.289406134430092], [2, -5.038796435803645], [3, -5.737302434222026], [4, 6.793556748505285]]"
      ],
      "text/plain": [
       "<IPython.core.display.Javascript object>"
      ]
     },
     "metadata": {},
     "output_type": "display_data"
    },
    {
     "data": {
      "application/javascript": [
       "window.weight_plot_l1.setData([window.weights_l1]); window.weight_plot_l1.draw();"
      ],
      "text/plain": [
       "<IPython.core.display.Javascript object>"
      ]
     },
     "metadata": {},
     "output_type": "display_data"
    },
    {
     "data": {
      "application/javascript": [
       "window.outputs = [[1, 0.00541362135536048], [2, 0.9900283340052636], [3, 0.9918734815424974], [4, 0.012033005561445846]]"
      ],
      "text/plain": [
       "<IPython.core.display.Javascript object>"
      ]
     },
     "metadata": {},
     "output_type": "display_data"
    },
    {
     "data": {
      "application/javascript": [
       "window.output_plot.setData([window.outputs]); window.output_plot.draw();"
      ],
      "text/plain": [
       "<IPython.core.display.Javascript object>"
      ]
     },
     "metadata": {},
     "output_type": "display_data"
    },
    {
     "data": {
      "application/javascript": [
       "$('#avg-error').html(0.00886)"
      ],
      "text/plain": [
       "<IPython.core.display.Javascript object>"
      ]
     },
     "metadata": {},
     "output_type": "display_data"
    },
    {
     "data": {
      "application/javascript": [
       "$('#iteration').html(11600)"
      ],
      "text/plain": [
       "<IPython.core.display.Javascript object>"
      ]
     },
     "metadata": {},
     "output_type": "display_data"
    },
    {
     "data": {
      "application/javascript": [
       "window.error.push([11600,0.00886])"
      ],
      "text/plain": [
       "<IPython.core.display.Javascript object>"
      ]
     },
     "metadata": {},
     "output_type": "display_data"
    },
    {
     "data": {
      "application/javascript": [
       "window.plot.setData([window.error]); window.plot.draw();"
      ],
      "text/plain": [
       "<IPython.core.display.Javascript object>"
      ]
     },
     "metadata": {},
     "output_type": "display_data"
    },
    {
     "data": {
      "application/javascript": [
       "window.weights_l0 = [[1, -6.800044139288051], [2, -1.8493040970439454], [3, -4.716896337414376], [4, 3.376656451344513], [5, 5.256328569381962], [6, 4.484692427001478], [7, -4.662744004733859], [8, -5.453603746466468], [9, -2.333232438877632], [10, 0.4304764258273318], [11, 1.178942965198576], [12, -1.425607056551794]]"
      ],
      "text/plain": [
       "<IPython.core.display.Javascript object>"
      ]
     },
     "metadata": {},
     "output_type": "display_data"
    },
    {
     "data": {
      "application/javascript": [
       "window.weight_plot_l0.setData([window.weights_l0]); window.weight_plot_l0.draw();"
      ],
      "text/plain": [
       "<IPython.core.display.Javascript object>"
      ]
     },
     "metadata": {},
     "output_type": "display_data"
    },
    {
     "data": {
      "application/javascript": [
       "window.weights_l1 = [[1, 10.29379286823834], [2, -5.040983402319128], [3, -5.738177418605791], [4, 6.7959315765368125]]"
      ],
      "text/plain": [
       "<IPython.core.display.Javascript object>"
      ]
     },
     "metadata": {},
     "output_type": "display_data"
    },
    {
     "data": {
      "application/javascript": [
       "window.weight_plot_l1.setData([window.weights_l1]); window.weight_plot_l1.draw();"
      ],
      "text/plain": [
       "<IPython.core.display.Javascript object>"
      ]
     },
     "metadata": {},
     "output_type": "display_data"
    },
    {
     "data": {
      "application/javascript": [
       "window.outputs = [[1, 0.005399469984446296], [2, 0.9900517584957146], [3, 0.9918938241501511], [4, 0.012004590508513442]]"
      ],
      "text/plain": [
       "<IPython.core.display.Javascript object>"
      ]
     },
     "metadata": {},
     "output_type": "display_data"
    },
    {
     "data": {
      "application/javascript": [
       "window.output_plot.setData([window.outputs]); window.output_plot.draw();"
      ],
      "text/plain": [
       "<IPython.core.display.Javascript object>"
      ]
     },
     "metadata": {},
     "output_type": "display_data"
    },
    {
     "data": {
      "application/javascript": [
       "$('#avg-error').html(0.00884)"
      ],
      "text/plain": [
       "<IPython.core.display.Javascript object>"
      ]
     },
     "metadata": {},
     "output_type": "display_data"
    },
    {
     "data": {
      "application/javascript": [
       "$('#iteration').html(11650)"
      ],
      "text/plain": [
       "<IPython.core.display.Javascript object>"
      ]
     },
     "metadata": {},
     "output_type": "display_data"
    },
    {
     "data": {
      "application/javascript": [
       "window.error.push([11650,0.00884])"
      ],
      "text/plain": [
       "<IPython.core.display.Javascript object>"
      ]
     },
     "metadata": {},
     "output_type": "display_data"
    },
    {
     "data": {
      "application/javascript": [
       "window.plot.setData([window.error]); window.plot.draw();"
      ],
      "text/plain": [
       "<IPython.core.display.Javascript object>"
      ]
     },
     "metadata": {},
     "output_type": "display_data"
    },
    {
     "data": {
      "application/javascript": [
       "window.weights_l0 = [[1, -6.801493858945208], [2, -1.850351676948867], [3, -4.717397202269524], [4, 3.3776935168039426], [5, 5.257310992479347], [6, 4.48603771726277], [7, -4.66354289432248], [8, -5.454939401187403], [9, -2.3334461498206682], [10, 0.43099159694494354], [11, 1.1791248130183127], [12, -1.4260712377902252]]"
      ],
      "text/plain": [
       "<IPython.core.display.Javascript object>"
      ]
     },
     "metadata": {},
     "output_type": "display_data"
    },
    {
     "data": {
      "application/javascript": [
       "window.weight_plot_l0.setData([window.weights_l0]); window.weight_plot_l0.draw();"
      ],
      "text/plain": [
       "<IPython.core.display.Javascript object>"
      ]
     },
     "metadata": {},
     "output_type": "display_data"
    },
    {
     "data": {
      "application/javascript": [
       "window.weights_l1 = [[1, 10.298159542242015], [2, -5.043160404255904], [3, -5.739047920322155], [4, 6.798295064752177]]"
      ],
      "text/plain": [
       "<IPython.core.display.Javascript object>"
      ]
     },
     "metadata": {},
     "output_type": "display_data"
    },
    {
     "data": {
      "application/javascript": [
       "window.weight_plot_l1.setData([window.weights_l1]); window.weight_plot_l1.draw();"
      ],
      "text/plain": [
       "<IPython.core.display.Javascript object>"
      ]
     },
     "metadata": {},
     "output_type": "display_data"
    },
    {
     "data": {
      "application/javascript": [
       "window.outputs = [[1, 0.005385420709895819], [2, 0.9900750210354874], [3, 0.9919140219159265], [4, 0.011976372486874077]]"
      ],
      "text/plain": [
       "<IPython.core.display.Javascript object>"
      ]
     },
     "metadata": {},
     "output_type": "display_data"
    },
    {
     "data": {
      "application/javascript": [
       "window.output_plot.setData([window.outputs]); window.output_plot.draw();"
      ],
      "text/plain": [
       "<IPython.core.display.Javascript object>"
      ]
     },
     "metadata": {},
     "output_type": "display_data"
    },
    {
     "data": {
      "application/javascript": [
       "$('#avg-error').html(0.00882)"
      ],
      "text/plain": [
       "<IPython.core.display.Javascript object>"
      ]
     },
     "metadata": {},
     "output_type": "display_data"
    },
    {
     "data": {
      "application/javascript": [
       "$('#iteration').html(11700)"
      ],
      "text/plain": [
       "<IPython.core.display.Javascript object>"
      ]
     },
     "metadata": {},
     "output_type": "display_data"
    },
    {
     "data": {
      "application/javascript": [
       "window.error.push([11700,0.00882])"
      ],
      "text/plain": [
       "<IPython.core.display.Javascript object>"
      ]
     },
     "metadata": {},
     "output_type": "display_data"
    },
    {
     "data": {
      "application/javascript": [
       "window.plot.setData([window.error]); window.plot.draw();"
      ],
      "text/plain": [
       "<IPython.core.display.Javascript object>"
      ]
     },
     "metadata": {},
     "output_type": "display_data"
    },
    {
     "data": {
      "application/javascript": [
       "window.weights_l0 = [[1, -6.802936502682971], [2, -1.8513943755546984], [3, -4.71789552182094], [4, 3.3787253643756756], [5, 5.2582885751840225], [6, 4.487376520479053], [7, -4.664337745596043], [8, -5.4562683810972485], [9, -2.333658815080392], [10, 0.431504277959797], [11, 1.1793056700922127], [12, -1.4265330013155537]]"
      ],
      "text/plain": [
       "<IPython.core.display.Javascript object>"
      ]
     },
     "metadata": {},
     "output_type": "display_data"
    },
    {
     "data": {
      "application/javascript": [
       "window.weight_plot_l0.setData([window.weights_l0]); window.weight_plot_l0.draw();"
      ],
      "text/plain": [
       "<IPython.core.display.Javascript object>"
      ]
     },
     "metadata": {},
     "output_type": "display_data"
    },
    {
     "data": {
      "application/javascript": [
       "window.weights_l1 = [[1, 10.302506338558926], [2, -5.045327531820977], [3, -5.739913982739821], [4, 6.800647318820236]]"
      ],
      "text/plain": [
       "<IPython.core.display.Javascript object>"
      ]
     },
     "metadata": {},
     "output_type": "display_data"
    },
    {
     "data": {
      "application/javascript": [
       "window.weight_plot_l1.setData([window.weights_l1]); window.weight_plot_l1.draw();"
      ],
      "text/plain": [
       "<IPython.core.display.Javascript object>"
      ]
     },
     "metadata": {},
     "output_type": "display_data"
    },
    {
     "data": {
      "application/javascript": [
       "window.outputs = [[1, 0.0053714723348459266], [2, 0.9900981234718949], [3, 0.9919340765252629], [4, 0.011948349244215995]]"
      ],
      "text/plain": [
       "<IPython.core.display.Javascript object>"
      ]
     },
     "metadata": {},
     "output_type": "display_data"
    },
    {
     "data": {
      "application/javascript": [
       "window.output_plot.setData([window.outputs]); window.output_plot.draw();"
      ],
      "text/plain": [
       "<IPython.core.display.Javascript object>"
      ]
     },
     "metadata": {},
     "output_type": "display_data"
    }
   ],
   "source": [
    "# sigmoid function w/ derivative option\n",
    "def sigmoid(x, deriv=False):\n",
    "    if (deriv):\n",
    "        return x*(1-x)\n",
    "    return 1/(1 + np.exp(-x))\n",
    "\n",
    "# inputs\n",
    "X = np.array([[0,0,1],\n",
    "             [0,1,1],\n",
    "             [1,0,1],\n",
    "             [1,1,1]])\n",
    "\n",
    "# outputs\n",
    "y = np.array([[0,1,1,0]]).T\n",
    "\n",
    "# seed random numbers\n",
    "np.random.seed(3)\n",
    "\n",
    "# initialize random weights\n",
    "W0 = 2*np.random.random((3,4)) - 1\n",
    "W1 = 2*np.random.random((4,1)) - 1\n",
    "\n",
    "# don't fret over all this nonsense,\n",
    "# its just a bunch of javascript to set up the charts and layout\n",
    "js = Javascript(\"\"\"\n",
    "    element.append(\"<h2 id='chart-header' style='text-align: center;'>Visualize Error & Weights Changing Over Time</h2><br/><br />\")\n",
    "    element.append(\"<div id='chart' style='position: relative; width:90%; height: 400px; margin-top: -30px; margin-left: 20px;;'></div>\")\n",
    "    element.append(\"<div id='weight_charts' style='width: 100%; height: 320px; position: relative; padding-top:30px;'>\" +\n",
    "                     \"<div id='weights_l0' style='position: absolute; width:27%; height: 250px; margin-left: 20px; padding-bottom: 30px;'></div>\" +\n",
    "                     \"<div id='weights_l1' style='position: absolute; left:31%; width:27%; height: 250px; margin-left: 20px; padding-bottom: 30px;'></div>\" +\n",
    "                     \"<div id='outputs' style='position: absolute; left:62%; width:27%; height: 250px; margin-left: 20px; padding-bottom: 30px;'></div>\" +\n",
    "                   \"</div>\")\n",
    "\n",
    "    window.error = [];\n",
    "    window.weights_l0 = [];\n",
    "    window.weights_l1 = [];\n",
    "    window.outputs = [];\n",
    "\n",
    "    require(['flot'], function() {\n",
    "      window.plot = $.plot('#chart', [[]], { series: { shadowSize: 0 }, yaxis: { min: 0, max: 0.5, transform: function(v) { return Math.log(v+1); }}, xaxis: { min: 0, max: 20000 } })\n",
    "      var yaxisLabel = $(\"<div class='axisLabel yaxisLabel'></div>\").text(\"Error\").appendTo($('#chart'));\n",
    "      yaxisLabel.css(\"position\", \"absolute\").css(\"font-size\",\"16px\").css(\"margin-top\", yaxisLabel.width() / 2 - 20);\n",
    "      yaxisLabel.css(\"top\", \"50%\").css(\"left\", \"-30px\").css(\"transform\",\"rotate(-90deg)\");\n",
    "      var xaxisLabel = $(\"<div class='axisLabel xaxisLabel'>Iteration: <span id='iteration'>0</span> Avg. Error: <span id='avg-error'></span></div></div>\").appendTo($('#chart'));\n",
    "      xaxisLabel.css(\"position\", \"absolute\").css(\"width\", \"300px\").css(\"font-size\",\"16px\").css(\"text-align\",\"center\");\n",
    "      xaxisLabel.css(\"left\", \"-150px\").css(\"bottom\", \"-20px\").css(\"margin-left\",\"50%\");\n",
    "\n",
    "      var w0_xaxisLabel = $(\"<div class='axisLabel xaxisLabel'></div>\").text(\"Layer 0 Weights\").appendTo($('#weight_charts'));\n",
    "      w0_xaxisLabel.css(\"position\", \"absolute\").css(\"font-size\",\"16px\").css(\"width\",\"160px\");\n",
    "      w0_xaxisLabel.css(\"left\", \"-50px\").css(\"bottom\", \"20px\").css(\"margin-left\", \"16%\");\n",
    "\n",
    "      var w1_xaxisLabel = $(\"<div class='axisLabel xaxisLabel'></div>\").text(\"Layer 1 Weights\").appendTo($('#weight_charts'));\n",
    "      w1_xaxisLabel.css(\"position\", \"absolute\").css(\"font-size\",\"16px\").css(\"width\",\"160px\");\n",
    "      w1_xaxisLabel.css(\"left\", \"-50px\").css(\"bottom\", \"20px\").css(\"margin-left\", \"47%\");\n",
    "      \n",
    "      var outputs_xaxisLabel = $(\"<div class='axisLabel xaxisLabel'></div>\").text(\"Outputs\").appendTo($('#weight_charts'));\n",
    "      outputs_xaxisLabel.css(\"position\", \"absolute\").css(\"font-size\",\"16px\").css(\"width\",\"160px\");\n",
    "      outputs_xaxisLabel.css(\"left\", \"-50px\").css(\"bottom\", \"20px\").css(\"margin-left\", \"81%\");\n",
    "\n",
    "      window.weight_plot_l0 = $.plot('#weights_l0', [[]], { series: { shadowSize: 0, bars: { show: true, align: \"center\", barWidth: 0.5 }}, yaxis: { min: -15, max: 15 }, xaxis: { min: 0, max: 13}})\n",
    "      window.weight_plot_l1 = $.plot('#weights_l1', [[]], { series: { shadowSize: 0, bars: { show: true, align: \"center\", barWidth: 0.5 }}, yaxis: { min: -15, max: 15 }, xaxis: { min: 0, max: 5}})\n",
    "      window.output_plot = $.plot('#outputs', [[]], { series: { shadowSize: 0, bars: { show: true, align: \"center\", barWidth: 0.5 }}, yaxis: { min: -0.5, max: 1.5 }, xaxis: { min: 0, max: 5}})\n",
    "   \n",
    "      $('#chart-header')[0].scrollIntoView();\n",
    "   });\n",
    "    \n",
    "    \n",
    "\"\"\")\n",
    "display(js)\n",
    "\n",
    "# train\n",
    "for i in range(1,20001):\n",
    "    # feed forward\n",
    "    l0 = X\n",
    "    l1 = sigmoid(np.dot(l0,W0))\n",
    "    l2 = sigmoid(np.dot(l1,W1))\n",
    "    \n",
    "    # find error\n",
    "    l2_error = l2 - y\n",
    "        \n",
    "    # calculate update\n",
    "    l2_delta = l2_error*sigmoid(l2, True)\n",
    "    \n",
    "    # backpropagate\n",
    "    l1_error = l2_delta.dot(W1.T)\n",
    "    \n",
    "    # calculate update\n",
    "    l1_delta = l1_error*sigmoid(l1, True)\n",
    "    \n",
    "    # update weights\n",
    "    W1 -= l1.T.dot(l2_delta)\n",
    "    W0 -= l0.T.dot(l1_delta)\n",
    "    \n",
    "    if (i % 50 == 0):\n",
    "        avg_error = np.mean(np.abs(l2_error));\n",
    "        weights_l0 = [[idx+1, weight] for idx, weight in enumerate(W0.flatten())]\n",
    "        weights_l1 = [[idx+1, weight] for idx, weight in enumerate(W1.flatten())]\n",
    "        outputs = [[idx+1, guess] for idx, guess in enumerate(l2.flatten())]\n",
    "        display(Javascript(\"$('#avg-error').html(%.5f)\" % avg_error));\n",
    "        display(Javascript(\"$('#iteration').html(%s)\" % str(i)));\n",
    "        display(Javascript(\"window.error.push([%d,%.5f])\" % (i,avg_error)));\n",
    "        display(Javascript(\"window.plot.setData([window.error]); window.plot.draw();\"));\n",
    "        display(Javascript(\"window.weights_l0 = %s\" % json.dumps(weights_l0)));\n",
    "        display(Javascript(\"window.weight_plot_l0.setData([window.weights_l0]); window.weight_plot_l0.draw();\"));\n",
    "        display(Javascript(\"window.weights_l1 = %s\" % json.dumps(weights_l1)));\n",
    "        display(Javascript(\"window.weight_plot_l1.setData([window.weights_l1]); window.weight_plot_l1.draw();\"));\n",
    "        display(Javascript(\"window.outputs = %s\" % json.dumps(outputs)));\n",
    "        display(Javascript(\"window.output_plot.setData([window.outputs]); window.output_plot.draw();\"));\n",
    "        time.sleep(0.1)\n",
    "    \n",
    "results = zip(y,l2)\n",
    "#[(print(\"Actual: %.0f  Guess: %.5f\" % (result[0], result[1]))) for result in results]"
   ]
  },
  {
   "cell_type": "code",
   "execution_count": null,
   "metadata": {
    "collapsed": true
   },
   "outputs": [],
   "source": []
  }
 ],
 "metadata": {
  "kernelspec": {
   "display_name": "Python 3",
   "language": "python",
   "name": "python3"
  },
  "language_info": {
   "codemirror_mode": {
    "name": "ipython",
    "version": 3
   },
   "file_extension": ".py",
   "mimetype": "text/x-python",
   "name": "python",
   "nbconvert_exporter": "python",
   "pygments_lexer": "ipython3",
   "version": "3.5.1"
  }
 },
 "nbformat": 4,
 "nbformat_minor": 0
}
