{
 "cells": [
  {
   "cell_type": "code",
   "execution_count": null,
   "metadata": {
    "collapsed": false
   },
   "outputs": [],
   "source": [
    "%%javascript\n",
    "require.config({\n",
    "    paths: {\n",
    "        flot: '//www.flotcharts.org/javascript/jquery.flot.min',\n",
    "        d3: '//cdnjs.cloudflare.com/ajax/libs/d3/3.4.8/d3.min'\n",
    "    }\n",
    "});"
   ]
  },
  {
   "cell_type": "code",
   "execution_count": null,
   "metadata": {
    "collapsed": false
   },
   "outputs": [],
   "source": [
    "%%html\n",
    "<style>\n",
    "div.output {\n",
    "  max-height: 1000px;\n",
    "  overflow-y: scroll;\n",
    "}\n",
    "</style>"
   ]
  },
  {
   "cell_type": "code",
   "execution_count": null,
   "metadata": {
    "collapsed": true
   },
   "outputs": [],
   "source": [
    "import numpy as np\n",
    "import json\n",
    "import time\n",
    "from IPython.display import Javascript\n",
    "from IPython.core.display import display"
   ]
  },
  {
   "cell_type": "markdown",
   "metadata": {},
   "source": [
    "## Alpha\n",
    "\n",
    "After running with the default alpha set below, try changing it to see if you can improve the convergence of the neural net."
   ]
  },
  {
   "cell_type": "code",
   "execution_count": null,
   "metadata": {
    "collapsed": true
   },
   "outputs": [],
   "source": [
    "# Set alpha\n",
    "# ----\n",
    "# Alpha is the step size multiplier. Each time we adjust\n",
    "# weights, we'll multiply the adjustment times alpha, \n",
    "# scaling the size of the adjustment during each update\n",
    "alpha = 0.1"
   ]
  },
  {
   "cell_type": "code",
   "execution_count": null,
   "metadata": {
    "collapsed": false
   },
   "outputs": [],
   "source": [
    "# Activation function\n",
    "# ----\n",
    "# We'll use the sigmoid function as our activation function\n",
    "def sigmoid(x):\n",
    "    return 1/(1 + np.exp(-x))\n",
    "\n",
    "# Activation derivative\n",
    "# ----\n",
    "# We use the derivative to find the direction\n",
    "# of the gradient in SGD so we know which way (positive or negative)\n",
    "# to move the weights when we update them\n",
    "def sigmoid_output_derivative(output):\n",
    "    return output*(1 - output)\n",
    "\n",
    "# Inputs\n",
    "X = np.array([[0,0,1],\n",
    "             [0,1,1],\n",
    "             [1,0,1],\n",
    "             [1,1,1]])\n",
    "\n",
    "# Outputs\n",
    "Y = np.array([[0,1,1,0]]).T\n",
    "\n",
    "# Seed a random number generator\n",
    "np.random.seed(2)\n",
    "\n",
    "# Randomly initialize weights between -1 and 1\n",
    "W0 = 2*np.random.random((3,4)) - 1\n",
    "W1 = 2*np.random.random((4,1)) - 1\n",
    "\n",
    "# don't fret over all this nonsense,\n",
    "# its just a bunch of javascript to set up the charts and layout\n",
    "js = Javascript(\"\"\"\n",
    "    element.append(\"<h2 id='chart-header' style='text-align: center;'>Error, Weights, and Output Changing with Training Iterations</h2><br/><br />\")\n",
    "    element.append(\"<div id='chart' style='position: relative; width:90%; height: 400px; margin-top: -30px; margin-left: 20px;;'></div>\")\n",
    "    element.append(\"<div id='weight_charts' style='width: 100%; height: 320px; position: relative; padding-top:30px;'>\" +\n",
    "                     \"<div id='weights_l0' style='position: absolute; width:27%; height: 250px; margin-left: 20px; padding-bottom: 30px;'></div>\" +\n",
    "                     \"<div id='weights_l1' style='position: absolute; left:31%; width:27%; height: 250px; margin-left: 20px; padding-bottom: 30px;'></div>\" +\n",
    "                     \"<div id='outputs' style='position: absolute; left:62%; width:27%; height: 250px; margin-left: 20px; padding-bottom: 30px;'></div>\" +\n",
    "                   \"</div>\")\n",
    "\n",
    "    window.error = [];\n",
    "    window.weights_l0 = [];\n",
    "    window.weights_l1 = [];\n",
    "    window.outputs = [];\n",
    "\n",
    "    require(['flot'], function() {\n",
    "      window.plot = $.plot('#chart', [[]], { series: { shadowSize: 0 }, yaxis: { min: 0, max: 0.5, transform: function(v) { return Math.log(v+1); }}, xaxis: { min: 0, max: 60000 } })\n",
    "      var yaxisLabel = $(\"<div class='axisLabel yaxisLabel'></div>\").text(\"Error\").appendTo($('#chart'));\n",
    "      yaxisLabel.css(\"position\", \"absolute\").css(\"font-size\",\"16px\").css(\"margin-top\", yaxisLabel.width() / 2 - 20);\n",
    "      yaxisLabel.css(\"top\", \"50%\").css(\"left\", \"-30px\").css(\"transform\",\"rotate(-90deg)\");\n",
    "      var xaxisLabel = $(\"<div class='axisLabel xaxisLabel'>Alpha: <span id='alpha'></span> &nbsp; Iteration: <span id='iteration'>0</span> &nbsp; Avg. Error: <span id='avg-error'></span></div></div>\").appendTo($('#chart'));\n",
    "      xaxisLabel.css(\"position\", \"absolute\").css(\"width\", \"400px\").css(\"font-size\",\"16px\").css(\"text-align\",\"center\");\n",
    "      xaxisLabel.css(\"left\", \"-200px\").css(\"bottom\", \"-20px\").css(\"margin-left\",\"50%\");\n",
    "\n",
    "      var w0_xaxisLabel = $(\"<div class='axisLabel xaxisLabel'></div>\").text(\"Layer 0 Weights\").appendTo($('#weight_charts'));\n",
    "      w0_xaxisLabel.css(\"position\", \"absolute\").css(\"font-size\",\"16px\").css(\"width\",\"160px\");\n",
    "      w0_xaxisLabel.css(\"left\", \"-50px\").css(\"bottom\", \"20px\").css(\"margin-left\", \"16%\");\n",
    "\n",
    "      var w1_xaxisLabel = $(\"<div class='axisLabel xaxisLabel'></div>\").text(\"Layer 1 Weights\").appendTo($('#weight_charts'));\n",
    "      w1_xaxisLabel.css(\"position\", \"absolute\").css(\"font-size\",\"16px\").css(\"width\",\"160px\");\n",
    "      w1_xaxisLabel.css(\"left\", \"-50px\").css(\"bottom\", \"20px\").css(\"margin-left\", \"47%\");\n",
    "      \n",
    "      var outputs_xaxisLabel = $(\"<div class='axisLabel xaxisLabel'></div>\").text(\"Outputs\").appendTo($('#weight_charts'));\n",
    "      outputs_xaxisLabel.css(\"position\", \"absolute\").css(\"font-size\",\"16px\").css(\"width\",\"160px\");\n",
    "      outputs_xaxisLabel.css(\"left\", \"-50px\").css(\"bottom\", \"20px\").css(\"margin-left\", \"81%\");\n",
    "\n",
    "      window.weight_plot_l0 = $.plot('#weights_l0', [[]], { series: { shadowSize: 0, bars: { show: true, align: \"center\", barWidth: 0.5 }}, yaxis: { min: -15, max: 15 }, xaxis: { min: 0, max: 13}})\n",
    "      window.weight_plot_l1 = $.plot('#weights_l1', [[]], { series: { shadowSize: 0, bars: { show: true, align: \"center\", barWidth: 0.5 }}, yaxis: { min: -15, max: 15 }, xaxis: { min: 0, max: 5}})\n",
    "      window.output_plot = $.plot('#outputs', [[]], { series: { shadowSize: 0, bars: { show: true, align: \"center\", barWidth: 0.5 }}, yaxis: { min: -0.5, max: 1.5 }, xaxis: { min: 0, max: 5}})\n",
    "   \n",
    "      $('#chart-header')[0].scrollIntoView();\n",
    "   });\n",
    "    \n",
    "    \n",
    "\"\"\")\n",
    "display(js)\n",
    "\n",
    "# give Javascript time to execute and render\n",
    "time.sleep(1)\n",
    "\n",
    "display(Javascript(\"$('#alpha').html(%.5f)\" % alpha));\n",
    "\n",
    "# Train\n",
    "for i in range(1,60001):\n",
    "    \n",
    "    # Feed forward\n",
    "    layer0 = X\n",
    "    layer1 = sigmoid(np.dot(layer0,W0))\n",
    "    layer2 = sigmoid(np.dot(layer1,W1))\n",
    "    \n",
    "    # Measure Layer 2 error\n",
    "    layer2_error = layer2 - Y\n",
    "    \n",
    "    # Calculate Layer 2 update:\n",
    "    # In what direction is the target value? Were we really sure?\n",
    "    # If so, don't change too much\n",
    "    # Multiply how much we missed by the slope of the sigmoid\n",
    "    # at each value in Layer 2\n",
    "    layer2_delta = layer2_error*sigmoid_output_derivative(layer2)\n",
    "    \n",
    "    # Measure Layer 1 error:\n",
    "    # How much did each node in Layer 1 contribute to the \n",
    "    # Layer 2 error (according to the weights)\n",
    "    layer1_error = np.dot(layer2_delta,W1.T)\n",
    "    \n",
    "    # Calculate Layer 1 update:\n",
    "    # In which direction is the target Layer 1?\n",
    "    layer1_delta = layer1_error*sigmoid_output_derivative(layer1)\n",
    "    \n",
    "    # Calculate weight update\n",
    "    W1_update = alpha * np.dot(layer1.T, layer2_delta)\n",
    "    W0_update = alpha * np.dot(layer0.T, layer1_delta)\n",
    "    \n",
    "    # Update weights\n",
    "    W1 -= W1_update\n",
    "    W0 -= W0_update\n",
    "    \n",
    "    if (i % 100 == 0):\n",
    "        avg_error = np.mean(np.abs(layer2_error));\n",
    "        weights_l0 = [[idx+1, weight] for idx, weight in enumerate(W0.flatten())]\n",
    "        weights_l1 = [[idx+1, weight] for idx, weight in enumerate(W1.flatten())]\n",
    "        outputs = [[idx+1, guess] for idx, guess in enumerate(layer2.flatten())]\n",
    "        display(Javascript(\"$('#avg-error').html(%.5f)\" % avg_error));\n",
    "        display(Javascript(\"$('#iteration').html(%s)\" % str(i)));\n",
    "        display(Javascript(\"window.error.push([%d,%.5f])\" % (i,avg_error)));\n",
    "        display(Javascript(\"window.plot.setData([window.error]); window.plot.draw();\"));\n",
    "        display(Javascript(\"window.weights_l0 = %s\" % json.dumps(weights_l0)));\n",
    "        display(Javascript(\"window.weight_plot_l0.setData([window.weights_l0]); window.weight_plot_l0.draw();\"));\n",
    "        display(Javascript(\"window.weights_l1 = %s\" % json.dumps(weights_l1)));\n",
    "        display(Javascript(\"window.weight_plot_l1.setData([window.weights_l1]); window.weight_plot_l1.draw();\"));\n",
    "        display(Javascript(\"window.outputs = %s\" % json.dumps(outputs)));\n",
    "        display(Javascript(\"window.output_plot.setData([window.outputs]); window.output_plot.draw();\"));\n",
    "    "
   ]
  },
  {
   "cell_type": "code",
   "execution_count": null,
   "metadata": {
    "collapsed": true
   },
   "outputs": [],
   "source": []
  }
 ],
 "metadata": {
  "kernelspec": {
   "display_name": "Python 3",
   "language": "python",
   "name": "python3"
  },
  "language_info": {
   "codemirror_mode": {
    "name": "ipython",
    "version": 3
   },
   "file_extension": ".py",
   "mimetype": "text/x-python",
   "name": "python",
   "nbconvert_exporter": "python",
   "pygments_lexer": "ipython3",
   "version": "3.5.1"
  }
 },
 "nbformat": 4,
 "nbformat_minor": 0
}
